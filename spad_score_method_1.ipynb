{
  "nbformat": 4,
  "nbformat_minor": 5,
  "metadata": {
    "kernelspec": {
      "display_name": "Python 3",
      "language": "python",
      "name": "python3"
    },
    "language_info": {
      "codemirror_mode": {
        "name": "ipython",
        "version": 3
      },
      "file_extension": ".py",
      "mimetype": "text/x-python",
      "name": "python",
      "nbconvert_exporter": "python",
      "pygments_lexer": "ipython3",
      "version": "3.8.8"
    },
    "colab": {
      "name": "spad_score_method_1.ipynb",
      "provenance": []
    }
  },
  "cells": [
    {
      "cell_type": "code",
      "metadata": {
        "id": "46d1b569"
      },
      "source": [
        "import numpy as np\n",
        "import pandas as pd\n",
        "import seaborn as sns\n",
        "import matplotlib.pyplot as plt\n",
        "import sklearn\n",
        "\n",
        "from sklearn.metrics import confusion_matrix\n",
        "\n",
        "from sklearn.preprocessing import OneHotEncoder\n"
      ],
      "id": "46d1b569",
      "execution_count": null,
      "outputs": []
    },
    {
      "cell_type": "code",
      "metadata": {
        "id": "d704d0bf"
      },
      "source": [
        "# option d'affichage des résultats\n",
        "#pd.set_option(\"display.max_row\",130)\n",
        "pd.set_option(\"display.max_columns\",100)"
      ],
      "id": "d704d0bf",
      "execution_count": null,
      "outputs": []
    },
    {
      "cell_type": "code",
      "metadata": {
        "id": "78ad0a9b"
      },
      "source": [
        "colonnes =[\"IDENT\",\"TypeHabi\", \"GeoFaz_Scl\", \"GeoFaz_cl\",\"Anciennete\",\"Doublon_ligne\",\n",
        "            \"Revenus_iris\",\"Sexe\",\"Prenom_Phase_scl_H\", \"Prenom_Phase_scl_F\",\"Prenom_Phase_cl_H\",\n",
        "           \"Prenom_Phase_cl_F\",\"Age_H\",\"Age_F\",\"Pays_sud\",\"Prenom_effectif\",\"codif_RdB\",\"Flag_PA\",\n",
        "           \"Annee_1er_don\",\"Cumul_dons\",\"Don_max\",\"Don_moyen\",\"Vingtiles_ISF\",\"IFI+\"]"
      ],
      "id": "78ad0a9b",
      "execution_count": null,
      "outputs": []
    },
    {
      "cell_type": "code",
      "metadata": {
        "id": "47c00091",
        "outputId": "f4f2186b-b400-458e-ccaa-0781f531872d"
      },
      "source": [
        "data_orig = pd.read_csv(\"C:/Users/Christian/Desktop/my_data_FDFIFI19.txt\",sep=\" \" , names = colonnes, low_memory=False, dtype=str )#, dtype='Int64')\n",
        "data_orig\n",
        "data = data_orig.copy()\n",
        "data"
      ],
      "id": "47c00091",
      "execution_count": null,
      "outputs": [
        {
          "output_type": "execute_result",
          "data": {
            "text/html": [
              "<div>\n",
              "<style scoped>\n",
              "    .dataframe tbody tr th:only-of-type {\n",
              "        vertical-align: middle;\n",
              "    }\n",
              "\n",
              "    .dataframe tbody tr th {\n",
              "        vertical-align: top;\n",
              "    }\n",
              "\n",
              "    .dataframe thead th {\n",
              "        text-align: right;\n",
              "    }\n",
              "</style>\n",
              "<table border=\"1\" class=\"dataframe\">\n",
              "  <thead>\n",
              "    <tr style=\"text-align: right;\">\n",
              "      <th></th>\n",
              "      <th>IDENT</th>\n",
              "      <th>TypeHabi</th>\n",
              "      <th>GeoFaz_Scl</th>\n",
              "      <th>GeoFaz_cl</th>\n",
              "      <th>Anciennete</th>\n",
              "      <th>Doublon_ligne</th>\n",
              "      <th>Revenus_iris</th>\n",
              "      <th>Sexe</th>\n",
              "      <th>Prenom_Phase_scl_H</th>\n",
              "      <th>Prenom_Phase_scl_F</th>\n",
              "      <th>Prenom_Phase_cl_H</th>\n",
              "      <th>Prenom_Phase_cl_F</th>\n",
              "      <th>Age_H</th>\n",
              "      <th>Age_F</th>\n",
              "      <th>Pays_sud</th>\n",
              "      <th>Prenom_effectif</th>\n",
              "      <th>codif_RdB</th>\n",
              "      <th>Flag_PA</th>\n",
              "      <th>Annee_1er_don</th>\n",
              "      <th>Cumul_dons</th>\n",
              "      <th>Don_max</th>\n",
              "      <th>Don_moyen</th>\n",
              "      <th>Vingtiles_ISF</th>\n",
              "      <th>IFI+</th>\n",
              "    </tr>\n",
              "  </thead>\n",
              "  <tbody>\n",
              "    <tr>\n",
              "      <th>0</th>\n",
              "      <td>0000000101001347</td>\n",
              "      <td>03</td>\n",
              "      <td>75</td>\n",
              "      <td>07</td>\n",
              "      <td>08</td>\n",
              "      <td>03</td>\n",
              "      <td>03</td>\n",
              "      <td>03</td>\n",
              "      <td>64</td>\n",
              "      <td>46</td>\n",
              "      <td>06</td>\n",
              "      <td>04</td>\n",
              "      <td>09</td>\n",
              "      <td>04</td>\n",
              "      <td>02</td>\n",
              "      <td>03</td>\n",
              "      <td>03</td>\n",
              "      <td>02</td>\n",
              "      <td>07</td>\n",
              "      <td>07</td>\n",
              "      <td>06</td>\n",
              "      <td>04</td>\n",
              "      <td>10</td>\n",
              "      <td>2</td>\n",
              "    </tr>\n",
              "    <tr>\n",
              "      <th>1</th>\n",
              "      <td>0000000201001512</td>\n",
              "      <td>01</td>\n",
              "      <td>74</td>\n",
              "      <td>07</td>\n",
              "      <td>05</td>\n",
              "      <td>03</td>\n",
              "      <td>03</td>\n",
              "      <td>04</td>\n",
              "      <td>65</td>\n",
              "      <td>81</td>\n",
              "      <td>06</td>\n",
              "      <td>08</td>\n",
              "      <td>11</td>\n",
              "      <td>12</td>\n",
              "      <td>02</td>\n",
              "      <td>04</td>\n",
              "      <td>03</td>\n",
              "      <td>02</td>\n",
              "      <td>08</td>\n",
              "      <td>05</td>\n",
              "      <td>02</td>\n",
              "      <td>02</td>\n",
              "      <td>10</td>\n",
              "      <td>2</td>\n",
              "    </tr>\n",
              "    <tr>\n",
              "      <th>2</th>\n",
              "      <td>0000000301002801</td>\n",
              "      <td>02</td>\n",
              "      <td>32</td>\n",
              "      <td>03</td>\n",
              "      <td>07</td>\n",
              "      <td>02</td>\n",
              "      <td>04</td>\n",
              "      <td>04</td>\n",
              "      <td>66</td>\n",
              "      <td>66</td>\n",
              "      <td>06</td>\n",
              "      <td>06</td>\n",
              "      <td>11</td>\n",
              "      <td>09</td>\n",
              "      <td>02</td>\n",
              "      <td>03</td>\n",
              "      <td>03</td>\n",
              "      <td>02</td>\n",
              "      <td>08</td>\n",
              "      <td>07</td>\n",
              "      <td>05</td>\n",
              "      <td>03</td>\n",
              "      <td>07</td>\n",
              "      <td>2</td>\n",
              "    </tr>\n",
              "    <tr>\n",
              "      <th>3</th>\n",
              "      <td>0000000401003186</td>\n",
              "      <td>01</td>\n",
              "      <td>12</td>\n",
              "      <td>01</td>\n",
              "      <td>04</td>\n",
              "      <td>03</td>\n",
              "      <td>07</td>\n",
              "      <td>03</td>\n",
              "      <td>51</td>\n",
              "      <td>81</td>\n",
              "      <td>05</td>\n",
              "      <td>08</td>\n",
              "      <td>09</td>\n",
              "      <td>12</td>\n",
              "      <td>02</td>\n",
              "      <td>05</td>\n",
              "      <td>01</td>\n",
              "      <td>02</td>\n",
              "      <td>02</td>\n",
              "      <td>07</td>\n",
              "      <td>08</td>\n",
              "      <td>06</td>\n",
              "      <td>18</td>\n",
              "      <td>2</td>\n",
              "    </tr>\n",
              "    <tr>\n",
              "      <th>4</th>\n",
              "      <td>0000000501003624</td>\n",
              "      <td>02</td>\n",
              "      <td>12</td>\n",
              "      <td>01</td>\n",
              "      <td>06</td>\n",
              "      <td>03</td>\n",
              "      <td>03</td>\n",
              "      <td>03</td>\n",
              "      <td>51</td>\n",
              "      <td>81</td>\n",
              "      <td>05</td>\n",
              "      <td>08</td>\n",
              "      <td>09</td>\n",
              "      <td>12</td>\n",
              "      <td>02</td>\n",
              "      <td>05</td>\n",
              "      <td>01</td>\n",
              "      <td>02</td>\n",
              "      <td>08</td>\n",
              "      <td>07</td>\n",
              "      <td>08</td>\n",
              "      <td>06</td>\n",
              "      <td>02</td>\n",
              "      <td>2</td>\n",
              "    </tr>\n",
              "    <tr>\n",
              "      <th>...</th>\n",
              "      <td>...</td>\n",
              "      <td>...</td>\n",
              "      <td>...</td>\n",
              "      <td>...</td>\n",
              "      <td>...</td>\n",
              "      <td>...</td>\n",
              "      <td>...</td>\n",
              "      <td>...</td>\n",
              "      <td>...</td>\n",
              "      <td>...</td>\n",
              "      <td>...</td>\n",
              "      <td>...</td>\n",
              "      <td>...</td>\n",
              "      <td>...</td>\n",
              "      <td>...</td>\n",
              "      <td>...</td>\n",
              "      <td>...</td>\n",
              "      <td>...</td>\n",
              "      <td>...</td>\n",
              "      <td>...</td>\n",
              "      <td>...</td>\n",
              "      <td>...</td>\n",
              "      <td>...</td>\n",
              "      <td>...</td>\n",
              "    </tr>\n",
              "    <tr>\n",
              "      <th>484517</th>\n",
              "      <td>0048451804239260</td>\n",
              "      <td>02</td>\n",
              "      <td>75</td>\n",
              "      <td>07</td>\n",
              "      <td>07</td>\n",
              "      <td>02</td>\n",
              "      <td>02</td>\n",
              "      <td>01</td>\n",
              "      <td>51</td>\n",
              "      <td>64</td>\n",
              "      <td>05</td>\n",
              "      <td>06</td>\n",
              "      <td>08</td>\n",
              "      <td>09</td>\n",
              "      <td>02</td>\n",
              "      <td>01</td>\n",
              "      <td>01</td>\n",
              "      <td>02</td>\n",
              "      <td>15</td>\n",
              "      <td>08</td>\n",
              "      <td>09</td>\n",
              "      <td>07</td>\n",
              "      <td>03</td>\n",
              "      <td>NaN</td>\n",
              "    </tr>\n",
              "    <tr>\n",
              "      <th>484518</th>\n",
              "      <td>0048451904239261</td>\n",
              "      <td>02</td>\n",
              "      <td>14</td>\n",
              "      <td>01</td>\n",
              "      <td>04</td>\n",
              "      <td>03</td>\n",
              "      <td>03</td>\n",
              "      <td>04</td>\n",
              "      <td>55</td>\n",
              "      <td>54</td>\n",
              "      <td>05</td>\n",
              "      <td>05</td>\n",
              "      <td>08</td>\n",
              "      <td>05</td>\n",
              "      <td>01</td>\n",
              "      <td>01</td>\n",
              "      <td>04</td>\n",
              "      <td>02</td>\n",
              "      <td>15</td>\n",
              "      <td>08</td>\n",
              "      <td>09</td>\n",
              "      <td>07</td>\n",
              "      <td>07</td>\n",
              "      <td>NaN</td>\n",
              "    </tr>\n",
              "    <tr>\n",
              "      <th>484519</th>\n",
              "      <td>0048452004239262</td>\n",
              "      <td>02</td>\n",
              "      <td>63</td>\n",
              "      <td>06</td>\n",
              "      <td>10</td>\n",
              "      <td>02</td>\n",
              "      <td>03</td>\n",
              "      <td>04</td>\n",
              "      <td>51</td>\n",
              "      <td>81</td>\n",
              "      <td>05</td>\n",
              "      <td>08</td>\n",
              "      <td>09</td>\n",
              "      <td>12</td>\n",
              "      <td>02</td>\n",
              "      <td>05</td>\n",
              "      <td>03</td>\n",
              "      <td>02</td>\n",
              "      <td>15</td>\n",
              "      <td>08</td>\n",
              "      <td>09</td>\n",
              "      <td>07</td>\n",
              "      <td>10</td>\n",
              "      <td>NaN</td>\n",
              "    </tr>\n",
              "    <tr>\n",
              "      <th>484520</th>\n",
              "      <td>0048452104239263</td>\n",
              "      <td>02</td>\n",
              "      <td>11</td>\n",
              "      <td>01</td>\n",
              "      <td>03</td>\n",
              "      <td>02</td>\n",
              "      <td>04</td>\n",
              "      <td>04</td>\n",
              "      <td>51</td>\n",
              "      <td>66</td>\n",
              "      <td>05</td>\n",
              "      <td>06</td>\n",
              "      <td>09</td>\n",
              "      <td>09</td>\n",
              "      <td>02</td>\n",
              "      <td>05</td>\n",
              "      <td>03</td>\n",
              "      <td>02</td>\n",
              "      <td>15</td>\n",
              "      <td>08</td>\n",
              "      <td>09</td>\n",
              "      <td>07</td>\n",
              "      <td>08</td>\n",
              "      <td>NaN</td>\n",
              "    </tr>\n",
              "    <tr>\n",
              "      <th>484521</th>\n",
              "      <td>0048452204239268</td>\n",
              "      <td>02</td>\n",
              "      <td>37</td>\n",
              "      <td>03</td>\n",
              "      <td>06</td>\n",
              "      <td>03</td>\n",
              "      <td>04</td>\n",
              "      <td>04</td>\n",
              "      <td>66</td>\n",
              "      <td>81</td>\n",
              "      <td>06</td>\n",
              "      <td>08</td>\n",
              "      <td>11</td>\n",
              "      <td>12</td>\n",
              "      <td>02</td>\n",
              "      <td>04</td>\n",
              "      <td>02</td>\n",
              "      <td>02</td>\n",
              "      <td>15</td>\n",
              "      <td>08</td>\n",
              "      <td>09</td>\n",
              "      <td>07</td>\n",
              "      <td>08</td>\n",
              "      <td>NaN</td>\n",
              "    </tr>\n",
              "  </tbody>\n",
              "</table>\n",
              "<p>484522 rows × 24 columns</p>\n",
              "</div>"
            ],
            "text/plain": [
              "                   IDENT TypeHabi GeoFaz_Scl GeoFaz_cl Anciennete  \\\n",
              "0       0000000101001347       03         75        07         08   \n",
              "1       0000000201001512       01         74        07         05   \n",
              "2       0000000301002801       02         32        03         07   \n",
              "3       0000000401003186       01         12        01         04   \n",
              "4       0000000501003624       02         12        01         06   \n",
              "...                  ...      ...        ...       ...        ...   \n",
              "484517  0048451804239260       02         75        07         07   \n",
              "484518  0048451904239261       02         14        01         04   \n",
              "484519  0048452004239262       02         63        06         10   \n",
              "484520  0048452104239263       02         11        01         03   \n",
              "484521  0048452204239268       02         37        03         06   \n",
              "\n",
              "       Doublon_ligne Revenus_iris Sexe Prenom_Phase_scl_H Prenom_Phase_scl_F  \\\n",
              "0                 03           03   03                 64                 46   \n",
              "1                 03           03   04                 65                 81   \n",
              "2                 02           04   04                 66                 66   \n",
              "3                 03           07   03                 51                 81   \n",
              "4                 03           03   03                 51                 81   \n",
              "...              ...          ...  ...                ...                ...   \n",
              "484517            02           02   01                 51                 64   \n",
              "484518            03           03   04                 55                 54   \n",
              "484519            02           03   04                 51                 81   \n",
              "484520            02           04   04                 51                 66   \n",
              "484521            03           04   04                 66                 81   \n",
              "\n",
              "       Prenom_Phase_cl_H Prenom_Phase_cl_F Age_H Age_F Pays_sud  \\\n",
              "0                     06                04    09    04       02   \n",
              "1                     06                08    11    12       02   \n",
              "2                     06                06    11    09       02   \n",
              "3                     05                08    09    12       02   \n",
              "4                     05                08    09    12       02   \n",
              "...                  ...               ...   ...   ...      ...   \n",
              "484517                05                06    08    09       02   \n",
              "484518                05                05    08    05       01   \n",
              "484519                05                08    09    12       02   \n",
              "484520                05                06    09    09       02   \n",
              "484521                06                08    11    12       02   \n",
              "\n",
              "       Prenom_effectif codif_RdB Flag_PA Annee_1er_don Cumul_dons Don_max  \\\n",
              "0                   03        03      02            07         07      06   \n",
              "1                   04        03      02            08         05      02   \n",
              "2                   03        03      02            08         07      05   \n",
              "3                   05        01      02            02         07      08   \n",
              "4                   05        01      02            08         07      08   \n",
              "...                ...       ...     ...           ...        ...     ...   \n",
              "484517              01        01      02            15         08      09   \n",
              "484518              01        04      02            15         08      09   \n",
              "484519              05        03      02            15         08      09   \n",
              "484520              05        03      02            15         08      09   \n",
              "484521              04        02      02            15         08      09   \n",
              "\n",
              "       Don_moyen Vingtiles_ISF IFI+  \n",
              "0             04            10    2  \n",
              "1             02            10    2  \n",
              "2             03            07    2  \n",
              "3             06            18    2  \n",
              "4             06            02    2  \n",
              "...          ...           ...  ...  \n",
              "484517        07            03  NaN  \n",
              "484518        07            07  NaN  \n",
              "484519        07            10  NaN  \n",
              "484520        07            08  NaN  \n",
              "484521        07            08  NaN  \n",
              "\n",
              "[484522 rows x 24 columns]"
            ]
          },
          "metadata": {
            "tags": []
          },
          "execution_count": 145
        }
      ]
    },
    {
      "cell_type": "code",
      "metadata": {
        "id": "0924d2aa",
        "outputId": "3fb1a6c0-a038-4670-b740-27af4cf13b27"
      },
      "source": [
        "data.describe()"
      ],
      "id": "0924d2aa",
      "execution_count": null,
      "outputs": [
        {
          "output_type": "execute_result",
          "data": {
            "text/html": [
              "<div>\n",
              "<style scoped>\n",
              "    .dataframe tbody tr th:only-of-type {\n",
              "        vertical-align: middle;\n",
              "    }\n",
              "\n",
              "    .dataframe tbody tr th {\n",
              "        vertical-align: top;\n",
              "    }\n",
              "\n",
              "    .dataframe thead th {\n",
              "        text-align: right;\n",
              "    }\n",
              "</style>\n",
              "<table border=\"1\" class=\"dataframe\">\n",
              "  <thead>\n",
              "    <tr style=\"text-align: right;\">\n",
              "      <th></th>\n",
              "      <th>IDENT</th>\n",
              "      <th>TypeHabi</th>\n",
              "      <th>GeoFaz_Scl</th>\n",
              "      <th>GeoFaz_cl</th>\n",
              "      <th>Anciennete</th>\n",
              "      <th>Doublon_ligne</th>\n",
              "      <th>Revenus_iris</th>\n",
              "      <th>Sexe</th>\n",
              "      <th>Prenom_Phase_scl_H</th>\n",
              "      <th>Prenom_Phase_scl_F</th>\n",
              "      <th>Prenom_Phase_cl_H</th>\n",
              "      <th>Prenom_Phase_cl_F</th>\n",
              "      <th>Age_H</th>\n",
              "      <th>Age_F</th>\n",
              "      <th>Pays_sud</th>\n",
              "      <th>Prenom_effectif</th>\n",
              "      <th>codif_RdB</th>\n",
              "      <th>Flag_PA</th>\n",
              "      <th>Annee_1er_don</th>\n",
              "      <th>Cumul_dons</th>\n",
              "      <th>Don_max</th>\n",
              "      <th>Don_moyen</th>\n",
              "      <th>Vingtiles_ISF</th>\n",
              "      <th>IFI+</th>\n",
              "    </tr>\n",
              "  </thead>\n",
              "  <tbody>\n",
              "    <tr>\n",
              "      <th>count</th>\n",
              "      <td>484522</td>\n",
              "      <td>484522</td>\n",
              "      <td>484522</td>\n",
              "      <td>484522</td>\n",
              "      <td>484522</td>\n",
              "      <td>484522</td>\n",
              "      <td>484522</td>\n",
              "      <td>484522</td>\n",
              "      <td>484522</td>\n",
              "      <td>484522</td>\n",
              "      <td>484522</td>\n",
              "      <td>484522</td>\n",
              "      <td>484522</td>\n",
              "      <td>484522</td>\n",
              "      <td>484522</td>\n",
              "      <td>484522</td>\n",
              "      <td>484522</td>\n",
              "      <td>484522</td>\n",
              "      <td>484522</td>\n",
              "      <td>484522</td>\n",
              "      <td>484522</td>\n",
              "      <td>484522</td>\n",
              "      <td>484522</td>\n",
              "      <td>465453</td>\n",
              "    </tr>\n",
              "    <tr>\n",
              "      <th>unique</th>\n",
              "      <td>484522</td>\n",
              "      <td>4</td>\n",
              "      <td>38</td>\n",
              "      <td>8</td>\n",
              "      <td>11</td>\n",
              "      <td>3</td>\n",
              "      <td>8</td>\n",
              "      <td>5</td>\n",
              "      <td>31</td>\n",
              "      <td>45</td>\n",
              "      <td>7</td>\n",
              "      <td>8</td>\n",
              "      <td>12</td>\n",
              "      <td>12</td>\n",
              "      <td>2</td>\n",
              "      <td>6</td>\n",
              "      <td>5</td>\n",
              "      <td>2</td>\n",
              "      <td>9</td>\n",
              "      <td>8</td>\n",
              "      <td>9</td>\n",
              "      <td>7</td>\n",
              "      <td>21</td>\n",
              "      <td>2</td>\n",
              "    </tr>\n",
              "    <tr>\n",
              "      <th>top</th>\n",
              "      <td>0005594402092972</td>\n",
              "      <td>02</td>\n",
              "      <td>72</td>\n",
              "      <td>07</td>\n",
              "      <td>06</td>\n",
              "      <td>03</td>\n",
              "      <td>03</td>\n",
              "      <td>01</td>\n",
              "      <td>71</td>\n",
              "      <td>81</td>\n",
              "      <td>07</td>\n",
              "      <td>08</td>\n",
              "      <td>12</td>\n",
              "      <td>12</td>\n",
              "      <td>02</td>\n",
              "      <td>05</td>\n",
              "      <td>02</td>\n",
              "      <td>02</td>\n",
              "      <td>01</td>\n",
              "      <td>04</td>\n",
              "      <td>06</td>\n",
              "      <td>02</td>\n",
              "      <td>15</td>\n",
              "      <td>2</td>\n",
              "    </tr>\n",
              "    <tr>\n",
              "      <th>freq</th>\n",
              "      <td>1</td>\n",
              "      <td>300217</td>\n",
              "      <td>39822</td>\n",
              "      <td>172697</td>\n",
              "      <td>125150</td>\n",
              "      <td>305709</td>\n",
              "      <td>121212</td>\n",
              "      <td>169127</td>\n",
              "      <td>182654</td>\n",
              "      <td>230666</td>\n",
              "      <td>182654</td>\n",
              "      <td>230666</td>\n",
              "      <td>182655</td>\n",
              "      <td>230666</td>\n",
              "      <td>472877</td>\n",
              "      <td>204249</td>\n",
              "      <td>222173</td>\n",
              "      <td>462970</td>\n",
              "      <td>117524</td>\n",
              "      <td>105242</td>\n",
              "      <td>86778</td>\n",
              "      <td>109209</td>\n",
              "      <td>34764</td>\n",
              "      <td>462833</td>\n",
              "    </tr>\n",
              "  </tbody>\n",
              "</table>\n",
              "</div>"
            ],
            "text/plain": [
              "                   IDENT TypeHabi GeoFaz_Scl GeoFaz_cl Anciennete  \\\n",
              "count             484522   484522     484522    484522     484522   \n",
              "unique            484522        4         38         8         11   \n",
              "top     0005594402092972       02         72        07         06   \n",
              "freq                   1   300217      39822    172697     125150   \n",
              "\n",
              "       Doublon_ligne Revenus_iris    Sexe Prenom_Phase_scl_H  \\\n",
              "count         484522       484522  484522             484522   \n",
              "unique             3            8       5                 31   \n",
              "top               03           03      01                 71   \n",
              "freq          305709       121212  169127             182654   \n",
              "\n",
              "       Prenom_Phase_scl_F Prenom_Phase_cl_H Prenom_Phase_cl_F   Age_H   Age_F  \\\n",
              "count              484522            484522            484522  484522  484522   \n",
              "unique                 45                 7                 8      12      12   \n",
              "top                    81                07                08      12      12   \n",
              "freq               230666            182654            230666  182655  230666   \n",
              "\n",
              "       Pays_sud Prenom_effectif codif_RdB Flag_PA Annee_1er_don Cumul_dons  \\\n",
              "count    484522          484522    484522  484522        484522     484522   \n",
              "unique        2               6         5       2             9          8   \n",
              "top          02              05        02      02            01         04   \n",
              "freq     472877          204249    222173  462970        117524     105242   \n",
              "\n",
              "       Don_max Don_moyen Vingtiles_ISF    IFI+  \n",
              "count   484522    484522        484522  465453  \n",
              "unique       9         7            21       2  \n",
              "top         06        02            15       2  \n",
              "freq     86778    109209         34764  462833  "
            ]
          },
          "metadata": {
            "tags": []
          },
          "execution_count": 146
        }
      ]
    },
    {
      "cell_type": "code",
      "metadata": {
        "id": "948e4e6d",
        "outputId": "7411a53e-80b4-4627-8a2e-c448c553037f"
      },
      "source": [
        "# connaitre les individus dont on n'a pas d'information sur la variable\n",
        "data.iloc[:,23].value_counts(dropna = False)\n"
      ],
      "id": "948e4e6d",
      "execution_count": null,
      "outputs": [
        {
          "output_type": "execute_result",
          "data": {
            "text/plain": [
              "2      462833\n",
              "NaN     19069\n",
              "1        2620\n",
              "Name: IFI+, dtype: int64"
            ]
          },
          "metadata": {
            "tags": []
          },
          "execution_count": 147
        }
      ]
    },
    {
      "cell_type": "code",
      "metadata": {
        "id": "685aae90",
        "outputId": "124f8bfe-97aa-4297-8213-13756d5ec97c"
      },
      "source": [
        "(data.isnull()).sum(axis=0)"
      ],
      "id": "685aae90",
      "execution_count": null,
      "outputs": [
        {
          "output_type": "execute_result",
          "data": {
            "text/plain": [
              "IDENT                     0\n",
              "TypeHabi                  0\n",
              "GeoFaz_Scl                0\n",
              "GeoFaz_cl                 0\n",
              "Anciennete                0\n",
              "Doublon_ligne             0\n",
              "Revenus_iris              0\n",
              "Sexe                      0\n",
              "Prenom_Phase_scl_H        0\n",
              "Prenom_Phase_scl_F        0\n",
              "Prenom_Phase_cl_H         0\n",
              "Prenom_Phase_cl_F         0\n",
              "Age_H                     0\n",
              "Age_F                     0\n",
              "Pays_sud                  0\n",
              "Prenom_effectif           0\n",
              "codif_RdB                 0\n",
              "Flag_PA                   0\n",
              "Annee_1er_don             0\n",
              "Cumul_dons                0\n",
              "Don_max                   0\n",
              "Don_moyen                 0\n",
              "Vingtiles_ISF             0\n",
              "IFI+                  19069\n",
              "dtype: int64"
            ]
          },
          "metadata": {
            "tags": []
          },
          "execution_count": 148
        }
      ]
    },
    {
      "cell_type": "code",
      "metadata": {
        "id": "06bda56e",
        "outputId": "f085982e-5b70-43a0-efa0-ca5bd592797b"
      },
      "source": [
        "(data.isnull()).sum(axis=1)"
      ],
      "id": "06bda56e",
      "execution_count": null,
      "outputs": [
        {
          "output_type": "execute_result",
          "data": {
            "text/plain": [
              "0         0\n",
              "1         0\n",
              "2         0\n",
              "3         0\n",
              "4         0\n",
              "         ..\n",
              "484517    1\n",
              "484518    1\n",
              "484519    1\n",
              "484520    1\n",
              "484521    1\n",
              "Length: 484522, dtype: int64"
            ]
          },
          "metadata": {
            "tags": []
          },
          "execution_count": 149
        }
      ]
    },
    {
      "cell_type": "code",
      "metadata": {
        "id": "2f1982b8"
      },
      "source": [
        "# élimination des individus n'ayant pas de valeur pour la varialbe IFI+\n",
        "\"\"\"IMPORTANT\"\"\"\n",
        "data_sans_nan = data[(data.isnull()).sum(axis=1) == 0]"
      ],
      "id": "2f1982b8",
      "execution_count": null,
      "outputs": []
    },
    {
      "cell_type": "code",
      "metadata": {
        "id": "b8b0d831",
        "outputId": "cf7e27a4-93bb-47c0-e61e-4bee896dccb9"
      },
      "source": [
        "#conversion du type de variable\n",
        "for i in range(1,data_sans_nan.shape[1]):\n",
        "    data_sans_nan.iloc[:,i]=data_sans_nan.iloc[:,i].astype(int)"
      ],
      "id": "b8b0d831",
      "execution_count": null,
      "outputs": [
        {
          "output_type": "stream",
          "text": [
            "C:\\Users\\Christian\\anaconda3\\lib\\site-packages\\pandas\\core\\indexing.py:1843: SettingWithCopyWarning: \n",
            "A value is trying to be set on a copy of a slice from a DataFrame.\n",
            "Try using .loc[row_indexer,col_indexer] = value instead\n",
            "\n",
            "See the caveats in the documentation: https://pandas.pydata.org/pandas-docs/stable/user_guide/indexing.html#returning-a-view-versus-a-copy\n",
            "  self.obj[item_labels[indexer[info_axis]]] = value\n",
            "C:\\Users\\Christian\\anaconda3\\lib\\site-packages\\pandas\\core\\indexing.py:1676: SettingWithCopyWarning: \n",
            "A value is trying to be set on a copy of a slice from a DataFrame.\n",
            "Try using .loc[row_indexer,col_indexer] = value instead\n",
            "\n",
            "See the caveats in the documentation: https://pandas.pydata.org/pandas-docs/stable/user_guide/indexing.html#returning-a-view-versus-a-copy\n",
            "  self._setitem_single_column(ilocs[0], value, pi)\n"
          ],
          "name": "stderr"
        }
      ]
    },
    {
      "cell_type": "code",
      "metadata": {
        "id": "747ee8e8",
        "outputId": "4a48033e-353e-4ecf-8dd0-67a7bd95233d"
      },
      "source": [
        "data_sans_nan"
      ],
      "id": "747ee8e8",
      "execution_count": null,
      "outputs": [
        {
          "output_type": "execute_result",
          "data": {
            "text/html": [
              "<div>\n",
              "<style scoped>\n",
              "    .dataframe tbody tr th:only-of-type {\n",
              "        vertical-align: middle;\n",
              "    }\n",
              "\n",
              "    .dataframe tbody tr th {\n",
              "        vertical-align: top;\n",
              "    }\n",
              "\n",
              "    .dataframe thead th {\n",
              "        text-align: right;\n",
              "    }\n",
              "</style>\n",
              "<table border=\"1\" class=\"dataframe\">\n",
              "  <thead>\n",
              "    <tr style=\"text-align: right;\">\n",
              "      <th></th>\n",
              "      <th>IDENT</th>\n",
              "      <th>TypeHabi</th>\n",
              "      <th>GeoFaz_Scl</th>\n",
              "      <th>GeoFaz_cl</th>\n",
              "      <th>Anciennete</th>\n",
              "      <th>Doublon_ligne</th>\n",
              "      <th>Revenus_iris</th>\n",
              "      <th>Sexe</th>\n",
              "      <th>Prenom_Phase_scl_H</th>\n",
              "      <th>Prenom_Phase_scl_F</th>\n",
              "      <th>Prenom_Phase_cl_H</th>\n",
              "      <th>Prenom_Phase_cl_F</th>\n",
              "      <th>Age_H</th>\n",
              "      <th>Age_F</th>\n",
              "      <th>Pays_sud</th>\n",
              "      <th>Prenom_effectif</th>\n",
              "      <th>codif_RdB</th>\n",
              "      <th>Flag_PA</th>\n",
              "      <th>Annee_1er_don</th>\n",
              "      <th>Cumul_dons</th>\n",
              "      <th>Don_max</th>\n",
              "      <th>Don_moyen</th>\n",
              "      <th>Vingtiles_ISF</th>\n",
              "      <th>IFI+</th>\n",
              "    </tr>\n",
              "  </thead>\n",
              "  <tbody>\n",
              "    <tr>\n",
              "      <th>0</th>\n",
              "      <td>0000000101001347</td>\n",
              "      <td>3</td>\n",
              "      <td>75</td>\n",
              "      <td>7</td>\n",
              "      <td>8</td>\n",
              "      <td>3</td>\n",
              "      <td>3</td>\n",
              "      <td>3</td>\n",
              "      <td>64</td>\n",
              "      <td>46</td>\n",
              "      <td>6</td>\n",
              "      <td>4</td>\n",
              "      <td>9</td>\n",
              "      <td>4</td>\n",
              "      <td>2</td>\n",
              "      <td>3</td>\n",
              "      <td>3</td>\n",
              "      <td>2</td>\n",
              "      <td>7</td>\n",
              "      <td>7</td>\n",
              "      <td>6</td>\n",
              "      <td>4</td>\n",
              "      <td>10</td>\n",
              "      <td>2</td>\n",
              "    </tr>\n",
              "    <tr>\n",
              "      <th>1</th>\n",
              "      <td>0000000201001512</td>\n",
              "      <td>1</td>\n",
              "      <td>74</td>\n",
              "      <td>7</td>\n",
              "      <td>5</td>\n",
              "      <td>3</td>\n",
              "      <td>3</td>\n",
              "      <td>4</td>\n",
              "      <td>65</td>\n",
              "      <td>81</td>\n",
              "      <td>6</td>\n",
              "      <td>8</td>\n",
              "      <td>11</td>\n",
              "      <td>12</td>\n",
              "      <td>2</td>\n",
              "      <td>4</td>\n",
              "      <td>3</td>\n",
              "      <td>2</td>\n",
              "      <td>8</td>\n",
              "      <td>5</td>\n",
              "      <td>2</td>\n",
              "      <td>2</td>\n",
              "      <td>10</td>\n",
              "      <td>2</td>\n",
              "    </tr>\n",
              "    <tr>\n",
              "      <th>2</th>\n",
              "      <td>0000000301002801</td>\n",
              "      <td>2</td>\n",
              "      <td>32</td>\n",
              "      <td>3</td>\n",
              "      <td>7</td>\n",
              "      <td>2</td>\n",
              "      <td>4</td>\n",
              "      <td>4</td>\n",
              "      <td>66</td>\n",
              "      <td>66</td>\n",
              "      <td>6</td>\n",
              "      <td>6</td>\n",
              "      <td>11</td>\n",
              "      <td>9</td>\n",
              "      <td>2</td>\n",
              "      <td>3</td>\n",
              "      <td>3</td>\n",
              "      <td>2</td>\n",
              "      <td>8</td>\n",
              "      <td>7</td>\n",
              "      <td>5</td>\n",
              "      <td>3</td>\n",
              "      <td>7</td>\n",
              "      <td>2</td>\n",
              "    </tr>\n",
              "    <tr>\n",
              "      <th>3</th>\n",
              "      <td>0000000401003186</td>\n",
              "      <td>1</td>\n",
              "      <td>12</td>\n",
              "      <td>1</td>\n",
              "      <td>4</td>\n",
              "      <td>3</td>\n",
              "      <td>7</td>\n",
              "      <td>3</td>\n",
              "      <td>51</td>\n",
              "      <td>81</td>\n",
              "      <td>5</td>\n",
              "      <td>8</td>\n",
              "      <td>9</td>\n",
              "      <td>12</td>\n",
              "      <td>2</td>\n",
              "      <td>5</td>\n",
              "      <td>1</td>\n",
              "      <td>2</td>\n",
              "      <td>2</td>\n",
              "      <td>7</td>\n",
              "      <td>8</td>\n",
              "      <td>6</td>\n",
              "      <td>18</td>\n",
              "      <td>2</td>\n",
              "    </tr>\n",
              "    <tr>\n",
              "      <th>4</th>\n",
              "      <td>0000000501003624</td>\n",
              "      <td>2</td>\n",
              "      <td>12</td>\n",
              "      <td>1</td>\n",
              "      <td>6</td>\n",
              "      <td>3</td>\n",
              "      <td>3</td>\n",
              "      <td>3</td>\n",
              "      <td>51</td>\n",
              "      <td>81</td>\n",
              "      <td>5</td>\n",
              "      <td>8</td>\n",
              "      <td>9</td>\n",
              "      <td>12</td>\n",
              "      <td>2</td>\n",
              "      <td>5</td>\n",
              "      <td>1</td>\n",
              "      <td>2</td>\n",
              "      <td>8</td>\n",
              "      <td>7</td>\n",
              "      <td>8</td>\n",
              "      <td>6</td>\n",
              "      <td>2</td>\n",
              "      <td>2</td>\n",
              "    </tr>\n",
              "    <tr>\n",
              "      <th>...</th>\n",
              "      <td>...</td>\n",
              "      <td>...</td>\n",
              "      <td>...</td>\n",
              "      <td>...</td>\n",
              "      <td>...</td>\n",
              "      <td>...</td>\n",
              "      <td>...</td>\n",
              "      <td>...</td>\n",
              "      <td>...</td>\n",
              "      <td>...</td>\n",
              "      <td>...</td>\n",
              "      <td>...</td>\n",
              "      <td>...</td>\n",
              "      <td>...</td>\n",
              "      <td>...</td>\n",
              "      <td>...</td>\n",
              "      <td>...</td>\n",
              "      <td>...</td>\n",
              "      <td>...</td>\n",
              "      <td>...</td>\n",
              "      <td>...</td>\n",
              "      <td>...</td>\n",
              "      <td>...</td>\n",
              "      <td>...</td>\n",
              "    </tr>\n",
              "    <tr>\n",
              "      <th>466512</th>\n",
              "      <td>0046651304217222</td>\n",
              "      <td>2</td>\n",
              "      <td>35</td>\n",
              "      <td>3</td>\n",
              "      <td>10</td>\n",
              "      <td>2</td>\n",
              "      <td>4</td>\n",
              "      <td>1</td>\n",
              "      <td>71</td>\n",
              "      <td>37</td>\n",
              "      <td>7</td>\n",
              "      <td>3</td>\n",
              "      <td>12</td>\n",
              "      <td>11</td>\n",
              "      <td>2</td>\n",
              "      <td>4</td>\n",
              "      <td>3</td>\n",
              "      <td>2</td>\n",
              "      <td>1</td>\n",
              "      <td>2</td>\n",
              "      <td>2</td>\n",
              "      <td>2</td>\n",
              "      <td>7</td>\n",
              "      <td>2</td>\n",
              "    </tr>\n",
              "    <tr>\n",
              "      <th>466513</th>\n",
              "      <td>0046651404217223</td>\n",
              "      <td>3</td>\n",
              "      <td>75</td>\n",
              "      <td>7</td>\n",
              "      <td>10</td>\n",
              "      <td>2</td>\n",
              "      <td>6</td>\n",
              "      <td>4</td>\n",
              "      <td>65</td>\n",
              "      <td>66</td>\n",
              "      <td>6</td>\n",
              "      <td>6</td>\n",
              "      <td>11</td>\n",
              "      <td>10</td>\n",
              "      <td>2</td>\n",
              "      <td>4</td>\n",
              "      <td>3</td>\n",
              "      <td>2</td>\n",
              "      <td>1</td>\n",
              "      <td>3</td>\n",
              "      <td>6</td>\n",
              "      <td>5</td>\n",
              "      <td>17</td>\n",
              "      <td>2</td>\n",
              "    </tr>\n",
              "    <tr>\n",
              "      <th>466514</th>\n",
              "      <td>0046651504217224</td>\n",
              "      <td>1</td>\n",
              "      <td>73</td>\n",
              "      <td>7</td>\n",
              "      <td>6</td>\n",
              "      <td>3</td>\n",
              "      <td>7</td>\n",
              "      <td>3</td>\n",
              "      <td>32</td>\n",
              "      <td>81</td>\n",
              "      <td>3</td>\n",
              "      <td>8</td>\n",
              "      <td>4</td>\n",
              "      <td>12</td>\n",
              "      <td>2</td>\n",
              "      <td>5</td>\n",
              "      <td>3</td>\n",
              "      <td>2</td>\n",
              "      <td>1</td>\n",
              "      <td>3</td>\n",
              "      <td>4</td>\n",
              "      <td>4</td>\n",
              "      <td>19</td>\n",
              "      <td>2</td>\n",
              "    </tr>\n",
              "    <tr>\n",
              "      <th>466515</th>\n",
              "      <td>0046651604217225</td>\n",
              "      <td>2</td>\n",
              "      <td>31</td>\n",
              "      <td>3</td>\n",
              "      <td>8</td>\n",
              "      <td>3</td>\n",
              "      <td>5</td>\n",
              "      <td>2</td>\n",
              "      <td>71</td>\n",
              "      <td>44</td>\n",
              "      <td>7</td>\n",
              "      <td>4</td>\n",
              "      <td>12</td>\n",
              "      <td>5</td>\n",
              "      <td>2</td>\n",
              "      <td>4</td>\n",
              "      <td>2</td>\n",
              "      <td>2</td>\n",
              "      <td>1</td>\n",
              "      <td>2</td>\n",
              "      <td>3</td>\n",
              "      <td>3</td>\n",
              "      <td>15</td>\n",
              "      <td>2</td>\n",
              "    </tr>\n",
              "    <tr>\n",
              "      <th>466516</th>\n",
              "      <td>0046651704217227</td>\n",
              "      <td>2</td>\n",
              "      <td>11</td>\n",
              "      <td>1</td>\n",
              "      <td>6</td>\n",
              "      <td>3</td>\n",
              "      <td>6</td>\n",
              "      <td>1</td>\n",
              "      <td>71</td>\n",
              "      <td>44</td>\n",
              "      <td>7</td>\n",
              "      <td>4</td>\n",
              "      <td>12</td>\n",
              "      <td>6</td>\n",
              "      <td>2</td>\n",
              "      <td>5</td>\n",
              "      <td>2</td>\n",
              "      <td>2</td>\n",
              "      <td>1</td>\n",
              "      <td>3</td>\n",
              "      <td>5</td>\n",
              "      <td>4</td>\n",
              "      <td>15</td>\n",
              "      <td>2</td>\n",
              "    </tr>\n",
              "  </tbody>\n",
              "</table>\n",
              "<p>465453 rows × 24 columns</p>\n",
              "</div>"
            ],
            "text/plain": [
              "                   IDENT  TypeHabi  GeoFaz_Scl  GeoFaz_cl  Anciennete  \\\n",
              "0       0000000101001347         3          75          7           8   \n",
              "1       0000000201001512         1          74          7           5   \n",
              "2       0000000301002801         2          32          3           7   \n",
              "3       0000000401003186         1          12          1           4   \n",
              "4       0000000501003624         2          12          1           6   \n",
              "...                  ...       ...         ...        ...         ...   \n",
              "466512  0046651304217222         2          35          3          10   \n",
              "466513  0046651404217223         3          75          7          10   \n",
              "466514  0046651504217224         1          73          7           6   \n",
              "466515  0046651604217225         2          31          3           8   \n",
              "466516  0046651704217227         2          11          1           6   \n",
              "\n",
              "        Doublon_ligne  Revenus_iris  Sexe  Prenom_Phase_scl_H  \\\n",
              "0                   3             3     3                  64   \n",
              "1                   3             3     4                  65   \n",
              "2                   2             4     4                  66   \n",
              "3                   3             7     3                  51   \n",
              "4                   3             3     3                  51   \n",
              "...               ...           ...   ...                 ...   \n",
              "466512              2             4     1                  71   \n",
              "466513              2             6     4                  65   \n",
              "466514              3             7     3                  32   \n",
              "466515              3             5     2                  71   \n",
              "466516              3             6     1                  71   \n",
              "\n",
              "        Prenom_Phase_scl_F  Prenom_Phase_cl_H  Prenom_Phase_cl_F  Age_H  \\\n",
              "0                       46                  6                  4      9   \n",
              "1                       81                  6                  8     11   \n",
              "2                       66                  6                  6     11   \n",
              "3                       81                  5                  8      9   \n",
              "4                       81                  5                  8      9   \n",
              "...                    ...                ...                ...    ...   \n",
              "466512                  37                  7                  3     12   \n",
              "466513                  66                  6                  6     11   \n",
              "466514                  81                  3                  8      4   \n",
              "466515                  44                  7                  4     12   \n",
              "466516                  44                  7                  4     12   \n",
              "\n",
              "        Age_F  Pays_sud  Prenom_effectif  codif_RdB  Flag_PA  Annee_1er_don  \\\n",
              "0           4         2                3          3        2              7   \n",
              "1          12         2                4          3        2              8   \n",
              "2           9         2                3          3        2              8   \n",
              "3          12         2                5          1        2              2   \n",
              "4          12         2                5          1        2              8   \n",
              "...       ...       ...              ...        ...      ...            ...   \n",
              "466512     11         2                4          3        2              1   \n",
              "466513     10         2                4          3        2              1   \n",
              "466514     12         2                5          3        2              1   \n",
              "466515      5         2                4          2        2              1   \n",
              "466516      6         2                5          2        2              1   \n",
              "\n",
              "        Cumul_dons  Don_max  Don_moyen  Vingtiles_ISF  IFI+  \n",
              "0                7        6          4             10     2  \n",
              "1                5        2          2             10     2  \n",
              "2                7        5          3              7     2  \n",
              "3                7        8          6             18     2  \n",
              "4                7        8          6              2     2  \n",
              "...            ...      ...        ...            ...   ...  \n",
              "466512           2        2          2              7     2  \n",
              "466513           3        6          5             17     2  \n",
              "466514           3        4          4             19     2  \n",
              "466515           2        3          3             15     2  \n",
              "466516           3        5          4             15     2  \n",
              "\n",
              "[465453 rows x 24 columns]"
            ]
          },
          "metadata": {
            "tags": []
          },
          "execution_count": 152
        }
      ]
    },
    {
      "cell_type": "code",
      "metadata": {
        "id": "c0f33515"
      },
      "source": [
        ""
      ],
      "id": "c0f33515",
      "execution_count": null,
      "outputs": []
    },
    {
      "cell_type": "code",
      "metadata": {
        "id": "8c5d6b85",
        "outputId": "a10b08ee-4033-459c-b939-7bc8f05717a6"
      },
      "source": [
        "data_sans_nan.info()"
      ],
      "id": "8c5d6b85",
      "execution_count": null,
      "outputs": [
        {
          "output_type": "stream",
          "text": [
            "<class 'pandas.core.frame.DataFrame'>\n",
            "Int64Index: 465453 entries, 0 to 466516\n",
            "Data columns (total 24 columns):\n",
            " #   Column              Non-Null Count   Dtype \n",
            "---  ------              --------------   ----- \n",
            " 0   IDENT               465453 non-null  object\n",
            " 1   TypeHabi            465453 non-null  int32 \n",
            " 2   GeoFaz_Scl          465453 non-null  int32 \n",
            " 3   GeoFaz_cl           465453 non-null  int32 \n",
            " 4   Anciennete          465453 non-null  int32 \n",
            " 5   Doublon_ligne       465453 non-null  int32 \n",
            " 6   Revenus_iris        465453 non-null  int32 \n",
            " 7   Sexe                465453 non-null  int32 \n",
            " 8   Prenom_Phase_scl_H  465453 non-null  int32 \n",
            " 9   Prenom_Phase_scl_F  465453 non-null  int32 \n",
            " 10  Prenom_Phase_cl_H   465453 non-null  int32 \n",
            " 11  Prenom_Phase_cl_F   465453 non-null  int32 \n",
            " 12  Age_H               465453 non-null  int32 \n",
            " 13  Age_F               465453 non-null  int32 \n",
            " 14  Pays_sud            465453 non-null  int32 \n",
            " 15  Prenom_effectif     465453 non-null  int32 \n",
            " 16  codif_RdB           465453 non-null  int32 \n",
            " 17  Flag_PA             465453 non-null  int32 \n",
            " 18  Annee_1er_don       465453 non-null  int32 \n",
            " 19  Cumul_dons          465453 non-null  int32 \n",
            " 20  Don_max             465453 non-null  int32 \n",
            " 21  Don_moyen           465453 non-null  int32 \n",
            " 22  Vingtiles_ISF       465453 non-null  int32 \n",
            " 23  IFI+                465453 non-null  int32 \n",
            "dtypes: int32(23), object(1)\n",
            "memory usage: 47.9+ MB\n"
          ],
          "name": "stdout"
        }
      ]
    },
    {
      "cell_type": "code",
      "metadata": {
        "id": "725e8082",
        "outputId": "76b6b589-a8de-4f21-caa8-2ce638eb9096"
      },
      "source": [
        "data_sans_nan.describe()"
      ],
      "id": "725e8082",
      "execution_count": null,
      "outputs": [
        {
          "output_type": "execute_result",
          "data": {
            "text/html": [
              "<div>\n",
              "<style scoped>\n",
              "    .dataframe tbody tr th:only-of-type {\n",
              "        vertical-align: middle;\n",
              "    }\n",
              "\n",
              "    .dataframe tbody tr th {\n",
              "        vertical-align: top;\n",
              "    }\n",
              "\n",
              "    .dataframe thead th {\n",
              "        text-align: right;\n",
              "    }\n",
              "</style>\n",
              "<table border=\"1\" class=\"dataframe\">\n",
              "  <thead>\n",
              "    <tr style=\"text-align: right;\">\n",
              "      <th></th>\n",
              "      <th>TypeHabi</th>\n",
              "      <th>GeoFaz_Scl</th>\n",
              "      <th>GeoFaz_cl</th>\n",
              "      <th>Anciennete</th>\n",
              "      <th>Doublon_ligne</th>\n",
              "      <th>Revenus_iris</th>\n",
              "      <th>Sexe</th>\n",
              "      <th>Prenom_Phase_scl_H</th>\n",
              "      <th>Prenom_Phase_scl_F</th>\n",
              "      <th>Prenom_Phase_cl_H</th>\n",
              "      <th>Prenom_Phase_cl_F</th>\n",
              "      <th>Age_H</th>\n",
              "      <th>Age_F</th>\n",
              "      <th>Pays_sud</th>\n",
              "      <th>Prenom_effectif</th>\n",
              "      <th>codif_RdB</th>\n",
              "      <th>Flag_PA</th>\n",
              "      <th>Annee_1er_don</th>\n",
              "      <th>Cumul_dons</th>\n",
              "      <th>Don_max</th>\n",
              "      <th>Don_moyen</th>\n",
              "      <th>Vingtiles_ISF</th>\n",
              "      <th>IFI+</th>\n",
              "    </tr>\n",
              "  </thead>\n",
              "  <tbody>\n",
              "    <tr>\n",
              "      <th>count</th>\n",
              "      <td>465453.000000</td>\n",
              "      <td>465453.000000</td>\n",
              "      <td>465453.000000</td>\n",
              "      <td>465453.000000</td>\n",
              "      <td>465453.000000</td>\n",
              "      <td>465453.000000</td>\n",
              "      <td>465453.000000</td>\n",
              "      <td>465453.000000</td>\n",
              "      <td>465453.000000</td>\n",
              "      <td>465453.000000</td>\n",
              "      <td>465453.000000</td>\n",
              "      <td>465453.000000</td>\n",
              "      <td>465453.000000</td>\n",
              "      <td>465453.000000</td>\n",
              "      <td>465453.000000</td>\n",
              "      <td>465453.000000</td>\n",
              "      <td>465453.000000</td>\n",
              "      <td>465453.000000</td>\n",
              "      <td>465453.000000</td>\n",
              "      <td>465453.000000</td>\n",
              "      <td>465453.000000</td>\n",
              "      <td>465453.000000</td>\n",
              "      <td>465453.000000</td>\n",
              "    </tr>\n",
              "    <tr>\n",
              "      <th>mean</th>\n",
              "      <td>1.869420</td>\n",
              "      <td>48.584830</td>\n",
              "      <td>4.533964</td>\n",
              "      <td>6.246605</td>\n",
              "      <td>2.605926</td>\n",
              "      <td>4.275798</td>\n",
              "      <td>2.536705</td>\n",
              "      <td>57.524141</td>\n",
              "      <td>68.414229</td>\n",
              "      <td>5.528803</td>\n",
              "      <td>6.530677</td>\n",
              "      <td>9.547428</td>\n",
              "      <td>9.864519</td>\n",
              "      <td>1.976184</td>\n",
              "      <td>4.103469</td>\n",
              "      <td>2.291338</td>\n",
              "      <td>1.953697</td>\n",
              "      <td>3.463510</td>\n",
              "      <td>3.610745</td>\n",
              "      <td>3.960802</td>\n",
              "      <td>3.232995</td>\n",
              "      <td>11.008207</td>\n",
              "      <td>1.994371</td>\n",
              "    </tr>\n",
              "    <tr>\n",
              "      <th>std</th>\n",
              "      <td>0.611073</td>\n",
              "      <td>22.762038</td>\n",
              "      <td>2.257467</td>\n",
              "      <td>2.267625</td>\n",
              "      <td>0.535912</td>\n",
              "      <td>1.690335</td>\n",
              "      <td>1.237929</td>\n",
              "      <td>14.446827</td>\n",
              "      <td>15.488192</td>\n",
              "      <td>1.477708</td>\n",
              "      <td>1.702904</td>\n",
              "      <td>2.771383</td>\n",
              "      <td>2.759177</td>\n",
              "      <td>0.152474</td>\n",
              "      <td>1.124122</td>\n",
              "      <td>0.859759</td>\n",
              "      <td>0.210141</td>\n",
              "      <td>2.310546</td>\n",
              "      <td>1.609919</td>\n",
              "      <td>2.199834</td>\n",
              "      <td>1.615739</td>\n",
              "      <td>5.260786</td>\n",
              "      <td>0.074815</td>\n",
              "    </tr>\n",
              "    <tr>\n",
              "      <th>min</th>\n",
              "      <td>1.000000</td>\n",
              "      <td>11.000000</td>\n",
              "      <td>1.000000</td>\n",
              "      <td>1.000000</td>\n",
              "      <td>1.000000</td>\n",
              "      <td>1.000000</td>\n",
              "      <td>1.000000</td>\n",
              "      <td>11.000000</td>\n",
              "      <td>11.000000</td>\n",
              "      <td>1.000000</td>\n",
              "      <td>1.000000</td>\n",
              "      <td>1.000000</td>\n",
              "      <td>1.000000</td>\n",
              "      <td>1.000000</td>\n",
              "      <td>1.000000</td>\n",
              "      <td>1.000000</td>\n",
              "      <td>1.000000</td>\n",
              "      <td>1.000000</td>\n",
              "      <td>1.000000</td>\n",
              "      <td>1.000000</td>\n",
              "      <td>1.000000</td>\n",
              "      <td>1.000000</td>\n",
              "      <td>1.000000</td>\n",
              "    </tr>\n",
              "    <tr>\n",
              "      <th>25%</th>\n",
              "      <td>1.000000</td>\n",
              "      <td>31.000000</td>\n",
              "      <td>3.000000</td>\n",
              "      <td>5.000000</td>\n",
              "      <td>2.000000</td>\n",
              "      <td>3.000000</td>\n",
              "      <td>1.000000</td>\n",
              "      <td>51.000000</td>\n",
              "      <td>64.000000</td>\n",
              "      <td>5.000000</td>\n",
              "      <td>6.000000</td>\n",
              "      <td>8.000000</td>\n",
              "      <td>8.000000</td>\n",
              "      <td>2.000000</td>\n",
              "      <td>4.000000</td>\n",
              "      <td>2.000000</td>\n",
              "      <td>2.000000</td>\n",
              "      <td>1.000000</td>\n",
              "      <td>2.000000</td>\n",
              "      <td>2.000000</td>\n",
              "      <td>2.000000</td>\n",
              "      <td>7.000000</td>\n",
              "      <td>2.000000</td>\n",
              "    </tr>\n",
              "    <tr>\n",
              "      <th>50%</th>\n",
              "      <td>2.000000</td>\n",
              "      <td>43.000000</td>\n",
              "      <td>4.000000</td>\n",
              "      <td>6.000000</td>\n",
              "      <td>3.000000</td>\n",
              "      <td>4.000000</td>\n",
              "      <td>3.000000</td>\n",
              "      <td>65.000000</td>\n",
              "      <td>75.000000</td>\n",
              "      <td>6.000000</td>\n",
              "      <td>7.000000</td>\n",
              "      <td>11.000000</td>\n",
              "      <td>11.000000</td>\n",
              "      <td>2.000000</td>\n",
              "      <td>4.000000</td>\n",
              "      <td>2.000000</td>\n",
              "      <td>2.000000</td>\n",
              "      <td>3.000000</td>\n",
              "      <td>4.000000</td>\n",
              "      <td>4.000000</td>\n",
              "      <td>3.000000</td>\n",
              "      <td>11.000000</td>\n",
              "      <td>2.000000</td>\n",
              "    </tr>\n",
              "    <tr>\n",
              "      <th>75%</th>\n",
              "      <td>2.000000</td>\n",
              "      <td>72.000000</td>\n",
              "      <td>7.000000</td>\n",
              "      <td>8.000000</td>\n",
              "      <td>3.000000</td>\n",
              "      <td>6.000000</td>\n",
              "      <td>4.000000</td>\n",
              "      <td>71.000000</td>\n",
              "      <td>81.000000</td>\n",
              "      <td>7.000000</td>\n",
              "      <td>8.000000</td>\n",
              "      <td>12.000000</td>\n",
              "      <td>12.000000</td>\n",
              "      <td>2.000000</td>\n",
              "      <td>5.000000</td>\n",
              "      <td>3.000000</td>\n",
              "      <td>2.000000</td>\n",
              "      <td>5.000000</td>\n",
              "      <td>5.000000</td>\n",
              "      <td>6.000000</td>\n",
              "      <td>4.000000</td>\n",
              "      <td>16.000000</td>\n",
              "      <td>2.000000</td>\n",
              "    </tr>\n",
              "    <tr>\n",
              "      <th>max</th>\n",
              "      <td>4.000000</td>\n",
              "      <td>81.000000</td>\n",
              "      <td>8.000000</td>\n",
              "      <td>11.000000</td>\n",
              "      <td>3.000000</td>\n",
              "      <td>8.000000</td>\n",
              "      <td>5.000000</td>\n",
              "      <td>71.000000</td>\n",
              "      <td>81.000000</td>\n",
              "      <td>7.000000</td>\n",
              "      <td>8.000000</td>\n",
              "      <td>12.000000</td>\n",
              "      <td>12.000000</td>\n",
              "      <td>2.000000</td>\n",
              "      <td>6.000000</td>\n",
              "      <td>5.000000</td>\n",
              "      <td>2.000000</td>\n",
              "      <td>8.000000</td>\n",
              "      <td>8.000000</td>\n",
              "      <td>9.000000</td>\n",
              "      <td>7.000000</td>\n",
              "      <td>21.000000</td>\n",
              "      <td>2.000000</td>\n",
              "    </tr>\n",
              "  </tbody>\n",
              "</table>\n",
              "</div>"
            ],
            "text/plain": [
              "            TypeHabi     GeoFaz_Scl      GeoFaz_cl     Anciennete  \\\n",
              "count  465453.000000  465453.000000  465453.000000  465453.000000   \n",
              "mean        1.869420      48.584830       4.533964       6.246605   \n",
              "std         0.611073      22.762038       2.257467       2.267625   \n",
              "min         1.000000      11.000000       1.000000       1.000000   \n",
              "25%         1.000000      31.000000       3.000000       5.000000   \n",
              "50%         2.000000      43.000000       4.000000       6.000000   \n",
              "75%         2.000000      72.000000       7.000000       8.000000   \n",
              "max         4.000000      81.000000       8.000000      11.000000   \n",
              "\n",
              "       Doublon_ligne   Revenus_iris           Sexe  Prenom_Phase_scl_H  \\\n",
              "count  465453.000000  465453.000000  465453.000000       465453.000000   \n",
              "mean        2.605926       4.275798       2.536705           57.524141   \n",
              "std         0.535912       1.690335       1.237929           14.446827   \n",
              "min         1.000000       1.000000       1.000000           11.000000   \n",
              "25%         2.000000       3.000000       1.000000           51.000000   \n",
              "50%         3.000000       4.000000       3.000000           65.000000   \n",
              "75%         3.000000       6.000000       4.000000           71.000000   \n",
              "max         3.000000       8.000000       5.000000           71.000000   \n",
              "\n",
              "       Prenom_Phase_scl_F  Prenom_Phase_cl_H  Prenom_Phase_cl_F  \\\n",
              "count       465453.000000      465453.000000      465453.000000   \n",
              "mean            68.414229           5.528803           6.530677   \n",
              "std             15.488192           1.477708           1.702904   \n",
              "min             11.000000           1.000000           1.000000   \n",
              "25%             64.000000           5.000000           6.000000   \n",
              "50%             75.000000           6.000000           7.000000   \n",
              "75%             81.000000           7.000000           8.000000   \n",
              "max             81.000000           7.000000           8.000000   \n",
              "\n",
              "               Age_H          Age_F       Pays_sud  Prenom_effectif  \\\n",
              "count  465453.000000  465453.000000  465453.000000    465453.000000   \n",
              "mean        9.547428       9.864519       1.976184         4.103469   \n",
              "std         2.771383       2.759177       0.152474         1.124122   \n",
              "min         1.000000       1.000000       1.000000         1.000000   \n",
              "25%         8.000000       8.000000       2.000000         4.000000   \n",
              "50%        11.000000      11.000000       2.000000         4.000000   \n",
              "75%        12.000000      12.000000       2.000000         5.000000   \n",
              "max        12.000000      12.000000       2.000000         6.000000   \n",
              "\n",
              "           codif_RdB        Flag_PA  Annee_1er_don     Cumul_dons  \\\n",
              "count  465453.000000  465453.000000  465453.000000  465453.000000   \n",
              "mean        2.291338       1.953697       3.463510       3.610745   \n",
              "std         0.859759       0.210141       2.310546       1.609919   \n",
              "min         1.000000       1.000000       1.000000       1.000000   \n",
              "25%         2.000000       2.000000       1.000000       2.000000   \n",
              "50%         2.000000       2.000000       3.000000       4.000000   \n",
              "75%         3.000000       2.000000       5.000000       5.000000   \n",
              "max         5.000000       2.000000       8.000000       8.000000   \n",
              "\n",
              "             Don_max      Don_moyen  Vingtiles_ISF           IFI+  \n",
              "count  465453.000000  465453.000000  465453.000000  465453.000000  \n",
              "mean        3.960802       3.232995      11.008207       1.994371  \n",
              "std         2.199834       1.615739       5.260786       0.074815  \n",
              "min         1.000000       1.000000       1.000000       1.000000  \n",
              "25%         2.000000       2.000000       7.000000       2.000000  \n",
              "50%         4.000000       3.000000      11.000000       2.000000  \n",
              "75%         6.000000       4.000000      16.000000       2.000000  \n",
              "max         9.000000       7.000000      21.000000       2.000000  "
            ]
          },
          "metadata": {
            "tags": []
          },
          "execution_count": 154
        }
      ]
    },
    {
      "cell_type": "code",
      "metadata": {
        "id": "a8778951",
        "outputId": "f26a0c32-05c2-4e93-9a00-06f7eb7e8caf"
      },
      "source": [
        "data_sans_nan[\"IFI+\"].value_counts(dropna=False)"
      ],
      "id": "a8778951",
      "execution_count": null,
      "outputs": [
        {
          "output_type": "execute_result",
          "data": {
            "text/plain": [
              "2    462833\n",
              "1      2620\n",
              "Name: IFI+, dtype: int64"
            ]
          },
          "metadata": {
            "tags": []
          },
          "execution_count": 155
        }
      ]
    },
    {
      "cell_type": "code",
      "metadata": {
        "scrolled": true,
        "id": "4d81f632"
      },
      "source": [
        "#sns.pairplot(data_sans_nan.iloc[:10000,1:],hue=\"IFI+\",diag_kind={'bins' : 2} )"
      ],
      "id": "4d81f632",
      "execution_count": null,
      "outputs": []
    },
    {
      "cell_type": "code",
      "metadata": {
        "id": "fc9a5942",
        "outputId": "71f9229f-ac18-43ff-df70-da6ba450cd0c"
      },
      "source": [
        "# tableau de corrélation \n",
        "tableau_corr =data_sans_nan.iloc[:,1:23].corr()\n",
        "tableau_corr"
      ],
      "id": "fc9a5942",
      "execution_count": null,
      "outputs": [
        {
          "output_type": "execute_result",
          "data": {
            "text/html": [
              "<div>\n",
              "<style scoped>\n",
              "    .dataframe tbody tr th:only-of-type {\n",
              "        vertical-align: middle;\n",
              "    }\n",
              "\n",
              "    .dataframe tbody tr th {\n",
              "        vertical-align: top;\n",
              "    }\n",
              "\n",
              "    .dataframe thead th {\n",
              "        text-align: right;\n",
              "    }\n",
              "</style>\n",
              "<table border=\"1\" class=\"dataframe\">\n",
              "  <thead>\n",
              "    <tr style=\"text-align: right;\">\n",
              "      <th></th>\n",
              "      <th>TypeHabi</th>\n",
              "      <th>GeoFaz_Scl</th>\n",
              "      <th>GeoFaz_cl</th>\n",
              "      <th>Anciennete</th>\n",
              "      <th>Doublon_ligne</th>\n",
              "      <th>Revenus_iris</th>\n",
              "      <th>Sexe</th>\n",
              "      <th>Prenom_Phase_scl_H</th>\n",
              "      <th>Prenom_Phase_scl_F</th>\n",
              "      <th>Prenom_Phase_cl_H</th>\n",
              "      <th>Prenom_Phase_cl_F</th>\n",
              "      <th>Age_H</th>\n",
              "      <th>Age_F</th>\n",
              "      <th>Pays_sud</th>\n",
              "      <th>Prenom_effectif</th>\n",
              "      <th>codif_RdB</th>\n",
              "      <th>Flag_PA</th>\n",
              "      <th>Annee_1er_don</th>\n",
              "      <th>Cumul_dons</th>\n",
              "      <th>Don_max</th>\n",
              "      <th>Don_moyen</th>\n",
              "      <th>Vingtiles_ISF</th>\n",
              "    </tr>\n",
              "  </thead>\n",
              "  <tbody>\n",
              "    <tr>\n",
              "      <th>TypeHabi</th>\n",
              "      <td>1.000000</td>\n",
              "      <td>-0.260988</td>\n",
              "      <td>-0.266120</td>\n",
              "      <td>0.050414</td>\n",
              "      <td>-0.160545</td>\n",
              "      <td>-0.099983</td>\n",
              "      <td>0.077886</td>\n",
              "      <td>-0.051893</td>\n",
              "      <td>0.035199</td>\n",
              "      <td>-0.055548</td>\n",
              "      <td>0.036591</td>\n",
              "      <td>-0.039896</td>\n",
              "      <td>0.032674</td>\n",
              "      <td>0.006999</td>\n",
              "      <td>0.013695</td>\n",
              "      <td>-0.028809</td>\n",
              "      <td>0.009030</td>\n",
              "      <td>-0.020418</td>\n",
              "      <td>-0.025277</td>\n",
              "      <td>-0.016893</td>\n",
              "      <td>-0.012301</td>\n",
              "      <td>-0.126506</td>\n",
              "    </tr>\n",
              "    <tr>\n",
              "      <th>GeoFaz_Scl</th>\n",
              "      <td>-0.260988</td>\n",
              "      <td>1.000000</td>\n",
              "      <td>0.997084</td>\n",
              "      <td>-0.059682</td>\n",
              "      <td>0.090778</td>\n",
              "      <td>-0.007646</td>\n",
              "      <td>-0.105846</td>\n",
              "      <td>0.079703</td>\n",
              "      <td>-0.062413</td>\n",
              "      <td>0.083849</td>\n",
              "      <td>-0.065925</td>\n",
              "      <td>0.063969</td>\n",
              "      <td>-0.052414</td>\n",
              "      <td>-0.013892</td>\n",
              "      <td>-0.032601</td>\n",
              "      <td>0.028961</td>\n",
              "      <td>-0.022574</td>\n",
              "      <td>0.048771</td>\n",
              "      <td>0.066740</td>\n",
              "      <td>0.045941</td>\n",
              "      <td>0.032711</td>\n",
              "      <td>0.129988</td>\n",
              "    </tr>\n",
              "    <tr>\n",
              "      <th>GeoFaz_cl</th>\n",
              "      <td>-0.266120</td>\n",
              "      <td>0.997084</td>\n",
              "      <td>1.000000</td>\n",
              "      <td>-0.059178</td>\n",
              "      <td>0.096064</td>\n",
              "      <td>0.017440</td>\n",
              "      <td>-0.107365</td>\n",
              "      <td>0.079204</td>\n",
              "      <td>-0.063383</td>\n",
              "      <td>0.083580</td>\n",
              "      <td>-0.066709</td>\n",
              "      <td>0.062732</td>\n",
              "      <td>-0.054881</td>\n",
              "      <td>-0.015005</td>\n",
              "      <td>-0.032869</td>\n",
              "      <td>0.031072</td>\n",
              "      <td>-0.022690</td>\n",
              "      <td>0.049404</td>\n",
              "      <td>0.069949</td>\n",
              "      <td>0.050266</td>\n",
              "      <td>0.037016</td>\n",
              "      <td>0.147336</td>\n",
              "    </tr>\n",
              "    <tr>\n",
              "      <th>Anciennete</th>\n",
              "      <td>0.050414</td>\n",
              "      <td>-0.059682</td>\n",
              "      <td>-0.059178</td>\n",
              "      <td>1.000000</td>\n",
              "      <td>-0.049371</td>\n",
              "      <td>0.004910</td>\n",
              "      <td>0.063291</td>\n",
              "      <td>-0.017271</td>\n",
              "      <td>0.038505</td>\n",
              "      <td>-0.020398</td>\n",
              "      <td>0.038302</td>\n",
              "      <td>-0.002866</td>\n",
              "      <td>0.048742</td>\n",
              "      <td>0.011425</td>\n",
              "      <td>0.014264</td>\n",
              "      <td>-0.018492</td>\n",
              "      <td>0.010721</td>\n",
              "      <td>0.030494</td>\n",
              "      <td>0.007701</td>\n",
              "      <td>-0.009143</td>\n",
              "      <td>-0.011594</td>\n",
              "      <td>-0.033270</td>\n",
              "    </tr>\n",
              "    <tr>\n",
              "      <th>Doublon_ligne</th>\n",
              "      <td>-0.160545</td>\n",
              "      <td>0.090778</td>\n",
              "      <td>0.096064</td>\n",
              "      <td>-0.049371</td>\n",
              "      <td>1.000000</td>\n",
              "      <td>0.083338</td>\n",
              "      <td>-0.230956</td>\n",
              "      <td>0.110401</td>\n",
              "      <td>-0.008996</td>\n",
              "      <td>0.120739</td>\n",
              "      <td>-0.002572</td>\n",
              "      <td>0.078810</td>\n",
              "      <td>-0.048330</td>\n",
              "      <td>-0.014390</td>\n",
              "      <td>-0.012911</td>\n",
              "      <td>0.094638</td>\n",
              "      <td>0.004710</td>\n",
              "      <td>-0.069465</td>\n",
              "      <td>-0.056605</td>\n",
              "      <td>-0.017374</td>\n",
              "      <td>-0.002363</td>\n",
              "      <td>0.077789</td>\n",
              "    </tr>\n",
              "    <tr>\n",
              "      <th>Revenus_iris</th>\n",
              "      <td>-0.099983</td>\n",
              "      <td>-0.007646</td>\n",
              "      <td>0.017440</td>\n",
              "      <td>0.004910</td>\n",
              "      <td>0.083338</td>\n",
              "      <td>1.000000</td>\n",
              "      <td>-0.009514</td>\n",
              "      <td>-0.038426</td>\n",
              "      <td>-0.009660</td>\n",
              "      <td>-0.034219</td>\n",
              "      <td>-0.004626</td>\n",
              "      <td>-0.051484</td>\n",
              "      <td>-0.049639</td>\n",
              "      <td>-0.016270</td>\n",
              "      <td>0.002805</td>\n",
              "      <td>0.022315</td>\n",
              "      <td>-0.005008</td>\n",
              "      <td>0.018632</td>\n",
              "      <td>0.104741</td>\n",
              "      <td>0.138456</td>\n",
              "      <td>0.136942</td>\n",
              "      <td>0.828024</td>\n",
              "    </tr>\n",
              "    <tr>\n",
              "      <th>Sexe</th>\n",
              "      <td>0.077886</td>\n",
              "      <td>-0.105846</td>\n",
              "      <td>-0.107365</td>\n",
              "      <td>0.063291</td>\n",
              "      <td>-0.230956</td>\n",
              "      <td>-0.009514</td>\n",
              "      <td>1.000000</td>\n",
              "      <td>-0.612301</td>\n",
              "      <td>0.456977</td>\n",
              "      <td>-0.637117</td>\n",
              "      <td>0.488440</td>\n",
              "      <td>-0.574004</td>\n",
              "      <td>0.398991</td>\n",
              "      <td>0.020242</td>\n",
              "      <td>0.166921</td>\n",
              "      <td>-0.126943</td>\n",
              "      <td>0.012612</td>\n",
              "      <td>0.065665</td>\n",
              "      <td>0.044757</td>\n",
              "      <td>0.037223</td>\n",
              "      <td>0.029114</td>\n",
              "      <td>-0.021682</td>\n",
              "    </tr>\n",
              "    <tr>\n",
              "      <th>Prenom_Phase_scl_H</th>\n",
              "      <td>-0.051893</td>\n",
              "      <td>0.079703</td>\n",
              "      <td>0.079204</td>\n",
              "      <td>-0.017271</td>\n",
              "      <td>0.110401</td>\n",
              "      <td>-0.038426</td>\n",
              "      <td>-0.612301</td>\n",
              "      <td>1.000000</td>\n",
              "      <td>-0.389806</td>\n",
              "      <td>0.993330</td>\n",
              "      <td>-0.420542</td>\n",
              "      <td>0.901530</td>\n",
              "      <td>-0.332404</td>\n",
              "      <td>-0.021209</td>\n",
              "      <td>-0.063078</td>\n",
              "      <td>0.130713</td>\n",
              "      <td>-0.002472</td>\n",
              "      <td>0.009908</td>\n",
              "      <td>-0.049829</td>\n",
              "      <td>-0.085536</td>\n",
              "      <td>-0.088112</td>\n",
              "      <td>-0.024958</td>\n",
              "    </tr>\n",
              "    <tr>\n",
              "      <th>Prenom_Phase_scl_F</th>\n",
              "      <td>0.035199</td>\n",
              "      <td>-0.062413</td>\n",
              "      <td>-0.063383</td>\n",
              "      <td>0.038505</td>\n",
              "      <td>-0.008996</td>\n",
              "      <td>-0.009660</td>\n",
              "      <td>0.456977</td>\n",
              "      <td>-0.389806</td>\n",
              "      <td>1.000000</td>\n",
              "      <td>-0.410616</td>\n",
              "      <td>0.994767</td>\n",
              "      <td>-0.350378</td>\n",
              "      <td>0.684473</td>\n",
              "      <td>0.075194</td>\n",
              "      <td>0.194565</td>\n",
              "      <td>-0.152678</td>\n",
              "      <td>-0.006273</td>\n",
              "      <td>0.083493</td>\n",
              "      <td>0.108938</td>\n",
              "      <td>0.091886</td>\n",
              "      <td>0.077209</td>\n",
              "      <td>-0.017291</td>\n",
              "    </tr>\n",
              "    <tr>\n",
              "      <th>Prenom_Phase_cl_H</th>\n",
              "      <td>-0.055548</td>\n",
              "      <td>0.083849</td>\n",
              "      <td>0.083580</td>\n",
              "      <td>-0.020398</td>\n",
              "      <td>0.120739</td>\n",
              "      <td>-0.034219</td>\n",
              "      <td>-0.637117</td>\n",
              "      <td>0.993330</td>\n",
              "      <td>-0.410616</td>\n",
              "      <td>1.000000</td>\n",
              "      <td>-0.441743</td>\n",
              "      <td>0.908595</td>\n",
              "      <td>-0.346639</td>\n",
              "      <td>-0.022687</td>\n",
              "      <td>-0.038708</td>\n",
              "      <td>0.139899</td>\n",
              "      <td>-0.003039</td>\n",
              "      <td>0.007006</td>\n",
              "      <td>-0.050566</td>\n",
              "      <td>-0.084594</td>\n",
              "      <td>-0.086946</td>\n",
              "      <td>-0.020956</td>\n",
              "    </tr>\n",
              "    <tr>\n",
              "      <th>Prenom_Phase_cl_F</th>\n",
              "      <td>0.036591</td>\n",
              "      <td>-0.065925</td>\n",
              "      <td>-0.066709</td>\n",
              "      <td>0.038302</td>\n",
              "      <td>-0.002572</td>\n",
              "      <td>-0.004626</td>\n",
              "      <td>0.488440</td>\n",
              "      <td>-0.420542</td>\n",
              "      <td>0.994767</td>\n",
              "      <td>-0.441743</td>\n",
              "      <td>1.000000</td>\n",
              "      <td>-0.380742</td>\n",
              "      <td>0.679479</td>\n",
              "      <td>0.071487</td>\n",
              "      <td>0.202101</td>\n",
              "      <td>-0.149092</td>\n",
              "      <td>-0.004604</td>\n",
              "      <td>0.077404</td>\n",
              "      <td>0.109267</td>\n",
              "      <td>0.098181</td>\n",
              "      <td>0.084936</td>\n",
              "      <td>-0.013778</td>\n",
              "    </tr>\n",
              "    <tr>\n",
              "      <th>Age_H</th>\n",
              "      <td>-0.039896</td>\n",
              "      <td>0.063969</td>\n",
              "      <td>0.062732</td>\n",
              "      <td>-0.002866</td>\n",
              "      <td>0.078810</td>\n",
              "      <td>-0.051484</td>\n",
              "      <td>-0.574004</td>\n",
              "      <td>0.901530</td>\n",
              "      <td>-0.350378</td>\n",
              "      <td>0.908595</td>\n",
              "      <td>-0.380742</td>\n",
              "      <td>1.000000</td>\n",
              "      <td>-0.278578</td>\n",
              "      <td>0.033995</td>\n",
              "      <td>0.045444</td>\n",
              "      <td>0.053283</td>\n",
              "      <td>-0.004788</td>\n",
              "      <td>0.043911</td>\n",
              "      <td>-0.016991</td>\n",
              "      <td>-0.065254</td>\n",
              "      <td>-0.074567</td>\n",
              "      <td>-0.036957</td>\n",
              "    </tr>\n",
              "    <tr>\n",
              "      <th>Age_F</th>\n",
              "      <td>0.032674</td>\n",
              "      <td>-0.052414</td>\n",
              "      <td>-0.054881</td>\n",
              "      <td>0.048742</td>\n",
              "      <td>-0.048330</td>\n",
              "      <td>-0.049639</td>\n",
              "      <td>0.398991</td>\n",
              "      <td>-0.332404</td>\n",
              "      <td>0.684473</td>\n",
              "      <td>-0.346639</td>\n",
              "      <td>0.679479</td>\n",
              "      <td>-0.278578</td>\n",
              "      <td>1.000000</td>\n",
              "      <td>0.141347</td>\n",
              "      <td>0.244087</td>\n",
              "      <td>-0.170831</td>\n",
              "      <td>-0.017282</td>\n",
              "      <td>0.151542</td>\n",
              "      <td>0.136931</td>\n",
              "      <td>0.069104</td>\n",
              "      <td>0.042112</td>\n",
              "      <td>-0.050236</td>\n",
              "    </tr>\n",
              "    <tr>\n",
              "      <th>Pays_sud</th>\n",
              "      <td>0.006999</td>\n",
              "      <td>-0.013892</td>\n",
              "      <td>-0.015005</td>\n",
              "      <td>0.011425</td>\n",
              "      <td>-0.014390</td>\n",
              "      <td>-0.016270</td>\n",
              "      <td>0.020242</td>\n",
              "      <td>-0.021209</td>\n",
              "      <td>0.075194</td>\n",
              "      <td>-0.022687</td>\n",
              "      <td>0.071487</td>\n",
              "      <td>0.033995</td>\n",
              "      <td>0.141347</td>\n",
              "      <td>1.000000</td>\n",
              "      <td>0.190527</td>\n",
              "      <td>-0.101292</td>\n",
              "      <td>-0.009741</td>\n",
              "      <td>0.037950</td>\n",
              "      <td>0.047316</td>\n",
              "      <td>0.035021</td>\n",
              "      <td>0.026439</td>\n",
              "      <td>-0.011319</td>\n",
              "    </tr>\n",
              "    <tr>\n",
              "      <th>Prenom_effectif</th>\n",
              "      <td>0.013695</td>\n",
              "      <td>-0.032601</td>\n",
              "      <td>-0.032869</td>\n",
              "      <td>0.014264</td>\n",
              "      <td>-0.012911</td>\n",
              "      <td>0.002805</td>\n",
              "      <td>0.166921</td>\n",
              "      <td>-0.063078</td>\n",
              "      <td>0.194565</td>\n",
              "      <td>-0.038708</td>\n",
              "      <td>0.202101</td>\n",
              "      <td>0.045444</td>\n",
              "      <td>0.244087</td>\n",
              "      <td>0.190527</td>\n",
              "      <td>1.000000</td>\n",
              "      <td>-0.227888</td>\n",
              "      <td>-0.004866</td>\n",
              "      <td>0.049389</td>\n",
              "      <td>0.070306</td>\n",
              "      <td>0.065045</td>\n",
              "      <td>0.056792</td>\n",
              "      <td>-0.000627</td>\n",
              "    </tr>\n",
              "    <tr>\n",
              "      <th>codif_RdB</th>\n",
              "      <td>-0.028809</td>\n",
              "      <td>0.028961</td>\n",
              "      <td>0.031072</td>\n",
              "      <td>-0.018492</td>\n",
              "      <td>0.094638</td>\n",
              "      <td>0.022315</td>\n",
              "      <td>-0.126943</td>\n",
              "      <td>0.130713</td>\n",
              "      <td>-0.152678</td>\n",
              "      <td>0.139899</td>\n",
              "      <td>-0.149092</td>\n",
              "      <td>0.053283</td>\n",
              "      <td>-0.170831</td>\n",
              "      <td>-0.101292</td>\n",
              "      <td>-0.227888</td>\n",
              "      <td>1.000000</td>\n",
              "      <td>0.017277</td>\n",
              "      <td>-0.075071</td>\n",
              "      <td>-0.086953</td>\n",
              "      <td>-0.063842</td>\n",
              "      <td>-0.046865</td>\n",
              "      <td>0.009409</td>\n",
              "    </tr>\n",
              "    <tr>\n",
              "      <th>Flag_PA</th>\n",
              "      <td>0.009030</td>\n",
              "      <td>-0.022574</td>\n",
              "      <td>-0.022690</td>\n",
              "      <td>0.010721</td>\n",
              "      <td>0.004710</td>\n",
              "      <td>-0.005008</td>\n",
              "      <td>0.012612</td>\n",
              "      <td>-0.002472</td>\n",
              "      <td>-0.006273</td>\n",
              "      <td>-0.003039</td>\n",
              "      <td>-0.004604</td>\n",
              "      <td>-0.004788</td>\n",
              "      <td>-0.017282</td>\n",
              "      <td>-0.009741</td>\n",
              "      <td>-0.004866</td>\n",
              "      <td>0.017277</td>\n",
              "      <td>1.000000</td>\n",
              "      <td>-0.232789</td>\n",
              "      <td>-0.338141</td>\n",
              "      <td>-0.042812</td>\n",
              "      <td>0.174551</td>\n",
              "      <td>-0.011254</td>\n",
              "    </tr>\n",
              "    <tr>\n",
              "      <th>Annee_1er_don</th>\n",
              "      <td>-0.020418</td>\n",
              "      <td>0.048771</td>\n",
              "      <td>0.049404</td>\n",
              "      <td>0.030494</td>\n",
              "      <td>-0.069465</td>\n",
              "      <td>0.018632</td>\n",
              "      <td>0.065665</td>\n",
              "      <td>0.009908</td>\n",
              "      <td>0.083493</td>\n",
              "      <td>0.007006</td>\n",
              "      <td>0.077404</td>\n",
              "      <td>0.043911</td>\n",
              "      <td>0.151542</td>\n",
              "      <td>0.037950</td>\n",
              "      <td>0.049389</td>\n",
              "      <td>-0.075071</td>\n",
              "      <td>-0.232789</td>\n",
              "      <td>1.000000</td>\n",
              "      <td>0.616598</td>\n",
              "      <td>0.213605</td>\n",
              "      <td>0.005296</td>\n",
              "      <td>0.027208</td>\n",
              "    </tr>\n",
              "    <tr>\n",
              "      <th>Cumul_dons</th>\n",
              "      <td>-0.025277</td>\n",
              "      <td>0.066740</td>\n",
              "      <td>0.069949</td>\n",
              "      <td>0.007701</td>\n",
              "      <td>-0.056605</td>\n",
              "      <td>0.104741</td>\n",
              "      <td>0.044757</td>\n",
              "      <td>-0.049829</td>\n",
              "      <td>0.108938</td>\n",
              "      <td>-0.050566</td>\n",
              "      <td>0.109267</td>\n",
              "      <td>-0.016991</td>\n",
              "      <td>0.136931</td>\n",
              "      <td>0.047316</td>\n",
              "      <td>0.070306</td>\n",
              "      <td>-0.086953</td>\n",
              "      <td>-0.338141</td>\n",
              "      <td>0.616598</td>\n",
              "      <td>1.000000</td>\n",
              "      <td>0.743168</td>\n",
              "      <td>0.550856</td>\n",
              "      <td>0.112602</td>\n",
              "    </tr>\n",
              "    <tr>\n",
              "      <th>Don_max</th>\n",
              "      <td>-0.016893</td>\n",
              "      <td>0.045941</td>\n",
              "      <td>0.050266</td>\n",
              "      <td>-0.009143</td>\n",
              "      <td>-0.017374</td>\n",
              "      <td>0.138456</td>\n",
              "      <td>0.037223</td>\n",
              "      <td>-0.085536</td>\n",
              "      <td>0.091886</td>\n",
              "      <td>-0.084594</td>\n",
              "      <td>0.098181</td>\n",
              "      <td>-0.065254</td>\n",
              "      <td>0.069104</td>\n",
              "      <td>0.035021</td>\n",
              "      <td>0.065045</td>\n",
              "      <td>-0.063842</td>\n",
              "      <td>-0.042812</td>\n",
              "      <td>0.213605</td>\n",
              "      <td>0.743168</td>\n",
              "      <td>1.000000</td>\n",
              "      <td>0.882783</td>\n",
              "      <td>0.140232</td>\n",
              "    </tr>\n",
              "    <tr>\n",
              "      <th>Don_moyen</th>\n",
              "      <td>-0.012301</td>\n",
              "      <td>0.032711</td>\n",
              "      <td>0.037016</td>\n",
              "      <td>-0.011594</td>\n",
              "      <td>-0.002363</td>\n",
              "      <td>0.136942</td>\n",
              "      <td>0.029114</td>\n",
              "      <td>-0.088112</td>\n",
              "      <td>0.077209</td>\n",
              "      <td>-0.086946</td>\n",
              "      <td>0.084936</td>\n",
              "      <td>-0.074567</td>\n",
              "      <td>0.042112</td>\n",
              "      <td>0.026439</td>\n",
              "      <td>0.056792</td>\n",
              "      <td>-0.046865</td>\n",
              "      <td>0.174551</td>\n",
              "      <td>0.005296</td>\n",
              "      <td>0.550856</td>\n",
              "      <td>0.882783</td>\n",
              "      <td>1.000000</td>\n",
              "      <td>0.135276</td>\n",
              "    </tr>\n",
              "    <tr>\n",
              "      <th>Vingtiles_ISF</th>\n",
              "      <td>-0.126506</td>\n",
              "      <td>0.129988</td>\n",
              "      <td>0.147336</td>\n",
              "      <td>-0.033270</td>\n",
              "      <td>0.077789</td>\n",
              "      <td>0.828024</td>\n",
              "      <td>-0.021682</td>\n",
              "      <td>-0.024958</td>\n",
              "      <td>-0.017291</td>\n",
              "      <td>-0.020956</td>\n",
              "      <td>-0.013778</td>\n",
              "      <td>-0.036957</td>\n",
              "      <td>-0.050236</td>\n",
              "      <td>-0.011319</td>\n",
              "      <td>-0.000627</td>\n",
              "      <td>0.009409</td>\n",
              "      <td>-0.011254</td>\n",
              "      <td>0.027208</td>\n",
              "      <td>0.112602</td>\n",
              "      <td>0.140232</td>\n",
              "      <td>0.135276</td>\n",
              "      <td>1.000000</td>\n",
              "    </tr>\n",
              "  </tbody>\n",
              "</table>\n",
              "</div>"
            ],
            "text/plain": [
              "                    TypeHabi  GeoFaz_Scl  GeoFaz_cl  Anciennete  \\\n",
              "TypeHabi            1.000000   -0.260988  -0.266120    0.050414   \n",
              "GeoFaz_Scl         -0.260988    1.000000   0.997084   -0.059682   \n",
              "GeoFaz_cl          -0.266120    0.997084   1.000000   -0.059178   \n",
              "Anciennete          0.050414   -0.059682  -0.059178    1.000000   \n",
              "Doublon_ligne      -0.160545    0.090778   0.096064   -0.049371   \n",
              "Revenus_iris       -0.099983   -0.007646   0.017440    0.004910   \n",
              "Sexe                0.077886   -0.105846  -0.107365    0.063291   \n",
              "Prenom_Phase_scl_H -0.051893    0.079703   0.079204   -0.017271   \n",
              "Prenom_Phase_scl_F  0.035199   -0.062413  -0.063383    0.038505   \n",
              "Prenom_Phase_cl_H  -0.055548    0.083849   0.083580   -0.020398   \n",
              "Prenom_Phase_cl_F   0.036591   -0.065925  -0.066709    0.038302   \n",
              "Age_H              -0.039896    0.063969   0.062732   -0.002866   \n",
              "Age_F               0.032674   -0.052414  -0.054881    0.048742   \n",
              "Pays_sud            0.006999   -0.013892  -0.015005    0.011425   \n",
              "Prenom_effectif     0.013695   -0.032601  -0.032869    0.014264   \n",
              "codif_RdB          -0.028809    0.028961   0.031072   -0.018492   \n",
              "Flag_PA             0.009030   -0.022574  -0.022690    0.010721   \n",
              "Annee_1er_don      -0.020418    0.048771   0.049404    0.030494   \n",
              "Cumul_dons         -0.025277    0.066740   0.069949    0.007701   \n",
              "Don_max            -0.016893    0.045941   0.050266   -0.009143   \n",
              "Don_moyen          -0.012301    0.032711   0.037016   -0.011594   \n",
              "Vingtiles_ISF      -0.126506    0.129988   0.147336   -0.033270   \n",
              "\n",
              "                    Doublon_ligne  Revenus_iris      Sexe  Prenom_Phase_scl_H  \\\n",
              "TypeHabi                -0.160545     -0.099983  0.077886           -0.051893   \n",
              "GeoFaz_Scl               0.090778     -0.007646 -0.105846            0.079703   \n",
              "GeoFaz_cl                0.096064      0.017440 -0.107365            0.079204   \n",
              "Anciennete              -0.049371      0.004910  0.063291           -0.017271   \n",
              "Doublon_ligne            1.000000      0.083338 -0.230956            0.110401   \n",
              "Revenus_iris             0.083338      1.000000 -0.009514           -0.038426   \n",
              "Sexe                    -0.230956     -0.009514  1.000000           -0.612301   \n",
              "Prenom_Phase_scl_H       0.110401     -0.038426 -0.612301            1.000000   \n",
              "Prenom_Phase_scl_F      -0.008996     -0.009660  0.456977           -0.389806   \n",
              "Prenom_Phase_cl_H        0.120739     -0.034219 -0.637117            0.993330   \n",
              "Prenom_Phase_cl_F       -0.002572     -0.004626  0.488440           -0.420542   \n",
              "Age_H                    0.078810     -0.051484 -0.574004            0.901530   \n",
              "Age_F                   -0.048330     -0.049639  0.398991           -0.332404   \n",
              "Pays_sud                -0.014390     -0.016270  0.020242           -0.021209   \n",
              "Prenom_effectif         -0.012911      0.002805  0.166921           -0.063078   \n",
              "codif_RdB                0.094638      0.022315 -0.126943            0.130713   \n",
              "Flag_PA                  0.004710     -0.005008  0.012612           -0.002472   \n",
              "Annee_1er_don           -0.069465      0.018632  0.065665            0.009908   \n",
              "Cumul_dons              -0.056605      0.104741  0.044757           -0.049829   \n",
              "Don_max                 -0.017374      0.138456  0.037223           -0.085536   \n",
              "Don_moyen               -0.002363      0.136942  0.029114           -0.088112   \n",
              "Vingtiles_ISF            0.077789      0.828024 -0.021682           -0.024958   \n",
              "\n",
              "                    Prenom_Phase_scl_F  Prenom_Phase_cl_H  Prenom_Phase_cl_F  \\\n",
              "TypeHabi                      0.035199          -0.055548           0.036591   \n",
              "GeoFaz_Scl                   -0.062413           0.083849          -0.065925   \n",
              "GeoFaz_cl                    -0.063383           0.083580          -0.066709   \n",
              "Anciennete                    0.038505          -0.020398           0.038302   \n",
              "Doublon_ligne                -0.008996           0.120739          -0.002572   \n",
              "Revenus_iris                 -0.009660          -0.034219          -0.004626   \n",
              "Sexe                          0.456977          -0.637117           0.488440   \n",
              "Prenom_Phase_scl_H           -0.389806           0.993330          -0.420542   \n",
              "Prenom_Phase_scl_F            1.000000          -0.410616           0.994767   \n",
              "Prenom_Phase_cl_H            -0.410616           1.000000          -0.441743   \n",
              "Prenom_Phase_cl_F             0.994767          -0.441743           1.000000   \n",
              "Age_H                        -0.350378           0.908595          -0.380742   \n",
              "Age_F                         0.684473          -0.346639           0.679479   \n",
              "Pays_sud                      0.075194          -0.022687           0.071487   \n",
              "Prenom_effectif               0.194565          -0.038708           0.202101   \n",
              "codif_RdB                    -0.152678           0.139899          -0.149092   \n",
              "Flag_PA                      -0.006273          -0.003039          -0.004604   \n",
              "Annee_1er_don                 0.083493           0.007006           0.077404   \n",
              "Cumul_dons                    0.108938          -0.050566           0.109267   \n",
              "Don_max                       0.091886          -0.084594           0.098181   \n",
              "Don_moyen                     0.077209          -0.086946           0.084936   \n",
              "Vingtiles_ISF                -0.017291          -0.020956          -0.013778   \n",
              "\n",
              "                       Age_H     Age_F  Pays_sud  Prenom_effectif  codif_RdB  \\\n",
              "TypeHabi           -0.039896  0.032674  0.006999         0.013695  -0.028809   \n",
              "GeoFaz_Scl          0.063969 -0.052414 -0.013892        -0.032601   0.028961   \n",
              "GeoFaz_cl           0.062732 -0.054881 -0.015005        -0.032869   0.031072   \n",
              "Anciennete         -0.002866  0.048742  0.011425         0.014264  -0.018492   \n",
              "Doublon_ligne       0.078810 -0.048330 -0.014390        -0.012911   0.094638   \n",
              "Revenus_iris       -0.051484 -0.049639 -0.016270         0.002805   0.022315   \n",
              "Sexe               -0.574004  0.398991  0.020242         0.166921  -0.126943   \n",
              "Prenom_Phase_scl_H  0.901530 -0.332404 -0.021209        -0.063078   0.130713   \n",
              "Prenom_Phase_scl_F -0.350378  0.684473  0.075194         0.194565  -0.152678   \n",
              "Prenom_Phase_cl_H   0.908595 -0.346639 -0.022687        -0.038708   0.139899   \n",
              "Prenom_Phase_cl_F  -0.380742  0.679479  0.071487         0.202101  -0.149092   \n",
              "Age_H               1.000000 -0.278578  0.033995         0.045444   0.053283   \n",
              "Age_F              -0.278578  1.000000  0.141347         0.244087  -0.170831   \n",
              "Pays_sud            0.033995  0.141347  1.000000         0.190527  -0.101292   \n",
              "Prenom_effectif     0.045444  0.244087  0.190527         1.000000  -0.227888   \n",
              "codif_RdB           0.053283 -0.170831 -0.101292        -0.227888   1.000000   \n",
              "Flag_PA            -0.004788 -0.017282 -0.009741        -0.004866   0.017277   \n",
              "Annee_1er_don       0.043911  0.151542  0.037950         0.049389  -0.075071   \n",
              "Cumul_dons         -0.016991  0.136931  0.047316         0.070306  -0.086953   \n",
              "Don_max            -0.065254  0.069104  0.035021         0.065045  -0.063842   \n",
              "Don_moyen          -0.074567  0.042112  0.026439         0.056792  -0.046865   \n",
              "Vingtiles_ISF      -0.036957 -0.050236 -0.011319        -0.000627   0.009409   \n",
              "\n",
              "                     Flag_PA  Annee_1er_don  Cumul_dons   Don_max  Don_moyen  \\\n",
              "TypeHabi            0.009030      -0.020418   -0.025277 -0.016893  -0.012301   \n",
              "GeoFaz_Scl         -0.022574       0.048771    0.066740  0.045941   0.032711   \n",
              "GeoFaz_cl          -0.022690       0.049404    0.069949  0.050266   0.037016   \n",
              "Anciennete          0.010721       0.030494    0.007701 -0.009143  -0.011594   \n",
              "Doublon_ligne       0.004710      -0.069465   -0.056605 -0.017374  -0.002363   \n",
              "Revenus_iris       -0.005008       0.018632    0.104741  0.138456   0.136942   \n",
              "Sexe                0.012612       0.065665    0.044757  0.037223   0.029114   \n",
              "Prenom_Phase_scl_H -0.002472       0.009908   -0.049829 -0.085536  -0.088112   \n",
              "Prenom_Phase_scl_F -0.006273       0.083493    0.108938  0.091886   0.077209   \n",
              "Prenom_Phase_cl_H  -0.003039       0.007006   -0.050566 -0.084594  -0.086946   \n",
              "Prenom_Phase_cl_F  -0.004604       0.077404    0.109267  0.098181   0.084936   \n",
              "Age_H              -0.004788       0.043911   -0.016991 -0.065254  -0.074567   \n",
              "Age_F              -0.017282       0.151542    0.136931  0.069104   0.042112   \n",
              "Pays_sud           -0.009741       0.037950    0.047316  0.035021   0.026439   \n",
              "Prenom_effectif    -0.004866       0.049389    0.070306  0.065045   0.056792   \n",
              "codif_RdB           0.017277      -0.075071   -0.086953 -0.063842  -0.046865   \n",
              "Flag_PA             1.000000      -0.232789   -0.338141 -0.042812   0.174551   \n",
              "Annee_1er_don      -0.232789       1.000000    0.616598  0.213605   0.005296   \n",
              "Cumul_dons         -0.338141       0.616598    1.000000  0.743168   0.550856   \n",
              "Don_max            -0.042812       0.213605    0.743168  1.000000   0.882783   \n",
              "Don_moyen           0.174551       0.005296    0.550856  0.882783   1.000000   \n",
              "Vingtiles_ISF      -0.011254       0.027208    0.112602  0.140232   0.135276   \n",
              "\n",
              "                    Vingtiles_ISF  \n",
              "TypeHabi                -0.126506  \n",
              "GeoFaz_Scl               0.129988  \n",
              "GeoFaz_cl                0.147336  \n",
              "Anciennete              -0.033270  \n",
              "Doublon_ligne            0.077789  \n",
              "Revenus_iris             0.828024  \n",
              "Sexe                    -0.021682  \n",
              "Prenom_Phase_scl_H      -0.024958  \n",
              "Prenom_Phase_scl_F      -0.017291  \n",
              "Prenom_Phase_cl_H       -0.020956  \n",
              "Prenom_Phase_cl_F       -0.013778  \n",
              "Age_H                   -0.036957  \n",
              "Age_F                   -0.050236  \n",
              "Pays_sud                -0.011319  \n",
              "Prenom_effectif         -0.000627  \n",
              "codif_RdB                0.009409  \n",
              "Flag_PA                 -0.011254  \n",
              "Annee_1er_don            0.027208  \n",
              "Cumul_dons               0.112602  \n",
              "Don_max                  0.140232  \n",
              "Don_moyen                0.135276  \n",
              "Vingtiles_ISF            1.000000  "
            ]
          },
          "metadata": {
            "tags": []
          },
          "execution_count": 157
        }
      ]
    },
    {
      "cell_type": "code",
      "metadata": {
        "id": "239a362c"
      },
      "source": [
        "# sélection des corrélations les plus importantes\n",
        "def variables_corr(tableau_corr, seuil):\n",
        "    variables_corr_pos=[] ; variables_corr_pos_val=[]\n",
        "    variables_corr_neg=[] ; variables_corr_neg_val=[]\n",
        "    for i in range(tableau_corr.shape[0]):  \n",
        "        for j in range(tableau_corr.shape[0]):\n",
        "            if i<j: #i!=j:\n",
        "                if (tableau_corr.iloc[i,j] > seuil):\n",
        "                    variables_corr_pos.append(colonnes[j+1])\n",
        "                    variables_corr_pos_val.append(round( tableau_corr.iloc[i,j], 2))\n",
        "                if (tableau_corr.iloc[i,j] <-seuil):\n",
        "                    variables_corr_neg.append(colonnes[j+1])\n",
        "                    variables_corr_neg_val.append(round( tableau_corr.iloc[i,j], 2))\n",
        "\n",
        "        if (len(variables_corr_pos) > 0) | (len(variables_corr_neg) >0) :\n",
        "            print(\"variable : \", colonnes[i+1])\n",
        "            if len(variables_corr_pos) > 0:    \n",
        "                print(\"corr pos\", variables_corr_pos)\n",
        "                print(\"corr pos\", variables_corr_pos_val)\n",
        "            if len(variables_corr_neg) >0:  \n",
        "                print(\"corr neg\", variables_corr_neg)\n",
        "                print(\"corr neg\", variables_corr_neg_val)\n",
        "            print(\"\")\n",
        "        variables_corr_pos = variables_corr_pos*0\n",
        "        variables_corr_neg = variables_corr_pos*0\n",
        "\n",
        "        variables_corr_pos_val = variables_corr_pos_val*0\n",
        "        variables_corr_neg_val = variables_corr_pos_val*0\n",
        "    "
      ],
      "id": "239a362c",
      "execution_count": null,
      "outputs": []
    },
    {
      "cell_type": "code",
      "metadata": {
        "id": "2a0cafd6",
        "outputId": "4eb0d50c-38b0-4232-89ca-5c9f271f724c"
      },
      "source": [
        "# corrélations les plus importantes \n",
        "variables_corr(tableau_corr, seuil=0.95)"
      ],
      "id": "2a0cafd6",
      "execution_count": null,
      "outputs": [
        {
          "output_type": "stream",
          "text": [
            "variable :  GeoFaz_Scl\n",
            "corr pos ['GeoFaz_cl']\n",
            "corr pos [1.0]\n",
            "\n",
            "variable :  Prenom_Phase_scl_H\n",
            "corr pos ['Prenom_Phase_cl_H']\n",
            "corr pos [0.99]\n",
            "\n",
            "variable :  Prenom_Phase_scl_F\n",
            "corr pos ['Prenom_Phase_cl_F']\n",
            "corr pos [0.99]\n",
            "\n"
          ],
          "name": "stdout"
        }
      ]
    },
    {
      "cell_type": "code",
      "metadata": {
        "id": "47ae69b6"
      },
      "source": [
        "# élimination des variables trop corrélées (choix manuel)\n",
        "def elimination_val_corr(data):\n",
        "    data = data.drop(columns=[\"GeoFaz_cl\",\"Prenom_Phase_cl_H\",\"Prenom_Phase_cl_F\"])\n",
        "    return data\n",
        "  "
      ],
      "id": "47ae69b6",
      "execution_count": null,
      "outputs": []
    },
    {
      "cell_type": "code",
      "metadata": {
        "id": "9a240be9",
        "outputId": "3af8953b-af03-4b3a-fe3f-d731316d99fe"
      },
      "source": [
        "# affichage de la corrélation entre deux variables\n",
        "plt.plot(data_sans_nan[\"Prenom_Phase_scl_H\"] ,data_sans_nan[\"Prenom_Phase_cl_H\"] , 'ro', linestyle=\"None\" )"
      ],
      "id": "9a240be9",
      "execution_count": null,
      "outputs": [
        {
          "output_type": "execute_result",
          "data": {
            "text/plain": [
              "[<matplotlib.lines.Line2D at 0x24587774460>]"
            ]
          },
          "metadata": {
            "tags": []
          },
          "execution_count": 161
        },
        {
          "output_type": "display_data",
          "data": {
            "image/png": "[encoded data removed]",
            "text/plain": [
              "<Figure size 432x288 with 1 Axes>"
            ]
          },
          "metadata": {
            "tags": [],
            "needs_background": "light"
          }
        }
      ]
    },
    {
      "cell_type": "code",
      "metadata": {
        "id": "7c516717",
        "outputId": "54eb7dc3-03e7-4015-d6bd-a17a59f138b2"
      },
      "source": [
        "data_sans_nan.iloc[:,2]"
      ],
      "id": "7c516717",
      "execution_count": null,
      "outputs": [
        {
          "output_type": "execute_result",
          "data": {
            "text/plain": [
              "0         75\n",
              "1         74\n",
              "2         32\n",
              "3         12\n",
              "4         12\n",
              "          ..\n",
              "466512    35\n",
              "466513    75\n",
              "466514    73\n",
              "466515    31\n",
              "466516    11\n",
              "Name: GeoFaz_Scl, Length: 465453, dtype: int32"
            ]
          },
          "metadata": {
            "tags": []
          },
          "execution_count": 162
        }
      ]
    },
    {
      "cell_type": "code",
      "metadata": {
        "id": "1cfbe9f8"
      },
      "source": [
        ""
      ],
      "id": "1cfbe9f8",
      "execution_count": null,
      "outputs": []
    },
    {
      "cell_type": "code",
      "metadata": {
        "id": "e2a863af"
      },
      "source": [
        "# Comme il n'y a pas de valeurs manquantes, le seul traitement qu'on fait c'est tranformer\n",
        "# le type de variable (les variables continues deviennent qualitatives)\n",
        "def data_processing(df):\n",
        "    \"\"\" \n",
        "    for i in range(0,len(df.columns)):    \n",
        "        df[df.columns[i]].fillna(100.0, inplace=True) #On remplace les données manquantes par 100\n",
        "    for i in range(0,len(df.columns)):\n",
        "        print(df[df.columns[i]].value_counts(dropna=False))    \n",
        "    \"\"\"\n",
        "    \n",
        "   #Transformation de toutes les variables en facteurs         \n",
        "    for i in range(0,len(df.columns)):\n",
        "        df[df.columns[i]] = df[df.columns[i]].astype('category')\n",
        "    return df.to_numpy() #.as_matrix()\n"
      ],
      "id": "e2a863af",
      "execution_count": null,
      "outputs": []
    },
    {
      "cell_type": "code",
      "metadata": {
        "id": "ecb96762"
      },
      "source": [
        "data = data_sans_nan"
      ],
      "id": "ecb96762",
      "execution_count": null,
      "outputs": []
    },
    {
      "cell_type": "code",
      "metadata": {
        "id": "b9056e96",
        "outputId": "680e3523-e25b-47ee-a0a6-8ac3a578f66b"
      },
      "source": [
        "# numéro correspondant à la dernière colonne\n",
        "nb_var = data.shape[1] - 1\n",
        "\n",
        "# encodage Onehot\n",
        "encodage = OneHotEncoder()  \n",
        "encodage.fit(data_processing(data.iloc[:,1:nb_var]))  \n",
        "\n",
        "#train_X = (encodage.transform(data_processing(data.iloc[:,1:nb_var])).toarray()).astype('float32')\n",
        "### train_Y = np.asanyarray(data.iloc[:,nb_var]).astype('float32')\n",
        "\n",
        "#input_size = train_X.shape[1] # ca sert pas ici\n",
        "#train_Y[train_Y == 2.] = 0. # ligne inutile"
      ],
      "id": "b9056e96",
      "execution_count": null,
      "outputs": [
        {
          "output_type": "execute_result",
          "data": {
            "text/plain": [
              "OneHotEncoder()"
            ]
          },
          "metadata": {
            "tags": []
          },
          "execution_count": 165
        }
      ]
    },
    {
      "cell_type": "code",
      "metadata": {
        "id": "5719c175"
      },
      "source": [
        ""
      ],
      "id": "5719c175",
      "execution_count": null,
      "outputs": []
    },
    {
      "cell_type": "code",
      "metadata": {
        "id": "1634f3d7"
      },
      "source": [
        "from sklearn.model_selection import train_test_split\n",
        "from sklearn.linear_model import LogisticRegression\n",
        "\n",
        "from sklearn.metrics import f1_score, confusion_matrix, classification_report\n",
        "from sklearn.model_selection import learning_curve, GridSearchCV, RandomizedSearchCV"
      ],
      "id": "1634f3d7",
      "execution_count": null,
      "outputs": []
    },
    {
      "cell_type": "code",
      "metadata": {
        "id": "7bb65f2b"
      },
      "source": [
        "\n",
        "def evaluation(model, X_train, y_train, X_test, y_test, scoring):\n",
        "\n",
        "    model.fit(X_train, y_train)\n",
        "    y_pred = model.predict(X_test)\n",
        "    \n",
        "    print(\"test set : \")\n",
        "    print(confusion_matrix(y_test, y_pred))\n",
        "    print(classification_report(y_test, y_pred)) \n",
        "    print(\"train set : \")\n",
        "    print(confusion_matrix(y_train, model.predict(X_train))) # ajouter \n",
        "    print(classification_report(y_train, model.predict(X_train) ))\n",
        "\n",
        "    N, train_score, val_score = learning_curve(model, X_train, y_train, cv = 4,shuffle=True, scoring = scoring, train_sizes = np.linspace(0.1, 1, 6) )\n",
        "    print(N)\n",
        "    print(train_score.mean(axis=1))\n",
        "    plt.figure(figsize = (10,6))\n",
        "    plt.plot(N, train_score.mean(axis=1), label =\"train_score\")\n",
        "    plt.plot(N, val_score.mean(axis=1), label =\"cross_validation_score\")\n",
        "\n",
        "    plt.legend()\n"
      ],
      "id": "7bb65f2b",
      "execution_count": null,
      "outputs": []
    },
    {
      "cell_type": "code",
      "metadata": {
        "id": "e46a9d46"
      },
      "source": [
        "####################################################################################\n",
        "#                                 PREMIERS TESTS\n",
        "####################################################################################\n"
      ],
      "id": "e46a9d46",
      "execution_count": null,
      "outputs": []
    },
    {
      "cell_type": "code",
      "metadata": {
        "id": "07e5da60"
      },
      "source": [
        "# base de données avec des variables corrélées et encodage OneHot\n",
        "train_set, test_set = train_test_split(data, test_size = 0.2, random_state=0 )\n",
        "\n",
        "train_X = (encodage.transform(data_processing(train_set.iloc[:,1:nb_var])).toarray()).astype('float32')\n",
        "train_Y = np.asanyarray(train_set.iloc[:,nb_var]).astype('float32')\n",
        "\n",
        "test_X = (encodage.transform(data_processing(test_set.iloc[:,1:nb_var])).toarray()).astype('float32')\n",
        "test_Y = np.asanyarray(test_set.iloc[:,nb_var]).astype('float32')\n"
      ],
      "id": "07e5da60",
      "execution_count": null,
      "outputs": []
    },
    {
      "cell_type": "code",
      "metadata": {
        "id": "a6539fea",
        "outputId": "037b0c87-201a-406c-cec4-c9b599e702a7"
      },
      "source": [
        "train_Y.shape"
      ],
      "id": "a6539fea",
      "execution_count": null,
      "outputs": [
        {
          "output_type": "execute_result",
          "data": {
            "text/plain": [
              "(372362,)"
            ]
          },
          "metadata": {
            "tags": []
          },
          "execution_count": 173
        }
      ]
    },
    {
      "cell_type": "code",
      "metadata": {
        "scrolled": false,
        "id": "f9dc635a",
        "outputId": "507907f8-56db-4988-9bf3-fc773c1ca1f2"
      },
      "source": [
        "model_17_cw = LogisticRegression(random_state =0, max_iter= 10000, class_weight=\"balanced\")\n",
        "evaluation(model_17_cw, train_X, train_Y, test_X, test_Y, scoring=\"recall\" )"
      ],
      "id": "f9dc635a",
      "execution_count": null,
      "outputs": [
        {
          "output_type": "stream",
          "text": [
            "test set : \n",
            "[[  418    80]\n",
            " [10015 82578]]\n",
            "              precision    recall  f1-score   support\n",
            "\n",
            "         1.0       0.04      0.84      0.08       498\n",
            "         2.0       1.00      0.89      0.94     92593\n",
            "\n",
            "    accuracy                           0.89     93091\n",
            "   macro avg       0.52      0.87      0.51     93091\n",
            "weighted avg       0.99      0.89      0.94     93091\n",
            "\n",
            "train set : \n",
            "[[  1821    301]\n",
            " [ 39899 330341]]\n",
            "              precision    recall  f1-score   support\n",
            "\n",
            "         1.0       0.04      0.86      0.08      2122\n",
            "         2.0       1.00      0.89      0.94    370240\n",
            "\n",
            "    accuracy                           0.89    372362\n",
            "   macro avg       0.52      0.88      0.51    372362\n",
            "weighted avg       0.99      0.89      0.94    372362\n",
            "\n",
            "[ 27927  78195 128464 178733 229002 279271]\n",
            "[0.95757194 0.89784977 0.87116106 0.86675232 0.86622935 0.86302367]\n"
          ],
          "name": "stdout"
        },
        {
          "output_type": "display_data",
          "data": {
            "image/png": "[encoded data removed]",
            "text/plain": [
              "<Figure size 720x432 with 1 Axes>"
            ]
          },
          "metadata": {
            "tags": [],
            "needs_background": "light"
          }
        }
      ]
    },
    {
      "cell_type": "code",
      "metadata": {
        "id": "1be3314f"
      },
      "source": [
        ""
      ],
      "id": "1be3314f",
      "execution_count": null,
      "outputs": []
    },
    {
      "cell_type": "code",
      "metadata": {
        "id": "0683ea20"
      },
      "source": [
        "# base de données avec des variables corrélées et sans encodage OneHot\n",
        "\n",
        "train_set, test_set = train_test_split(data, test_size = 0.2, random_state=0 )\n",
        "\n",
        "train_X_s = (train_set.iloc[:,1:nb_var]).to_numpy()\n",
        "train_Y_s = np.asanyarray(train_set.iloc[:,nb_var])\n",
        "\n",
        "test_X_s = (test_set.iloc[:,1:nb_var]).to_numpy()\n",
        "test_Y_s = np.asanyarray(test_set.iloc[:,nb_var])"
      ],
      "id": "0683ea20",
      "execution_count": null,
      "outputs": []
    },
    {
      "cell_type": "code",
      "metadata": {
        "id": "f58b09f5",
        "outputId": "10884b4b-32e3-43b3-c536-f59a32c78c55"
      },
      "source": [
        "model_17 = LogisticRegression(random_state =0, max_iter= 10000, class_weight=\"balanced\" )\n",
        "evaluation(model_17, train_X_s, train_Y_s, test_X_s, test_Y_s, scoring = \"recall\")"
      ],
      "id": "f58b09f5",
      "execution_count": null,
      "outputs": [
        {
          "output_type": "stream",
          "text": [
            "test set : \n",
            "[[  429    69]\n",
            " [14405 78188]]\n",
            "              precision    recall  f1-score   support\n",
            "\n",
            "           1       0.03      0.86      0.06       498\n",
            "           2       1.00      0.84      0.92     92593\n",
            "\n",
            "    accuracy                           0.84     93091\n",
            "   macro avg       0.51      0.85      0.49     93091\n",
            "weighted avg       0.99      0.84      0.91     93091\n",
            "\n",
            "train set : \n",
            "[[  1868    254]\n",
            " [ 57674 312566]]\n",
            "              precision    recall  f1-score   support\n",
            "\n",
            "           1       0.03      0.88      0.06      2122\n",
            "           2       1.00      0.84      0.92    370240\n",
            "\n",
            "    accuracy                           0.84    372362\n",
            "   macro avg       0.52      0.86      0.49    372362\n",
            "weighted avg       0.99      0.84      0.91    372362\n",
            "\n",
            "[ 27927  78195 128464 178733 229002 279271]\n",
            "[0.87630107 0.87258921 0.87565908 0.8768682  0.87938358 0.87826013]\n"
          ],
          "name": "stdout"
        },
        {
          "output_type": "display_data",
          "data": {
            "image/png": "[encoded data removed]",
            "text/plain": [
              "<Figure size 720x432 with 1 Axes>"
            ]
          },
          "metadata": {
            "tags": [],
            "needs_background": "light"
          }
        }
      ]
    },
    {
      "cell_type": "code",
      "metadata": {
        "id": "fd162c1e"
      },
      "source": [
        "####################################################################################\n",
        "#                                FIN PREMIERS TESTS\n",
        "####################################################################################"
      ],
      "id": "fd162c1e",
      "execution_count": null,
      "outputs": []
    },
    {
      "cell_type": "code",
      "metadata": {
        "id": "178704f4"
      },
      "source": [
        "#####################################################################################\n",
        "#                                  PARAMETRAGE\n",
        "#####################################################################################"
      ],
      "id": "178704f4",
      "execution_count": null,
      "outputs": []
    },
    {
      "cell_type": "code",
      "metadata": {
        "id": "4ad30dc1"
      },
      "source": [
        "# PARAMETRAGE\n",
        "# base de données avec des variables corrélées et sans encodage OneHot\n",
        "\n",
        "train_set, test_set = train_test_split(data, test_size = 0.2, random_state=0 )\n",
        "\n",
        "train_X_s = (train_set.iloc[:,1:nb_var]).to_numpy()\n",
        "train_Y_s = np.asanyarray(train_set.iloc[:,nb_var])\n",
        "\n",
        "test_X_s = (test_set.iloc[:,1:nb_var]).to_numpy()\n",
        "test_Y_s = np.asanyarray(test_set.iloc[:,nb_var])"
      ],
      "id": "4ad30dc1",
      "execution_count": null,
      "outputs": []
    },
    {
      "cell_type": "code",
      "metadata": {
        "id": "4343fb94"
      },
      "source": [
        "model_reg_logistic = LogisticRegression(random_state =0, max_iter= 10000, class_weight=\"balanced\" )\n",
        "\n",
        "param = {'C':[0.01,0.05,0.1,0.15,1,10,50], 'solver': ['liblinear','newton-cg', 'lbfgs']} #'penalty':['l2', 'none']\n",
        "\n",
        "grid_reg_logistic = GridSearchCV(model_reg_logistic, param_grid = param, cv=5, scoring ='recall' )\n",
        "resultat_reg_logistic = grid_reg_logistic.fit(train_X_s, train_Y_s)\n",
        "resultat_reg_logistic.best_params_"
      ],
      "id": "4343fb94",
      "execution_count": null,
      "outputs": []
    },
    {
      "cell_type": "code",
      "metadata": {
        "id": "a0f2f297"
      },
      "source": [
        "model_reg_logistic = LogisticRegression(random_state =0,solver= \"liblinear\", max_iter= 10000, class_weight=\"balanced\" )\n",
        "\n",
        "param = {'C':list(np.linspace(0.01,1,100,endpoint=False )) } #'penalty':['l2', 'none']\n",
        "\n",
        "grid_reg_logistic = GridSearchCV(model_reg_logistic, param_grid = param, cv=5, scoring ='recall' )\n",
        "resultat_reg_logistic = grid_reg_logistic.fit(train_X_s, train_Y_s)\n",
        "resultat_reg_logistic.best_params_"
      ],
      "id": "a0f2f297",
      "execution_count": null,
      "outputs": []
    },
    {
      "cell_type": "code",
      "metadata": {
        "id": "7bb9f841",
        "outputId": "f4d7cae6-0c28-4479-8941-3d089fb48e2d"
      },
      "source": [
        "final_model_reg_logistic = LogisticRegression(random_state = 0, max_iter = 10000, class_weight  = \"balanced\", \n",
        "                                             C=0.1486, solver=\"liblinear\")\n",
        "evaluation(final_model_reg_logistic, train_X_s, train_Y_s, test_X_s, test_Y_s, scoring = \"recall\") "
      ],
      "id": "7bb9f841",
      "execution_count": null,
      "outputs": [
        {
          "output_type": "stream",
          "text": [
            "test set : \n",
            "[[  430    68]\n",
            " [14450 78143]]\n",
            "              precision    recall  f1-score   support\n",
            "\n",
            "           1       0.03      0.86      0.06       498\n",
            "           2       1.00      0.84      0.92     92593\n",
            "\n",
            "    accuracy                           0.84     93091\n",
            "   macro avg       0.51      0.85      0.49     93091\n",
            "weighted avg       0.99      0.84      0.91     93091\n",
            "\n",
            "train set : \n",
            "[[  1871    251]\n",
            " [ 57921 312319]]\n",
            "              precision    recall  f1-score   support\n",
            "\n",
            "           1       0.03      0.88      0.06      2122\n",
            "           2       1.00      0.84      0.91    370240\n",
            "\n",
            "    accuracy                           0.84    372362\n",
            "   macro avg       0.52      0.86      0.49    372362\n",
            "weighted avg       0.99      0.84      0.91    372362\n",
            "\n",
            "[ 27927  78195 128464 178733 229002 279271]\n",
            "[0.87939767 0.88559828 0.87813184 0.87835069 0.87854373 0.87951711]\n"
          ],
          "name": "stdout"
        },
        {
          "output_type": "display_data",
          "data": {
            "image/png": "[encoded data removed]",
            "text/plain": [
              "<Figure size 720x432 with 1 Axes>"
            ]
          },
          "metadata": {
            "tags": [],
            "needs_background": "light"
          }
        }
      ]
    },
    {
      "cell_type": "code",
      "metadata": {
        "id": "1e7819cd"
      },
      "source": [
        ""
      ],
      "id": "1e7819cd",
      "execution_count": null,
      "outputs": []
    },
    {
      "cell_type": "code",
      "metadata": {
        "id": "798032ac"
      },
      "source": [
        ""
      ],
      "id": "798032ac",
      "execution_count": null,
      "outputs": []
    },
    {
      "cell_type": "code",
      "metadata": {
        "id": "e304fd41"
      },
      "source": [
        "#####################################################################################\n",
        "####################################################################################"
      ],
      "id": "e304fd41",
      "execution_count": null,
      "outputs": []
    },
    {
      "cell_type": "code",
      "metadata": {
        "id": "2b90ca16"
      },
      "source": [
        ""
      ],
      "id": "2b90ca16",
      "execution_count": null,
      "outputs": []
    },
    {
      "cell_type": "code",
      "metadata": {
        "id": "1d2bc66a"
      },
      "source": [
        "# PARAMETRAGE\n",
        "# base de données sans variables corrélées et sans encodage Onehot\n",
        "\n",
        "data_non_corr = elimination_val_corr(data)\n",
        "nb_var = data_non_corr.shape[1] - 1\n",
        "\n",
        "train_set, test_set = train_test_split(data_non_corr, test_size = 0.2, random_state=0 )\n",
        "\n",
        "train_X_s = (train_set.iloc[:,1:nb_var]).to_numpy()\n",
        "train_Y_s = np.asanyarray(train_set.iloc[:,nb_var])\n",
        "\n",
        "test_X_s = (test_set.iloc[:,1:nb_var]).to_numpy()\n",
        "test_Y_s = np.asanyarray(test_set.iloc[:,nb_var])\n",
        "\n"
      ],
      "id": "1d2bc66a",
      "execution_count": null,
      "outputs": []
    },
    {
      "cell_type": "code",
      "metadata": {
        "id": "50a268f4"
      },
      "source": [
        ""
      ],
      "id": "50a268f4",
      "execution_count": null,
      "outputs": []
    },
    {
      "cell_type": "code",
      "metadata": {
        "id": "ba5bef99"
      },
      "source": [
        "# Premier paramétrage\n",
        "model_reg_logistic = LogisticRegression(random_state =0, max_iter= 10000, class_weight=\"balanced\" )\n",
        "\n",
        "param = {'C':[0.01,0.05,0.1,0.15,1,10,50], 'solver': ['liblinear','newton-cg', 'lbfgs']} #'penalty':['l2', 'none']\n",
        "\n",
        "grid_reg_logistic = GridSearchCV(model_reg_logistic, param_grid = param, cv=5, scoring ='recall' )\n",
        "resultat_reg_logistic = grid_reg_logistic.fit(train_X_s, train_Y_s)\n",
        "resultat_reg_logistic.best_params_"
      ],
      "id": "ba5bef99",
      "execution_count": null,
      "outputs": []
    },
    {
      "cell_type": "code",
      "metadata": {
        "id": "9ba0b816",
        "outputId": "a48d434e-5d0c-448a-846e-808ba2223162"
      },
      "source": [
        "model_17 = LogisticRegression(solver= \"liblinear\",C = 0.01, random_state =0, max_iter= 10000, class_weight=\"balanced\" )\n",
        "evaluation(model_17, train_X_s, train_Y_s, test_X_s, test_Y_s, scoring = \"recall\")"
      ],
      "id": "9ba0b816",
      "execution_count": null,
      "outputs": [
        {
          "output_type": "stream",
          "text": [
            "test set : \n",
            "[[  431    67]\n",
            " [14897 77696]]\n",
            "              precision    recall  f1-score   support\n",
            "\n",
            "           1       0.03      0.87      0.05       498\n",
            "           2       1.00      0.84      0.91     92593\n",
            "\n",
            "    accuracy                           0.84     93091\n",
            "   macro avg       0.51      0.85      0.48     93091\n",
            "weighted avg       0.99      0.84      0.91     93091\n",
            "\n",
            "train set : \n",
            "[[  1869    253]\n",
            " [ 59540 310700]]\n",
            "              precision    recall  f1-score   support\n",
            "\n",
            "           1       0.03      0.88      0.06      2122\n",
            "           2       1.00      0.84      0.91    370240\n",
            "\n",
            "    accuracy                           0.84    372362\n",
            "   macro avg       0.51      0.86      0.49    372362\n",
            "weighted avg       0.99      0.84      0.91    372362\n",
            "\n",
            "[ 27927  78195 128464 178733 229002 279271]\n",
            "[0.90619736 0.89082991 0.88691449 0.8840173  0.88304526 0.88155955]\n"
          ],
          "name": "stdout"
        },
        {
          "output_type": "display_data",
          "data": {
            "image/png": "[encoded data removed]",
            "text/plain": [
              "<Figure size 720x432 with 1 Axes>"
            ]
          },
          "metadata": {
            "tags": [],
            "needs_background": "light"
          }
        }
      ]
    },
    {
      "cell_type": "code",
      "metadata": {
        "id": "efd179d6"
      },
      "source": [
        "# Second paramétrage\n",
        "model_reg_logistic = LogisticRegression(penalty='none', random_state =0, max_iter= 10000, class_weight=\"balanced\" )\n",
        "\n",
        "param = { 'solver': ['newton-cg', 'lbfgs']} #'penalty':['l2', 'none']\n",
        "\n",
        "grid_reg_logistic = GridSearchCV(model_reg_logistic, param_grid = param, cv=5, scoring ='recall' )\n",
        "resultat_reg_logistic = grid_reg_logistic.fit(train_X_s, train_Y_s)\n",
        "resultat_reg_logistic.best_params_"
      ],
      "id": "efd179d6",
      "execution_count": null,
      "outputs": []
    },
    {
      "cell_type": "code",
      "metadata": {
        "id": "680f66e5",
        "outputId": "19d97528-0e69-4898-b6a5-779d202bc403"
      },
      "source": [
        "model_17 = LogisticRegression(solver= \"newton-cg\", penalty =\"none\", random_state =0, max_iter= 10000, class_weight=\"balanced\" )\n",
        "evaluation(model_17, train_X_s, train_Y_s, test_X_s, test_Y_s, scoring = \"recall\")"
      ],
      "id": "680f66e5",
      "execution_count": null,
      "outputs": [
        {
          "output_type": "stream",
          "text": [
            "C:\\Users\\Christian\\anaconda3\\lib\\site-packages\\scipy\\optimize\\linesearch.py:327: LineSearchWarning: The line search algorithm did not converge\n",
            "  warn('The line search algorithm did not converge', LineSearchWarning)\n",
            "C:\\Users\\Christian\\anaconda3\\lib\\site-packages\\sklearn\\utils\\optimize.py:195: UserWarning: Line Search failed\n",
            "  warnings.warn('Line Search failed')\n"
          ],
          "name": "stderr"
        },
        {
          "output_type": "stream",
          "text": [
            "test set : \n",
            "[[  429    69]\n",
            " [14441 78152]]\n",
            "              precision    recall  f1-score   support\n",
            "\n",
            "           1       0.03      0.86      0.06       498\n",
            "           2       1.00      0.84      0.92     92593\n",
            "\n",
            "    accuracy                           0.84     93091\n",
            "   macro avg       0.51      0.85      0.49     93091\n",
            "weighted avg       0.99      0.84      0.91     93091\n",
            "\n",
            "train set : \n",
            "[[  1866    256]\n",
            " [ 57732 312508]]\n",
            "              precision    recall  f1-score   support\n",
            "\n",
            "           1       0.03      0.88      0.06      2122\n",
            "           2       1.00      0.84      0.92    370240\n",
            "\n",
            "    accuracy                           0.84    372362\n",
            "   macro avg       0.52      0.86      0.49    372362\n",
            "weighted avg       0.99      0.84      0.91    372362\n",
            "\n"
          ],
          "name": "stdout"
        },
        {
          "output_type": "stream",
          "text": [
            "C:\\Users\\Christian\\anaconda3\\lib\\site-packages\\scipy\\optimize\\linesearch.py:437: LineSearchWarning: Rounding errors prevent the line search from converging\n",
            "  warn(msg, LineSearchWarning)\n",
            "C:\\Users\\Christian\\anaconda3\\lib\\site-packages\\scipy\\optimize\\linesearch.py:327: LineSearchWarning: The line search algorithm did not converge\n",
            "  warn('The line search algorithm did not converge', LineSearchWarning)\n",
            "C:\\Users\\Christian\\anaconda3\\lib\\site-packages\\sklearn\\utils\\optimize.py:195: UserWarning: Line Search failed\n",
            "  warnings.warn('Line Search failed')\n"
          ],
          "name": "stderr"
        },
        {
          "output_type": "stream",
          "text": [
            "[ 27927  78195 128464 178733 229002 279271]\n",
            "[0.8968944  0.88028801 0.87746108 0.87722526 0.87648519 0.8781028 ]\n"
          ],
          "name": "stdout"
        },
        {
          "output_type": "display_data",
          "data": {
            "image/png": "[encoded data removed]",
            "text/plain": [
              "<Figure size 720x432 with 1 Axes>"
            ]
          },
          "metadata": {
            "tags": [],
            "needs_background": "light"
          }
        }
      ]
    },
    {
      "cell_type": "code",
      "metadata": {
        "id": "d0405f6e"
      },
      "source": [
        "###########################################################\n",
        "#\n",
        "#   SANS LES VARIABLES DONS\n",
        "#\n",
        "###########################################################"
      ],
      "id": "d0405f6e",
      "execution_count": null,
      "outputs": []
    },
    {
      "cell_type": "code",
      "metadata": {
        "id": "66909b69"
      },
      "source": [
        ""
      ],
      "id": "66909b69",
      "execution_count": null,
      "outputs": []
    },
    {
      "cell_type": "code",
      "metadata": {
        "id": "4b17a165"
      },
      "source": [
        ""
      ],
      "id": "4b17a165",
      "execution_count": null,
      "outputs": []
    },
    {
      "cell_type": "code",
      "metadata": {
        "id": "ead167f7"
      },
      "source": [
        ""
      ],
      "id": "ead167f7",
      "execution_count": null,
      "outputs": []
    },
    {
      "cell_type": "code",
      "metadata": {
        "id": "ddef9dcf"
      },
      "source": [
        ""
      ],
      "id": "ddef9dcf",
      "execution_count": null,
      "outputs": []
    },
    {
      "cell_type": "code",
      "metadata": {
        "id": "5f680dab"
      },
      "source": [
        ""
      ],
      "id": "5f680dab",
      "execution_count": null,
      "outputs": []
    },
    {
      "cell_type": "code",
      "metadata": {
        "id": "5d4494ad"
      },
      "source": [
        "#############################################################################################\n",
        "#\n",
        "#                                 DATA AUGMENTATION\n",
        "#\n",
        "#############################################################################################"
      ],
      "id": "5d4494ad",
      "execution_count": null,
      "outputs": []
    },
    {
      "cell_type": "code",
      "metadata": {
        "id": "8c4f9081"
      },
      "source": [
        "# PARAMETRAGE\n",
        "# base de données avec des variables corrélées et sans encodage OneHot\n",
        "nb_var = data.shape[1] - 1\n",
        "train_set, test_set = train_test_split(data, test_size = 0.2, random_state=0)\n",
        "\n",
        "train_X_s = (train_set.iloc[:,1:nb_var]).to_numpy() # sans prendre en compte les identifiants\n",
        "train_Y_s = np.asanyarray(train_set.iloc[:,nb_var])\n",
        "\n",
        "test_X_s = (test_set.iloc[:,1:nb_var]).to_numpy()\n",
        "test_Y_s = np.asanyarray(test_set.iloc[:,nb_var])"
      ],
      "id": "8c4f9081",
      "execution_count": null,
      "outputs": []
    },
    {
      "cell_type": "code",
      "metadata": {
        "id": "cfb486c1"
      },
      "source": [
        "import imblearn\n",
        "from imblearn.combine import SMOTETomek\n",
        "from imblearn.under_sampling import TomekLinks\n",
        "from imblearn.over_sampling import SMOTE"
      ],
      "id": "cfb486c1",
      "execution_count": null,
      "outputs": []
    },
    {
      "cell_type": "code",
      "metadata": {
        "id": "1589d352"
      },
      "source": [
        "# resample2 = SMOTETomek(tomek=TomekLinks(sampling_strategy='majority')) \n",
        "#!pip install imblearn\n",
        "#tl = TomekLinks(sampling_strategy='majority')\n",
        "#X_resampled, y_resampled = tl.fit_resample(train_X_s[:,:22] , train_Y_s ) "
      ],
      "id": "1589d352",
      "execution_count": null,
      "outputs": []
    },
    {
      "cell_type": "code",
      "metadata": {
        "id": "add367b6"
      },
      "source": [
        "# augmentation des données\n",
        "tl = SMOTE()\n",
        "X_resampled, y_resampled = tl.fit_resample(train_X_s[:,:22] , train_Y_s ) \n"
      ],
      "id": "add367b6",
      "execution_count": null,
      "outputs": []
    },
    {
      "cell_type": "code",
      "metadata": {
        "id": "fe427b04",
        "outputId": "bc2a992a-0283-47bd-c8d6-6d5ed8c91e46"
      },
      "source": [
        "print(np.unique(y_resampled, return_counts=True) )\n",
        "np.unique(train_Y_s, return_counts = True)\n"
      ],
      "id": "fe427b04",
      "execution_count": null,
      "outputs": [
        {
          "output_type": "stream",
          "text": [
            "(array([1, 2]), array([370240, 370240], dtype=int64))\n"
          ],
          "name": "stdout"
        },
        {
          "output_type": "execute_result",
          "data": {
            "text/plain": [
              "(array([1, 2]), array([  2122, 370240], dtype=int64))"
            ]
          },
          "metadata": {
            "tags": []
          },
          "execution_count": 185
        }
      ]
    },
    {
      "cell_type": "code",
      "metadata": {
        "id": "78201e3b",
        "outputId": "f296077e-ade8-49b0-db27-9046ef1f1163"
      },
      "source": [
        "model_reg_logistic = LogisticRegression(random_state =0, max_iter= 10000 )\n",
        "\n",
        "param = {'solver': ['newton-cg','lbfgs', 'saga'],\n",
        "         'penalty':[\"none\"] }\n",
        "\n",
        "grid_reg_logistic = GridSearchCV(model_reg_logistic, param_grid = param, cv=5, scoring ='f1' )\n",
        "resultat_reg_logistic = grid_reg_logistic.fit(X_resampled, y_resampled)\n",
        "resultat_reg_logistic.best_params_"
      ],
      "id": "78201e3b",
      "execution_count": null,
      "outputs": [
        {
          "output_type": "execute_result",
          "data": {
            "text/plain": [
              "{'penalty': 'none', 'solver': 'lbfgs'}"
            ]
          },
          "metadata": {
            "tags": []
          },
          "execution_count": 120
        }
      ]
    },
    {
      "cell_type": "code",
      "metadata": {
        "id": "4e5962de",
        "outputId": "e3b1ffd5-46ee-4522-985c-d858f2f2be11"
      },
      "source": [
        "model_17 = LogisticRegression(solver= \"lbfgs\",penalty=\"none\", random_state =0, max_iter= 10000 )\n",
        "evaluation(model_17, X_resampled, y_resampled, test_X_s, test_Y_s, scoring = \"f1\")"
      ],
      "id": "4e5962de",
      "execution_count": null,
      "outputs": [
        {
          "output_type": "stream",
          "text": [
            "test set : \n",
            "[[  408    90]\n",
            " [13280 79313]]\n",
            "              precision    recall  f1-score   support\n",
            "\n",
            "           1       0.03      0.82      0.06       498\n",
            "           2       1.00      0.86      0.92     92593\n",
            "\n",
            "    accuracy                           0.86     93091\n",
            "   macro avg       0.51      0.84      0.49     93091\n",
            "weighted avg       0.99      0.86      0.92     93091\n",
            "\n",
            "train set : \n",
            "[[331218  39022]\n",
            " [ 52598 317642]]\n",
            "              precision    recall  f1-score   support\n",
            "\n",
            "           1       0.86      0.89      0.88    370240\n",
            "           2       0.89      0.86      0.87    370240\n",
            "\n",
            "    accuracy                           0.88    740480\n",
            "   macro avg       0.88      0.88      0.88    740480\n",
            "weighted avg       0.88      0.88      0.88    740480\n",
            "\n",
            "[ 55536 155500 255465 355430 455395 555360]\n",
            "[0.87803561 0.87829687 0.87840553 0.87866603 0.87879788 0.87850278]\n"
          ],
          "name": "stdout"
        },
        {
          "output_type": "display_data",
          "data": {
            "image/png": "[encoded data removed]",
            "text/plain": [
              "<Figure size 720x432 with 1 Axes>"
            ]
          },
          "metadata": {
            "tags": [],
            "needs_background": "light"
          }
        }
      ]
    },
    {
      "cell_type": "code",
      "metadata": {
        "id": "38643c3c",
        "outputId": "9a8bee92-6dc4-46ab-8873-9a932825560b"
      },
      "source": [
        "model_reg_logistic = LogisticRegression(random_state =0, max_iter= 10000 )\n",
        "\n",
        "param = {'solver': [\"liblinear\"],\n",
        "         'C': [0.00001, 0.0001,0.001,0.01, 0.1, 1 ] }\n",
        "\n",
        "grid_reg_logistic = GridSearchCV(model_reg_logistic, param_grid = param, cv=5, scoring ='f1' )\n",
        "resultat_reg_logistic = grid_reg_logistic.fit(X_resampled, y_resampled)\n",
        "resultat_reg_logistic.best_params_"
      ],
      "id": "38643c3c",
      "execution_count": null,
      "outputs": [
        {
          "output_type": "execute_result",
          "data": {
            "text/plain": [
              "{'C': 0.001, 'solver': 'liblinear'}"
            ]
          },
          "metadata": {
            "tags": []
          },
          "execution_count": 122
        }
      ]
    },
    {
      "cell_type": "code",
      "metadata": {
        "id": "603e467b",
        "outputId": "a77e6834-b399-45cb-f859-90c509292f3c"
      },
      "source": [
        "model_reg_logistic = LogisticRegression(random_state =0, max_iter= 10000 )\n",
        "\n",
        "param = {'solver': [\"liblinear\"],\n",
        "         'C': [0.00095, 0.001,0.0015,0.0020 ] }\n",
        "\n",
        "grid_reg_logistic = GridSearchCV(model_reg_logistic, param_grid = param, cv=5, scoring ='f1' )\n",
        "resultat_reg_logistic = grid_reg_logistic.fit(X_resampled, y_resampled)\n",
        "resultat_reg_logistic.best_params_"
      ],
      "id": "603e467b",
      "execution_count": null,
      "outputs": [
        {
          "output_type": "execute_result",
          "data": {
            "text/plain": [
              "{'C': 0.00095, 'solver': 'liblinear'}"
            ]
          },
          "metadata": {
            "tags": []
          },
          "execution_count": 123
        }
      ]
    },
    {
      "cell_type": "code",
      "metadata": {
        "id": "68481d0e",
        "outputId": "67a821f5-9253-498c-bdeb-8c0948070be1"
      },
      "source": [
        "model_17 = LogisticRegression(solver= \"liblinear\",C = 0.00095, random_state =0, max_iter= 10000 )\n",
        "evaluation(model_17, X_resampled, y_resampled, test_X_s, test_Y_s, scoring = \"f1\")"
      ],
      "id": "68481d0e",
      "execution_count": null,
      "outputs": [
        {
          "output_type": "stream",
          "text": [
            "test set : \n",
            "[[  412    86]\n",
            " [13273 79320]]\n",
            "              precision    recall  f1-score   support\n",
            "\n",
            "           1       0.03      0.83      0.06       498\n",
            "           2       1.00      0.86      0.92     92593\n",
            "\n",
            "    accuracy                           0.86     93091\n",
            "   macro avg       0.51      0.84      0.49     93091\n",
            "weighted avg       0.99      0.86      0.92     93091\n",
            "\n",
            "train set : \n",
            "[[331461  38779]\n",
            " [ 52610 317630]]\n",
            "              precision    recall  f1-score   support\n",
            "\n",
            "           1       0.86      0.90      0.88    370240\n",
            "           2       0.89      0.86      0.87    370240\n",
            "\n",
            "    accuracy                           0.88    740480\n",
            "   macro avg       0.88      0.88      0.88    740480\n",
            "weighted avg       0.88      0.88      0.88    740480\n",
            "\n",
            "[ 55536 155500 255465 355430 455395 555360]\n",
            "[0.87695299 0.87832578 0.87878501 0.87892567 0.87906596 0.87899752]\n"
          ],
          "name": "stdout"
        },
        {
          "output_type": "display_data",
          "data": {
            "image/png": "[encoded data removed]",
            "text/plain": [
              "<Figure size 720x432 with 1 Axes>"
            ]
          },
          "metadata": {
            "tags": [],
            "needs_background": "light"
          }
        }
      ]
    },
    {
      "cell_type": "code",
      "metadata": {
        "id": "35b005b3",
        "outputId": "e63e124f-d105-48b0-b06e-00db85330270"
      },
      "source": [
        "model_reg_logistic = LogisticRegression(random_state =0, max_iter= 10000)\n",
        "\n",
        "param = {'C':[0.01,0.05,0.1,0.15,1,10,50], 'solver': ['newton-cg', 'lbfgs'],\n",
        "         'penalty':['l2'] }\n",
        "\n",
        "grid_reg_logistic = GridSearchCV(model_reg_logistic, param_grid = param, cv=5, scoring ='recall' )\n",
        "resultat_reg_logistic = grid_reg_logistic.fit(X_resampled, y_resampled)\n",
        "resultat_reg_logistic.best_params_"
      ],
      "id": "35b005b3",
      "execution_count": null,
      "outputs": [
        {
          "output_type": "stream",
          "text": [
            "C:\\Users\\Christian\\anaconda3\\lib\\site-packages\\scipy\\optimize\\linesearch.py:327: LineSearchWarning: The line search algorithm did not converge\n",
            "  warn('The line search algorithm did not converge', LineSearchWarning)\n",
            "C:\\Users\\Christian\\anaconda3\\lib\\site-packages\\sklearn\\utils\\optimize.py:195: UserWarning: Line Search failed\n",
            "  warnings.warn('Line Search failed')\n",
            "C:\\Users\\Christian\\anaconda3\\lib\\site-packages\\scipy\\optimize\\linesearch.py:327: LineSearchWarning: The line search algorithm did not converge\n",
            "  warn('The line search algorithm did not converge', LineSearchWarning)\n",
            "C:\\Users\\Christian\\anaconda3\\lib\\site-packages\\sklearn\\utils\\optimize.py:195: UserWarning: Line Search failed\n",
            "  warnings.warn('Line Search failed')\n",
            "C:\\Users\\Christian\\anaconda3\\lib\\site-packages\\scipy\\optimize\\linesearch.py:327: LineSearchWarning: The line search algorithm did not converge\n",
            "  warn('The line search algorithm did not converge', LineSearchWarning)\n",
            "C:\\Users\\Christian\\anaconda3\\lib\\site-packages\\sklearn\\utils\\optimize.py:195: UserWarning: Line Search failed\n",
            "  warnings.warn('Line Search failed')\n"
          ],
          "name": "stderr"
        },
        {
          "output_type": "execute_result",
          "data": {
            "text/plain": [
              "{'C': 1, 'penalty': 'l2', 'solver': 'lbfgs'}"
            ]
          },
          "metadata": {
            "tags": []
          },
          "execution_count": 95
        }
      ]
    },
    {
      "cell_type": "code",
      "metadata": {
        "id": "890f7679",
        "outputId": "240e161e-ded0-4716-9eb0-104a763f7f9a"
      },
      "source": [
        "\n",
        "model_reg_logistic = LogisticRegression(random_state =0, max_iter= 10000)\n",
        "\n",
        "param = {'C':[0.9,0.95,1,1.05,1.1], 'solver': ['lbfgs'], 'penalty': ['l2'] }\n",
        "\n",
        "grid_reg_logistic = GridSearchCV(model_reg_logistic, param_grid = param, cv=5, scoring ='recall' )\n",
        "resultat_reg_logistic = grid_reg_logistic.fit(X_resampled, y_resampled)\n",
        "resultat_reg_logistic.best_params_"
      ],
      "id": "890f7679",
      "execution_count": null,
      "outputs": [
        {
          "output_type": "execute_result",
          "data": {
            "text/plain": [
              "{'C': 1, 'penalty': 'l2', 'solver': 'lbfgs'}"
            ]
          },
          "metadata": {
            "tags": []
          },
          "execution_count": 101
        }
      ]
    },
    {
      "cell_type": "code",
      "metadata": {
        "id": "e4a89f6a",
        "outputId": "9ee9b7be-eb81-4095-c098-229a41851eaa"
      },
      "source": [
        "model_17 = LogisticRegression(solver= \"lbfgs\", C = 1,penalty = \"l2\" , random_state = 0, max_iter= 10000 )\n",
        "evaluation(model_17, X_resampled, y_resampled, test_X_s, test_Y_s, scoring = \"f1\")"
      ],
      "id": "e4a89f6a",
      "execution_count": null,
      "outputs": [
        {
          "output_type": "stream",
          "text": [
            "test set : \n",
            "[[  408    90]\n",
            " [13291 79302]]\n",
            "              precision    recall  f1-score   support\n",
            "\n",
            "           1       0.03      0.82      0.06       498\n",
            "           2       1.00      0.86      0.92     92593\n",
            "\n",
            "    accuracy                           0.86     93091\n",
            "   macro avg       0.51      0.84      0.49     93091\n",
            "weighted avg       0.99      0.86      0.92     93091\n",
            "\n",
            "train set : \n",
            "[[331212  39028]\n",
            " [ 52593 317647]]\n",
            "              precision    recall  f1-score   support\n",
            "\n",
            "           1       0.86      0.89      0.88    370240\n",
            "           2       0.89      0.86      0.87    370240\n",
            "\n",
            "    accuracy                           0.88    740480\n",
            "   macro avg       0.88      0.88      0.88    740480\n",
            "weighted avg       0.88      0.88      0.88    740480\n",
            "\n",
            "[ 55536 155500 255465 355430 455395 555360]\n",
            "[0.8788361  0.87859028 0.87848676 0.87854719 0.87851988 0.8784988 ]\n"
          ],
          "name": "stdout"
        },
        {
          "output_type": "display_data",
          "data": {
            "image/png": "[encoded data removed]",
            "text/plain": [
              "<Figure size 720x432 with 1 Axes>"
            ]
          },
          "metadata": {
            "tags": [],
            "needs_background": "light"
          }
        }
      ]
    },
    {
      "cell_type": "code",
      "metadata": {
        "id": "8da2d260",
        "outputId": "959642f2-9b47-4b2f-cad2-aa9e106a1876"
      },
      "source": [
        "model_reg_logistic = LogisticRegression(random_state =0, max_iter= 10000 )\n",
        "\n",
        "param = {'C':[0.01,0.05,0.1,0.5,1,1.5,2], 'solver': ['liblinear', 'saga'],\n",
        "         'penalty':['l1']}\n",
        "\n",
        "grid_reg_logistic = GridSearchCV(model_reg_logistic, param_grid = param, cv=5, scoring ='recall' )\n",
        "resultat_reg_logistic = grid_reg_logistic.fit(X_resampled, y_resampled)\n",
        "resultat_reg_logistic.best_params_"
      ],
      "id": "8da2d260",
      "execution_count": null,
      "outputs": [
        {
          "output_type": "execute_result",
          "data": {
            "text/plain": [
              "{'C': 0.01, 'penalty': 'l1', 'solver': 'saga'}"
            ]
          },
          "metadata": {
            "tags": []
          },
          "execution_count": 104
        }
      ]
    },
    {
      "cell_type": "code",
      "metadata": {
        "id": "a92418c9",
        "outputId": "d29ce32b-ebf0-4033-83f4-1f69fcd629b2"
      },
      "source": [
        "model_17 = LogisticRegression(solver= \"saga\", C = 0.01,penalty = \"l1\", random_state = 0, max_iter= 10000 )\n",
        "evaluation(model_17, X_resampled, y_resampled, test_X_s, test_Y_s, scoring = \"f1\")"
      ],
      "id": "a92418c9",
      "execution_count": null,
      "outputs": [
        {
          "output_type": "stream",
          "text": [
            "test set : \n",
            "[[  408    90]\n",
            " [13288 79305]]\n",
            "              precision    recall  f1-score   support\n",
            "\n",
            "           1       0.03      0.82      0.06       498\n",
            "           2       1.00      0.86      0.92     92593\n",
            "\n",
            "    accuracy                           0.86     93091\n",
            "   macro avg       0.51      0.84      0.49     93091\n",
            "weighted avg       0.99      0.86      0.92     93091\n",
            "\n",
            "train set : \n",
            "[[331277  38963]\n",
            " [ 52628 317612]]\n",
            "              precision    recall  f1-score   support\n",
            "\n",
            "           1       0.86      0.89      0.88    370240\n",
            "           2       0.89      0.86      0.87    370240\n",
            "\n",
            "    accuracy                           0.88    740480\n",
            "   macro avg       0.88      0.88      0.88    740480\n",
            "weighted avg       0.88      0.88      0.88    740480\n",
            "\n",
            "[ 55536 155500 255465 355430 455395 555360]\n",
            "[0.87866983 0.87864281 0.87859331 0.87856501 0.87867404 0.87866714]\n"
          ],
          "name": "stdout"
        },
        {
          "output_type": "display_data",
          "data": {
            "image/png": "[encoded data removed]",
            "text/plain": [
              "<Figure size 720x432 with 1 Axes>"
            ]
          },
          "metadata": {
            "tags": [],
            "needs_background": "light"
          }
        }
      ]
    },
    {
      "cell_type": "code",
      "metadata": {
        "id": "c95fd45e"
      },
      "source": [
        "#####################################################################################\n",
        "####################################################################################"
      ],
      "id": "c95fd45e",
      "execution_count": null,
      "outputs": []
    },
    {
      "cell_type": "code",
      "metadata": {
        "id": "c692c93e",
        "outputId": "3624a836-6a41-40a0-dde6-92c1f04d9d46"
      },
      "source": [
        "# il nous faut toutes les variables (*,24)\n",
        "data.shape"
      ],
      "id": "c692c93e",
      "execution_count": null,
      "outputs": [
        {
          "output_type": "execute_result",
          "data": {
            "text/plain": [
              "(465453, 20)"
            ]
          },
          "metadata": {
            "tags": []
          },
          "execution_count": 196
        }
      ]
    },
    {
      "cell_type": "code",
      "metadata": {
        "id": "f36a554c"
      },
      "source": [
        "# on élimine les variables dons\n",
        "data=data.drop([\"Annee_1er_don\", \"Cumul_dons\",\"Don_max\", \"Don_moyen\"],axis=1)"
      ],
      "id": "f36a554c",
      "execution_count": null,
      "outputs": []
    },
    {
      "cell_type": "code",
      "metadata": {
        "id": "0ac4467b"
      },
      "source": [
        "# PARAMETRAGE\n",
        "# base de données avec des variables corrélées et sans encodage OneHot\n",
        "nb_var = data.shape[1] - 1\n",
        "train_set, test_set = train_test_split(data, test_size = 0.2, random_state=0)\n",
        "\n",
        "train_X_s = (train_set.iloc[:,1:nb_var]).to_numpy() # sans prendre en compte les identifiants\n",
        "train_Y_s = np.asanyarray(train_set.iloc[:,nb_var])\n",
        "\n",
        "test_X_s = (test_set.iloc[:,1:nb_var]).to_numpy()\n",
        "test_Y_s = np.asanyarray(test_set.iloc[:,nb_var])\n",
        "\n"
      ],
      "id": "0ac4467b",
      "execution_count": null,
      "outputs": []
    },
    {
      "cell_type": "code",
      "metadata": {
        "id": "634e1748",
        "outputId": "58eca16a-d616-49fc-ed0d-acf864f8a267"
      },
      "source": [
        "# Premier paramétrage\n",
        "model_reg_logistic = LogisticRegression(random_state =0, max_iter= 10000, class_weight=\"balanced\" )\n",
        "\n",
        "param = {'C':[0.01,0.05,0.1,0.15,1,10,50], 'solver': ['liblinear','newton-cg', 'lbfgs']} #'penalty':['l2', 'none']\n",
        "\n",
        "grid_reg_logistic = GridSearchCV(model_reg_logistic, param_grid = param, cv=5, scoring ='recall' )\n",
        "resultat_reg_logistic = grid_reg_logistic.fit(train_X_s, train_Y_s)\n",
        "resultat_reg_logistic.best_params_"
      ],
      "id": "634e1748",
      "execution_count": null,
      "outputs": [
        {
          "output_type": "stream",
          "text": [
            "C:\\Users\\Christian\\anaconda3\\lib\\site-packages\\scipy\\optimize\\linesearch.py:327: LineSearchWarning: The line search algorithm did not converge\n",
            "  warn('The line search algorithm did not converge', LineSearchWarning)\n",
            "C:\\Users\\Christian\\anaconda3\\lib\\site-packages\\sklearn\\utils\\optimize.py:195: UserWarning: Line Search failed\n",
            "  warnings.warn('Line Search failed')\n"
          ],
          "name": "stderr"
        },
        {
          "output_type": "execute_result",
          "data": {
            "text/plain": [
              "{'C': 0.01, 'solver': 'liblinear'}"
            ]
          },
          "metadata": {
            "tags": []
          },
          "execution_count": 198
        }
      ]
    },
    {
      "cell_type": "code",
      "metadata": {
        "id": "a233ee2d",
        "outputId": "1c1ac23b-c05e-463e-b5ae-8b4dec00c68e"
      },
      "source": [
        "final_model_reg_logistic = LogisticRegression(random_state = 0, max_iter = 10000, class_weight  = \"balanced\", \n",
        "                                             C=0.01, solver=\"liblinear\")\n",
        "evaluation(final_model_reg_logistic, train_X_s, train_Y_s, test_X_s, test_Y_s, scoring = \"recall\") "
      ],
      "id": "a233ee2d",
      "execution_count": null,
      "outputs": [
        {
          "output_type": "stream",
          "text": [
            "test set : \n",
            "[[  342   156]\n",
            " [29264 63329]]\n",
            "              precision    recall  f1-score   support\n",
            "\n",
            "           1       0.01      0.69      0.02       498\n",
            "           2       1.00      0.68      0.81     92593\n",
            "\n",
            "    accuracy                           0.68     93091\n",
            "   macro avg       0.50      0.69      0.42     93091\n",
            "weighted avg       0.99      0.68      0.81     93091\n",
            "\n",
            "train set : \n",
            "[[  1452    670]\n",
            " [117042 253198]]\n",
            "              precision    recall  f1-score   support\n",
            "\n",
            "           1       0.01      0.68      0.02      2122\n",
            "           2       1.00      0.68      0.81    370240\n",
            "\n",
            "    accuracy                           0.68    372362\n",
            "   macro avg       0.50      0.68      0.42    372362\n",
            "weighted avg       0.99      0.68      0.81    372362\n",
            "\n",
            "[ 27927  78195 128464 178733 229002 279271]\n",
            "[0.72067408 0.70205963 0.69005457 0.69035879 0.68988017 0.68551717]\n"
          ],
          "name": "stdout"
        },
        {
          "output_type": "display_data",
          "data": {
            "image/png": "[encoded data removed]",
            "text/plain": [
              "<Figure size 720x432 with 1 Axes>"
            ]
          },
          "metadata": {
            "tags": [],
            "needs_background": "light"
          }
        }
      ]
    },
    {
      "cell_type": "code",
      "metadata": {
        "id": "ecb1e6da",
        "outputId": "aa25e32c-d3bd-4609-8751-435aa98dfca3"
      },
      "source": [
        ""
      ],
      "id": "ecb1e6da",
      "execution_count": null,
      "outputs": [
        {
          "output_type": "execute_result",
          "data": {
            "text/plain": [
              "(465453, 20)"
            ]
          },
          "metadata": {
            "tags": []
          },
          "execution_count": 199
        }
      ]
    },
    {
      "cell_type": "code",
      "metadata": {
        "id": "6275209a"
      },
      "source": [
        "#####################################################################################\n",
        "####################################################################################\n",
        "####################################################################################\n",
        "####################################################################################"
      ],
      "id": "6275209a",
      "execution_count": null,
      "outputs": []
    },
    {
      "cell_type": "code",
      "metadata": {
        "id": "2014a0ce"
      },
      "source": [
        ""
      ],
      "id": "2014a0ce",
      "execution_count": null,
      "outputs": []
    },
    {
      "cell_type": "code",
      "metadata": {
        "id": "b1780178"
      },
      "source": [
        ""
      ],
      "id": "b1780178",
      "execution_count": null,
      "outputs": []
    },
    {
      "cell_type": "code",
      "metadata": {
        "id": "08208a53"
      },
      "source": [
        ""
      ],
      "id": "08208a53",
      "execution_count": null,
      "outputs": []
    },
    {
      "cell_type": "code",
      "metadata": {
        "id": "5b1828f1"
      },
      "source": [
        ""
      ],
      "id": "5b1828f1",
      "execution_count": null,
      "outputs": []
    },
    {
      "cell_type": "code",
      "metadata": {
        "id": "7e4fd55b"
      },
      "source": [
        ""
      ],
      "id": "7e4fd55b",
      "execution_count": null,
      "outputs": []
    },
    {
      "cell_type": "code",
      "metadata": {
        "id": "96d8c7b9"
      },
      "source": [
        ""
      ],
      "id": "96d8c7b9",
      "execution_count": null,
      "outputs": []
    },
    {
      "cell_type": "code",
      "metadata": {
        "id": "76389aea"
      },
      "source": [
        "data_1 = data_non_corr[data_non_corr[\"IFI+\"]==1]\n",
        "data_2 = data_non_corr[data_non_corr[\"IFI+\"]==2]"
      ],
      "id": "76389aea",
      "execution_count": null,
      "outputs": []
    },
    {
      "cell_type": "code",
      "metadata": {
        "id": "4511079d"
      },
      "source": [
        "\n"
      ],
      "id": "4511079d",
      "execution_count": null,
      "outputs": []
    },
    {
      "cell_type": "code",
      "metadata": {
        "id": "12705dfd"
      },
      "source": [
        "\n"
      ],
      "id": "12705dfd",
      "execution_count": null,
      "outputs": []
    },
    {
      "cell_type": "code",
      "metadata": {
        "id": "589cc202"
      },
      "source": [
        "\n",
        "probas = model_17.predict_proba( data_non_corr.iloc[:,1:nb_var] ) # *1000 data_1\n",
        "#Création des quarantiles\n",
        "d = {'id': data_non_corr.iloc[:,0] , 'proba': probas[:,0]} # data_1\n",
        "df = pd.DataFrame(data=d)\n",
        "df.to_excel(\"C:/Users/Christian/Desktop/test_test.xlsx\") \n",
        "\n"
      ],
      "id": "589cc202",
      "execution_count": null,
      "outputs": []
    },
    {
      "cell_type": "code",
      "metadata": {
        "id": "7a4e111d"
      },
      "source": [
        "df"
      ],
      "id": "7a4e111d",
      "execution_count": null,
      "outputs": []
    },
    {
      "cell_type": "code",
      "metadata": {
        "id": "a274eeb3"
      },
      "source": [
        "somme_quarantiles = pd.DataFrame(data =\"-\", index=[\"somme\"], columns = [\"Tranches de Score\",\"Zone\",\"Eff.\", \"Pourc.\", \"Pourc. cumulé\"] )\n"
      ],
      "id": "a274eeb3",
      "execution_count": null,
      "outputs": []
    },
    {
      "cell_type": "code",
      "metadata": {
        "id": "02569934"
      },
      "source": [
        "info_quarantiles = pd.DataFrame(data =\"-\", index=range(40), columns = [\"Tranches de Score\",\"Zone\",\"Eff.\", \"Pourc.\", \"Pourc. cumulé\"] )\n"
      ],
      "id": "02569934",
      "execution_count": null,
      "outputs": []
    },
    {
      "cell_type": "code",
      "metadata": {
        "id": "3910c876"
      },
      "source": [
        "# prendre uniquement les probalités supérieurs à 50\n",
        "\n",
        "def remplissage_score_1(probas, taux):\n",
        "\n",
        "    somme_quarantiles = pd.DataFrame(data =\"\", index=[\"somme\"], columns = [\"Tranches de Score\",\"Zone\",\"Eff.\", \"Pourc.\", \"Pourc. cumulé\"] )\n",
        "    info_quarantiles = pd.DataFrame(data =\"\", index=range(40), columns = [\"Tranches de Score\",\"Zone\",\"Eff.\", \"Pourc.\", \"Pourc. cumulé\"] )\n",
        "\n",
        "    num = 0\n",
        "    somme_cum = 0\n",
        "    dim_qua = info_quarantiles.shape[0]\n",
        "    val_max = max(probas[:,0])\n",
        "    val_inter = val_max/40\n",
        "    val_change = 0\n",
        "\n",
        "    for k in range(dim_qua) :   \n",
        "        if k == (dim_qua-1) : \n",
        "            somme = ((val_change <=probas[:,0]) & (probas[:,0]<= val_change + val_inter)).sum()\n",
        "        else :\n",
        "            somme = ((val_change <=probas[:,0]) & (probas[:,0]< val_change + val_inter)).sum()\n",
        "            \n",
        "        if k < (dim_qua/2 - (4+1)) : \n",
        "            info_quarantiles.iloc[k,1] = 'R'\n",
        "        elif k > (dim_qua/2 -(1) ) :\n",
        "            info_quarantiles.iloc[k,1] = 'V'\n",
        "        else:\n",
        "            info_quarantiles.iloc[k,1] = '-'\n",
        "            \n",
        "        if k == 0:\n",
        "            info_quarantiles.iloc[k,0] = str(num)+\" - \"+str(num+25)\n",
        "        else :\n",
        "            info_quarantiles.iloc[k,0] = str(num+1)+\" - \"+str(num+25)\n",
        "        \n",
        "        info_quarantiles.iloc[k,2] = somme\n",
        "        info_quarantiles.iloc[k,3] = round(somme/probas.shape[0],2)\n",
        "\n",
        "        somme_cum = somme_cum + info_quarantiles.iloc[k,3]\n",
        "\n",
        "        info_quarantiles.iloc[k,4] = somme_cum\n",
        "        num = num + 25\n",
        "        val_change = val_change + val_inter\n",
        "\n",
        "    somme_quarantiles.iloc[0,0] = \"Ensemble\"    \n",
        "    somme_quarantiles.iloc[0,2] = info_quarantiles.iloc[:,2].sum()\n",
        "    somme_quarantiles.iloc[0,3] = info_quarantiles.iloc[:,3].sum()\n",
        "    somme_quarantiles.iloc[0,4] = info_quarantiles.iloc[39,4]\n",
        "\n",
        "    return info_quarantiles.append(somme_quarantiles)\n",
        "\n",
        "    \n",
        "    "
      ],
      "id": "3910c876",
      "execution_count": null,
      "outputs": []
    },
    {
      "cell_type": "code",
      "metadata": {
        "id": "e829e456"
      },
      "source": [
        "remplissage_score_1(probas, taux=4)\n"
      ],
      "id": "e829e456",
      "execution_count": null,
      "outputs": []
    },
    {
      "cell_type": "code",
      "metadata": {
        "id": "dcc4fc11"
      },
      "source": [
        "#nombre de modalités de chaque variables (dans un dataframe)\n",
        "def nombre_mod(data2):\n",
        "    #création d'un dataframe vide\n",
        "    dff= pd.DataFrame(columns=[\"VARIABLE\",\"NOMBRE_MOD\", \"NOMBRE_MOD_SANS_NA\"])\n",
        "    for i in range(data2.shape[1]): # sans compter les valeurs manquantes\n",
        "        taille =len(data2.iloc[:,i].value_counts(dropna=False))\n",
        "        taille_1 = len(data2.iloc[:,i].value_counts(dropna=True) )\n",
        "        dff=dff.append({\"VARIABLE\": colonnes[i],\"NOMBRE_MOD\":taille, \"NOMBRE_MOD_SANS_NA\":taille_1 }, ignore_index=True)\n",
        "    return dff"
      ],
      "id": "dcc4fc11",
      "execution_count": null,
      "outputs": []
    },
    {
      "cell_type": "code",
      "metadata": {
        "id": "f7acd35d"
      },
      "source": [
        "data_orig"
      ],
      "id": "f7acd35d",
      "execution_count": null,
      "outputs": []
    },
    {
      "cell_type": "code",
      "metadata": {
        "id": "85f33c1b"
      },
      "source": [
        "for i in range(1,data_orig.shape[1]): #data_non_corr\n",
        "    print(data_orig.iloc[:,i].value_counts() )\n",
        "    \n",
        "       "
      ],
      "id": "85f33c1b",
      "execution_count": null,
      "outputs": []
    },
    {
      "cell_type": "code",
      "metadata": {
        "id": "bec4c83d"
      },
      "source": [
        "data_non_corr"
      ],
      "id": "bec4c83d",
      "execution_count": null,
      "outputs": []
    },
    {
      "cell_type": "code",
      "metadata": {
        "id": "5d2b44d3"
      },
      "source": [
        ""
      ],
      "id": "5d2b44d3",
      "execution_count": null,
      "outputs": []
    },
    {
      "cell_type": "code",
      "metadata": {
        "id": "cac2bafd"
      },
      "source": [
        ""
      ],
      "id": "cac2bafd",
      "execution_count": null,
      "outputs": []
    },
    {
      "cell_type": "code",
      "metadata": {
        "id": "16bc7a6f"
      },
      "source": [
        "model_17.predict_proba(test_X_s)[:,0]*1000"
      ],
      "id": "16bc7a6f",
      "execution_count": null,
      "outputs": []
    },
    {
      "cell_type": "code",
      "metadata": {
        "id": "4fd63b17"
      },
      "source": [
        "np.unique(model_17.predict(test_X_s), return_counts=True)"
      ],
      "id": "4fd63b17",
      "execution_count": null,
      "outputs": []
    },
    {
      "cell_type": "code",
      "metadata": {
        "id": "32473a53"
      },
      "source": [
        "(model_17.predict_proba(test_X_s)[:,0]>0.5).sum()"
      ],
      "id": "32473a53",
      "execution_count": null,
      "outputs": []
    },
    {
      "cell_type": "code",
      "metadata": {
        "id": "7b361a56"
      },
      "source": [
        ""
      ],
      "id": "7b361a56",
      "execution_count": null,
      "outputs": []
    },
    {
      "cell_type": "code",
      "metadata": {
        "id": "b0ca4802"
      },
      "source": [
        "0.7115506+0.2884494 "
      ],
      "id": "b0ca4802",
      "execution_count": null,
      "outputs": []
    },
    {
      "cell_type": "code",
      "metadata": {
        "id": "3d8bec82"
      },
      "source": [
        ""
      ],
      "id": "3d8bec82",
      "execution_count": null,
      "outputs": []
    },
    {
      "cell_type": "code",
      "metadata": {
        "id": "1c4b3bb1"
      },
      "source": [
        "92593/498"
      ],
      "id": "1c4b3bb1",
      "execution_count": null,
      "outputs": []
    },
    {
      "cell_type": "code",
      "metadata": {
        "id": "b9fe7a23"
      },
      "source": [
        "370240/2122"
      ],
      "id": "b9fe7a23",
      "execution_count": null,
      "outputs": []
    },
    {
      "cell_type": "code",
      "metadata": {
        "id": "8fb7f3dd"
      },
      "source": [
        ""
      ],
      "id": "8fb7f3dd",
      "execution_count": null,
      "outputs": []
    },
    {
      "cell_type": "code",
      "metadata": {
        "id": "8cabf642"
      },
      "source": [
        "#####################################################################################\n",
        "####################################################################################"
      ],
      "id": "8cabf642",
      "execution_count": null,
      "outputs": []
    },
    {
      "cell_type": "code",
      "metadata": {
        "id": "c7572e75"
      },
      "source": [
        "from scipy.stats import kstest\n"
      ],
      "id": "c7572e75",
      "execution_count": null,
      "outputs": []
    },
    {
      "cell_type": "code",
      "metadata": {
        "id": "eff029de"
      },
      "source": [
        "test_stat = kstest(x, 'norm')"
      ],
      "id": "eff029de",
      "execution_count": null,
      "outputs": []
    },
    {
      "cell_type": "code",
      "metadata": {
        "id": "4d42ac37"
      },
      "source": [
        ""
      ],
      "id": "4d42ac37",
      "execution_count": null,
      "outputs": []
    },
    {
      "cell_type": "code",
      "metadata": {
        "id": "fe30f571"
      },
      "source": [
        ""
      ],
      "id": "fe30f571",
      "execution_count": null,
      "outputs": []
    },
    {
      "cell_type": "code",
      "metadata": {
        "id": "6f0f95d5"
      },
      "source": [
        ""
      ],
      "id": "6f0f95d5",
      "execution_count": null,
      "outputs": []
    },
    {
      "cell_type": "code",
      "metadata": {
        "id": "e0740768"
      },
      "source": [
        ""
      ],
      "id": "e0740768",
      "execution_count": null,
      "outputs": []
    },
    {
      "cell_type": "code",
      "metadata": {
        "id": "201b927f"
      },
      "source": [
        ""
      ],
      "id": "201b927f",
      "execution_count": null,
      "outputs": []
    },
    {
      "cell_type": "code",
      "metadata": {
        "id": "f1561bab"
      },
      "source": [
        "np.linspace(0.01,1,100,endpoint=False )"
      ],
      "id": "f1561bab",
      "execution_count": null,
      "outputs": []
    },
    {
      "cell_type": "code",
      "metadata": {
        "id": "2900cbdb"
      },
      "source": [
        "range(0,1,100)"
      ],
      "id": "2900cbdb",
      "execution_count": null,
      "outputs": []
    },
    {
      "cell_type": "code",
      "metadata": {
        "id": "4ec8e6ce"
      },
      "source": [
        "462833/465453 "
      ],
      "id": "4ec8e6ce",
      "execution_count": null,
      "outputs": []
    },
    {
      "cell_type": "code",
      "metadata": {
        "id": "6a0943e2"
      },
      "source": [
        "2620/465453"
      ],
      "id": "6a0943e2",
      "execution_count": null,
      "outputs": []
    },
    {
      "cell_type": "code",
      "metadata": {
        "id": "4d2d36fb"
      },
      "source": [
        "462833/2620"
      ],
      "id": "4d2d36fb",
      "execution_count": null,
      "outputs": []
    },
    {
      "cell_type": "code",
      "metadata": {
        "id": "dc976af7"
      },
      "source": [
        ""
      ],
      "id": "dc976af7",
      "execution_count": null,
      "outputs": []
    },
    {
      "cell_type": "code",
      "metadata": {
        "id": "bdad3fa1"
      },
      "source": [
        "custom_metric(np.array([0,0,0,0,0,0,0,0,0,0,1]),np.array([1,1,1,1,1,1,0,0,0,0,1]))"
      ],
      "id": "bdad3fa1",
      "execution_count": null,
      "outputs": []
    },
    {
      "cell_type": "code",
      "metadata": {
        "id": "10f939ff"
      },
      "source": [
        "custom_metric(np.array([0,0,0,0,0,0,1]),np.array([0,0,0,0,1,1,1]))"
      ],
      "id": "10f939ff",
      "execution_count": null,
      "outputs": []
    },
    {
      "cell_type": "code",
      "metadata": {
        "id": "66555f5c"
      },
      "source": [
        "np.linspace(0.1, 1, 10)"
      ],
      "id": "66555f5c",
      "execution_count": null,
      "outputs": []
    },
    {
      "cell_type": "code",
      "metadata": {
        "id": "bc1c1693"
      },
      "source": [
        "from sklearn.datasets import make_classification\n",
        "from imblearn.under_sampling import TomekLinks \n",
        "X, y = make_classification(n_classes=2, class_sep=2,\n",
        "weights=[0.1, 0.9], n_informative=3, n_redundant=1, flip_y=0,\n",
        "n_features=20, n_clusters_per_class=1, n_samples=1000, random_state=10)"
      ],
      "id": "bc1c1693",
      "execution_count": null,
      "outputs": []
    },
    {
      "cell_type": "code",
      "metadata": {
        "id": "0a00eec1"
      },
      "source": [
        "X"
      ],
      "id": "0a00eec1",
      "execution_count": null,
      "outputs": []
    },
    {
      "cell_type": "code",
      "metadata": {
        "id": "a5c094ba"
      },
      "source": [
        "y.shape"
      ],
      "id": "a5c094ba",
      "execution_count": null,
      "outputs": []
    },
    {
      "cell_type": "code",
      "metadata": {
        "id": "4bf0f870"
      },
      "source": [
        ""
      ],
      "id": "4bf0f870",
      "execution_count": null,
      "outputs": []
    }
  ]
}