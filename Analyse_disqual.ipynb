{
  "nbformat": 4,
  "nbformat_minor": 0,
  "metadata": {
    "colab": {
      "name": "Analyse_disqual.ipynb",
      "provenance": [],
      "collapsed_sections": [],
      "authorship_tag": "ABX9TyNZuGoJ1UAeePQBZE1MwwBF"
    },
    "kernelspec": {
      "name": "python3",
      "display_name": "Python 3"
    },
    "language_info": {
      "name": "python"
    }
  },
  "cells": [
    {
      "cell_type": "code",
      "metadata": {
        "id": "6PE_fq-Af-lD",
        "colab": {
          "base_uri": "https://localhost:8080/"
        },
        "outputId": "576b1875-8a9f-41e2-ceb3-25ca4f6dc909"
      },
      "source": [
        "import numpy as np\n",
        "import pandas as pd\n",
        "import seaborn as sns\n",
        "import matplotlib.pyplot as plt\n",
        "\n",
        "#!pip install fanalysis\n",
        "\n",
        "from sklearn.metrics import confusion_matrix\n",
        "\n",
        "from google.colab import drive\n",
        "drive.mount('/content/drive')"
      ],
      "execution_count": 1,
      "outputs": [
        {
          "output_type": "stream",
          "text": [
            "Mounted at /content/drive\n"
          ],
          "name": "stdout"
        }
      ]
    },
    {
      "cell_type": "code",
      "metadata": {
        "id": "yuD2HnZ3uKFa"
      },
      "source": [
        ""
      ],
      "execution_count": 1,
      "outputs": []
    },
    {
      "cell_type": "code",
      "metadata": {
        "id": "HDcsBJYZuKHz"
      },
      "source": [
        "# option d'affichage des résultats\n",
        "pd.set_option(\"display.max_row\",130)\n",
        "pd.set_option(\"display.max_columns\",100)"
      ],
      "execution_count": 2,
      "outputs": []
    },
    {
      "cell_type": "code",
      "metadata": {
        "id": "EIiIM-2FuKKO"
      },
      "source": [
        "# noms des variables de notre dataset y compris la variable identifiant IRIS\n",
        "colonnes =[\"IDENT\",\"TypeHabi\", \"GeoFaz_Scl\", \"GeoFaz_cl\",\"Anciennete\",\"Doublon_ligne\",\n",
        "            \"Revenus_iris\",\"Sexe\",\"Prenom_Phase_scl_H\", \"Prenom_Phase_scl_F\",\"Prenom_Phase_cl_H\",\n",
        "           \"Prenom_Phase_cl_F\",\"Age_H\",\"Age_F\",\"Pays_sud\",\"Prenom_effectif\",\"codif_RdB\",\"Flag_PA\",\n",
        "           \"Annee_1er_don\",\"Cumul_dons\",\"Don_max\",\"Don_moyen\",\"Vingtiles_ISF\",\"IFI+\"]"
      ],
      "execution_count": 3,
      "outputs": []
    },
    {
      "cell_type": "code",
      "metadata": {
        "id": "wci4tC0suKMu"
      },
      "source": [
        "# importation du fichier (changer le chemin d'accès)\n",
        "''' Faites attention au type de fichier, au délimiteur des valeurs (ça doit être unique et non multiple),\n",
        "au header et à la lecture des types d'objets (low_memory) '''\n",
        "\n",
        "data_orig = pd.read_csv(\"/content/drive/MyDrive/spad_score_method_1/my_data_FDFIFI19.txt\",delim_whitespace=\"\\t\" , header = None, names=colonnes, low_memory=False, )#, dtype='Int64')"
      ],
      "execution_count": 4,
      "outputs": []
    },
    {
      "cell_type": "code",
      "metadata": {
        "colab": {
          "base_uri": "https://localhost:8080/"
        },
        "id": "oyDoq2cHxz7o",
        "outputId": "370c0ea0-1e38-469b-aa63-0d8e18469238"
      },
      "source": [
        "''' copie superficielle (peu profonde) du dataset original pour ne pas modifier les valeurs\n",
        "d'origine par erreur plus tard \n",
        "'''\n",
        "data = data_orig.copy()\n",
        "data.shape"
      ],
      "execution_count": 5,
      "outputs": [
        {
          "output_type": "execute_result",
          "data": {
            "text/plain": [
              "(484522, 24)"
            ]
          },
          "metadata": {
            "tags": []
          },
          "execution_count": 5
        }
      ]
    },
    {
      "cell_type": "code",
      "metadata": {
        "colab": {
          "base_uri": "https://localhost:8080/",
          "height": 226
        },
        "id": "d8EgLMlSxz9s",
        "outputId": "93bd079b-2b89-4b89-bcf0-d9285a580708"
      },
      "source": [
        "# visualisation des premiers lignes\n",
        "data.head()\n"
      ],
      "execution_count": 6,
      "outputs": [
        {
          "output_type": "execute_result",
          "data": {
            "text/html": [
              "<div>\n",
              "<style scoped>\n",
              "    .dataframe tbody tr th:only-of-type {\n",
              "        vertical-align: middle;\n",
              "    }\n",
              "\n",
              "    .dataframe tbody tr th {\n",
              "        vertical-align: top;\n",
              "    }\n",
              "\n",
              "    .dataframe thead th {\n",
              "        text-align: right;\n",
              "    }\n",
              "</style>\n",
              "<table border=\"1\" class=\"dataframe\">\n",
              "  <thead>\n",
              "    <tr style=\"text-align: right;\">\n",
              "      <th></th>\n",
              "      <th>IDENT</th>\n",
              "      <th>TypeHabi</th>\n",
              "      <th>GeoFaz_Scl</th>\n",
              "      <th>GeoFaz_cl</th>\n",
              "      <th>Anciennete</th>\n",
              "      <th>Doublon_ligne</th>\n",
              "      <th>Revenus_iris</th>\n",
              "      <th>Sexe</th>\n",
              "      <th>Prenom_Phase_scl_H</th>\n",
              "      <th>Prenom_Phase_scl_F</th>\n",
              "      <th>Prenom_Phase_cl_H</th>\n",
              "      <th>Prenom_Phase_cl_F</th>\n",
              "      <th>Age_H</th>\n",
              "      <th>Age_F</th>\n",
              "      <th>Pays_sud</th>\n",
              "      <th>Prenom_effectif</th>\n",
              "      <th>codif_RdB</th>\n",
              "      <th>Flag_PA</th>\n",
              "      <th>Annee_1er_don</th>\n",
              "      <th>Cumul_dons</th>\n",
              "      <th>Don_max</th>\n",
              "      <th>Don_moyen</th>\n",
              "      <th>Vingtiles_ISF</th>\n",
              "      <th>IFI+</th>\n",
              "    </tr>\n",
              "  </thead>\n",
              "  <tbody>\n",
              "    <tr>\n",
              "      <th>0</th>\n",
              "      <td>101001347</td>\n",
              "      <td>3</td>\n",
              "      <td>75</td>\n",
              "      <td>7</td>\n",
              "      <td>8</td>\n",
              "      <td>3</td>\n",
              "      <td>3</td>\n",
              "      <td>3</td>\n",
              "      <td>64</td>\n",
              "      <td>46</td>\n",
              "      <td>6</td>\n",
              "      <td>4</td>\n",
              "      <td>9</td>\n",
              "      <td>4</td>\n",
              "      <td>2</td>\n",
              "      <td>3</td>\n",
              "      <td>3</td>\n",
              "      <td>2</td>\n",
              "      <td>7</td>\n",
              "      <td>7</td>\n",
              "      <td>6</td>\n",
              "      <td>4</td>\n",
              "      <td>10</td>\n",
              "      <td>2.0</td>\n",
              "    </tr>\n",
              "    <tr>\n",
              "      <th>1</th>\n",
              "      <td>201001512</td>\n",
              "      <td>1</td>\n",
              "      <td>74</td>\n",
              "      <td>7</td>\n",
              "      <td>5</td>\n",
              "      <td>3</td>\n",
              "      <td>3</td>\n",
              "      <td>4</td>\n",
              "      <td>65</td>\n",
              "      <td>81</td>\n",
              "      <td>6</td>\n",
              "      <td>8</td>\n",
              "      <td>11</td>\n",
              "      <td>12</td>\n",
              "      <td>2</td>\n",
              "      <td>4</td>\n",
              "      <td>3</td>\n",
              "      <td>2</td>\n",
              "      <td>8</td>\n",
              "      <td>5</td>\n",
              "      <td>2</td>\n",
              "      <td>2</td>\n",
              "      <td>10</td>\n",
              "      <td>2.0</td>\n",
              "    </tr>\n",
              "    <tr>\n",
              "      <th>2</th>\n",
              "      <td>301002801</td>\n",
              "      <td>2</td>\n",
              "      <td>32</td>\n",
              "      <td>3</td>\n",
              "      <td>7</td>\n",
              "      <td>2</td>\n",
              "      <td>4</td>\n",
              "      <td>4</td>\n",
              "      <td>66</td>\n",
              "      <td>66</td>\n",
              "      <td>6</td>\n",
              "      <td>6</td>\n",
              "      <td>11</td>\n",
              "      <td>9</td>\n",
              "      <td>2</td>\n",
              "      <td>3</td>\n",
              "      <td>3</td>\n",
              "      <td>2</td>\n",
              "      <td>8</td>\n",
              "      <td>7</td>\n",
              "      <td>5</td>\n",
              "      <td>3</td>\n",
              "      <td>7</td>\n",
              "      <td>2.0</td>\n",
              "    </tr>\n",
              "    <tr>\n",
              "      <th>3</th>\n",
              "      <td>401003186</td>\n",
              "      <td>1</td>\n",
              "      <td>12</td>\n",
              "      <td>1</td>\n",
              "      <td>4</td>\n",
              "      <td>3</td>\n",
              "      <td>7</td>\n",
              "      <td>3</td>\n",
              "      <td>51</td>\n",
              "      <td>81</td>\n",
              "      <td>5</td>\n",
              "      <td>8</td>\n",
              "      <td>9</td>\n",
              "      <td>12</td>\n",
              "      <td>2</td>\n",
              "      <td>5</td>\n",
              "      <td>1</td>\n",
              "      <td>2</td>\n",
              "      <td>2</td>\n",
              "      <td>7</td>\n",
              "      <td>8</td>\n",
              "      <td>6</td>\n",
              "      <td>18</td>\n",
              "      <td>2.0</td>\n",
              "    </tr>\n",
              "    <tr>\n",
              "      <th>4</th>\n",
              "      <td>501003624</td>\n",
              "      <td>2</td>\n",
              "      <td>12</td>\n",
              "      <td>1</td>\n",
              "      <td>6</td>\n",
              "      <td>3</td>\n",
              "      <td>3</td>\n",
              "      <td>3</td>\n",
              "      <td>51</td>\n",
              "      <td>81</td>\n",
              "      <td>5</td>\n",
              "      <td>8</td>\n",
              "      <td>9</td>\n",
              "      <td>12</td>\n",
              "      <td>2</td>\n",
              "      <td>5</td>\n",
              "      <td>1</td>\n",
              "      <td>2</td>\n",
              "      <td>8</td>\n",
              "      <td>7</td>\n",
              "      <td>8</td>\n",
              "      <td>6</td>\n",
              "      <td>2</td>\n",
              "      <td>2.0</td>\n",
              "    </tr>\n",
              "  </tbody>\n",
              "</table>\n",
              "</div>"
            ],
            "text/plain": [
              "       IDENT  TypeHabi  GeoFaz_Scl  GeoFaz_cl  Anciennete  Doublon_ligne  \\\n",
              "0  101001347         3          75          7           8              3   \n",
              "1  201001512         1          74          7           5              3   \n",
              "2  301002801         2          32          3           7              2   \n",
              "3  401003186         1          12          1           4              3   \n",
              "4  501003624         2          12          1           6              3   \n",
              "\n",
              "   Revenus_iris  Sexe  Prenom_Phase_scl_H  Prenom_Phase_scl_F  \\\n",
              "0             3     3                  64                  46   \n",
              "1             3     4                  65                  81   \n",
              "2             4     4                  66                  66   \n",
              "3             7     3                  51                  81   \n",
              "4             3     3                  51                  81   \n",
              "\n",
              "   Prenom_Phase_cl_H  Prenom_Phase_cl_F  Age_H  Age_F  Pays_sud  \\\n",
              "0                  6                  4      9      4         2   \n",
              "1                  6                  8     11     12         2   \n",
              "2                  6                  6     11      9         2   \n",
              "3                  5                  8      9     12         2   \n",
              "4                  5                  8      9     12         2   \n",
              "\n",
              "   Prenom_effectif  codif_RdB  Flag_PA  Annee_1er_don  Cumul_dons  Don_max  \\\n",
              "0                3          3        2              7           7        6   \n",
              "1                4          3        2              8           5        2   \n",
              "2                3          3        2              8           7        5   \n",
              "3                5          1        2              2           7        8   \n",
              "4                5          1        2              8           7        8   \n",
              "\n",
              "   Don_moyen  Vingtiles_ISF  IFI+  \n",
              "0          4             10   2.0  \n",
              "1          2             10   2.0  \n",
              "2          3              7   2.0  \n",
              "3          6             18   2.0  \n",
              "4          6              2   2.0  "
            ]
          },
          "metadata": {
            "tags": []
          },
          "execution_count": 6
        }
      ]
    },
    {
      "cell_type": "code",
      "metadata": {
        "id": "0DV4-3xA2W_K"
      },
      "source": [
        "#nombre de modalités de chaque variables (dans un dataframe)\n",
        "def nombre_mod(data2):\n",
        "    #création d'un dataframe vide\n",
        "    dff= pd.DataFrame(columns=[\"VARIABLE\",\"NOMBRE_MOD\", \"NOMBRE_MOD_SANS_NA\"])\n",
        "    for i in range(data2.shape[1]): # sans compter les valeurs manquantes\n",
        "        taille =len(data2.iloc[:,i].value_counts(dropna=False))\n",
        "        taille_1 = len(data2.iloc[:,i].value_counts(dropna=True) )\n",
        "        dff=dff.append({\"VARIABLE\": colonnes[i],\"NOMBRE_MOD\":taille, \"NOMBRE_MOD_SANS_NA\":taille_1 }, ignore_index=True)\n",
        "    return dff\n",
        "\n",
        "\n",
        "def evaluation(model, X_train, y_train, X_test, y_test, scoring):\n",
        "\n",
        "    model.fit(X_train, y_train)\n",
        "    y_pred = model.predict(X_test)\n",
        "    \n",
        "    print(\"test set : \")\n",
        "    print(confusion_matrix(y_test, y_pred))\n",
        "    print(classification_report(y_test, y_pred)) \n",
        "    print(\"train set : \")\n",
        "    print(confusion_matrix(y_train, model.predict(X_train))) # ajouter \n",
        "    print(classification_report(y_train, model.predict(X_train) ))\n",
        "\n",
        "    N, train_score, val_score = learning_curve(model, X_train, y_train, cv = 4, scoring = scoring, train_sizes = np.linspace(0.1, 1, 10) )\n",
        "\n",
        "    plt.figure(figsize = (10,6))\n",
        "    plt.plot(N, train_score.mean(axis=1), label =\"train_score\")\n",
        "    plt.plot(N, val_score.mean(axis=1), label =\"cross_validation_score\")\n",
        "\n",
        "    plt.legend()\n"
      ],
      "execution_count": 7,
      "outputs": []
    },
    {
      "cell_type": "code",
      "metadata": {
        "colab": {
          "base_uri": "https://localhost:8080/",
          "height": 801
        },
        "id": "2EQAN76Q2XBS",
        "outputId": "a1e9fc6f-6ca3-44c0-9bb7-6f136276253a"
      },
      "source": [
        "nombre_mod(data)"
      ],
      "execution_count": 8,
      "outputs": [
        {
          "output_type": "execute_result",
          "data": {
            "text/html": [
              "<div>\n",
              "<style scoped>\n",
              "    .dataframe tbody tr th:only-of-type {\n",
              "        vertical-align: middle;\n",
              "    }\n",
              "\n",
              "    .dataframe tbody tr th {\n",
              "        vertical-align: top;\n",
              "    }\n",
              "\n",
              "    .dataframe thead th {\n",
              "        text-align: right;\n",
              "    }\n",
              "</style>\n",
              "<table border=\"1\" class=\"dataframe\">\n",
              "  <thead>\n",
              "    <tr style=\"text-align: right;\">\n",
              "      <th></th>\n",
              "      <th>VARIABLE</th>\n",
              "      <th>NOMBRE_MOD</th>\n",
              "      <th>NOMBRE_MOD_SANS_NA</th>\n",
              "    </tr>\n",
              "  </thead>\n",
              "  <tbody>\n",
              "    <tr>\n",
              "      <th>0</th>\n",
              "      <td>IDENT</td>\n",
              "      <td>484522</td>\n",
              "      <td>484522</td>\n",
              "    </tr>\n",
              "    <tr>\n",
              "      <th>1</th>\n",
              "      <td>TypeHabi</td>\n",
              "      <td>4</td>\n",
              "      <td>4</td>\n",
              "    </tr>\n",
              "    <tr>\n",
              "      <th>2</th>\n",
              "      <td>GeoFaz_Scl</td>\n",
              "      <td>38</td>\n",
              "      <td>38</td>\n",
              "    </tr>\n",
              "    <tr>\n",
              "      <th>3</th>\n",
              "      <td>GeoFaz_cl</td>\n",
              "      <td>8</td>\n",
              "      <td>8</td>\n",
              "    </tr>\n",
              "    <tr>\n",
              "      <th>4</th>\n",
              "      <td>Anciennete</td>\n",
              "      <td>11</td>\n",
              "      <td>11</td>\n",
              "    </tr>\n",
              "    <tr>\n",
              "      <th>5</th>\n",
              "      <td>Doublon_ligne</td>\n",
              "      <td>3</td>\n",
              "      <td>3</td>\n",
              "    </tr>\n",
              "    <tr>\n",
              "      <th>6</th>\n",
              "      <td>Revenus_iris</td>\n",
              "      <td>8</td>\n",
              "      <td>8</td>\n",
              "    </tr>\n",
              "    <tr>\n",
              "      <th>7</th>\n",
              "      <td>Sexe</td>\n",
              "      <td>5</td>\n",
              "      <td>5</td>\n",
              "    </tr>\n",
              "    <tr>\n",
              "      <th>8</th>\n",
              "      <td>Prenom_Phase_scl_H</td>\n",
              "      <td>31</td>\n",
              "      <td>31</td>\n",
              "    </tr>\n",
              "    <tr>\n",
              "      <th>9</th>\n",
              "      <td>Prenom_Phase_scl_F</td>\n",
              "      <td>45</td>\n",
              "      <td>45</td>\n",
              "    </tr>\n",
              "    <tr>\n",
              "      <th>10</th>\n",
              "      <td>Prenom_Phase_cl_H</td>\n",
              "      <td>7</td>\n",
              "      <td>7</td>\n",
              "    </tr>\n",
              "    <tr>\n",
              "      <th>11</th>\n",
              "      <td>Prenom_Phase_cl_F</td>\n",
              "      <td>8</td>\n",
              "      <td>8</td>\n",
              "    </tr>\n",
              "    <tr>\n",
              "      <th>12</th>\n",
              "      <td>Age_H</td>\n",
              "      <td>12</td>\n",
              "      <td>12</td>\n",
              "    </tr>\n",
              "    <tr>\n",
              "      <th>13</th>\n",
              "      <td>Age_F</td>\n",
              "      <td>12</td>\n",
              "      <td>12</td>\n",
              "    </tr>\n",
              "    <tr>\n",
              "      <th>14</th>\n",
              "      <td>Pays_sud</td>\n",
              "      <td>2</td>\n",
              "      <td>2</td>\n",
              "    </tr>\n",
              "    <tr>\n",
              "      <th>15</th>\n",
              "      <td>Prenom_effectif</td>\n",
              "      <td>6</td>\n",
              "      <td>6</td>\n",
              "    </tr>\n",
              "    <tr>\n",
              "      <th>16</th>\n",
              "      <td>codif_RdB</td>\n",
              "      <td>5</td>\n",
              "      <td>5</td>\n",
              "    </tr>\n",
              "    <tr>\n",
              "      <th>17</th>\n",
              "      <td>Flag_PA</td>\n",
              "      <td>2</td>\n",
              "      <td>2</td>\n",
              "    </tr>\n",
              "    <tr>\n",
              "      <th>18</th>\n",
              "      <td>Annee_1er_don</td>\n",
              "      <td>9</td>\n",
              "      <td>9</td>\n",
              "    </tr>\n",
              "    <tr>\n",
              "      <th>19</th>\n",
              "      <td>Cumul_dons</td>\n",
              "      <td>8</td>\n",
              "      <td>8</td>\n",
              "    </tr>\n",
              "    <tr>\n",
              "      <th>20</th>\n",
              "      <td>Don_max</td>\n",
              "      <td>9</td>\n",
              "      <td>9</td>\n",
              "    </tr>\n",
              "    <tr>\n",
              "      <th>21</th>\n",
              "      <td>Don_moyen</td>\n",
              "      <td>7</td>\n",
              "      <td>7</td>\n",
              "    </tr>\n",
              "    <tr>\n",
              "      <th>22</th>\n",
              "      <td>Vingtiles_ISF</td>\n",
              "      <td>21</td>\n",
              "      <td>21</td>\n",
              "    </tr>\n",
              "    <tr>\n",
              "      <th>23</th>\n",
              "      <td>IFI+</td>\n",
              "      <td>3</td>\n",
              "      <td>2</td>\n",
              "    </tr>\n",
              "  </tbody>\n",
              "</table>\n",
              "</div>"
            ],
            "text/plain": [
              "              VARIABLE NOMBRE_MOD NOMBRE_MOD_SANS_NA\n",
              "0                IDENT     484522             484522\n",
              "1             TypeHabi          4                  4\n",
              "2           GeoFaz_Scl         38                 38\n",
              "3            GeoFaz_cl          8                  8\n",
              "4           Anciennete         11                 11\n",
              "5        Doublon_ligne          3                  3\n",
              "6         Revenus_iris          8                  8\n",
              "7                 Sexe          5                  5\n",
              "8   Prenom_Phase_scl_H         31                 31\n",
              "9   Prenom_Phase_scl_F         45                 45\n",
              "10   Prenom_Phase_cl_H          7                  7\n",
              "11   Prenom_Phase_cl_F          8                  8\n",
              "12               Age_H         12                 12\n",
              "13               Age_F         12                 12\n",
              "14            Pays_sud          2                  2\n",
              "15     Prenom_effectif          6                  6\n",
              "16           codif_RdB          5                  5\n",
              "17             Flag_PA          2                  2\n",
              "18       Annee_1er_don          9                  9\n",
              "19          Cumul_dons          8                  8\n",
              "20             Don_max          9                  9\n",
              "21           Don_moyen          7                  7\n",
              "22       Vingtiles_ISF         21                 21\n",
              "23                IFI+          3                  2"
            ]
          },
          "metadata": {
            "tags": []
          },
          "execution_count": 8
        }
      ]
    },
    {
      "cell_type": "code",
      "metadata": {
        "colab": {
          "base_uri": "https://localhost:8080/"
        },
        "id": "dNh8ZnOzMfDy",
        "outputId": "42751f40-b4a4-49f2-b1c1-a0f1e1fbdd72"
      },
      "source": [
        "data[\"IFI+\"].value_counts(dropna=False)"
      ],
      "execution_count": 9,
      "outputs": [
        {
          "output_type": "execute_result",
          "data": {
            "text/plain": [
              "2.0    462833\n",
              "NaN     19069\n",
              "1.0      2620\n",
              "Name: IFI+, dtype: int64"
            ]
          },
          "metadata": {
            "tags": []
          },
          "execution_count": 9
        }
      ]
    },
    {
      "cell_type": "code",
      "metadata": {
        "colab": {
          "base_uri": "https://localhost:8080/"
        },
        "id": "_bJVv_4eBsmj",
        "outputId": "701926e0-c0c1-435b-869d-a34ceb9a0630"
      },
      "source": [
        "data.info()"
      ],
      "execution_count": 10,
      "outputs": [
        {
          "output_type": "stream",
          "text": [
            "<class 'pandas.core.frame.DataFrame'>\n",
            "RangeIndex: 484522 entries, 0 to 484521\n",
            "Data columns (total 24 columns):\n",
            " #   Column              Non-Null Count   Dtype  \n",
            "---  ------              --------------   -----  \n",
            " 0   IDENT               484522 non-null  int64  \n",
            " 1   TypeHabi            484522 non-null  int64  \n",
            " 2   GeoFaz_Scl          484522 non-null  int64  \n",
            " 3   GeoFaz_cl           484522 non-null  int64  \n",
            " 4   Anciennete          484522 non-null  int64  \n",
            " 5   Doublon_ligne       484522 non-null  int64  \n",
            " 6   Revenus_iris        484522 non-null  int64  \n",
            " 7   Sexe                484522 non-null  int64  \n",
            " 8   Prenom_Phase_scl_H  484522 non-null  int64  \n",
            " 9   Prenom_Phase_scl_F  484522 non-null  int64  \n",
            " 10  Prenom_Phase_cl_H   484522 non-null  int64  \n",
            " 11  Prenom_Phase_cl_F   484522 non-null  int64  \n",
            " 12  Age_H               484522 non-null  int64  \n",
            " 13  Age_F               484522 non-null  int64  \n",
            " 14  Pays_sud            484522 non-null  int64  \n",
            " 15  Prenom_effectif     484522 non-null  int64  \n",
            " 16  codif_RdB           484522 non-null  int64  \n",
            " 17  Flag_PA             484522 non-null  int64  \n",
            " 18  Annee_1er_don       484522 non-null  int64  \n",
            " 19  Cumul_dons          484522 non-null  int64  \n",
            " 20  Don_max             484522 non-null  int64  \n",
            " 21  Don_moyen           484522 non-null  int64  \n",
            " 22  Vingtiles_ISF       484522 non-null  int64  \n",
            " 23  IFI+                465453 non-null  float64\n",
            "dtypes: float64(1), int64(23)\n",
            "memory usage: 88.7 MB\n"
          ],
          "name": "stdout"
        }
      ]
    },
    {
      "cell_type": "code",
      "metadata": {
        "colab": {
          "base_uri": "https://localhost:8080/",
          "height": 53
        },
        "id": "R6qqf87_2XGq",
        "outputId": "f8b255c6-7215-4950-df33-346eab5f863d"
      },
      "source": [
        "\"\"\" \n",
        "for i in range(data.shape[0]):\n",
        "    if data.iloc[i,23] == 1.0:\n",
        "        data.iloc[i,23] = 1\n",
        "    if data.iloc[i,23] == 2.0:\n",
        "        data.iloc[i,23] = 2    \n",
        "\"\"\"\n"
      ],
      "execution_count": 11,
      "outputs": [
        {
          "output_type": "execute_result",
          "data": {
            "application/vnd.google.colaboratory.intrinsic+json": {
              "type": "string"
            },
            "text/plain": [
              "' \\nfor i in range(data.shape[0]):\\n    if data.iloc[i,23] == 1.0:\\n        data.iloc[i,23] = 1\\n    if data.iloc[i,23] == 2.0:\\n        data.iloc[i,23] = 2    \\n'"
            ]
          },
          "metadata": {
            "tags": []
          },
          "execution_count": 11
        }
      ]
    },
    {
      "cell_type": "code",
      "metadata": {
        "id": "Y4nhL2yxcZZb",
        "colab": {
          "base_uri": "https://localhost:8080/"
        },
        "outputId": "eef8b1e7-144c-498a-e567-f0d89870e53e"
      },
      "source": [
        "\n",
        "!pip install fanalysis"
      ],
      "execution_count": 12,
      "outputs": [
        {
          "output_type": "stream",
          "text": [
            "Collecting fanalysis\n",
            "\u001b[?25l  Downloading https://files.pythonhosted.org/packages/97/b9/0abf11b0e44fdb450c745e4c9a1e4ab764d5ad8882011161c3ddf290a789/fanalysis-0.0.1-py3-none-any.whl (56kB)\n",
            "\r\u001b[K     |█████▉                          | 10kB 17.0MB/s eta 0:00:01\r\u001b[K     |███████████▋                    | 20kB 24.6MB/s eta 0:00:01\r\u001b[K     |█████████████████▌              | 30kB 29.2MB/s eta 0:00:01\r\u001b[K     |███████████████████████▎        | 40kB 18.9MB/s eta 0:00:01\r\u001b[K     |█████████████████████████████   | 51kB 17.8MB/s eta 0:00:01\r\u001b[K     |████████████████████████████████| 61kB 5.2MB/s \n",
            "\u001b[?25hRequirement already satisfied: scikit-learn>=0.18.0 in /usr/local/lib/python3.7/dist-packages (from fanalysis) (0.22.2.post1)\n",
            "Requirement already satisfied: numpy>=1.11.0 in /usr/local/lib/python3.7/dist-packages (from fanalysis) (1.19.5)\n",
            "Requirement already satisfied: matplotlib>=2.0.0 in /usr/local/lib/python3.7/dist-packages (from fanalysis) (3.2.2)\n",
            "Requirement already satisfied: pandas>=0.19.0 in /usr/local/lib/python3.7/dist-packages (from fanalysis) (1.1.5)\n",
            "Requirement already satisfied: joblib>=0.11 in /usr/local/lib/python3.7/dist-packages (from scikit-learn>=0.18.0->fanalysis) (1.0.1)\n",
            "Requirement already satisfied: scipy>=0.17.0 in /usr/local/lib/python3.7/dist-packages (from scikit-learn>=0.18.0->fanalysis) (1.4.1)\n",
            "Requirement already satisfied: pyparsing!=2.0.4,!=2.1.2,!=2.1.6,>=2.0.1 in /usr/local/lib/python3.7/dist-packages (from matplotlib>=2.0.0->fanalysis) (2.4.7)\n",
            "Requirement already satisfied: python-dateutil>=2.1 in /usr/local/lib/python3.7/dist-packages (from matplotlib>=2.0.0->fanalysis) (2.8.1)\n",
            "Requirement already satisfied: kiwisolver>=1.0.1 in /usr/local/lib/python3.7/dist-packages (from matplotlib>=2.0.0->fanalysis) (1.3.1)\n",
            "Requirement already satisfied: cycler>=0.10 in /usr/local/lib/python3.7/dist-packages (from matplotlib>=2.0.0->fanalysis) (0.10.0)\n",
            "Requirement already satisfied: pytz>=2017.2 in /usr/local/lib/python3.7/dist-packages (from pandas>=0.19.0->fanalysis) (2018.9)\n",
            "Requirement already satisfied: six>=1.5 in /usr/local/lib/python3.7/dist-packages (from python-dateutil>=2.1->matplotlib>=2.0.0->fanalysis) (1.15.0)\n",
            "Installing collected packages: fanalysis\n",
            "Successfully installed fanalysis-0.0.1\n"
          ],
          "name": "stdout"
        }
      ]
    },
    {
      "cell_type": "code",
      "metadata": {
        "id": "C0T71nnOQ1rc",
        "colab": {
          "base_uri": "https://localhost:8080/",
          "height": 313
        },
        "outputId": "28313efd-4ca9-4c75-fd1d-dfaa0085664b"
      },
      "source": [
        "#importation de la librairie\n",
        "from fanalysis.mca import MCA\n",
        "\n",
        "#instanciation\n",
        "acm = MCA(var_labels=data.columns[1:22])\n",
        "\n",
        "# apprentissage\n",
        "acm.fit(data.iloc[:,1:22].values)\n",
        "#valeurs propres - graphique\n",
        "print(acm.plot_eigenvalues())"
      ],
      "execution_count": 13,
      "outputs": [
        {
          "output_type": "display_data",
          "data": {
            "image/png": "[encoded data removed]",
            "text/plain": [
              "<Figure size 432x288 with 1 Axes>"
            ]
          },
          "metadata": {
            "tags": [],
            "needs_background": "light"
          }
        },
        {
          "output_type": "stream",
          "text": [
            "None\n"
          ],
          "name": "stdout"
        }
      ]
    },
    {
      "cell_type": "code",
      "metadata": {
        "id": "uba6n_5g-7-U"
      },
      "source": [
        "# fonction qui va diviser et calculer les coordonnées des individus \n",
        "def transform_to_coord(data):\n",
        "    coord_part = 0\n",
        "    coord = acm.transform(data.iloc[0:30000,1:22].values)\n",
        "    k=30000\n",
        "    nb_part = round(data.shape[0]/k)\n",
        "    for i in range(1, nb_part):\n",
        "        coord_part=acm.transform(data.iloc[i*k:(i+1)*k,1:22].values)\n",
        "        coord=np.concatenate((coord, coord_part))\n",
        "\n",
        "    coord_part = acm.transform(data.iloc[nb_part*k: ,1:22].values )\n",
        "    coord=np.concatenate((coord, coord_part))\n",
        "    return coord"
      ],
      "execution_count": 14,
      "outputs": []
    },
    {
      "cell_type": "code",
      "metadata": {
        "id": "Owu0Cby0oOnj"
      },
      "source": [
        "#instanciation\n",
        "acm = MCA(var_labels = data.columns[1:22], n_components=10)  # paramètres index manquante (gérer après)\n",
        "#apprentissage \n",
        "\"ne pas utiliser fit_tranform car le datset est trop grand \"\n",
        "acm.fit(data.iloc[:,1:22].values)\n",
        "\n",
        "# tranformation du dataset\n",
        "coord = transform_to_coord(data)\n"
      ],
      "execution_count": 15,
      "outputs": []
    },
    {
      "cell_type": "code",
      "metadata": {
        "colab": {
          "base_uri": "https://localhost:8080/"
        },
        "id": "7Xqe0tJsysa3",
        "outputId": "d8c2213c-5ba8-4209-b041-49ec3fb718c2"
      },
      "source": [
        "coord.shape"
      ],
      "execution_count": 16,
      "outputs": [
        {
          "output_type": "execute_result",
          "data": {
            "text/plain": [
              "(484522, 10)"
            ]
          },
          "metadata": {
            "tags": []
          },
          "execution_count": 16
        }
      ]
    },
    {
      "cell_type": "code",
      "metadata": {
        "colab": {
          "base_uri": "https://localhost:8080/",
          "height": 313
        },
        "id": "tpU2mQ-g8XJQ",
        "outputId": "ae45b0a9-a00d-4da3-9547-bf8198b244f3"
      },
      "source": [
        "#valeurs propres - graphique\n",
        "print(acm.plot_eigenvalues())\n"
      ],
      "execution_count": 17,
      "outputs": [
        {
          "output_type": "display_data",
          "data": {
            "image/png": "[encoded data removed]",
            "text/plain": [
              "<Figure size 432x288 with 1 Axes>"
            ]
          },
          "metadata": {
            "tags": [],
            "needs_background": "light"
          }
        },
        {
          "output_type": "stream",
          "text": [
            "None\n"
          ],
          "name": "stdout"
        }
      ]
    },
    {
      "cell_type": "code",
      "metadata": {
        "colab": {
          "base_uri": "https://localhost:8080/"
        },
        "id": "OJEJV8tO8eqw",
        "outputId": "d159294f-9242-4258-934d-312bb140d9be"
      },
      "source": [
        "#coordonnées des colonnes\n",
        "print(acm.col_topandas())"
      ],
      "execution_count": 18,
      "outputs": [
        {
          "output_type": "stream",
          "text": [
            "               col_coord_dim1  col_coord_dim2  col_coord_dim3  col_coord_dim4  \\\n",
            "TypeHabi_1           0.308043        0.028056       -0.254317        0.332794   \n",
            "TypeHabi_2          -0.149051       -0.009896        0.121627       -0.156493   \n",
            "TypeHabi_3           0.098735       -0.019673        0.001603        0.093629   \n",
            "TypeHabi_4           0.417201        0.409048       -3.242082        0.055550   \n",
            "GeoFaz_Scl_11       -0.201365        0.045000       -0.173145        0.279897   \n",
            "...                       ...             ...             ...             ...   \n",
            "Don_moyen_3         -0.044906       -0.253525        0.172224       -0.061992   \n",
            "Don_moyen_4         -0.069381       -0.180796       -0.093701        0.196824   \n",
            "Don_moyen_5         -0.250145       -0.237229        0.048370        0.593057   \n",
            "Don_moyen_6         -0.216658       -0.124886       -0.361856        0.729102   \n",
            "Don_moyen_7          0.118912        4.735208        1.358792        0.202226   \n",
            "\n",
            "               col_coord_dim5  col_coord_dim6  col_coord_dim7  col_coord_dim8  \\\n",
            "TypeHabi_1          -0.160440        0.467769       -0.648954        0.196518   \n",
            "TypeHabi_2           0.038742       -0.228167        0.327222       -0.101006   \n",
            "TypeHabi_3          -0.124927        0.241735       -0.274459        0.090999   \n",
            "TypeHabi_4          10.259958       -2.517029       -0.942332        0.361435   \n",
            "GeoFaz_Scl_11       -0.130921        0.163522        0.520169       -0.211064   \n",
            "...                       ...             ...             ...             ...   \n",
            "Don_moyen_3         -0.008406       -0.055831       -0.016198        0.005464   \n",
            "Don_moyen_4          0.140558        0.135052        0.163821       -0.113051   \n",
            "Don_moyen_5          0.146413        0.563678       -0.363157        0.121548   \n",
            "Don_moyen_6          0.246877        0.649513       -0.216627        0.105273   \n",
            "Don_moyen_7          0.132901       -0.077621       -0.151483        0.088784   \n",
            "\n",
            "               col_coord_dim9  col_coord_dim10  col_contrib_dim1  \\\n",
            "TypeHabi_1          -0.192925         0.309057          0.391552   \n",
            "TypeHabi_2           0.084546        -0.126601          0.221002   \n",
            "TypeHabi_3          -0.035186         0.009196          0.018816   \n",
            "TypeHabi_4           0.454758        -0.666494          0.008784   \n",
            "GeoFaz_Scl_11        0.118081        -0.354451          0.024684   \n",
            "...                       ...              ...               ...   \n",
            "Don_moyen_3         -0.003792        -0.029000          0.006188   \n",
            "Don_moyen_4          0.008540        -0.185945          0.013935   \n",
            "Don_moyen_5          0.249023        -0.570732          0.074701   \n",
            "Don_moyen_6          0.191325        -0.434582          0.105367   \n",
            "Don_moyen_7         -0.093916        -0.023019          0.008935   \n",
            "\n",
            "               col_contrib_dim2  col_contrib_dim3  col_contrib_dim4  \\\n",
            "TypeHabi_1             0.005033          0.429139          0.856461   \n",
            "TypeHabi_2             0.001509          0.236629          0.456565   \n",
            "TypeHabi_3             0.001157          0.000008          0.031711   \n",
            "TypeHabi_4             0.013083          0.852939          0.000292   \n",
            "GeoFaz_Scl_11          0.001910          0.029346          0.089378   \n",
            "...                         ...               ...               ...   \n",
            "Don_moyen_3            0.305616          0.146359          0.022101   \n",
            "Don_moyen_4            0.146612          0.040868          0.210163   \n",
            "Don_moyen_5            0.104102          0.004491          0.786908   \n",
            "Don_moyen_6            0.054245          0.472614          2.236242   \n",
            "Don_moyen_7           21.953275          1.875972          0.048429   \n",
            "\n",
            "               col_contrib_dim5  col_contrib_dim6  col_contrib_dim7  \\\n",
            "TypeHabi_1             0.214197          1.866362          3.655397   \n",
            "TypeHabi_2             0.030110          1.070524          2.240523   \n",
            "TypeHabi_3             0.060747          0.233152          0.305836   \n",
            "TypeHabi_4            10.712749          0.660895          0.094262   \n",
            "GeoFaz_Scl_11          0.021042          0.033648          0.346478   \n",
            "...                         ...               ...               ...   \n",
            "Don_moyen_3            0.000437          0.019773          0.001694   \n",
            "Don_moyen_4            0.115331          0.109140          0.163414   \n",
            "Don_moyen_5            0.051609          0.784099          0.331186   \n",
            "Don_moyen_6            0.275890          1.957472          0.221574   \n",
            "Don_moyen_7            0.022507          0.007870          0.030501   \n",
            "\n",
            "               col_contrib_dim8  col_contrib_dim9  col_contrib_dim10  \\\n",
            "TypeHabi_1             0.350719          0.367348           0.985080   \n",
            "TypeHabi_2             0.223362          0.170077           0.398499   \n",
            "TypeHabi_3             0.035177          0.005716           0.000408   \n",
            "TypeHabi_4             0.014509          0.024962           0.056029   \n",
            "GeoFaz_Scl_11          0.059685          0.020302           0.191155   \n",
            "...                         ...               ...                ...   \n",
            "Don_moyen_3            0.000202          0.000106           0.006450   \n",
            "Don_moyen_4            0.081424          0.000505           0.250154   \n",
            "Don_moyen_5            0.038817          0.177074           0.971927   \n",
            "Don_moyen_6            0.054749          0.196532           1.059562   \n",
            "Don_moyen_7            0.010962          0.013331           0.000837   \n",
            "\n",
            "               col_cos2_dim1  col_cos2_dim2  col_cos2_dim3  col_cos2_dim4  \\\n",
            "TypeHabi_1          0.032825       0.000272   2.237362e-02       0.038312   \n",
            "TypeHabi_2          0.036188       0.000160   2.409693e-02       0.039892   \n",
            "TypeHabi_3          0.001332       0.000053   3.512263e-07       0.001198   \n",
            "TypeHabi_4          0.000549       0.000528   3.314375e-02       0.000010   \n",
            "GeoFaz_Scl_11       0.001598       0.000080   1.181553e-03       0.003088   \n",
            "...                      ...            ...            ...            ...   \n",
            "Don_moyen_3         0.000477       0.015189   7.009103e-03       0.000908   \n",
            "Don_moyen_4         0.001059       0.007190   1.931283e-03       0.008521   \n",
            "Don_moyen_5         0.005027       0.004521   1.879548e-04       0.028255   \n",
            "Don_moyen_6         0.007630       0.002535   2.128288e-02       0.086404   \n",
            "Don_moyen_7         0.000579       0.918658   7.564522e-02       0.001676   \n",
            "\n",
            "               col_cos2_dim5  col_cos2_dim6  col_cos2_dim7  col_cos2_dim8  \\\n",
            "TypeHabi_1          0.008905       0.075692       0.145684       0.013359   \n",
            "TypeHabi_2          0.002445       0.084801       0.174414       0.016619   \n",
            "TypeHabi_3          0.002133       0.007985       0.010294       0.001132   \n",
            "TypeHabi_4          0.331929       0.019977       0.002800       0.000412   \n",
            "GeoFaz_Scl_11       0.000676       0.001054       0.010664       0.001756   \n",
            "...                      ...            ...            ...            ...   \n",
            "Don_moyen_3         0.000017       0.000737       0.000062       0.000007   \n",
            "Don_moyen_4         0.004346       0.004012       0.005903       0.002811   \n",
            "Don_moyen_5         0.001722       0.025525       0.010595       0.001187   \n",
            "Don_moyen_6         0.009907       0.068570       0.007628       0.001801   \n",
            "Don_moyen_7         0.000724       0.000247       0.000940       0.000323   \n",
            "\n",
            "               col_cos2_dim9  col_cos2_dim10  \n",
            "TypeHabi_1          0.012875        0.033042  \n",
            "TypeHabi_2          0.011644        0.026108  \n",
            "TypeHabi_3          0.000169        0.000012  \n",
            "TypeHabi_4          0.000652        0.001401  \n",
            "GeoFaz_Scl_11       0.000550        0.004952  \n",
            "...                      ...             ...  \n",
            "Don_moyen_3         0.000003        0.000199  \n",
            "Don_moyen_4         0.000016        0.007605  \n",
            "Don_moyen_5         0.004982        0.026167  \n",
            "Don_moyen_6         0.005950        0.030697  \n",
            "Don_moyen_7         0.000361        0.000022  \n",
            "\n",
            "[240 rows x 30 columns]\n"
          ],
          "name": "stdout"
        }
      ]
    },
    {
      "cell_type": "code",
      "metadata": {
        "colab": {
          "base_uri": "https://localhost:8080/"
        },
        "id": "irARzF0d8es8",
        "outputId": "d46728e4-52d8-43dd-c392-b52e96e962eb"
      },
      "source": [
        "#nombre var. actives\n",
        "p = data.shape[1]-1\n",
        "print(p)\n",
        "#calcul des fonctions de projection\n",
        "fproj = np.zeros(acm.col_coord_.shape)\n",
        "#pour chaque colonne\n",
        "for j in range(fproj.shape[1]):\n",
        " fproj[:,j] = acm.col_coord_[:,j]/(p*np.sqrt(acm.eig_[0,j]))\n",
        "#affichage fonction\n",
        "print(fproj)\n",
        "#affichage plus avenant des deux premiers facteurs\n",
        "print(pd.DataFrame(fproj,index=acm.col_labels_))\n"
      ],
      "execution_count": 19,
      "outputs": [
        {
          "output_type": "stream",
          "text": [
            "23\n",
            "[[ 2.45920468e-02  2.78807170e-03 -2.57453499e-02 ...  2.32744577e-02\n",
            "  -2.38198269e-02  3.90063672e-02]\n",
            " [-1.18992358e-02 -9.83387525e-04  1.23127577e-02 ... -1.19626106e-02\n",
            "   1.04386280e-02 -1.59784384e-02]\n",
            " [ 7.88235137e-03 -1.95498606e-03  1.62296163e-04 ...  1.07773864e-02\n",
            "  -4.34429347e-03  1.16066606e-03]\n",
            " ...\n",
            " [-1.99698880e-02 -2.35744363e-02  4.89668270e-03 ...  1.43954529e-02\n",
            "   3.07460503e-02 -7.20326405e-02]\n",
            " [-1.72965077e-02 -1.24104320e-02 -3.66318983e-02 ...  1.24679507e-02\n",
            "   2.36223346e-02 -5.48491086e-02]\n",
            " [ 9.49311717e-03  4.70557693e-01  1.37555005e-01 ...  1.05151280e-02\n",
            "  -1.15955158e-02 -2.90521772e-03]]\n",
            "                      0         1         2         3         4         5  \\\n",
            "TypeHabi_1     0.024592  0.002788 -0.025745  0.036371 -0.018189  0.053691   \n",
            "TypeHabi_2    -0.011899 -0.000983  0.012313 -0.017103  0.004392 -0.026189   \n",
            "TypeHabi_3     0.007882 -0.001955  0.000162  0.010233 -0.014163  0.027746   \n",
            "TypeHabi_4     0.033307  0.040649 -0.328207  0.006071  1.163159 -0.288905   \n",
            "GeoFaz_Scl_11 -0.016076  0.004472 -0.017528  0.030590 -0.014842  0.018769   \n",
            "...                 ...       ...       ...       ...       ...       ...   \n",
            "Don_moyen_3   -0.003585 -0.025194  0.017435 -0.006775 -0.000953 -0.006408   \n",
            "Don_moyen_4   -0.005539 -0.017966 -0.009486  0.021511  0.015935  0.015501   \n",
            "Don_moyen_5   -0.019970 -0.023574  0.004897  0.064815  0.016599  0.064699   \n",
            "Don_moyen_6   -0.017297 -0.012410 -0.036632  0.079683  0.027988  0.074551   \n",
            "Don_moyen_7    0.009493  0.470558  0.137555  0.022101  0.015067 -0.008909   \n",
            "\n",
            "                      6         7         8         9  \n",
            "TypeHabi_1    -0.075139  0.023274 -0.023820  0.039006  \n",
            "TypeHabi_2     0.037887 -0.011963  0.010439 -0.015978  \n",
            "TypeHabi_3    -0.031778  0.010777 -0.004344  0.001161  \n",
            "TypeHabi_4    -0.109108  0.042806  0.056148 -0.084119  \n",
            "GeoFaz_Scl_11  0.060228 -0.024997  0.014579 -0.044736  \n",
            "...                 ...       ...       ...       ...  \n",
            "Don_moyen_3   -0.001875  0.000647 -0.000468 -0.003660  \n",
            "Don_moyen_4    0.018968 -0.013389  0.001054 -0.023468  \n",
            "Don_moyen_5   -0.042048  0.014395  0.030746 -0.072033  \n",
            "Don_moyen_6   -0.025082  0.012468  0.023622 -0.054849  \n",
            "Don_moyen_7   -0.017540  0.010515 -0.011596 -0.002905  \n",
            "\n",
            "[240 rows x 10 columns]\n"
          ],
          "name": "stdout"
        }
      ]
    },
    {
      "cell_type": "code",
      "metadata": {
        "id": "TYbwi6XPom6o"
      },
      "source": [
        ""
      ],
      "execution_count": 19,
      "outputs": []
    },
    {
      "cell_type": "code",
      "metadata": {
        "id": "yk7314rJo8ss",
        "colab": {
          "base_uri": "https://localhost:8080/"
        },
        "outputId": "45581c81-e391-493a-bc38-7733e6c01a91"
      },
      "source": [
        "#10 premières lignes\n",
        "print(coord[:10,:])\n"
      ],
      "execution_count": 20,
      "outputs": [
        {
          "output_type": "stream",
          "text": [
            "[[ 0.0119508  -0.00148098 -0.34336444 -0.11481482 -0.04560869  0.56645452\n",
            "  -0.10758517 -0.15917103 -0.72617124 -0.57766009]\n",
            " [-0.30068904 -0.13199317  0.1444261  -0.39628891  0.04059033  0.48912828\n",
            "  -0.39023196  0.50556192 -0.22457525  0.20094984]\n",
            " [ 0.00875939 -0.20144055  0.53936513 -0.61389877  0.23318113  0.60113673\n",
            "  -0.09632512 -0.123426    0.39695427 -0.16869507]\n",
            " [-0.73008063 -0.08973934 -0.09085613  0.54656231 -0.03672979  0.23185405\n",
            "  -0.53703945 -0.30244295 -0.26140384 -0.25367165]\n",
            " [-0.78608946 -0.11895905  0.02729426  0.50177151  0.05163984  0.13162223\n",
            "  -0.49094473 -0.29944757 -0.20388121 -0.32833799]\n",
            " [-0.60765227 -0.07394311 -0.12945368  0.62357147 -0.05577838  0.35957461\n",
            "  -0.05762383  0.42547987  0.40716881 -0.06549388]\n",
            " [ 0.47676365 -0.22754413  0.44213408  0.10391917  0.18291539 -0.07550087\n",
            "  -0.17280614 -0.39201697  0.35926374  0.09429823]\n",
            " [-0.67371076 -0.14634389  0.03029345  0.46079629 -0.03385783  0.0729178\n",
            "  -0.35318577 -0.20726202 -0.09530929 -0.26292359]\n",
            " [ 0.02164778 -0.22705259  0.5747628  -0.63137355  0.15577984  0.3196696\n",
            "  -0.02244561  0.18194377  0.26924952 -0.15283747]\n",
            " [-0.54666232 -0.12314615  0.17524076 -0.31720757  0.12481544  0.44948641\n",
            "  -0.03949417  0.29578114 -0.15176223 -0.04618728]]\n"
          ],
          "name": "stdout"
        }
      ]
    },
    {
      "cell_type": "code",
      "metadata": {
        "id": "XZXRt7tZSM2r"
      },
      "source": [
        "#print(data_sans_nan.shape)\n",
        "#print(coord_sans_nan.shape)\n",
        "#print(data_sans_nan.iloc[:,0])\n",
        "#dfff.isnull().sum(axis=0)"
      ],
      "execution_count": 22,
      "outputs": []
    },
    {
      "cell_type": "code",
      "metadata": {
        "id": "NpZCCbB4VJmr"
      },
      "source": [
        "\n",
        "# élimination des individus n'ayant pas de valeur pour la varialbe IFI+\n",
        "data_sans_nan = data[(data.isnull()).sum(axis=1) == 0]\n",
        "coord_sans_nan = coord[(data.isnull()).sum(axis=1) == 0]\n",
        "\n",
        "dfff = pd.DataFrame()\n",
        "dfff[\"IDENT\"] = data_sans_nan.iloc[:,0]\n",
        "for i in range(10):\n",
        "    dfff[str(i)]=coord_sans_nan[:,i]\n",
        "dfff[\"IFI+\"] = data_sans_nan.iloc[:,23].astype(int)\n",
        "\n",
        "data_coord_nan = dfff"
      ],
      "execution_count": 23,
      "outputs": []
    },
    {
      "cell_type": "code",
      "metadata": {
        "colab": {
          "base_uri": "https://localhost:8080/"
        },
        "id": "LJ4G93RJxEdo",
        "outputId": "7c4bbced-9e9e-4fbd-c8b4-f4cfaeca5b64"
      },
      "source": [
        "dfff.info()"
      ],
      "execution_count": 24,
      "outputs": [
        {
          "output_type": "stream",
          "text": [
            "<class 'pandas.core.frame.DataFrame'>\n",
            "Int64Index: 465453 entries, 0 to 466516\n",
            "Data columns (total 12 columns):\n",
            " #   Column  Non-Null Count   Dtype  \n",
            "---  ------  --------------   -----  \n",
            " 0   IDENT   465453 non-null  int64  \n",
            " 1   0       465453 non-null  float64\n",
            " 2   1       465453 non-null  float64\n",
            " 3   2       465453 non-null  float64\n",
            " 4   3       465453 non-null  float64\n",
            " 5   4       465453 non-null  float64\n",
            " 6   5       465453 non-null  float64\n",
            " 7   6       465453 non-null  float64\n",
            " 8   7       465453 non-null  float64\n",
            " 9   8       465453 non-null  float64\n",
            " 10  9       465453 non-null  float64\n",
            " 11  IFI+    465453 non-null  int64  \n",
            "dtypes: float64(10), int64(2)\n",
            "memory usage: 46.2 MB\n"
          ],
          "name": "stdout"
        }
      ]
    },
    {
      "cell_type": "code",
      "metadata": {
        "id": "CuvxB6-qYNzJ"
      },
      "source": [
        "from sklearn.discriminant_analysis import LinearDiscriminantAnalysis, QuadraticDiscriminantAnalysis\n",
        "\n",
        "from sklearn.metrics import f1_score, confusion_matrix, classification_report\n",
        "from sklearn.model_selection import train_test_split, learning_curve, GridSearchCV\n",
        "\n",
        "import imblearn\n",
        "from imblearn.combine import SMOTETomek\n",
        "from imblearn.under_sampling import TomekLinks\n",
        "from imblearn.over_sampling import SMOTE\n"
      ],
      "execution_count": 36,
      "outputs": []
    },
    {
      "cell_type": "code",
      "metadata": {
        "id": "S0jwerFqbXh-",
        "colab": {
          "base_uri": "https://localhost:8080/"
        },
        "outputId": "41142839-5323-4e1b-f261-b3921d48844a"
      },
      "source": [
        "#data_non_corr = elimination_val_corr(data)\n",
        "#nb_var = data_non_corr.shape[1] - 1\n",
        "nb_var = data_coord_nan.shape[1] - 1\n",
        "\n",
        "train_set, test_set = train_test_split(data_coord_nan, test_size = 0.2, random_state=1)# , stratify =data_coord_nan[\"IFI+\"] )\n",
        "\n",
        "train_X_s = (train_set.iloc[:,1:nb_var]).to_numpy()\n",
        "train_Y_s = np.asanyarray(train_set.iloc[:,nb_var])\n",
        "\n",
        "test_X_s = (test_set.iloc[:,1:nb_var]).to_numpy()\n",
        "test_Y_s = np.asanyarray(test_set.iloc[:,nb_var])\n",
        "\n",
        "# comme les résulats sont en overfitting, on fait une augmentation de données\n",
        "tl = SMOTE()\n",
        "X_resampled, y_resampled = tl.fit_resample(train_X_s[:,:22] , train_Y_s ) \n"
      ],
      "execution_count": 72,
      "outputs": [
        {
          "output_type": "stream",
          "text": [
            "/usr/local/lib/python3.7/dist-packages/sklearn/utils/deprecation.py:87: FutureWarning: Function safe_indexing is deprecated; safe_indexing is deprecated in version 0.22 and will be removed in version 0.24.\n",
            "  warnings.warn(msg, category=FutureWarning)\n"
          ],
          "name": "stderr"
        }
      ]
    },
    {
      "cell_type": "code",
      "metadata": {
        "colab": {
          "base_uri": "https://localhost:8080/"
        },
        "id": "tLasso34-MXx",
        "outputId": "8ea9eeb2-074d-453d-e77e-c1e20bdf86e1"
      },
      "source": [
        "model_LinearDiscriminantAnalysis = LinearDiscriminantAnalysis()\n",
        "param = {\"solver\" : [\"svd\",\"lsqr\", \"eigen\"], \"tol\" : [0.00001,0.0001,0.0002,0.0003]}\n",
        "\n",
        "grid_LinearDiscriminantAnalysis = GridSearchCV(model_LinearDiscriminantAnalysis, param_grid= param, cv = 4, scoring = \"accuracy\")\n",
        "resultat_grid_LinearDiscriminantAnalysis = grid_LinearDiscriminantAnalysis.fit(X_resampled, y_resampled)\n",
        "resultat_grid_LinearDiscriminantAnalysis.best_params_ "
      ],
      "execution_count": 51,
      "outputs": [
        {
          "output_type": "execute_result",
          "data": {
            "text/plain": [
              "{'solver': 'svd', 'tol': 1e-05}"
            ]
          },
          "metadata": {
            "tags": []
          },
          "execution_count": 51
        }
      ]
    },
    {
      "cell_type": "code",
      "metadata": {
        "colab": {
          "base_uri": "https://localhost:8080/",
          "height": 963
        },
        "id": "mtwy_DkreMi8",
        "outputId": "fa431049-9c22-4170-9855-5e494798e689"
      },
      "source": [
        "model_17 = LinearDiscriminantAnalysis()  # la valeur par defaut de la tolérence donne le même résultat que tol=1e-5\n",
        "evaluation(model_17, X_resampled, y_resampled, test_X_s, test_Y_s, scoring = \"accuracy\")"
      ],
      "execution_count": 73,
      "outputs": [
        {
          "output_type": "stream",
          "text": [
            "test set : \n",
            "[[  440    69]\n",
            " [20192 72390]]\n",
            "              precision    recall  f1-score   support\n",
            "\n",
            "           1       0.02      0.86      0.04       509\n",
            "           2       1.00      0.78      0.88     92582\n",
            "\n",
            "    accuracy                           0.78     93091\n",
            "   macro avg       0.51      0.82      0.46     93091\n",
            "weighted avg       0.99      0.78      0.87     93091\n",
            "\n",
            "train set : \n",
            "[[328514  41737]\n",
            " [ 79581 290670]]\n",
            "              precision    recall  f1-score   support\n",
            "\n",
            "           1       0.80      0.89      0.84    370251\n",
            "           2       0.87      0.79      0.83    370251\n",
            "\n",
            "    accuracy                           0.84    740502\n",
            "   macro avg       0.84      0.84      0.84    740502\n",
            "weighted avg       0.84      0.84      0.84    740502\n",
            "\n"
          ],
          "name": "stdout"
        },
        {
          "output_type": "stream",
          "text": [
            "/usr/local/lib/python3.7/dist-packages/sklearn/discriminant_analysis.py:399: RuntimeWarning: invalid value encountered in true_divide\n",
            "  S**2))[:self._max_components]\n",
            "/usr/local/lib/python3.7/dist-packages/sklearn/discriminant_analysis.py:399: RuntimeWarning: invalid value encountered in true_divide\n",
            "  S**2))[:self._max_components]\n",
            "/usr/local/lib/python3.7/dist-packages/sklearn/discriminant_analysis.py:399: RuntimeWarning: invalid value encountered in true_divide\n",
            "  S**2))[:self._max_components]\n",
            "/usr/local/lib/python3.7/dist-packages/sklearn/discriminant_analysis.py:399: RuntimeWarning: invalid value encountered in true_divide\n",
            "  S**2))[:self._max_components]\n",
            "/usr/local/lib/python3.7/dist-packages/sklearn/discriminant_analysis.py:399: RuntimeWarning: invalid value encountered in true_divide\n",
            "  S**2))[:self._max_components]\n"
          ],
          "name": "stderr"
        },
        {
          "output_type": "display_data",
          "data": {
            "image/png": "[encoded data removed]",
            "text/plain": [
              "<Figure size 720x432 with 1 Axes>"
            ]
          },
          "metadata": {
            "tags": [],
            "needs_background": "light"
          }
        }
      ]
    },
    {
      "cell_type": "code",
      "metadata": {
        "colab": {
          "base_uri": "https://localhost:8080/"
        },
        "id": "YOVl16Po611_",
        "outputId": "ff66567b-64ab-4469-ec74-72db93dc4d40"
      },
      "source": [
        "model_17.get_params"
      ],
      "execution_count": 44,
      "outputs": [
        {
          "output_type": "execute_result",
          "data": {
            "text/plain": [
              "<bound method BaseEstimator.get_params of LinearDiscriminantAnalysis(n_components=None, priors=None, shrinkage=None,\n",
              "                           solver='svd', store_covariance=False, tol=0.0001)>"
            ]
          },
          "metadata": {
            "tags": []
          },
          "execution_count": 44
        }
      ]
    },
    {
      "cell_type": "code",
      "metadata": {
        "colab": {
          "base_uri": "https://localhost:8080/"
        },
        "id": "aiN9NNXgjtkO",
        "outputId": "ef7881b9-30f5-4b4b-c9d5-9985bca8d7c7"
      },
      "source": [
        "#classe pour l'analyse discriminante\n",
        "\n",
        "#instanciation\n",
        "adl = LinearDiscriminantAnalysis()\n",
        "#apprentissage\n",
        "adl.fit(coord_sans_nan,data_sans_nan[\"IFI+\"])"
      ],
      "execution_count": 34,
      "outputs": [
        {
          "output_type": "execute_result",
          "data": {
            "text/plain": [
              "LinearDiscriminantAnalysis(n_components=None, priors=None, shrinkage=None,\n",
              "                           solver='svd', store_covariance=False, tol=0.0001)"
            ]
          },
          "metadata": {
            "tags": []
          },
          "execution_count": 34
        }
      ]
    },
    {
      "cell_type": "code",
      "metadata": {
        "id": "ixzqkiWMxz_6",
        "colab": {
          "base_uri": "https://localhost:8080/",
          "height": 423
        },
        "outputId": "0dfa13e7-6ad5-406f-e19b-ae64f85f6a28"
      },
      "source": [
        "#reconstitution de la fonction sur indicatrices (multiplication)\n",
        "fpValues = np.dot(fproj,np.transpose(adl.coef_))\n",
        "#print(fpValues)\n",
        "#affichage plus joli\n",
        "pd.DataFrame(fpValues,index=acm.col_labels_)"
      ],
      "execution_count": 58,
      "outputs": [
        {
          "output_type": "execute_result",
          "data": {
            "text/html": [
              "<div>\n",
              "<style scoped>\n",
              "    .dataframe tbody tr th:only-of-type {\n",
              "        vertical-align: middle;\n",
              "    }\n",
              "\n",
              "    .dataframe tbody tr th {\n",
              "        vertical-align: top;\n",
              "    }\n",
              "\n",
              "    .dataframe thead th {\n",
              "        text-align: right;\n",
              "    }\n",
              "</style>\n",
              "<table border=\"1\" class=\"dataframe\">\n",
              "  <thead>\n",
              "    <tr style=\"text-align: right;\">\n",
              "      <th></th>\n",
              "      <th>0</th>\n",
              "    </tr>\n",
              "  </thead>\n",
              "  <tbody>\n",
              "    <tr>\n",
              "      <th>TypeHabi_1</th>\n",
              "      <td>-0.288108</td>\n",
              "    </tr>\n",
              "    <tr>\n",
              "      <th>TypeHabi_2</th>\n",
              "      <td>0.144834</td>\n",
              "    </tr>\n",
              "    <tr>\n",
              "      <th>TypeHabi_3</th>\n",
              "      <td>-0.132385</td>\n",
              "    </tr>\n",
              "    <tr>\n",
              "      <th>TypeHabi_4</th>\n",
              "      <td>0.071164</td>\n",
              "    </tr>\n",
              "    <tr>\n",
              "      <th>GeoFaz_Scl_11</th>\n",
              "      <td>-0.034166</td>\n",
              "    </tr>\n",
              "    <tr>\n",
              "      <th>...</th>\n",
              "      <td>...</td>\n",
              "    </tr>\n",
              "    <tr>\n",
              "      <th>Don_moyen_3</th>\n",
              "      <td>0.324096</td>\n",
              "    </tr>\n",
              "    <tr>\n",
              "      <th>Don_moyen_4</th>\n",
              "      <td>0.206657</td>\n",
              "    </tr>\n",
              "    <tr>\n",
              "      <th>Don_moyen_5</th>\n",
              "      <td>-0.250813</td>\n",
              "    </tr>\n",
              "    <tr>\n",
              "      <th>Don_moyen_6</th>\n",
              "      <td>-0.268574</td>\n",
              "    </tr>\n",
              "    <tr>\n",
              "      <th>Don_moyen_7</th>\n",
              "      <td>-7.390598</td>\n",
              "    </tr>\n",
              "  </tbody>\n",
              "</table>\n",
              "<p>240 rows × 1 columns</p>\n",
              "</div>"
            ],
            "text/plain": [
              "                      0\n",
              "TypeHabi_1    -0.288108\n",
              "TypeHabi_2     0.144834\n",
              "TypeHabi_3    -0.132385\n",
              "TypeHabi_4     0.071164\n",
              "GeoFaz_Scl_11 -0.034166\n",
              "...                 ...\n",
              "Don_moyen_3    0.324096\n",
              "Don_moyen_4    0.206657\n",
              "Don_moyen_5   -0.250813\n",
              "Don_moyen_6   -0.268574\n",
              "Don_moyen_7   -7.390598\n",
              "\n",
              "[240 rows x 1 columns]"
            ]
          },
          "metadata": {
            "tags": []
          },
          "execution_count": 58
        }
      ]
    },
    {
      "cell_type": "code",
      "metadata": {
        "id": "Hrn05BAzx0CO"
      },
      "source": [
        ""
      ],
      "execution_count": 35,
      "outputs": []
    },
    {
      "cell_type": "code",
      "metadata": {
        "colab": {
          "base_uri": "https://localhost:8080/",
          "height": 139
        },
        "id": "0csF8LqVx0Ee",
        "outputId": "9b105a3e-af5e-4542-d9d1-6b4db403bf7a"
      },
      "source": [
        "\n",
        "'''\n",
        "from sklearn.preprocessing import KBinsDiscretizer\n",
        "# discrétisation des variables continues (les valeurs manquantes doivent être gérées en amont)\n",
        " c'est qui est bien avec KBinsDiscretizer est qu'il s'adapte aux éventuelles partitions au\n",
        "sein d'une variable. En d'autres termes, si la méthode n'arrive pas à partitionner les individus\n",
        "en k partitions, alors elle esssayera de les partitionner en k-1 partitions, et ainsi de suite, \n",
        "jusqu'à atteindre 1 partition (il faut faire attention avec les variables ayant uniquement \n",
        "une modalité). Lorsque la méthode rencontre ce cas, elle affichera \"UserWaring\" pour informer \n",
        "l'utilisateur de celui-ci ainsi que les variables concernées. Ceci sera utile plus tard.\n",
        "\n",
        "\n",
        "method_discre = KBinsDiscretizer(n_bins=4, encode='ordinal', strategy='quantile') \n",
        "method_discre.fit(data.iloc[:,1:23])\n",
        "resultat_discre = method_discre.transform(data.iloc[:,1:23])\n",
        "resultat_discre\n",
        "\n",
        "# construction du data frame après discrétisation\n",
        "data2_index = data.iloc[:,0]\n",
        "df_resultat_discre = pd.DataFrame(resultat_discre,columns=colonnes[1:23], dtype=int )\n",
        "data_final = pd.concat([data2_index, df_resultat_discre,data[\"IFI+\"]], axis=1 ) #data2_index\n",
        "data_final\n",
        "\n",
        "#nombre_mod(data_final)\n",
        "#nombre_mod(data)\n",
        "\n",
        "# description des modalités d'une variable\n",
        "for k in range(1,data_final.shape[1]):\n",
        "    print(data_final.iloc[:,k].value_counts(dropna=True)); print(\"=\"*50)\n",
        "\n",
        "# description des modalités d'une variable\n",
        "for k in range(1,data.shape[1]):\n",
        "    print(data.iloc[:,k].value_counts(dropna=True)); print(\"=\"*50)\n",
        "\n",
        "'''\n"
      ],
      "execution_count": 30,
      "outputs": [
        {
          "output_type": "execute_result",
          "data": {
            "application/vnd.google.colaboratory.intrinsic+json": {
              "type": "string"
            },
            "text/plain": [
              "'\\nfrom sklearn.preprocessing import KBinsDiscretizer\\n# discrétisation des variables continues (les valeurs manquantes doivent être gérées en amont)\\n c\\'est qui est bien avec KBinsDiscretizer est qu\\'il s\\'adapte aux éventuelles partitions au\\nsein d\\'une variable. En d\\'autres termes, si la méthode n\\'arrive pas à partitionner les individus\\nen k partitions, alors elle esssayera de les partitionner en k-1 partitions, et ainsi de suite, \\njusqu\\'à atteindre 1 partition (il faut faire attention avec les variables ayant uniquement \\nune modalité). Lorsque la méthode rencontre ce cas, elle affichera \"UserWaring\" pour informer \\nl\\'utilisateur de celui-ci ainsi que les variables concernées. Ceci sera utile plus tard.\\n\\n\\nmethod_discre = KBinsDiscretizer(n_bins=4, encode=\\'ordinal\\', strategy=\\'quantile\\') \\nmethod_discre.fit(data.iloc[:,1:23])\\nresultat_discre = method_discre.transform(data.iloc[:,1:23])\\nresultat_discre\\n\\n# construction du data frame après discrétisation\\ndata2_index = data.iloc[:,0]\\ndf_resultat_discre = pd.DataFrame(resultat_discre,columns=colonnes[1:23], dtype=int )\\ndata_final = pd.concat([data2_index, df_resultat_discre,data[\"IFI+\"]], axis=1 ) #data2_index\\ndata_final\\n\\n#nombre_mod(data_final)\\n#nombre_mod(data)\\n\\n# description des modalités d\\'une variable\\nfor k in range(1,data_final.shape[1]):\\n    print(data_final.iloc[:,k].value_counts(dropna=True)); print(\"=\"*50)\\n\\n# description des modalités d\\'une variable\\nfor k in range(1,data.shape[1]):\\n    print(data.iloc[:,k].value_counts(dropna=True)); print(\"=\"*50)\\n\\n'"
            ]
          },
          "metadata": {
            "tags": []
          },
          "execution_count": 30
        }
      ]
    },
    {
      "cell_type": "code",
      "metadata": {
        "id": "SIKMz_STz4fn"
      },
      "source": [
        ""
      ],
      "execution_count": 30,
      "outputs": []
    },
    {
      "cell_type": "code",
      "metadata": {
        "id": "3oAVMbZqz9eK"
      },
      "source": [
        ""
      ],
      "execution_count": 30,
      "outputs": []
    },
    {
      "cell_type": "code",
      "metadata": {
        "id": "aKW0puAaIgmp"
      },
      "source": [
        ""
      ],
      "execution_count": 30,
      "outputs": []
    },
    {
      "cell_type": "code",
      "metadata": {
        "id": "jAZ0dEGzIgry"
      },
      "source": [
        ""
      ],
      "execution_count": 30,
      "outputs": []
    },
    {
      "cell_type": "code",
      "metadata": {
        "id": "_YNg4cZgIgu-"
      },
      "source": [
        ""
      ],
      "execution_count": 30,
      "outputs": []
    },
    {
      "cell_type": "code",
      "metadata": {
        "id": "XEvgv1RcU149"
      },
      "source": [
        ""
      ],
      "execution_count": 30,
      "outputs": []
    }
  ]
}