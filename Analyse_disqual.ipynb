{
  "nbformat": 4,
  "nbformat_minor": 0,
  "metadata": {
    "colab": {
      "name": "Analyse_disqual.ipynb",
      "provenance": [],
      "collapsed_sections": [],
      "authorship_tag": "ABX9TyOcySaNCEXT/Ay+TLRouggo"
    },
    "kernelspec": {
      "name": "python3",
      "display_name": "Python 3"
    },
    "language_info": {
      "name": "python"
    }
  },
  "cells": [
    {
      "cell_type": "code",
      "metadata": {
        "id": "6PE_fq-Af-lD",
        "colab": {
          "base_uri": "https://localhost:8080/"
        },
        "outputId": "eb92fe82-3777-4560-993c-656b46bd0ab2"
      },
      "source": [
        "import numpy as np\n",
        "import pandas as pd\n",
        "import seaborn as sns\n",
        "import matplotlib.pyplot as plt\n",
        "\n",
        "#!pip install fanalysis\n",
        "\n",
        "from sklearn.metrics import confusion_matrix\n",
        "\n",
        "from google.colab import drive\n",
        "drive.mount('/content/drive')"
      ],
      "execution_count": null,
      "outputs": [
        {
          "output_type": "stream",
          "text": [
            "Drive already mounted at /content/drive; to attempt to forcibly remount, call drive.mount(\"/content/drive\", force_remount=True).\n"
          ],
          "name": "stdout"
        }
      ]
    },
    {
      "cell_type": "code",
      "metadata": {
        "id": "yuD2HnZ3uKFa"
      },
      "source": [
        ""
      ],
      "execution_count": null,
      "outputs": []
    },
    {
      "cell_type": "code",
      "metadata": {
        "id": "HDcsBJYZuKHz"
      },
      "source": [
        "# option d'affichage des résultats\n",
        "pd.set_option(\"display.max_row\",130)\n",
        "pd.set_option(\"display.max_columns\",100)"
      ],
      "execution_count": null,
      "outputs": []
    },
    {
      "cell_type": "code",
      "metadata": {
        "id": "EIiIM-2FuKKO"
      },
      "source": [
        "# noms des variables de notre dataset y compris la variable identifiant IRIS\n",
        "colonnes =[\"IDENT\",\"TypeHabi\", \"GeoFaz_Scl\", \"GeoFaz_cl\",\"Anciennete\",\"Doublon_ligne\",\n",
        "            \"Revenus_iris\",\"Sexe\",\"Prenom_Phase_scl_H\", \"Prenom_Phase_scl_F\",\"Prenom_Phase_cl_H\",\n",
        "           \"Prenom_Phase_cl_F\",\"Age_H\",\"Age_F\",\"Pays_sud\",\"Prenom_effectif\",\"codif_RdB\",\"Flag_PA\",\n",
        "           \"Annee_1er_don\",\"Cumul_dons\",\"Don_max\",\"Don_moyen\",\"Vingtiles_ISF\",\"IFI+\"]"
      ],
      "execution_count": null,
      "outputs": []
    },
    {
      "cell_type": "code",
      "metadata": {
        "id": "wci4tC0suKMu"
      },
      "source": [
        "# importation du fichier (changer le chemin d'accès)\n",
        "''' Faites attention au type de fichier, au délimiteur des valeurs (ça doit être unique et non multiple),\n",
        "au header et à la lecture des types d'objets (low_memory) '''\n",
        "#/content/drive/MyDrive/Stage_methods_spad/data_excel_2.csv\n",
        "data_orig = pd.read_csv(\"/content/drive/MyDrive/spad_score_method_1/my_data_FDFIFI19.txt\",delim_whitespace=\"\\t\" , header = None, names=colonnes, low_memory=False, )#, dtype='Int64')"
      ],
      "execution_count": null,
      "outputs": []
    },
    {
      "cell_type": "code",
      "metadata": {
        "colab": {
          "base_uri": "https://localhost:8080/"
        },
        "id": "oyDoq2cHxz7o",
        "outputId": "e371de81-42ee-49fd-a4ad-388258d4baa0"
      },
      "source": [
        "''' copie superficielle (peu profonde) du dataset original pour ne pas modifier les valeurs\n",
        "d'origine par erreur plus tard \n",
        "'''\n",
        "data = data_orig.copy()\n",
        "data.shape"
      ],
      "execution_count": null,
      "outputs": [
        {
          "output_type": "execute_result",
          "data": {
            "text/plain": [
              "(484522, 24)"
            ]
          },
          "metadata": {
            "tags": []
          },
          "execution_count": 67
        }
      ]
    },
    {
      "cell_type": "code",
      "metadata": {
        "colab": {
          "base_uri": "https://localhost:8080/",
          "height": 223
        },
        "id": "d8EgLMlSxz9s",
        "outputId": "b4e28f2f-fc4b-4f0d-ef87-25582e4952ed"
      },
      "source": [
        "# visualisation des premiers lignes\n",
        "data.head()\n"
      ],
      "execution_count": null,
      "outputs": [
        {
          "output_type": "execute_result",
          "data": {
            "text/html": [
              "<div>\n",
              "<style scoped>\n",
              "    .dataframe tbody tr th:only-of-type {\n",
              "        vertical-align: middle;\n",
              "    }\n",
              "\n",
              "    .dataframe tbody tr th {\n",
              "        vertical-align: top;\n",
              "    }\n",
              "\n",
              "    .dataframe thead th {\n",
              "        text-align: right;\n",
              "    }\n",
              "</style>\n",
              "<table border=\"1\" class=\"dataframe\">\n",
              "  <thead>\n",
              "    <tr style=\"text-align: right;\">\n",
              "      <th></th>\n",
              "      <th>IDENT</th>\n",
              "      <th>TypeHabi</th>\n",
              "      <th>GeoFaz_Scl</th>\n",
              "      <th>GeoFaz_cl</th>\n",
              "      <th>Anciennete</th>\n",
              "      <th>Doublon_ligne</th>\n",
              "      <th>Revenus_iris</th>\n",
              "      <th>Sexe</th>\n",
              "      <th>Prenom_Phase_scl_H</th>\n",
              "      <th>Prenom_Phase_scl_F</th>\n",
              "      <th>Prenom_Phase_cl_H</th>\n",
              "      <th>Prenom_Phase_cl_F</th>\n",
              "      <th>Age_H</th>\n",
              "      <th>Age_F</th>\n",
              "      <th>Pays_sud</th>\n",
              "      <th>Prenom_effectif</th>\n",
              "      <th>codif_RdB</th>\n",
              "      <th>Flag_PA</th>\n",
              "      <th>Annee_1er_don</th>\n",
              "      <th>Cumul_dons</th>\n",
              "      <th>Don_max</th>\n",
              "      <th>Don_moyen</th>\n",
              "      <th>Vingtiles_ISF</th>\n",
              "      <th>IFI+</th>\n",
              "    </tr>\n",
              "  </thead>\n",
              "  <tbody>\n",
              "    <tr>\n",
              "      <th>0</th>\n",
              "      <td>101001347</td>\n",
              "      <td>3</td>\n",
              "      <td>75</td>\n",
              "      <td>7</td>\n",
              "      <td>8</td>\n",
              "      <td>3</td>\n",
              "      <td>3</td>\n",
              "      <td>3</td>\n",
              "      <td>64</td>\n",
              "      <td>46</td>\n",
              "      <td>6</td>\n",
              "      <td>4</td>\n",
              "      <td>9</td>\n",
              "      <td>4</td>\n",
              "      <td>2</td>\n",
              "      <td>3</td>\n",
              "      <td>3</td>\n",
              "      <td>2</td>\n",
              "      <td>7</td>\n",
              "      <td>7</td>\n",
              "      <td>6</td>\n",
              "      <td>4</td>\n",
              "      <td>10</td>\n",
              "      <td>2.0</td>\n",
              "    </tr>\n",
              "    <tr>\n",
              "      <th>1</th>\n",
              "      <td>201001512</td>\n",
              "      <td>1</td>\n",
              "      <td>74</td>\n",
              "      <td>7</td>\n",
              "      <td>5</td>\n",
              "      <td>3</td>\n",
              "      <td>3</td>\n",
              "      <td>4</td>\n",
              "      <td>65</td>\n",
              "      <td>81</td>\n",
              "      <td>6</td>\n",
              "      <td>8</td>\n",
              "      <td>11</td>\n",
              "      <td>12</td>\n",
              "      <td>2</td>\n",
              "      <td>4</td>\n",
              "      <td>3</td>\n",
              "      <td>2</td>\n",
              "      <td>8</td>\n",
              "      <td>5</td>\n",
              "      <td>2</td>\n",
              "      <td>2</td>\n",
              "      <td>10</td>\n",
              "      <td>2.0</td>\n",
              "    </tr>\n",
              "    <tr>\n",
              "      <th>2</th>\n",
              "      <td>301002801</td>\n",
              "      <td>2</td>\n",
              "      <td>32</td>\n",
              "      <td>3</td>\n",
              "      <td>7</td>\n",
              "      <td>2</td>\n",
              "      <td>4</td>\n",
              "      <td>4</td>\n",
              "      <td>66</td>\n",
              "      <td>66</td>\n",
              "      <td>6</td>\n",
              "      <td>6</td>\n",
              "      <td>11</td>\n",
              "      <td>9</td>\n",
              "      <td>2</td>\n",
              "      <td>3</td>\n",
              "      <td>3</td>\n",
              "      <td>2</td>\n",
              "      <td>8</td>\n",
              "      <td>7</td>\n",
              "      <td>5</td>\n",
              "      <td>3</td>\n",
              "      <td>7</td>\n",
              "      <td>2.0</td>\n",
              "    </tr>\n",
              "    <tr>\n",
              "      <th>3</th>\n",
              "      <td>401003186</td>\n",
              "      <td>1</td>\n",
              "      <td>12</td>\n",
              "      <td>1</td>\n",
              "      <td>4</td>\n",
              "      <td>3</td>\n",
              "      <td>7</td>\n",
              "      <td>3</td>\n",
              "      <td>51</td>\n",
              "      <td>81</td>\n",
              "      <td>5</td>\n",
              "      <td>8</td>\n",
              "      <td>9</td>\n",
              "      <td>12</td>\n",
              "      <td>2</td>\n",
              "      <td>5</td>\n",
              "      <td>1</td>\n",
              "      <td>2</td>\n",
              "      <td>2</td>\n",
              "      <td>7</td>\n",
              "      <td>8</td>\n",
              "      <td>6</td>\n",
              "      <td>18</td>\n",
              "      <td>2.0</td>\n",
              "    </tr>\n",
              "    <tr>\n",
              "      <th>4</th>\n",
              "      <td>501003624</td>\n",
              "      <td>2</td>\n",
              "      <td>12</td>\n",
              "      <td>1</td>\n",
              "      <td>6</td>\n",
              "      <td>3</td>\n",
              "      <td>3</td>\n",
              "      <td>3</td>\n",
              "      <td>51</td>\n",
              "      <td>81</td>\n",
              "      <td>5</td>\n",
              "      <td>8</td>\n",
              "      <td>9</td>\n",
              "      <td>12</td>\n",
              "      <td>2</td>\n",
              "      <td>5</td>\n",
              "      <td>1</td>\n",
              "      <td>2</td>\n",
              "      <td>8</td>\n",
              "      <td>7</td>\n",
              "      <td>8</td>\n",
              "      <td>6</td>\n",
              "      <td>2</td>\n",
              "      <td>2.0</td>\n",
              "    </tr>\n",
              "  </tbody>\n",
              "</table>\n",
              "</div>"
            ],
            "text/plain": [
              "       IDENT  TypeHabi  GeoFaz_Scl  GeoFaz_cl  Anciennete  Doublon_ligne  \\\n",
              "0  101001347         3          75          7           8              3   \n",
              "1  201001512         1          74          7           5              3   \n",
              "2  301002801         2          32          3           7              2   \n",
              "3  401003186         1          12          1           4              3   \n",
              "4  501003624         2          12          1           6              3   \n",
              "\n",
              "   Revenus_iris  Sexe  Prenom_Phase_scl_H  Prenom_Phase_scl_F  \\\n",
              "0             3     3                  64                  46   \n",
              "1             3     4                  65                  81   \n",
              "2             4     4                  66                  66   \n",
              "3             7     3                  51                  81   \n",
              "4             3     3                  51                  81   \n",
              "\n",
              "   Prenom_Phase_cl_H  Prenom_Phase_cl_F  Age_H  Age_F  Pays_sud  \\\n",
              "0                  6                  4      9      4         2   \n",
              "1                  6                  8     11     12         2   \n",
              "2                  6                  6     11      9         2   \n",
              "3                  5                  8      9     12         2   \n",
              "4                  5                  8      9     12         2   \n",
              "\n",
              "   Prenom_effectif  codif_RdB  Flag_PA  Annee_1er_don  Cumul_dons  Don_max  \\\n",
              "0                3          3        2              7           7        6   \n",
              "1                4          3        2              8           5        2   \n",
              "2                3          3        2              8           7        5   \n",
              "3                5          1        2              2           7        8   \n",
              "4                5          1        2              8           7        8   \n",
              "\n",
              "   Don_moyen  Vingtiles_ISF  IFI+  \n",
              "0          4             10   2.0  \n",
              "1          2             10   2.0  \n",
              "2          3              7   2.0  \n",
              "3          6             18   2.0  \n",
              "4          6              2   2.0  "
            ]
          },
          "metadata": {
            "tags": []
          },
          "execution_count": 68
        }
      ]
    },
    {
      "cell_type": "code",
      "metadata": {
        "id": "0DV4-3xA2W_K"
      },
      "source": [
        "#nombre de modalités de chaque variables (dans un dataframe)\n",
        "def nombre_mod(data2):\n",
        "    #création d'un dataframe vide\n",
        "    dff= pd.DataFrame(columns=[\"VARIABLE\",\"NOMBRE_MOD\", \"NOMBRE_MOD_SANS_NA\"])\n",
        "    for i in range(data2.shape[1]): # sans compter les valeurs manquantes\n",
        "        taille =len(data2.iloc[:,i].value_counts(dropna=False))\n",
        "        taille_1 = len(data2.iloc[:,i].value_counts(dropna=True) )\n",
        "        dff=dff.append({\"VARIABLE\": colonnes[i],\"NOMBRE_MOD\":taille, \"NOMBRE_MOD_SANS_NA\":taille_1 }, ignore_index=True)\n",
        "    return dff\n",
        "\n",
        "\n",
        "def evaluation(model, X_train, y_train, X_test, y_test, scoring):\n",
        "\n",
        "    model.fit(X_train, y_train)\n",
        "    y_pred = model.predict(X_test)\n",
        "    \n",
        "    print(\"test set : \")\n",
        "    print(confusion_matrix(y_test, y_pred))\n",
        "    print(classification_report(y_test, y_pred)) \n",
        "    print(\"train set : \")\n",
        "    print(confusion_matrix(y_train, model.predict(X_train))) # ajouter \n",
        "    print(classification_report(y_train, model.predict(X_train) ))\n",
        "\n",
        "    N, train_score, val_score = learning_curve(model, X_train, y_train,shuffle=True ,cv = 4, scoring = scoring, train_sizes = np.linspace(0.1, 1, 6) )\n",
        "\n",
        "    plt.figure(figsize = (10,6))\n",
        "    plt.plot(N, train_score.mean(axis=1), label =\"train_score\")\n",
        "    plt.plot(N, val_score.mean(axis=1), label =\"cross_validation_score\")\n",
        "\n",
        "    plt.legend()\n",
        "\n",
        "\n",
        "def quarantiles(model, data_orig, affichage, save, path):\n",
        "    # position de la dernière variable explicative dans le dataset\n",
        "    nb_var = data_orig.shape[1]-1\n",
        "\n",
        "    # predict sur tous les individus (avec et sans classe IFI+)\n",
        "    tous_probas = model.predict_proba(data_orig.iloc[:,1:nb_var])\n",
        "    df_tous = pd.DataFrame({'IDENT': data_orig.iloc[:,0] , 'PROBA': tous_probas[:,0] })\n",
        "    #df_tous\n",
        "    \n",
        "    # valeurs ordonnées pour diviser après\n",
        "    df_tous=df_tous.sort_values(by='PROBA', ascending=True)\n",
        "    #df_tous\n",
        "    \n",
        "    #vérification\n",
        "    print(df_tous['PROBA'].value_counts())\n",
        "\n",
        "    # quarantiles\n",
        "    df_temp =pd.DataFrame( pd.qcut(df_tous['PROBA'],q= 40)  )\n",
        "    #print(df_temp)\n",
        "\n",
        "    # ajout par index (IMPORTANTE)\n",
        "    df_tous[\"TRANCHES\"]=pd.DataFrame(df_temp.iloc[:,0].to_numpy(),index= df_temp.index)\n",
        "    #print(df_tous)\n",
        "    \n",
        "\n",
        "    # pour la colonne IFI+ :\n",
        "    # remplissage de la dernière colonne par 2 (VALABLE QUE POUR CE DATA, MODIFIER POUR D'AUTRES)\n",
        "    data_temp_t = data_orig.copy()\n",
        "    data_all_complet_class = data_temp_t.fillna('2')\n",
        "    #print(data_all_complet_class)\n",
        "\n",
        "    # jointure\n",
        "    ident_class_tous = data_all_complet_class[[\"IDENT\",\"IFI+\"]]\n",
        "    tableau_resultats = pd.merge(df_tous,ident_class_tous)\n",
        "    #tableau_resultats\n",
        "\n",
        "    # tranches finales\n",
        "    tab_cross_temp = pd.crosstab(tableau_resultats[\"TRANCHES\"],tableau_resultats[\"IFI+\"])\n",
        "    #print(tab_cross_temp)\n",
        "    # création d'une colonne total\n",
        "    tab_cross_temp[\"TOTAL\"]=tab_cross_temp[\"1\"]+tab_cross_temp[\"2\"]\n",
        "    \n",
        "    # affichage\n",
        "    if affichage ==True:        \n",
        "        print(tab_cross_temp)\n",
        "    \n",
        "    # création du tableau final en éliminant la colonne 2\n",
        "    tab_pour_excel = tab_cross_temp.drop([\"2\"], axis=1)\n",
        "    \n",
        "    # enregistrement sous Excel\n",
        "    if save == True:\n",
        "        tab_pour_excel.to_excel(path)\n",
        "\n",
        "\n"
      ],
      "execution_count": null,
      "outputs": []
    },
    {
      "cell_type": "code",
      "metadata": {
        "colab": {
          "base_uri": "https://localhost:8080/",
          "height": 792
        },
        "id": "2EQAN76Q2XBS",
        "outputId": "7f503ba4-4117-4cb9-faa5-028113b5b989"
      },
      "source": [
        "nombre_mod(data)"
      ],
      "execution_count": null,
      "outputs": [
        {
          "output_type": "execute_result",
          "data": {
            "text/html": [
              "<div>\n",
              "<style scoped>\n",
              "    .dataframe tbody tr th:only-of-type {\n",
              "        vertical-align: middle;\n",
              "    }\n",
              "\n",
              "    .dataframe tbody tr th {\n",
              "        vertical-align: top;\n",
              "    }\n",
              "\n",
              "    .dataframe thead th {\n",
              "        text-align: right;\n",
              "    }\n",
              "</style>\n",
              "<table border=\"1\" class=\"dataframe\">\n",
              "  <thead>\n",
              "    <tr style=\"text-align: right;\">\n",
              "      <th></th>\n",
              "      <th>VARIABLE</th>\n",
              "      <th>NOMBRE_MOD</th>\n",
              "      <th>NOMBRE_MOD_SANS_NA</th>\n",
              "    </tr>\n",
              "  </thead>\n",
              "  <tbody>\n",
              "    <tr>\n",
              "      <th>0</th>\n",
              "      <td>IDENT</td>\n",
              "      <td>484522</td>\n",
              "      <td>484522</td>\n",
              "    </tr>\n",
              "    <tr>\n",
              "      <th>1</th>\n",
              "      <td>TypeHabi</td>\n",
              "      <td>4</td>\n",
              "      <td>4</td>\n",
              "    </tr>\n",
              "    <tr>\n",
              "      <th>2</th>\n",
              "      <td>GeoFaz_Scl</td>\n",
              "      <td>38</td>\n",
              "      <td>38</td>\n",
              "    </tr>\n",
              "    <tr>\n",
              "      <th>3</th>\n",
              "      <td>GeoFaz_cl</td>\n",
              "      <td>8</td>\n",
              "      <td>8</td>\n",
              "    </tr>\n",
              "    <tr>\n",
              "      <th>4</th>\n",
              "      <td>Anciennete</td>\n",
              "      <td>11</td>\n",
              "      <td>11</td>\n",
              "    </tr>\n",
              "    <tr>\n",
              "      <th>5</th>\n",
              "      <td>Doublon_ligne</td>\n",
              "      <td>3</td>\n",
              "      <td>3</td>\n",
              "    </tr>\n",
              "    <tr>\n",
              "      <th>6</th>\n",
              "      <td>Revenus_iris</td>\n",
              "      <td>8</td>\n",
              "      <td>8</td>\n",
              "    </tr>\n",
              "    <tr>\n",
              "      <th>7</th>\n",
              "      <td>Sexe</td>\n",
              "      <td>5</td>\n",
              "      <td>5</td>\n",
              "    </tr>\n",
              "    <tr>\n",
              "      <th>8</th>\n",
              "      <td>Prenom_Phase_scl_H</td>\n",
              "      <td>31</td>\n",
              "      <td>31</td>\n",
              "    </tr>\n",
              "    <tr>\n",
              "      <th>9</th>\n",
              "      <td>Prenom_Phase_scl_F</td>\n",
              "      <td>45</td>\n",
              "      <td>45</td>\n",
              "    </tr>\n",
              "    <tr>\n",
              "      <th>10</th>\n",
              "      <td>Prenom_Phase_cl_H</td>\n",
              "      <td>7</td>\n",
              "      <td>7</td>\n",
              "    </tr>\n",
              "    <tr>\n",
              "      <th>11</th>\n",
              "      <td>Prenom_Phase_cl_F</td>\n",
              "      <td>8</td>\n",
              "      <td>8</td>\n",
              "    </tr>\n",
              "    <tr>\n",
              "      <th>12</th>\n",
              "      <td>Age_H</td>\n",
              "      <td>12</td>\n",
              "      <td>12</td>\n",
              "    </tr>\n",
              "    <tr>\n",
              "      <th>13</th>\n",
              "      <td>Age_F</td>\n",
              "      <td>12</td>\n",
              "      <td>12</td>\n",
              "    </tr>\n",
              "    <tr>\n",
              "      <th>14</th>\n",
              "      <td>Pays_sud</td>\n",
              "      <td>2</td>\n",
              "      <td>2</td>\n",
              "    </tr>\n",
              "    <tr>\n",
              "      <th>15</th>\n",
              "      <td>Prenom_effectif</td>\n",
              "      <td>6</td>\n",
              "      <td>6</td>\n",
              "    </tr>\n",
              "    <tr>\n",
              "      <th>16</th>\n",
              "      <td>codif_RdB</td>\n",
              "      <td>5</td>\n",
              "      <td>5</td>\n",
              "    </tr>\n",
              "    <tr>\n",
              "      <th>17</th>\n",
              "      <td>Flag_PA</td>\n",
              "      <td>2</td>\n",
              "      <td>2</td>\n",
              "    </tr>\n",
              "    <tr>\n",
              "      <th>18</th>\n",
              "      <td>Annee_1er_don</td>\n",
              "      <td>9</td>\n",
              "      <td>9</td>\n",
              "    </tr>\n",
              "    <tr>\n",
              "      <th>19</th>\n",
              "      <td>Cumul_dons</td>\n",
              "      <td>8</td>\n",
              "      <td>8</td>\n",
              "    </tr>\n",
              "    <tr>\n",
              "      <th>20</th>\n",
              "      <td>Don_max</td>\n",
              "      <td>9</td>\n",
              "      <td>9</td>\n",
              "    </tr>\n",
              "    <tr>\n",
              "      <th>21</th>\n",
              "      <td>Don_moyen</td>\n",
              "      <td>7</td>\n",
              "      <td>7</td>\n",
              "    </tr>\n",
              "    <tr>\n",
              "      <th>22</th>\n",
              "      <td>Vingtiles_ISF</td>\n",
              "      <td>21</td>\n",
              "      <td>21</td>\n",
              "    </tr>\n",
              "    <tr>\n",
              "      <th>23</th>\n",
              "      <td>IFI+</td>\n",
              "      <td>3</td>\n",
              "      <td>2</td>\n",
              "    </tr>\n",
              "  </tbody>\n",
              "</table>\n",
              "</div>"
            ],
            "text/plain": [
              "              VARIABLE NOMBRE_MOD NOMBRE_MOD_SANS_NA\n",
              "0                IDENT     484522             484522\n",
              "1             TypeHabi          4                  4\n",
              "2           GeoFaz_Scl         38                 38\n",
              "3            GeoFaz_cl          8                  8\n",
              "4           Anciennete         11                 11\n",
              "5        Doublon_ligne          3                  3\n",
              "6         Revenus_iris          8                  8\n",
              "7                 Sexe          5                  5\n",
              "8   Prenom_Phase_scl_H         31                 31\n",
              "9   Prenom_Phase_scl_F         45                 45\n",
              "10   Prenom_Phase_cl_H          7                  7\n",
              "11   Prenom_Phase_cl_F          8                  8\n",
              "12               Age_H         12                 12\n",
              "13               Age_F         12                 12\n",
              "14            Pays_sud          2                  2\n",
              "15     Prenom_effectif          6                  6\n",
              "16           codif_RdB          5                  5\n",
              "17             Flag_PA          2                  2\n",
              "18       Annee_1er_don          9                  9\n",
              "19          Cumul_dons          8                  8\n",
              "20             Don_max          9                  9\n",
              "21           Don_moyen          7                  7\n",
              "22       Vingtiles_ISF         21                 21\n",
              "23                IFI+          3                  2"
            ]
          },
          "metadata": {
            "tags": []
          },
          "execution_count": 70
        }
      ]
    },
    {
      "cell_type": "code",
      "metadata": {
        "colab": {
          "base_uri": "https://localhost:8080/"
        },
        "id": "dNh8ZnOzMfDy",
        "outputId": "60970b2b-2bdd-4e24-819c-7999d962b133"
      },
      "source": [
        "data[\"IFI+\"].value_counts(dropna=False)"
      ],
      "execution_count": null,
      "outputs": [
        {
          "output_type": "execute_result",
          "data": {
            "text/plain": [
              "2.0    462833\n",
              "NaN     19069\n",
              "1.0      2620\n",
              "Name: IFI+, dtype: int64"
            ]
          },
          "metadata": {
            "tags": []
          },
          "execution_count": 71
        }
      ]
    },
    {
      "cell_type": "code",
      "metadata": {
        "colab": {
          "base_uri": "https://localhost:8080/"
        },
        "id": "_bJVv_4eBsmj",
        "outputId": "171d1a3e-e55b-4a53-c15a-8612f5fbbc86"
      },
      "source": [
        "data.info()"
      ],
      "execution_count": null,
      "outputs": [
        {
          "output_type": "stream",
          "text": [
            "<class 'pandas.core.frame.DataFrame'>\n",
            "RangeIndex: 484522 entries, 0 to 484521\n",
            "Data columns (total 24 columns):\n",
            " #   Column              Non-Null Count   Dtype  \n",
            "---  ------              --------------   -----  \n",
            " 0   IDENT               484522 non-null  int64  \n",
            " 1   TypeHabi            484522 non-null  int64  \n",
            " 2   GeoFaz_Scl          484522 non-null  int64  \n",
            " 3   GeoFaz_cl           484522 non-null  int64  \n",
            " 4   Anciennete          484522 non-null  int64  \n",
            " 5   Doublon_ligne       484522 non-null  int64  \n",
            " 6   Revenus_iris        484522 non-null  int64  \n",
            " 7   Sexe                484522 non-null  int64  \n",
            " 8   Prenom_Phase_scl_H  484522 non-null  int64  \n",
            " 9   Prenom_Phase_scl_F  484522 non-null  int64  \n",
            " 10  Prenom_Phase_cl_H   484522 non-null  int64  \n",
            " 11  Prenom_Phase_cl_F   484522 non-null  int64  \n",
            " 12  Age_H               484522 non-null  int64  \n",
            " 13  Age_F               484522 non-null  int64  \n",
            " 14  Pays_sud            484522 non-null  int64  \n",
            " 15  Prenom_effectif     484522 non-null  int64  \n",
            " 16  codif_RdB           484522 non-null  int64  \n",
            " 17  Flag_PA             484522 non-null  int64  \n",
            " 18  Annee_1er_don       484522 non-null  int64  \n",
            " 19  Cumul_dons          484522 non-null  int64  \n",
            " 20  Don_max             484522 non-null  int64  \n",
            " 21  Don_moyen           484522 non-null  int64  \n",
            " 22  Vingtiles_ISF       484522 non-null  int64  \n",
            " 23  IFI+                465453 non-null  float64\n",
            "dtypes: float64(1), int64(23)\n",
            "memory usage: 88.7 MB\n"
          ],
          "name": "stdout"
        }
      ]
    },
    {
      "cell_type": "code",
      "metadata": {
        "id": "R6qqf87_2XGq"
      },
      "source": [
        ""
      ],
      "execution_count": null,
      "outputs": []
    },
    {
      "cell_type": "code",
      "metadata": {
        "id": "Y4nhL2yxcZZb",
        "colab": {
          "base_uri": "https://localhost:8080/"
        },
        "outputId": "320435f5-6a46-4f99-e711-071033293520"
      },
      "source": [
        "\n",
        "!pip install fanalysis"
      ],
      "execution_count": null,
      "outputs": [
        {
          "output_type": "stream",
          "text": [
            "Requirement already satisfied: fanalysis in /usr/local/lib/python3.7/dist-packages (0.0.1)\n",
            "Requirement already satisfied: matplotlib>=2.0.0 in /usr/local/lib/python3.7/dist-packages (from fanalysis) (3.2.2)\n",
            "Requirement already satisfied: pandas>=0.19.0 in /usr/local/lib/python3.7/dist-packages (from fanalysis) (1.1.5)\n",
            "Requirement already satisfied: numpy>=1.11.0 in /usr/local/lib/python3.7/dist-packages (from fanalysis) (1.19.5)\n",
            "Requirement already satisfied: scikit-learn>=0.18.0 in /usr/local/lib/python3.7/dist-packages (from fanalysis) (0.22.2.post1)\n",
            "Requirement already satisfied: kiwisolver>=1.0.1 in /usr/local/lib/python3.7/dist-packages (from matplotlib>=2.0.0->fanalysis) (1.3.1)\n",
            "Requirement already satisfied: python-dateutil>=2.1 in /usr/local/lib/python3.7/dist-packages (from matplotlib>=2.0.0->fanalysis) (2.8.1)\n",
            "Requirement already satisfied: pyparsing!=2.0.4,!=2.1.2,!=2.1.6,>=2.0.1 in /usr/local/lib/python3.7/dist-packages (from matplotlib>=2.0.0->fanalysis) (2.4.7)\n",
            "Requirement already satisfied: cycler>=0.10 in /usr/local/lib/python3.7/dist-packages (from matplotlib>=2.0.0->fanalysis) (0.10.0)\n",
            "Requirement already satisfied: pytz>=2017.2 in /usr/local/lib/python3.7/dist-packages (from pandas>=0.19.0->fanalysis) (2018.9)\n",
            "Requirement already satisfied: joblib>=0.11 in /usr/local/lib/python3.7/dist-packages (from scikit-learn>=0.18.0->fanalysis) (1.0.1)\n",
            "Requirement already satisfied: scipy>=0.17.0 in /usr/local/lib/python3.7/dist-packages (from scikit-learn>=0.18.0->fanalysis) (1.4.1)\n",
            "Requirement already satisfied: six>=1.5 in /usr/local/lib/python3.7/dist-packages (from python-dateutil>=2.1->matplotlib>=2.0.0->fanalysis) (1.15.0)\n"
          ],
          "name": "stdout"
        }
      ]
    },
    {
      "cell_type": "code",
      "metadata": {
        "id": "IJOZku3IYEpI"
      },
      "source": [
        ""
      ],
      "execution_count": null,
      "outputs": []
    },
    {
      "cell_type": "code",
      "metadata": {
        "id": "0lpwr2FMYiq2"
      },
      "source": [
        ""
      ],
      "execution_count": null,
      "outputs": []
    },
    {
      "cell_type": "code",
      "metadata": {
        "id": "gGyqVG-fUKyo"
      },
      "source": [
        "############################################################### AJOUTER OU EFFACER (data =) #######################################\n",
        "# on élimine la variable qui contribue le plus au modèle précédent\n",
        "data=data.drop([\"Annee_1er_don\", \"Cumul_dons\", \"Don_max\", \"Don_moyen\"],axis=1)\n",
        "\n",
        "#data=data.drop([\"Annee_1er_don\", \"Cumul_dons\",\"Don_max\", \"Don_moyen\", \"GeoFaz_cl\", \"Prenom_Phase_cl_H\", \"Prenom_Phase_cl_F\"],axis=1)"
      ],
      "execution_count": null,
      "outputs": []
    },
    {
      "cell_type": "code",
      "metadata": {
        "colab": {
          "base_uri": "https://localhost:8080/"
        },
        "id": "2-RPzJ4vZEhM",
        "outputId": "462d9f38-6d35-46c5-f440-c4f29ab20d0a"
      },
      "source": [
        "num_var_max = data.shape[1] - 1\n",
        "num_var_max"
      ],
      "execution_count": null,
      "outputs": [
        {
          "output_type": "execute_result",
          "data": {
            "text/plain": [
              "19"
            ]
          },
          "metadata": {
            "tags": []
          },
          "execution_count": 75
        }
      ]
    },
    {
      "cell_type": "code",
      "metadata": {
        "id": "C0T71nnOQ1rc",
        "colab": {
          "base_uri": "https://localhost:8080/",
          "height": 313
        },
        "outputId": "488043fa-a188-4bf0-8448-3ef04a252577"
      },
      "source": [
        "#importation de la librairie\n",
        "from fanalysis.mca import MCA\n",
        "\n",
        "#instanciation\n",
        "acm = MCA(var_labels=data.columns[1:num_var_max])\n",
        "\n",
        "# apprentissage\n",
        "acm.fit(data.iloc[:,1:num_var_max].values)\n",
        "#valeurs propres - graphique\n",
        "print(acm.plot_eigenvalues())"
      ],
      "execution_count": null,
      "outputs": [
        {
          "output_type": "display_data",
          "data": {
            "image/png": "[encoded data removed]",
            "text/plain": [
              "<Figure size 432x288 with 1 Axes>"
            ]
          },
          "metadata": {
            "tags": [],
            "needs_background": "light"
          }
        },
        {
          "output_type": "stream",
          "text": [
            "None\n"
          ],
          "name": "stdout"
        }
      ]
    },
    {
      "cell_type": "code",
      "metadata": {
        "id": "uba6n_5g-7-U"
      },
      "source": [
        "# fonction qui va diviser et calculer les coordonnées des individus \n",
        "def transform_to_coord(data):\n",
        "    coord_part = 0\n",
        "    coord = acm.transform(data.iloc[0:30000,1:num_var_max].values)\n",
        "    k=30000\n",
        "    nb_part = round(data.shape[0]/k)\n",
        "    for i in range(1, nb_part):\n",
        "        coord_part=acm.transform(data.iloc[i*k:(i+1)*k,1:num_var_max].values)\n",
        "        coord=np.concatenate((coord, coord_part))\n",
        "\n",
        "    coord_part = acm.transform(data.iloc[nb_part*k: ,1:num_var_max].values )\n",
        "    coord=np.concatenate((coord, coord_part))\n",
        "    return coord"
      ],
      "execution_count": null,
      "outputs": []
    },
    {
      "cell_type": "code",
      "metadata": {
        "id": "Owu0Cby0oOnj"
      },
      "source": [
        "#instanciation\n",
        "acm = MCA(var_labels = data.columns[1:num_var_max], n_components=10)  # paramètres index manquante (gérer après)\n",
        "#apprentissage \n",
        "\"ne pas utiliser fit_tranform car le datset est trop grand \"\n",
        "acm.fit(data.iloc[:,1:num_var_max].values)\n",
        "\n",
        "# tranformation du dataset\n",
        "coord = transform_to_coord(data)\n"
      ],
      "execution_count": null,
      "outputs": []
    },
    {
      "cell_type": "code",
      "metadata": {
        "colab": {
          "base_uri": "https://localhost:8080/"
        },
        "id": "7Xqe0tJsysa3",
        "outputId": "ddd8e30f-9b08-495d-8f35-9011d231265a"
      },
      "source": [
        "# dimension\n",
        "coord.shape"
      ],
      "execution_count": null,
      "outputs": [
        {
          "output_type": "execute_result",
          "data": {
            "text/plain": [
              "(484522, 10)"
            ]
          },
          "metadata": {
            "tags": []
          },
          "execution_count": 79
        }
      ]
    },
    {
      "cell_type": "code",
      "metadata": {
        "colab": {
          "base_uri": "https://localhost:8080/",
          "height": 313
        },
        "id": "tpU2mQ-g8XJQ",
        "outputId": "eed22b76-60f3-42c4-d8fe-d375482828e2"
      },
      "source": [
        "#valeurs propres - graphique\n",
        "print(acm.plot_eigenvalues())\n"
      ],
      "execution_count": null,
      "outputs": [
        {
          "output_type": "display_data",
          "data": {
            "image/png": "[encoded data removed]",
            "text/plain": [
              "<Figure size 432x288 with 1 Axes>"
            ]
          },
          "metadata": {
            "tags": [],
            "needs_background": "light"
          }
        },
        {
          "output_type": "stream",
          "text": [
            "None\n"
          ],
          "name": "stdout"
        }
      ]
    },
    {
      "cell_type": "code",
      "metadata": {
        "colab": {
          "base_uri": "https://localhost:8080/"
        },
        "id": "OJEJV8tO8eqw",
        "outputId": "8c672362-9f3b-4262-e488-9523dd2aa062"
      },
      "source": [
        "#coordonnées des colonnes\n",
        "print(acm.col_topandas())"
      ],
      "execution_count": null,
      "outputs": [
        {
          "output_type": "stream",
          "text": [
            "                  col_coord_dim1  col_coord_dim2  col_coord_dim3  \\\n",
            "TypeHabi_1              0.334519        0.084540       -0.536292   \n",
            "TypeHabi_2             -0.162766       -0.067546        0.227635   \n",
            "TypeHabi_3              0.108481       -0.077526       -0.169052   \n",
            "TypeHabi_4              0.583114        9.367491        5.444893   \n",
            "GeoFaz_Scl_11          -0.183612        0.047279       -0.466513   \n",
            "...                          ...             ...             ...   \n",
            "Vingtiles_ISF_17        0.052709        0.039681       -0.520563   \n",
            "Vingtiles_ISF_18        0.061751        0.091510       -0.689042   \n",
            "Vingtiles_ISF_19        0.200347        0.243589       -1.074712   \n",
            "Vingtiles_ISF_20        0.126740        0.275624       -1.158275   \n",
            "Vingtiles_ISF_21        0.413903        8.802257        4.536745   \n",
            "\n",
            "                  col_coord_dim4  col_coord_dim5  col_coord_dim6  \\\n",
            "TypeHabi_1              0.147706       -0.628750        0.337084   \n",
            "TypeHabi_2             -0.067833        0.318090       -0.166600   \n",
            "TypeHabi_3              0.010113       -0.268307        0.136428   \n",
            "TypeHabi_4              0.907112       -1.029523        0.060123   \n",
            "GeoFaz_Scl_11           0.320345       -0.308285       -0.521868   \n",
            "...                          ...             ...             ...   \n",
            "Vingtiles_ISF_17        0.252726       -0.525848       -0.097016   \n",
            "Vingtiles_ISF_18        0.290190       -0.766356        0.043855   \n",
            "Vingtiles_ISF_19        0.319365       -1.080013        0.232122   \n",
            "Vingtiles_ISF_20        0.321183       -1.146522        0.253384   \n",
            "Vingtiles_ISF_21        0.844738       -0.918348        0.032763   \n",
            "\n",
            "                  col_coord_dim7  col_coord_dim8  col_coord_dim9  \\\n",
            "TypeHabi_1             -0.275940       -0.087084        0.522517   \n",
            "TypeHabi_2              0.139272        0.035365       -0.237900   \n",
            "TypeHabi_3             -0.118877        0.005101        0.097643   \n",
            "TypeHabi_4             -0.344165       -0.045739        0.436126   \n",
            "GeoFaz_Scl_11           0.183739        0.228230       -0.959334   \n",
            "...                          ...             ...             ...   \n",
            "Vingtiles_ISF_17       -0.043790        0.103142       -0.334899   \n",
            "Vingtiles_ISF_18       -0.126737        0.022953        0.077113   \n",
            "Vingtiles_ISF_19       -0.247004       -0.130258        0.719706   \n",
            "Vingtiles_ISF_20       -0.208312       -0.123249        0.752842   \n",
            "Vingtiles_ISF_21       -0.108246        0.309731       -0.507570   \n",
            "\n",
            "                  col_coord_dim10  col_contrib_dim1  col_contrib_dim2  \\\n",
            "TypeHabi_1              -0.062674          0.465787          0.043722   \n",
            "TypeHabi_2               0.031372          0.265848          0.067288   \n",
            "TypeHabi_3              -0.022711          0.022913          0.017199   \n",
            "TypeHabi_4              -0.190839          0.017309          6.565146   \n",
            "GeoFaz_Scl_11           -0.714278          0.020703          0.002017   \n",
            "...                           ...               ...               ...   \n",
            "Vingtiles_ISF_17        -0.452277          0.002895          0.002411   \n",
            "Vingtiles_ISF_18        -0.697215          0.003710          0.011974   \n",
            "Vingtiles_ISF_19        -0.889056          0.023950          0.052033   \n",
            "Vingtiles_ISF_20        -1.022437          0.006524          0.045346   \n",
            "Vingtiles_ISF_21        -0.653895          0.025905         17.219027   \n",
            "\n",
            "                  col_contrib_dim3  col_contrib_dim4  col_contrib_dim5  \\\n",
            "TypeHabi_1                1.995735          0.173983          3.365279   \n",
            "TypeHabi_2                0.866833          0.088460          2.076456   \n",
            "TypeHabi_3                0.092761          0.000381          0.286653   \n",
            "TypeHabi_4                2.515947          0.080251          0.110347   \n",
            "GeoFaz_Scl_11             0.222796          0.120732          0.119358   \n",
            "...                            ...               ...               ...   \n",
            "Vingtiles_ISF_17          0.470720          0.127503          0.589252   \n",
            "Vingtiles_ISF_18          0.770064          0.156967          1.168589   \n",
            "Vingtiles_ISF_19          1.148867          0.116592          1.423341   \n",
            "Vingtiles_ISF_20          0.908361          0.080269          1.091855   \n",
            "Vingtiles_ISF_21          5.188409          0.206727          0.260811   \n",
            "\n",
            "                  col_contrib_dim6  col_contrib_dim7  col_contrib_dim8  \\\n",
            "TypeHabi_1                0.991154          0.694234          0.075198   \n",
            "TypeHabi_2                0.583674          0.426348          0.029898   \n",
            "TypeHabi_3                0.075944          0.060269          0.000121   \n",
            "TypeHabi_4                0.000386          0.013208          0.000254   \n",
            "GeoFaz_Scl_11             0.350481          0.045410          0.076200   \n",
            "...                            ...               ...               ...   \n",
            "Vingtiles_ISF_17          0.020553          0.004377          0.026407   \n",
            "Vingtiles_ISF_18          0.003921          0.034231          0.001221   \n",
            "Vingtiles_ISF_19          0.067372          0.079739          0.024117   \n",
            "Vingtiles_ISF_20          0.054646          0.038604          0.014697   \n",
            "Vingtiles_ISF_21          0.000340          0.003881          0.034557   \n",
            "\n",
            "                  col_contrib_dim9  col_contrib_dim10  col_cos2_dim1  \\\n",
            "TypeHabi_1                2.774741           0.041223       0.038710   \n",
            "TypeHabi_2                1.386653           0.024901       0.043155   \n",
            "TypeHabi_3                0.045324           0.002532       0.001608   \n",
            "TypeHabi_4                0.023641           0.004674       0.001072   \n",
            "GeoFaz_Scl_11             1.379875           0.789905       0.001329   \n",
            "...                            ...                ...            ...   \n",
            "Vingtiles_ISF_17          0.285340           0.537386       0.000191   \n",
            "Vingtiles_ISF_18          0.014126           1.192421       0.000244   \n",
            "Vingtiles_ISF_19          0.754600           1.189064       0.001535   \n",
            "Vingtiles_ISF_20          0.562036           1.070457       0.000413   \n",
            "Vingtiles_ISF_21          0.095117           0.163013       0.001615   \n",
            "\n",
            "                  col_cos2_dim2  col_cos2_dim3  col_cos2_dim4  col_cos2_dim5  \\\n",
            "TypeHabi_1             0.002472       0.099492       0.007547       0.136754   \n",
            "TypeHabi_2             0.007432       0.084406       0.007495       0.164815   \n",
            "TypeHabi_3             0.000821       0.003905       0.000014       0.009837   \n",
            "TypeHabi_4             0.276694       0.093483       0.002595       0.003342   \n",
            "GeoFaz_Scl_11          0.000088       0.008577       0.004045       0.003746   \n",
            "...                         ...            ...            ...            ...   \n",
            "Vingtiles_ISF_17       0.000108       0.018634       0.004392       0.019014   \n",
            "Vingtiles_ISF_18       0.000535       0.030346       0.005382       0.037538   \n",
            "Vingtiles_ISF_19       0.002270       0.044181       0.003901       0.044618   \n",
            "Vingtiles_ISF_20       0.001954       0.034511       0.002654       0.033814   \n",
            "Vingtiles_ISF_21       0.730249       0.193987       0.006726       0.007949   \n",
            "\n",
            "                  col_cos2_dim6  col_cos2_dim7  col_cos2_dim8  col_cos2_dim9  \\\n",
            "TypeHabi_1             0.039306       0.026340       0.002623       0.094447   \n",
            "TypeHabi_2             0.045211       0.031596       0.002037       0.092191   \n",
            "TypeHabi_3             0.002543       0.001931       0.000004       0.001303   \n",
            "TypeHabi_4             0.000011       0.000373       0.000007       0.000600   \n",
            "GeoFaz_Scl_11          0.010734       0.001331       0.002053       0.036272   \n",
            "...                         ...            ...            ...            ...   \n",
            "Vingtiles_ISF_17       0.000647       0.000132       0.000732       0.007712   \n",
            "Vingtiles_ISF_18       0.000123       0.001027       0.000034       0.000380   \n",
            "Vingtiles_ISF_19       0.002061       0.002334       0.000649       0.019814   \n",
            "Vingtiles_ISF_20       0.001652       0.001116       0.000391       0.014579   \n",
            "Vingtiles_ISF_21       0.000010       0.000110       0.000904       0.002428   \n",
            "\n",
            "                  col_cos2_dim10  \n",
            "TypeHabi_1              0.001359  \n",
            "TypeHabi_2              0.001603  \n",
            "TypeHabi_3              0.000070  \n",
            "TypeHabi_4              0.000115  \n",
            "GeoFaz_Scl_11           0.020108  \n",
            "...                          ...  \n",
            "Vingtiles_ISF_17        0.014066  \n",
            "Vingtiles_ISF_18        0.031070  \n",
            "Vingtiles_ISF_19        0.030235  \n",
            "Vingtiles_ISF_20        0.026891  \n",
            "Vingtiles_ISF_21        0.004030  \n",
            "\n",
            "[228 rows x 30 columns]\n"
          ],
          "name": "stdout"
        }
      ]
    },
    {
      "cell_type": "code",
      "metadata": {
        "colab": {
          "base_uri": "https://localhost:8080/"
        },
        "id": "irARzF0d8es8",
        "outputId": "d6488dde-dc66-4e65-f905-0dd8899fec2c"
      },
      "source": [
        "#nombre var. actives\n",
        "p = data.shape[1]-1\n",
        "print(p)\n",
        "#calcul des fonctions de projection\n",
        "fproj = np.zeros(acm.col_coord_.shape)\n",
        "#pour chaque colonne\n",
        "for j in range(fproj.shape[1]):\n",
        " fproj[:,j] = acm.col_coord_[:,j]/(p*np.sqrt(acm.eig_[0,j]))\n",
        "#affichage fonction\n",
        "print(fproj)\n",
        "#affichage plus avenant des deux premiers facteurs\n",
        "print(pd.DataFrame(fproj,index=acm.col_labels_))\n"
      ],
      "execution_count": null,
      "outputs": [
        {
          "output_type": "stream",
          "text": [
            "19\n",
            "[[ 3.00603826e-02  9.20982285e-03 -6.22231624e-02 ... -1.20782428e-02\n",
            "   7.33688791e-02 -8.94274513e-03]\n",
            " [-1.46264226e-02 -7.35852379e-03  2.64112852e-02 ...  4.90500512e-03\n",
            "  -3.34045554e-02  4.47637032e-03]\n",
            " [ 9.74827767e-03 -8.44571119e-03 -1.96142237e-02 ...  7.07479694e-04\n",
            "   1.37104871e-02 -3.24049601e-03]\n",
            " ...\n",
            " [ 1.80034930e-02  2.65366640e-02 -1.24693244e-01 ... -1.80663354e-02\n",
            "   1.01057007e-01 -1.26855938e-01]\n",
            " [ 1.13890311e-02  3.00265342e-02 -1.34388663e-01 ... -1.70941395e-02\n",
            "   1.05709826e-01 -1.45887484e-01]\n",
            " [ 3.71938743e-02  9.58920070e-01  5.26374962e-01 ...  4.29584833e-02\n",
            "  -7.12701317e-02 -9.33017063e-02]]\n",
            "                         0         1         2         3         4         5  \\\n",
            "TypeHabi_1        0.030060  0.009210 -0.062223  0.018372 -0.080800  0.043850   \n",
            "TypeHabi_2       -0.014626 -0.007359  0.026411 -0.008437  0.040877 -0.021672   \n",
            "TypeHabi_3        0.009748 -0.008446 -0.019614  0.001258 -0.034480  0.017747   \n",
            "TypeHabi_4        0.052399  1.020497  0.631743  0.112828 -0.132303  0.007821   \n",
            "GeoFaz_Scl_11    -0.016500  0.005151 -0.054127  0.039845 -0.039617 -0.067888   \n",
            "...                    ...       ...       ...       ...       ...       ...   \n",
            "Vingtiles_ISF_17  0.004736  0.004323 -0.060398  0.031434 -0.067576 -0.012621   \n",
            "Vingtiles_ISF_18  0.005549  0.009969 -0.079946  0.036094 -0.098484  0.005705   \n",
            "Vingtiles_ISF_19  0.018003  0.026537 -0.124693  0.039723 -0.138791  0.030196   \n",
            "Vingtiles_ISF_20  0.011389  0.030027 -0.134389  0.039949 -0.147338  0.032962   \n",
            "Vingtiles_ISF_21  0.037194  0.958920  0.526375  0.105069 -0.118016  0.004262   \n",
            "\n",
            "                         6         7         8         9  \n",
            "TypeHabi_1       -0.036699 -0.012078  0.073369 -0.008943  \n",
            "TypeHabi_2        0.018523  0.004905 -0.033405  0.004476  \n",
            "TypeHabi_3       -0.015810  0.000707  0.013710 -0.003240  \n",
            "TypeHabi_4       -0.045773 -0.006344  0.061238 -0.027230  \n",
            "GeoFaz_Scl_11     0.024436  0.031655 -0.134704 -0.101917  \n",
            "...                    ...       ...       ...       ...  \n",
            "Vingtiles_ISF_17 -0.005824  0.014305 -0.047025 -0.064534  \n",
            "Vingtiles_ISF_18 -0.016856  0.003184  0.010828 -0.099483  \n",
            "Vingtiles_ISF_19 -0.032851 -0.018066  0.101057 -0.126856  \n",
            "Vingtiles_ISF_20 -0.027705 -0.017094  0.105710 -0.145887  \n",
            "Vingtiles_ISF_21 -0.014396  0.042958 -0.071270 -0.093302  \n",
            "\n",
            "[228 rows x 10 columns]\n"
          ],
          "name": "stdout"
        }
      ]
    },
    {
      "cell_type": "code",
      "metadata": {
        "id": "TYbwi6XPom6o"
      },
      "source": [
        ""
      ],
      "execution_count": null,
      "outputs": []
    },
    {
      "cell_type": "code",
      "metadata": {
        "id": "yk7314rJo8ss",
        "colab": {
          "base_uri": "https://localhost:8080/"
        },
        "outputId": "0b788fad-f410-4984-8b35-83ac25d95ae2"
      },
      "source": [
        "# affichafe des 10 premières lignes\n",
        "print(coord[:10,:])\n"
      ],
      "execution_count": null,
      "outputs": [
        {
          "output_type": "stream",
          "text": [
            "[[ 0.07463833  0.15004173 -0.31740804 -0.47716482 -0.1678455  -0.13539515\n",
            "   0.21231852 -0.9257133  -0.17813168 -0.02128022]\n",
            " [-0.30882139 -0.09829355  0.03220418 -0.51249373 -0.52942688  0.08595964\n",
            "  -0.56881021 -0.12256462  0.14938711  0.19530714]\n",
            " [ 0.04876876 -0.35868338  0.57648941 -0.8597955  -0.33184627 -0.17750021\n",
            "   0.20450243  0.39979045 -0.3031441   0.17318431]\n",
            " [-0.69838103 -0.01034565 -0.26666644  0.43161442 -0.52768549  0.38664216\n",
            "   0.27978843 -0.28323729 -0.20552848 -0.3585937 ]\n",
            " [-0.74861542 -0.04912858  0.0965461   0.27486212 -0.05398284  0.34633499\n",
            "   0.37357783 -0.32476018 -0.17337638  0.02964272]\n",
            " [-0.56496376  0.04411149 -0.21974992  0.3202937   0.0590757  -0.28783971\n",
            "  -0.33134385  0.38343912  0.24562902  0.08183922]\n",
            " [ 0.55625301 -0.25284572  0.48229236  0.0681926   0.10153075  0.16472977\n",
            "   0.47338082  0.31276821  0.21784688  0.35244663]\n",
            " [-0.65098388 -0.00269662 -0.14491629  0.42984402 -0.25419315  0.15369442\n",
            "   0.26585616 -0.10347601 -0.41959029 -0.20130481]\n",
            " [ 0.04239361 -0.37597203  0.51774135 -0.70493699 -0.262038   -0.04611989\n",
            "  -0.20555515  0.29492982 -0.3194711   0.09999482]\n",
            " [-0.54966626 -0.05731035  0.01213892 -0.40200824 -0.48401466 -0.23952226\n",
            "  -0.32516856 -0.06094545 -0.40733449 -0.02648663]]\n"
          ],
          "name": "stdout"
        }
      ]
    },
    {
      "cell_type": "code",
      "metadata": {
        "id": "XZXRt7tZSM2r",
        "colab": {
          "base_uri": "https://localhost:8080/"
        },
        "outputId": "7f81ce63-1cbe-4e09-90b7-aea483bd025b"
      },
      "source": [
        "#print(data_sans_nan.shape)\n",
        "#print(coord_sans_nan.shape)\n",
        "#print(data_sans_nan.iloc[:,0])\n",
        "#dfff.isnull().sum(axis=0)\n",
        "data.info()"
      ],
      "execution_count": null,
      "outputs": [
        {
          "output_type": "stream",
          "text": [
            "<class 'pandas.core.frame.DataFrame'>\n",
            "RangeIndex: 484522 entries, 0 to 484521\n",
            "Data columns (total 20 columns):\n",
            " #   Column              Non-Null Count   Dtype  \n",
            "---  ------              --------------   -----  \n",
            " 0   IDENT               484522 non-null  int64  \n",
            " 1   TypeHabi            484522 non-null  int64  \n",
            " 2   GeoFaz_Scl          484522 non-null  int64  \n",
            " 3   GeoFaz_cl           484522 non-null  int64  \n",
            " 4   Anciennete          484522 non-null  int64  \n",
            " 5   Doublon_ligne       484522 non-null  int64  \n",
            " 6   Revenus_iris        484522 non-null  int64  \n",
            " 7   Sexe                484522 non-null  int64  \n",
            " 8   Prenom_Phase_scl_H  484522 non-null  int64  \n",
            " 9   Prenom_Phase_scl_F  484522 non-null  int64  \n",
            " 10  Prenom_Phase_cl_H   484522 non-null  int64  \n",
            " 11  Prenom_Phase_cl_F   484522 non-null  int64  \n",
            " 12  Age_H               484522 non-null  int64  \n",
            " 13  Age_F               484522 non-null  int64  \n",
            " 14  Pays_sud            484522 non-null  int64  \n",
            " 15  Prenom_effectif     484522 non-null  int64  \n",
            " 16  codif_RdB           484522 non-null  int64  \n",
            " 17  Flag_PA             484522 non-null  int64  \n",
            " 18  Vingtiles_ISF       484522 non-null  int64  \n",
            " 19  IFI+                465453 non-null  float64\n",
            "dtypes: float64(1), int64(19)\n",
            "memory usage: 73.9 MB\n"
          ],
          "name": "stdout"
        }
      ]
    },
    {
      "cell_type": "code",
      "metadata": {
        "id": "NpZCCbB4VJmr",
        "colab": {
          "base_uri": "https://localhost:8080/"
        },
        "outputId": "8411c47c-0917-4819-cc06-2b79fa9a6903"
      },
      "source": [
        "## ATTENTION\n",
        "# élimination des individus n'ayant pas de valeur pour la variable IFI+\n",
        "data_sans_nan = data[(data.isnull()).sum(axis=1) == 0]\n",
        "coord_sans_nan = coord[(data.isnull()).sum(axis=1) == 0] # coordonnées\n",
        "\n",
        "#conversion du type de variable\n",
        "for i in range(1,data_sans_nan.shape[1]):\n",
        "    data_sans_nan.iloc[:,i]=data_sans_nan.iloc[:,i].astype(int) # essayer avec int64\n",
        "\n",
        "# création\n",
        "def creation_df_temp(data_sans_nan, coord_sans_nan):\n",
        "    dfff = pd.DataFrame()\n",
        "    dfff[\"IDENT\"] = data_sans_nan.iloc[:,0]\n",
        "    for i in range(10):\n",
        "        dfff[str(i)]=coord_sans_nan[:,i]\n",
        "    dfff[\"IFI+\"] = data_sans_nan.iloc[:,data_sans_nan.shape[1]-1].astype(int)\n",
        "    return dfff\n",
        "# stockage\n",
        "data_coord_nan = creation_df_temp(data_sans_nan, coord_sans_nan)\n",
        "data_coord_nan.info()\n",
        "#data_coord_nan = dfff \n",
        "\n",
        "# maintien des individus  n'ayant pas de valeur pour la variable IFI+\n",
        "\n",
        "data_avec_nan = data\n",
        "coord_avec_nan = coord # coordonnées\n",
        "def creation_df_temp_2(data_sans_nan, coord_sans_nan):\n",
        "    dfff = pd.DataFrame()\n",
        "    dfff[\"IDENT\"] = data_sans_nan.iloc[:,0]\n",
        "    for i in range(10):\n",
        "        dfff[str(i)]=coord_sans_nan[:,i]\n",
        "\n",
        "    dfff[\"IFI+\"] = data_sans_nan.iloc[:,data_sans_nan.shape[1]-1] #.astype(int)\n",
        "\n",
        "    dfff[\"IFI+\"] = dfff[\"IFI+\"].replace(1.0, '1')\n",
        "    dfff[\"IFI+\"] = dfff[\"IFI+\"].replace(2.0,'2')\n",
        "    #for j in range(data_sans_nan.shape[1]):\n",
        "    #    if dfff.iloc[j,10+1] == 2.0:\n",
        "    #        dfff.iloc[j,10+1] = 2\n",
        "    #    if dfff.iloc[j, 10+1] ==1.0:\n",
        "    #        dfff.iloc[j,10+1] =1\n",
        "\n",
        "    return dfff\n",
        "data_coord_avec_nan = creation_df_temp_2(data_avec_nan, coord_avec_nan)\n",
        "data_coord_avec_nan.info()\n",
        "\n"
      ],
      "execution_count": null,
      "outputs": [
        {
          "output_type": "stream",
          "text": [
            "/usr/local/lib/python3.7/dist-packages/pandas/core/indexing.py:1743: SettingWithCopyWarning: \n",
            "A value is trying to be set on a copy of a slice from a DataFrame.\n",
            "Try using .loc[row_indexer,col_indexer] = value instead\n",
            "\n",
            "See the caveats in the documentation: https://pandas.pydata.org/pandas-docs/stable/user_guide/indexing.html#returning-a-view-versus-a-copy\n",
            "  isetter(ilocs[0], value)\n"
          ],
          "name": "stderr"
        },
        {
          "output_type": "stream",
          "text": [
            "<class 'pandas.core.frame.DataFrame'>\n",
            "Int64Index: 465453 entries, 0 to 466516\n",
            "Data columns (total 12 columns):\n",
            " #   Column  Non-Null Count   Dtype  \n",
            "---  ------  --------------   -----  \n",
            " 0   IDENT   465453 non-null  int64  \n",
            " 1   0       465453 non-null  float64\n",
            " 2   1       465453 non-null  float64\n",
            " 3   2       465453 non-null  float64\n",
            " 4   3       465453 non-null  float64\n",
            " 5   4       465453 non-null  float64\n",
            " 6   5       465453 non-null  float64\n",
            " 7   6       465453 non-null  float64\n",
            " 8   7       465453 non-null  float64\n",
            " 9   8       465453 non-null  float64\n",
            " 10  9       465453 non-null  float64\n",
            " 11  IFI+    465453 non-null  int64  \n",
            "dtypes: float64(10), int64(2)\n",
            "memory usage: 46.2 MB\n",
            "<class 'pandas.core.frame.DataFrame'>\n",
            "RangeIndex: 484522 entries, 0 to 484521\n",
            "Data columns (total 12 columns):\n",
            " #   Column  Non-Null Count   Dtype  \n",
            "---  ------  --------------   -----  \n",
            " 0   IDENT   484522 non-null  int64  \n",
            " 1   0       484522 non-null  float64\n",
            " 2   1       484522 non-null  float64\n",
            " 3   2       484522 non-null  float64\n",
            " 4   3       484522 non-null  float64\n",
            " 5   4       484522 non-null  float64\n",
            " 6   5       484522 non-null  float64\n",
            " 7   6       484522 non-null  float64\n",
            " 8   7       484522 non-null  float64\n",
            " 9   8       484522 non-null  float64\n",
            " 10  9       484522 non-null  float64\n",
            " 11  IFI+    465453 non-null  object \n",
            "dtypes: float64(10), int64(1), object(1)\n",
            "memory usage: 44.4+ MB\n"
          ],
          "name": "stdout"
        }
      ]
    },
    {
      "cell_type": "code",
      "metadata": {
        "id": "LJ4G93RJxEdo"
      },
      "source": [
        ""
      ],
      "execution_count": null,
      "outputs": []
    },
    {
      "cell_type": "code",
      "metadata": {
        "id": "CuvxB6-qYNzJ"
      },
      "source": [
        "from sklearn.discriminant_analysis import LinearDiscriminantAnalysis, QuadraticDiscriminantAnalysis\n",
        "\n",
        "from sklearn.metrics import f1_score, confusion_matrix, classification_report\n",
        "from sklearn.model_selection import train_test_split, learning_curve, GridSearchCV\n",
        "\n",
        "import imblearn\n",
        "from imblearn.combine import SMOTETomek\n",
        "from imblearn.under_sampling import TomekLinks\n",
        "from imblearn.over_sampling import SMOTE\n"
      ],
      "execution_count": null,
      "outputs": []
    },
    {
      "cell_type": "code",
      "metadata": {
        "id": "7ksFu0t_cirJ"
      },
      "source": [
        "#data_coord_nan.shape\n",
        "#train_X_s.shape"
      ],
      "execution_count": null,
      "outputs": []
    },
    {
      "cell_type": "code",
      "metadata": {
        "id": "S0jwerFqbXh-",
        "colab": {
          "base_uri": "https://localhost:8080/"
        },
        "outputId": "26406cb8-ce1c-49dd-f7f9-40f72d702bce"
      },
      "source": [
        "#data_non_corr = elimination_val_corr(data)\n",
        "#nb_var = data_non_corr.shape[1] - 1\n",
        "nb_var = data_coord_nan.shape[1] - 1\n",
        "\n",
        "train_set, test_set = train_test_split(data_coord_nan, test_size = 0.2, random_state=0) # , stratify =data_coord_nan[\"IFI+\"] )\n",
        "\n",
        "train_X_s = (train_set.iloc[:,1:nb_var]).to_numpy()\n",
        "train_Y_s = np.asanyarray(train_set.iloc[:,nb_var])\n",
        "\n",
        "test_X_s = (test_set.iloc[:,1:nb_var]).to_numpy()\n",
        "test_Y_s = np.asanyarray(test_set.iloc[:,nb_var])\n",
        "\n",
        "# comme les résulats sont en overfitting, on fait une augmentation de données\n",
        "tl = SMOTE()\n",
        "X_resampled, y_resampled = tl.fit_resample(train_X_s, train_Y_s ) \n"
      ],
      "execution_count": null,
      "outputs": [
        {
          "output_type": "stream",
          "text": [
            "/usr/local/lib/python3.7/dist-packages/sklearn/utils/deprecation.py:87: FutureWarning: Function safe_indexing is deprecated; safe_indexing is deprecated in version 0.22 and will be removed in version 0.24.\n",
            "  warnings.warn(msg, category=FutureWarning)\n"
          ],
          "name": "stderr"
        }
      ]
    },
    {
      "cell_type": "code",
      "metadata": {
        "colab": {
          "base_uri": "https://localhost:8080/"
        },
        "id": "tLasso34-MXx",
        "outputId": "2aec8416-4e9d-45ab-e4f5-6aba57ae5287"
      },
      "source": [
        "model_LinearDiscriminantAnalysis = LinearDiscriminantAnalysis()\n",
        "param = {\"solver\" : [\"svd\",\"lsqr\", \"eigen\"], \"tol\" : [0.00001,0.0001,0.0002,0.0003]}\n",
        "\n",
        "grid_LinearDiscriminantAnalysis = GridSearchCV(model_LinearDiscriminantAnalysis, param_grid= param, cv = 4, scoring = \"f1\")\n",
        "resultat_grid_LinearDiscriminantAnalysis = grid_LinearDiscriminantAnalysis.fit(X_resampled, y_resampled)\n",
        "resultat_grid_LinearDiscriminantAnalysis.best_params_ "
      ],
      "execution_count": null,
      "outputs": [
        {
          "output_type": "execute_result",
          "data": {
            "text/plain": [
              "{'solver': 'svd', 'tol': 1e-05}"
            ]
          },
          "metadata": {
            "tags": []
          },
          "execution_count": 58
        }
      ]
    },
    {
      "cell_type": "code",
      "metadata": {
        "colab": {
          "base_uri": "https://localhost:8080/",
          "height": 796
        },
        "id": "mtwy_DkreMi8",
        "outputId": "33a3fc38-6548-4658-ebbc-9c09b722e51a"
      },
      "source": [
        "model_17 = LinearDiscriminantAnalysis()  # la valeur par defaut de la tolérence donne le même résultat que tol=1e-5\n",
        "evaluation(model_17, X_resampled, y_resampled, test_X_s, test_Y_s, scoring = \"f1\")"
      ],
      "execution_count": null,
      "outputs": [
        {
          "output_type": "stream",
          "text": [
            "test set : \n",
            "[[  328   170]\n",
            " [28168 64425]]\n",
            "              precision    recall  f1-score   support\n",
            "\n",
            "           1       0.01      0.66      0.02       498\n",
            "           2       1.00      0.70      0.82     92593\n",
            "\n",
            "    accuracy                           0.70     93091\n",
            "   macro avg       0.50      0.68      0.42     93091\n",
            "weighted avg       0.99      0.70      0.82     93091\n",
            "\n",
            "train set : \n",
            "[[243879 126361]\n",
            " [112183 258057]]\n",
            "              precision    recall  f1-score   support\n",
            "\n",
            "           1       0.68      0.66      0.67    370240\n",
            "           2       0.67      0.70      0.68    370240\n",
            "\n",
            "    accuracy                           0.68    740480\n",
            "   macro avg       0.68      0.68      0.68    740480\n",
            "weighted avg       0.68      0.68      0.68    740480\n",
            "\n"
          ],
          "name": "stdout"
        },
        {
          "output_type": "display_data",
          "data": {
            "image/png": "[encoded data removed]",
            "text/plain": [
              "<Figure size 720x432 with 1 Axes>"
            ]
          },
          "metadata": {
            "tags": [],
            "needs_background": "light"
          }
        }
      ]
    },
    {
      "cell_type": "code",
      "metadata": {
        "id": "YOVl16Po611_"
      },
      "source": [
        ""
      ],
      "execution_count": null,
      "outputs": []
    },
    {
      "cell_type": "code",
      "metadata": {
        "colab": {
          "base_uri": "https://localhost:8080/"
        },
        "id": "aiN9NNXgjtkO",
        "outputId": "039c876f-f798-43fc-9f03-008aaef9b761"
      },
      "source": [
        "#classe pour l'analyse discriminante\n",
        "\n",
        "#instanciation\n",
        "adl = LinearDiscriminantAnalysis()\n",
        "#apprentissage\n",
        "adl.fit(coord_sans_nan,data_sans_nan[\"IFI+\"])"
      ],
      "execution_count": null,
      "outputs": [
        {
          "output_type": "execute_result",
          "data": {
            "text/plain": [
              "LinearDiscriminantAnalysis(n_components=None, priors=None, shrinkage=None,\n",
              "                           solver='svd', store_covariance=False, tol=0.0001)"
            ]
          },
          "metadata": {
            "tags": []
          },
          "execution_count": 90
        }
      ]
    },
    {
      "cell_type": "code",
      "metadata": {
        "id": "ixzqkiWMxz_6",
        "colab": {
          "base_uri": "https://localhost:8080/",
          "height": 419
        },
        "outputId": "652ed78a-50cf-44f5-81ca-941d94fb4438"
      },
      "source": [
        "#reconstitution de la fonction sur indicatrices (multiplication)\n",
        "fpValues = np.dot(fproj,np.transpose(adl.coef_))\n",
        "#print(fpValues)\n",
        "#affichage plus joli\n",
        "pd.DataFrame(fpValues,index=acm.col_labels_)"
      ],
      "execution_count": null,
      "outputs": [
        {
          "output_type": "execute_result",
          "data": {
            "text/html": [
              "<div>\n",
              "<style scoped>\n",
              "    .dataframe tbody tr th:only-of-type {\n",
              "        vertical-align: middle;\n",
              "    }\n",
              "\n",
              "    .dataframe tbody tr th {\n",
              "        vertical-align: top;\n",
              "    }\n",
              "\n",
              "    .dataframe thead th {\n",
              "        text-align: right;\n",
              "    }\n",
              "</style>\n",
              "<table border=\"1\" class=\"dataframe\">\n",
              "  <thead>\n",
              "    <tr style=\"text-align: right;\">\n",
              "      <th></th>\n",
              "      <th>0</th>\n",
              "    </tr>\n",
              "  </thead>\n",
              "  <tbody>\n",
              "    <tr>\n",
              "      <th>TypeHabi_1</th>\n",
              "      <td>-0.259510</td>\n",
              "    </tr>\n",
              "    <tr>\n",
              "      <th>TypeHabi_2</th>\n",
              "      <td>0.123737</td>\n",
              "    </tr>\n",
              "    <tr>\n",
              "      <th>TypeHabi_3</th>\n",
              "      <td>-0.083650</td>\n",
              "    </tr>\n",
              "    <tr>\n",
              "      <th>TypeHabi_4</th>\n",
              "      <td>0.027500</td>\n",
              "    </tr>\n",
              "    <tr>\n",
              "      <th>GeoFaz_Scl_11</th>\n",
              "      <td>-0.140918</td>\n",
              "    </tr>\n",
              "    <tr>\n",
              "      <th>...</th>\n",
              "      <td>...</td>\n",
              "    </tr>\n",
              "    <tr>\n",
              "      <th>Vingtiles_ISF_17</th>\n",
              "      <td>-0.212230</td>\n",
              "    </tr>\n",
              "    <tr>\n",
              "      <th>Vingtiles_ISF_18</th>\n",
              "      <td>-0.370366</td>\n",
              "    </tr>\n",
              "    <tr>\n",
              "      <th>Vingtiles_ISF_19</th>\n",
              "      <td>-0.581200</td>\n",
              "    </tr>\n",
              "    <tr>\n",
              "      <th>Vingtiles_ISF_20</th>\n",
              "      <td>-0.631143</td>\n",
              "    </tr>\n",
              "    <tr>\n",
              "      <th>Vingtiles_ISF_21</th>\n",
              "      <td>-0.004866</td>\n",
              "    </tr>\n",
              "  </tbody>\n",
              "</table>\n",
              "<p>228 rows × 1 columns</p>\n",
              "</div>"
            ],
            "text/plain": [
              "                         0\n",
              "TypeHabi_1       -0.259510\n",
              "TypeHabi_2        0.123737\n",
              "TypeHabi_3       -0.083650\n",
              "TypeHabi_4        0.027500\n",
              "GeoFaz_Scl_11    -0.140918\n",
              "...                    ...\n",
              "Vingtiles_ISF_17 -0.212230\n",
              "Vingtiles_ISF_18 -0.370366\n",
              "Vingtiles_ISF_19 -0.581200\n",
              "Vingtiles_ISF_20 -0.631143\n",
              "Vingtiles_ISF_21 -0.004866\n",
              "\n",
              "[228 rows x 1 columns]"
            ]
          },
          "metadata": {
            "tags": []
          },
          "execution_count": 91
        }
      ]
    },
    {
      "cell_type": "code",
      "metadata": {
        "id": "Hrn05BAzx0CO",
        "colab": {
          "base_uri": "https://localhost:8080/"
        },
        "outputId": "01ea7e5e-a06a-4ac0-da95-e745fbec2a46"
      },
      "source": [
        "quarantiles(model = adl, data_orig=data_coord_avec_nan, affichage=True, save=True, path = \"/content/drive/MyDrive/spad_score_method_1/sans_val_dons_LinearAnalysisDiscriminant.xlsx\")"
      ],
      "execution_count": null,
      "outputs": [
        {
          "output_type": "stream",
          "text": [
            "0.065625    90\n",
            "0.003270    81\n",
            "0.026989    78\n",
            "0.002772    69\n",
            "0.006544    66\n",
            "            ..\n",
            "0.000904     1\n",
            "0.001939     1\n",
            "0.002430     1\n",
            "0.001195     1\n",
            "0.001252     1\n",
            "Name: PROBA, Length: 414882, dtype: int64\n",
            "IFI+                      1      2  TOTAL\n",
            "TRANCHES                                 \n",
            "(-0.0009232, 0.000681]   16  12098  12114\n",
            "(0.000681, 0.000797]     18  12095  12113\n",
            "(0.000797, 0.0009]       22  12091  12113\n",
            "(0.0009, 0.00101]        15  12098  12113\n",
            "(0.00101, 0.00112]       18  12095  12113\n",
            "(0.00112, 0.00123]       14  12099  12113\n",
            "(0.00123, 0.00134]       26  12088  12114\n",
            "(0.00134, 0.00146]       17  12095  12112\n",
            "(0.00146, 0.00157]       31  12083  12114\n",
            "(0.00157, 0.00168]       31  12081  12112\n",
            "(0.00168, 0.0018]        25  12088  12113\n",
            "(0.0018, 0.00191]        32  12081  12113\n",
            "(0.00191, 0.00202]       21  12092  12113\n",
            "(0.00202, 0.00214]       27  12086  12113\n",
            "(0.00214, 0.00227]       33  12080  12113\n",
            "(0.00227, 0.0024]        33  12080  12113\n",
            "(0.0024, 0.00254]        40  12075  12115\n",
            "(0.00254, 0.0027]        35  12076  12111\n",
            "(0.0027, 0.00287]        36  12077  12113\n",
            "(0.00287, 0.00305]       41  12072  12113\n",
            "(0.00305, 0.00326]       46  12067  12113\n",
            "(0.00326, 0.00349]       41  12072  12113\n",
            "(0.00349, 0.00374]       46  12067  12113\n",
            "(0.00374, 0.00401]       42  12071  12113\n",
            "(0.00401, 0.00431]       48  12065  12113\n",
            "(0.00431, 0.00463]       61  12052  12113\n",
            "(0.00463, 0.00499]       44  12069  12113\n",
            "(0.00499, 0.00539]       59  12054  12113\n",
            "(0.00539, 0.00586]       68  12045  12113\n",
            "(0.00586, 0.0064]        60  12053  12113\n",
            "(0.0064, 0.00703]        65  12048  12113\n",
            "(0.00703, 0.00781]       85  12028  12113\n",
            "(0.00781, 0.00878]       94  12019  12113\n",
            "(0.00878, 0.01]          69  12045  12114\n",
            "(0.01, 0.0116]           97  12015  12112\n",
            "(0.0116, 0.0137]        118  11995  12113\n",
            "(0.0137, 0.0167]        139  11974  12113\n",
            "(0.0167, 0.0215]        202  11911  12113\n",
            "(0.0215, 0.0318]        238  11876  12114\n",
            "(0.0318, 0.199]         467  11646  12113\n"
          ],
          "name": "stdout"
        }
      ]
    },
    {
      "cell_type": "code",
      "metadata": {
        "id": "bzRRySpGoafi"
      },
      "source": [
        ""
      ],
      "execution_count": null,
      "outputs": []
    },
    {
      "cell_type": "code",
      "metadata": {
        "id": "Tgxw6vZHoah_"
      },
      "source": [
        ""
      ],
      "execution_count": null,
      "outputs": []
    },
    {
      "cell_type": "code",
      "metadata": {
        "id": "jaVuYmyQoakO"
      },
      "source": [
        ""
      ],
      "execution_count": null,
      "outputs": []
    },
    {
      "cell_type": "code",
      "metadata": {
        "colab": {
          "base_uri": "https://localhost:8080/",
          "height": 796
        },
        "id": "td8tREtarT8x",
        "outputId": "9ecb974e-ae13-48c8-d33a-8108547f0193"
      },
      "source": [
        "model_ADQ = QuadraticDiscriminantAnalysis()\n",
        "evaluation(model_ADQ, X_resampled, y_resampled, test_X_s, test_Y_s, scoring = \"f1\")\n"
      ],
      "execution_count": null,
      "outputs": [
        {
          "output_type": "stream",
          "text": [
            "test set : \n",
            "[[  376   122]\n",
            " [46515 46078]]\n",
            "              precision    recall  f1-score   support\n",
            "\n",
            "           1       0.01      0.76      0.02       498\n",
            "           2       1.00      0.50      0.66     92593\n",
            "\n",
            "    accuracy                           0.50     93091\n",
            "   macro avg       0.50      0.63      0.34     93091\n",
            "weighted avg       0.99      0.50      0.66     93091\n",
            "\n",
            "train set : \n",
            "[[287521  82719]\n",
            " [186148 184092]]\n",
            "              precision    recall  f1-score   support\n",
            "\n",
            "           1       0.61      0.78      0.68    370240\n",
            "           2       0.69      0.50      0.58    370240\n",
            "\n",
            "    accuracy                           0.64    740480\n",
            "   macro avg       0.65      0.64      0.63    740480\n",
            "weighted avg       0.65      0.64      0.63    740480\n",
            "\n"
          ],
          "name": "stdout"
        },
        {
          "output_type": "display_data",
          "data": {
            "image/png": "[encoded data removed]",
            "text/plain": [
              "<Figure size 720x432 with 1 Axes>"
            ]
          },
          "metadata": {
            "tags": [],
            "needs_background": "light"
          }
        }
      ]
    },
    {
      "cell_type": "code",
      "metadata": {
        "colab": {
          "base_uri": "https://localhost:8080/"
        },
        "id": "ncpYOwNVqtX6",
        "outputId": "2a42640c-48a1-4d3c-b070-b4d207cf1782"
      },
      "source": [
        "quarantiles(model=model_17, data_orig=data_coord_avec_nan, affichage=True, save=True, path = \"/content/drive/MyDrive/spad_score_method_1/sans_dons_QuadraticAnalysisDiscriminant.xlsx\")"
      ],
      "execution_count": null,
      "outputs": [
        {
          "output_type": "stream",
          "text": [
            "0.894585    90\n",
            "0.429940    81\n",
            "0.779286    78\n",
            "0.392239    69\n",
            "0.649434    66\n",
            "            ..\n",
            "0.273440     1\n",
            "0.137856     1\n",
            "0.699530     1\n",
            "0.602330     1\n",
            "0.332163     1\n",
            "Name: PROBA, Length: 414882, dtype: int64\n",
            "IFI+               1      2  TOTAL\n",
            "TRANCHES                          \n",
            "(0.0131, 0.121]   11  12103  12114\n",
            "(0.121, 0.141]    15  12098  12113\n",
            "(0.141, 0.157]    24  12089  12113\n",
            "(0.157, 0.171]    20  12093  12113\n",
            "(0.171, 0.186]    19  12094  12113\n",
            "(0.186, 0.202]    14  12099  12113\n",
            "(0.202, 0.217]    13  12100  12113\n",
            "(0.217, 0.231]    22  12091  12113\n",
            "(0.231, 0.246]    34  12079  12113\n",
            "(0.246, 0.259]    32  12082  12114\n",
            "(0.259, 0.272]    24  12088  12112\n",
            "(0.272, 0.284]    37  12076  12113\n",
            "(0.284, 0.295]    21  12092  12113\n",
            "(0.295, 0.306]    25  12088  12113\n",
            "(0.306, 0.317]    25  12088  12113\n",
            "(0.317, 0.328]    32  12081  12113\n",
            "(0.328, 0.339]    35  12078  12113\n",
            "(0.339, 0.351]    34  12079  12113\n",
            "(0.351, 0.363]    45  12068  12113\n",
            "(0.363, 0.376]    31  12082  12113\n",
            "(0.376, 0.389]    46  12067  12113\n",
            "(0.389, 0.403]    47  12066  12113\n",
            "(0.403, 0.418]    38  12075  12113\n",
            "(0.418, 0.433]    48  12065  12113\n",
            "(0.433, 0.45]     52  12061  12113\n",
            "(0.45, 0.467]     58  12055  12113\n",
            "(0.467, 0.485]    57  12056  12113\n",
            "(0.485, 0.503]    41  12072  12113\n",
            "(0.503, 0.522]    68  12049  12117\n",
            "(0.522, 0.541]    75  12035  12110\n",
            "(0.541, 0.561]    73  12039  12112\n",
            "(0.561, 0.582]    73  12040  12113\n",
            "(0.582, 0.605]    77  12037  12114\n",
            "(0.605, 0.628]    91  12021  12112\n",
            "(0.628, 0.654]    95  12018  12113\n",
            "(0.654, 0.682]   118  11995  12113\n",
            "(0.682, 0.713]   153  11960  12113\n",
            "(0.713, 0.751]   178  11939  12117\n",
            "(0.751, 0.811]   244  11865  12109\n",
            "(0.811, 0.93]    475  11639  12114\n"
          ],
          "name": "stdout"
        }
      ]
    },
    {
      "cell_type": "code",
      "metadata": {
        "colab": {
          "base_uri": "https://localhost:8080/"
        },
        "id": "m_GYkyDqqtaA",
        "outputId": "ca86a44a-3c2d-4060-afb8-ecc35e95607f"
      },
      "source": [
        "data_coord_avec_nan.shape"
      ],
      "execution_count": null,
      "outputs": [
        {
          "output_type": "execute_result",
          "data": {
            "text/plain": [
              "(484522, 12)"
            ]
          },
          "metadata": {
            "tags": []
          },
          "execution_count": 125
        }
      ]
    },
    {
      "cell_type": "code",
      "metadata": {
        "id": "OgVGcJpOh83C"
      },
      "source": [
        ""
      ],
      "execution_count": null,
      "outputs": []
    },
    {
      "cell_type": "code",
      "metadata": {
        "id": "-uG3-b8GPx1r"
      },
      "source": [
        "#################################################################################\n",
        "#################################################################################"
      ],
      "execution_count": null,
      "outputs": []
    },
    {
      "cell_type": "code",
      "metadata": {
        "id": "CfLeYRkTPx4H"
      },
      "source": [
        ""
      ],
      "execution_count": null,
      "outputs": []
    },
    {
      "cell_type": "code",
      "metadata": {
        "id": "e3EFAWmGPx62"
      },
      "source": [
        ""
      ],
      "execution_count": null,
      "outputs": []
    },
    {
      "cell_type": "code",
      "metadata": {
        "id": "IZcwARe4QFf2"
      },
      "source": [
        ""
      ],
      "execution_count": null,
      "outputs": []
    },
    {
      "cell_type": "code",
      "metadata": {
        "colab": {
          "base_uri": "https://localhost:8080/",
          "height": 159
        },
        "id": "0csF8LqVx0Ee",
        "outputId": "9b105a3e-af5e-4542-d9d1-6b4db403bf7a"
      },
      "source": [
        "\n",
        "'''\n",
        "from sklearn.preprocessing import KBinsDiscretizer\n",
        "# discrétisation des variables continues (les valeurs manquantes doivent être gérées en amont)\n",
        " c'est qui est bien avec KBinsDiscretizer est qu'il s'adapte aux éventuelles partitions au\n",
        "sein d'une variable. En d'autres termes, si la méthode n'arrive pas à partitionner les individus\n",
        "en k partitions, alors elle esssayera de les partitionner en k-1 partitions, et ainsi de suite, \n",
        "jusqu'à atteindre 1 partition (il faut faire attention avec les variables ayant uniquement \n",
        "une modalité). Lorsque la méthode rencontre ce cas, elle affichera \"UserWaring\" pour informer \n",
        "l'utilisateur de celui-ci ainsi que les variables concernées. Ceci sera utile plus tard.\n",
        "\n",
        "\n",
        "method_discre = KBinsDiscretizer(n_bins=4, encode='ordinal', strategy='quantile') \n",
        "method_discre.fit(data.iloc[:,1:23])\n",
        "resultat_discre = method_discre.transform(data.iloc[:,1:23])\n",
        "resultat_discre\n",
        "\n",
        "# construction du data frame après discrétisation\n",
        "data2_index = data.iloc[:,0]\n",
        "df_resultat_discre = pd.DataFrame(resultat_discre,columns=colonnes[1:23], dtype=int )\n",
        "data_final = pd.concat([data2_index, df_resultat_discre,data[\"IFI+\"]], axis=1 ) #data2_index\n",
        "data_final\n",
        "\n",
        "#nombre_mod(data_final)\n",
        "#nombre_mod(data)\n",
        "\n",
        "# description des modalités d'une variable\n",
        "for k in range(1,data_final.shape[1]):\n",
        "    print(data_final.iloc[:,k].value_counts(dropna=True)); print(\"=\"*50)\n",
        "\n",
        "# description des modalités d'une variable\n",
        "for k in range(1,data.shape[1]):\n",
        "    print(data.iloc[:,k].value_counts(dropna=True)); print(\"=\"*50)\n",
        "\n",
        "'''\n"
      ],
      "execution_count": null,
      "outputs": [
        {
          "output_type": "execute_result",
          "data": {
            "application/vnd.google.colaboratory.intrinsic+json": {
              "type": "string"
            },
            "text/plain": [
              "'\\nfrom sklearn.preprocessing import KBinsDiscretizer\\n# discrétisation des variables continues (les valeurs manquantes doivent être gérées en amont)\\n c\\'est qui est bien avec KBinsDiscretizer est qu\\'il s\\'adapte aux éventuelles partitions au\\nsein d\\'une variable. En d\\'autres termes, si la méthode n\\'arrive pas à partitionner les individus\\nen k partitions, alors elle esssayera de les partitionner en k-1 partitions, et ainsi de suite, \\njusqu\\'à atteindre 1 partition (il faut faire attention avec les variables ayant uniquement \\nune modalité). Lorsque la méthode rencontre ce cas, elle affichera \"UserWaring\" pour informer \\nl\\'utilisateur de celui-ci ainsi que les variables concernées. Ceci sera utile plus tard.\\n\\n\\nmethod_discre = KBinsDiscretizer(n_bins=4, encode=\\'ordinal\\', strategy=\\'quantile\\') \\nmethod_discre.fit(data.iloc[:,1:23])\\nresultat_discre = method_discre.transform(data.iloc[:,1:23])\\nresultat_discre\\n\\n# construction du data frame après discrétisation\\ndata2_index = data.iloc[:,0]\\ndf_resultat_discre = pd.DataFrame(resultat_discre,columns=colonnes[1:23], dtype=int )\\ndata_final = pd.concat([data2_index, df_resultat_discre,data[\"IFI+\"]], axis=1 ) #data2_index\\ndata_final\\n\\n#nombre_mod(data_final)\\n#nombre_mod(data)\\n\\n# description des modalités d\\'une variable\\nfor k in range(1,data_final.shape[1]):\\n    print(data_final.iloc[:,k].value_counts(dropna=True)); print(\"=\"*50)\\n\\n# description des modalités d\\'une variable\\nfor k in range(1,data.shape[1]):\\n    print(data.iloc[:,k].value_counts(dropna=True)); print(\"=\"*50)\\n\\n'"
            ]
          },
          "metadata": {
            "tags": []
          },
          "execution_count": 30
        }
      ]
    },
    {
      "cell_type": "code",
      "metadata": {
        "id": "SIKMz_STz4fn"
      },
      "source": [
        ""
      ],
      "execution_count": null,
      "outputs": []
    },
    {
      "cell_type": "code",
      "metadata": {
        "id": "3oAVMbZqz9eK"
      },
      "source": [
        ""
      ],
      "execution_count": null,
      "outputs": []
    },
    {
      "cell_type": "code",
      "metadata": {
        "id": "aKW0puAaIgmp",
        "colab": {
          "base_uri": "https://localhost:8080/"
        },
        "outputId": "f7138f35-02e5-48ff-bb09-6935d2b710a6"
      },
      "source": [
        ""
      ],
      "execution_count": null,
      "outputs": [
        {
          "output_type": "execute_result",
          "data": {
            "text/plain": [
              "int"
            ]
          },
          "metadata": {
            "tags": []
          },
          "execution_count": 112
        }
      ]
    },
    {
      "cell_type": "code",
      "metadata": {
        "id": "jAZ0dEGzIgry"
      },
      "source": [
        ""
      ],
      "execution_count": null,
      "outputs": []
    },
    {
      "cell_type": "code",
      "metadata": {
        "id": "_YNg4cZgIgu-"
      },
      "source": [
        ""
      ],
      "execution_count": null,
      "outputs": []
    },
    {
      "cell_type": "code",
      "metadata": {
        "id": "XEvgv1RcU149"
      },
      "source": [
        ""
      ],
      "execution_count": null,
      "outputs": []
    }
  ]
}