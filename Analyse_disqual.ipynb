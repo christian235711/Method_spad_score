{
  "nbformat": 4,
  "nbformat_minor": 0,
  "metadata": {
    "colab": {
      "name": "Analyse_disqual.ipynb",
      "provenance": [],
      "collapsed_sections": [],
      "authorship_tag": "ABX9TyMaVmuNLvYYZVuzlFnj0rNj"
    },
    "kernelspec": {
      "name": "python3",
      "display_name": "Python 3"
    },
    "language_info": {
      "name": "python"
    }
  },
  "cells": [
    {
      "cell_type": "code",
      "metadata": {
        "id": "6PE_fq-Af-lD",
        "colab": {
          "base_uri": "https://localhost:8080/"
        },
        "outputId": "49e2be41-66ce-4423-ee0b-844f6233b13e"
      },
      "source": [
        "import numpy as np\n",
        "import pandas as pd\n",
        "import seaborn as sns\n",
        "import matplotlib.pyplot as plt\n",
        "\n",
        "#!pip install fanalysis\n",
        "\n",
        "from sklearn.metrics import confusion_matrix\n",
        "\n",
        "from google.colab import drive\n",
        "drive.mount('/content/drive')"
      ],
      "execution_count": 126,
      "outputs": [
        {
          "output_type": "stream",
          "text": [
            "Drive already mounted at /content/drive; to attempt to forcibly remount, call drive.mount(\"/content/drive\", force_remount=True).\n"
          ],
          "name": "stdout"
        }
      ]
    },
    {
      "cell_type": "code",
      "metadata": {
        "id": "yuD2HnZ3uKFa"
      },
      "source": [
        ""
      ],
      "execution_count": 126,
      "outputs": []
    },
    {
      "cell_type": "code",
      "metadata": {
        "id": "HDcsBJYZuKHz"
      },
      "source": [
        "# option d'affichage des résultats\n",
        "pd.set_option(\"display.max_row\",130)\n",
        "pd.set_option(\"display.max_columns\",100)"
      ],
      "execution_count": 127,
      "outputs": []
    },
    {
      "cell_type": "code",
      "metadata": {
        "id": "EIiIM-2FuKKO"
      },
      "source": [
        "# noms des variables de notre dataset y compris la variable identifiant IRIS\n",
        "colonnes =[\"IDENT\",\"TypeHabi\", \"GeoFaz_Scl\", \"GeoFaz_cl\",\"Anciennete\",\"Doublon_ligne\",\n",
        "            \"Revenus_iris\",\"Sexe\",\"Prenom_Phase_scl_H\", \"Prenom_Phase_scl_F\",\"Prenom_Phase_cl_H\",\n",
        "           \"Prenom_Phase_cl_F\",\"Age_H\",\"Age_F\",\"Pays_sud\",\"Prenom_effectif\",\"codif_RdB\",\"Flag_PA\",\n",
        "           \"Annee_1er_don\",\"Cumul_dons\",\"Don_max\",\"Don_moyen\",\"Vingtiles_ISF\",\"IFI+\"]"
      ],
      "execution_count": 128,
      "outputs": []
    },
    {
      "cell_type": "code",
      "metadata": {
        "id": "wci4tC0suKMu"
      },
      "source": [
        "# importation du fichier (changer le chemin d'accès)\n",
        "''' Faites attention au type de fichier, au délimiteur des valeurs (ça doit être unique et non multiple),\n",
        "au header et à la lecture des types d'objets (low_memory) '''\n",
        "#/content/drive/MyDrive/Stage_methods_spad/data_excel_2.csv\n",
        "data_orig = pd.read_csv(\"/content/drive/MyDrive/spad_score_method_1/my_data_FDFIFI19.txt\",delim_whitespace=\"\\t\" , header = None, names=colonnes, low_memory=False, )#, dtype='Int64')"
      ],
      "execution_count": 129,
      "outputs": []
    },
    {
      "cell_type": "code",
      "metadata": {
        "colab": {
          "base_uri": "https://localhost:8080/"
        },
        "id": "oyDoq2cHxz7o",
        "outputId": "31a74102-9a92-4b93-f0e7-999254b3d269"
      },
      "source": [
        "''' copie superficielle (peu profonde) du dataset original pour ne pas modifier les valeurs\n",
        "d'origine par erreur plus tard \n",
        "'''\n",
        "data = data_orig.copy()\n",
        "data.shape"
      ],
      "execution_count": 130,
      "outputs": [
        {
          "output_type": "execute_result",
          "data": {
            "text/plain": [
              "(484522, 24)"
            ]
          },
          "metadata": {
            "tags": []
          },
          "execution_count": 130
        }
      ]
    },
    {
      "cell_type": "code",
      "metadata": {
        "colab": {
          "base_uri": "https://localhost:8080/",
          "height": 223
        },
        "id": "d8EgLMlSxz9s",
        "outputId": "1d50a502-6631-4488-9923-8318e1704b67"
      },
      "source": [
        "# visualisation des premiers lignes\n",
        "data.head()\n"
      ],
      "execution_count": 131,
      "outputs": [
        {
          "output_type": "execute_result",
          "data": {
            "text/html": [
              "<div>\n",
              "<style scoped>\n",
              "    .dataframe tbody tr th:only-of-type {\n",
              "        vertical-align: middle;\n",
              "    }\n",
              "\n",
              "    .dataframe tbody tr th {\n",
              "        vertical-align: top;\n",
              "    }\n",
              "\n",
              "    .dataframe thead th {\n",
              "        text-align: right;\n",
              "    }\n",
              "</style>\n",
              "<table border=\"1\" class=\"dataframe\">\n",
              "  <thead>\n",
              "    <tr style=\"text-align: right;\">\n",
              "      <th></th>\n",
              "      <th>IDENT</th>\n",
              "      <th>TypeHabi</th>\n",
              "      <th>GeoFaz_Scl</th>\n",
              "      <th>GeoFaz_cl</th>\n",
              "      <th>Anciennete</th>\n",
              "      <th>Doublon_ligne</th>\n",
              "      <th>Revenus_iris</th>\n",
              "      <th>Sexe</th>\n",
              "      <th>Prenom_Phase_scl_H</th>\n",
              "      <th>Prenom_Phase_scl_F</th>\n",
              "      <th>Prenom_Phase_cl_H</th>\n",
              "      <th>Prenom_Phase_cl_F</th>\n",
              "      <th>Age_H</th>\n",
              "      <th>Age_F</th>\n",
              "      <th>Pays_sud</th>\n",
              "      <th>Prenom_effectif</th>\n",
              "      <th>codif_RdB</th>\n",
              "      <th>Flag_PA</th>\n",
              "      <th>Annee_1er_don</th>\n",
              "      <th>Cumul_dons</th>\n",
              "      <th>Don_max</th>\n",
              "      <th>Don_moyen</th>\n",
              "      <th>Vingtiles_ISF</th>\n",
              "      <th>IFI+</th>\n",
              "    </tr>\n",
              "  </thead>\n",
              "  <tbody>\n",
              "    <tr>\n",
              "      <th>0</th>\n",
              "      <td>101001347</td>\n",
              "      <td>3</td>\n",
              "      <td>75</td>\n",
              "      <td>7</td>\n",
              "      <td>8</td>\n",
              "      <td>3</td>\n",
              "      <td>3</td>\n",
              "      <td>3</td>\n",
              "      <td>64</td>\n",
              "      <td>46</td>\n",
              "      <td>6</td>\n",
              "      <td>4</td>\n",
              "      <td>9</td>\n",
              "      <td>4</td>\n",
              "      <td>2</td>\n",
              "      <td>3</td>\n",
              "      <td>3</td>\n",
              "      <td>2</td>\n",
              "      <td>7</td>\n",
              "      <td>7</td>\n",
              "      <td>6</td>\n",
              "      <td>4</td>\n",
              "      <td>10</td>\n",
              "      <td>2.0</td>\n",
              "    </tr>\n",
              "    <tr>\n",
              "      <th>1</th>\n",
              "      <td>201001512</td>\n",
              "      <td>1</td>\n",
              "      <td>74</td>\n",
              "      <td>7</td>\n",
              "      <td>5</td>\n",
              "      <td>3</td>\n",
              "      <td>3</td>\n",
              "      <td>4</td>\n",
              "      <td>65</td>\n",
              "      <td>81</td>\n",
              "      <td>6</td>\n",
              "      <td>8</td>\n",
              "      <td>11</td>\n",
              "      <td>12</td>\n",
              "      <td>2</td>\n",
              "      <td>4</td>\n",
              "      <td>3</td>\n",
              "      <td>2</td>\n",
              "      <td>8</td>\n",
              "      <td>5</td>\n",
              "      <td>2</td>\n",
              "      <td>2</td>\n",
              "      <td>10</td>\n",
              "      <td>2.0</td>\n",
              "    </tr>\n",
              "    <tr>\n",
              "      <th>2</th>\n",
              "      <td>301002801</td>\n",
              "      <td>2</td>\n",
              "      <td>32</td>\n",
              "      <td>3</td>\n",
              "      <td>7</td>\n",
              "      <td>2</td>\n",
              "      <td>4</td>\n",
              "      <td>4</td>\n",
              "      <td>66</td>\n",
              "      <td>66</td>\n",
              "      <td>6</td>\n",
              "      <td>6</td>\n",
              "      <td>11</td>\n",
              "      <td>9</td>\n",
              "      <td>2</td>\n",
              "      <td>3</td>\n",
              "      <td>3</td>\n",
              "      <td>2</td>\n",
              "      <td>8</td>\n",
              "      <td>7</td>\n",
              "      <td>5</td>\n",
              "      <td>3</td>\n",
              "      <td>7</td>\n",
              "      <td>2.0</td>\n",
              "    </tr>\n",
              "    <tr>\n",
              "      <th>3</th>\n",
              "      <td>401003186</td>\n",
              "      <td>1</td>\n",
              "      <td>12</td>\n",
              "      <td>1</td>\n",
              "      <td>4</td>\n",
              "      <td>3</td>\n",
              "      <td>7</td>\n",
              "      <td>3</td>\n",
              "      <td>51</td>\n",
              "      <td>81</td>\n",
              "      <td>5</td>\n",
              "      <td>8</td>\n",
              "      <td>9</td>\n",
              "      <td>12</td>\n",
              "      <td>2</td>\n",
              "      <td>5</td>\n",
              "      <td>1</td>\n",
              "      <td>2</td>\n",
              "      <td>2</td>\n",
              "      <td>7</td>\n",
              "      <td>8</td>\n",
              "      <td>6</td>\n",
              "      <td>18</td>\n",
              "      <td>2.0</td>\n",
              "    </tr>\n",
              "    <tr>\n",
              "      <th>4</th>\n",
              "      <td>501003624</td>\n",
              "      <td>2</td>\n",
              "      <td>12</td>\n",
              "      <td>1</td>\n",
              "      <td>6</td>\n",
              "      <td>3</td>\n",
              "      <td>3</td>\n",
              "      <td>3</td>\n",
              "      <td>51</td>\n",
              "      <td>81</td>\n",
              "      <td>5</td>\n",
              "      <td>8</td>\n",
              "      <td>9</td>\n",
              "      <td>12</td>\n",
              "      <td>2</td>\n",
              "      <td>5</td>\n",
              "      <td>1</td>\n",
              "      <td>2</td>\n",
              "      <td>8</td>\n",
              "      <td>7</td>\n",
              "      <td>8</td>\n",
              "      <td>6</td>\n",
              "      <td>2</td>\n",
              "      <td>2.0</td>\n",
              "    </tr>\n",
              "  </tbody>\n",
              "</table>\n",
              "</div>"
            ],
            "text/plain": [
              "       IDENT  TypeHabi  GeoFaz_Scl  GeoFaz_cl  Anciennete  Doublon_ligne  \\\n",
              "0  101001347         3          75          7           8              3   \n",
              "1  201001512         1          74          7           5              3   \n",
              "2  301002801         2          32          3           7              2   \n",
              "3  401003186         1          12          1           4              3   \n",
              "4  501003624         2          12          1           6              3   \n",
              "\n",
              "   Revenus_iris  Sexe  Prenom_Phase_scl_H  Prenom_Phase_scl_F  \\\n",
              "0             3     3                  64                  46   \n",
              "1             3     4                  65                  81   \n",
              "2             4     4                  66                  66   \n",
              "3             7     3                  51                  81   \n",
              "4             3     3                  51                  81   \n",
              "\n",
              "   Prenom_Phase_cl_H  Prenom_Phase_cl_F  Age_H  Age_F  Pays_sud  \\\n",
              "0                  6                  4      9      4         2   \n",
              "1                  6                  8     11     12         2   \n",
              "2                  6                  6     11      9         2   \n",
              "3                  5                  8      9     12         2   \n",
              "4                  5                  8      9     12         2   \n",
              "\n",
              "   Prenom_effectif  codif_RdB  Flag_PA  Annee_1er_don  Cumul_dons  Don_max  \\\n",
              "0                3          3        2              7           7        6   \n",
              "1                4          3        2              8           5        2   \n",
              "2                3          3        2              8           7        5   \n",
              "3                5          1        2              2           7        8   \n",
              "4                5          1        2              8           7        8   \n",
              "\n",
              "   Don_moyen  Vingtiles_ISF  IFI+  \n",
              "0          4             10   2.0  \n",
              "1          2             10   2.0  \n",
              "2          3              7   2.0  \n",
              "3          6             18   2.0  \n",
              "4          6              2   2.0  "
            ]
          },
          "metadata": {
            "tags": []
          },
          "execution_count": 131
        }
      ]
    },
    {
      "cell_type": "code",
      "metadata": {
        "id": "0DV4-3xA2W_K"
      },
      "source": [
        "#nombre de modalités de chaque variables (dans un dataframe)\n",
        "def nombre_mod(data2):\n",
        "    #création d'un dataframe vide\n",
        "    dff= pd.DataFrame(columns=[\"VARIABLE\",\"NOMBRE_MOD\", \"NOMBRE_MOD_SANS_NA\"])\n",
        "    for i in range(data2.shape[1]): # sans compter les valeurs manquantes\n",
        "        taille =len(data2.iloc[:,i].value_counts(dropna=False))\n",
        "        taille_1 = len(data2.iloc[:,i].value_counts(dropna=True) )\n",
        "        dff=dff.append({\"VARIABLE\": colonnes[i],\"NOMBRE_MOD\":taille, \"NOMBRE_MOD_SANS_NA\":taille_1 }, ignore_index=True)\n",
        "    return dff\n",
        "\n",
        "\n",
        "def evaluation(model, X_train, y_train, X_test, y_test, scoring):\n",
        "\n",
        "    model.fit(X_train, y_train)\n",
        "    y_pred = model.predict(X_test)\n",
        "    \n",
        "    print(\"test set : \")\n",
        "    print(confusion_matrix(y_test, y_pred))\n",
        "    print(classification_report(y_test, y_pred)) \n",
        "    print(\"train set : \")\n",
        "    print(confusion_matrix(y_train, model.predict(X_train))) # ajouter \n",
        "    print(classification_report(y_train, model.predict(X_train) ))\n",
        "\n",
        "    N, train_score, val_score = learning_curve(model, X_train, y_train,shuffle=True ,cv = 4, scoring = scoring, train_sizes = np.linspace(0.1, 1, 6) )\n",
        "\n",
        "    plt.figure(figsize = (10,6))\n",
        "    plt.plot(N, train_score.mean(axis=1), label =\"train_score\")\n",
        "    plt.plot(N, val_score.mean(axis=1), label =\"cross_validation_score\")\n",
        "\n",
        "    plt.legend()\n",
        "\n",
        "\n",
        "def quarantiles(model, data_orig, affichage, save, path):\n",
        "    # predict sur tous les individus (avec et sans classe IFI+)\n",
        "    tous_probas = model.predict_proba(data_orig.iloc[:,1:nb_var])\n",
        "    df_tous = pd.DataFrame({'IDENT': data_orig.iloc[:,0] , 'PROBA': tous_probas[:,0] })\n",
        "    #df_tous\n",
        "    \n",
        "    # valeurs ordonnées pour diviser après\n",
        "    df_tous=df_tous.sort_values(by='PROBA', ascending=True)\n",
        "    #df_tous\n",
        "    \n",
        "    #vérification\n",
        "    print(df_tous['PROBA'].value_counts())\n",
        "\n",
        "    # quarantiles\n",
        "    df_temp =pd.DataFrame( pd.qcut(df_tous['PROBA'],q= 40)  )\n",
        "    #print(df_temp)\n",
        "\n",
        "    # ajout par index (IMPORTANTE)\n",
        "    df_tous[\"TRANCHES\"]=pd.DataFrame(df_temp.iloc[:,0].to_numpy(),index= df_temp.index)\n",
        "    #print(df_tous)\n",
        "    \n",
        "\n",
        "    # pour la colonne IFI+ :\n",
        "    # remplissage de la dernière colonne par 2 (VALABLE QUE POUR CE DATA, MODIFIER POUR D'AUTRES)\n",
        "    data_temp_t = data_orig.copy()\n",
        "    data_all_complet_class = data_temp_t.fillna('2')\n",
        "    #print(data_all_complet_class)\n",
        "\n",
        "    # jointure\n",
        "    ident_class_tous = data_all_complet_class[[\"IDENT\",\"IFI+\"]]\n",
        "    tableau_resultats = pd.merge(df_tous,ident_class_tous)\n",
        "    #tableau_resultats\n",
        "\n",
        "    # tranches finales\n",
        "    tab_cross_temp = pd.crosstab(tableau_resultats[\"TRANCHES\"],tableau_resultats[\"IFI+\"])\n",
        "    #print(tab_cross_temp)\n",
        "    # création d'une colonne total\n",
        "    tab_cross_temp[\"TOTAL\"]=tab_cross_temp[\"1\"]+tab_cross_temp[\"2\"]\n",
        "    \n",
        "    # affichage\n",
        "    if affichage ==True:        \n",
        "        print(tab_cross_temp)\n",
        "    \n",
        "    # création du tableau final en éliminant la colonne 2\n",
        "    tab_pour_excel = tab_cross_temp.drop([\"2\"], axis=1)\n",
        "    \n",
        "    # enregistrement sous Excel\n",
        "    if save == True:\n",
        "        tab_pour_excel.to_excel(path)\n",
        "\n",
        "\n"
      ],
      "execution_count": 132,
      "outputs": []
    },
    {
      "cell_type": "code",
      "metadata": {
        "colab": {
          "base_uri": "https://localhost:8080/",
          "height": 792
        },
        "id": "2EQAN76Q2XBS",
        "outputId": "e470de23-9158-44ce-dc54-fa9f00cbafb9"
      },
      "source": [
        "nombre_mod(data)"
      ],
      "execution_count": 133,
      "outputs": [
        {
          "output_type": "execute_result",
          "data": {
            "text/html": [
              "<div>\n",
              "<style scoped>\n",
              "    .dataframe tbody tr th:only-of-type {\n",
              "        vertical-align: middle;\n",
              "    }\n",
              "\n",
              "    .dataframe tbody tr th {\n",
              "        vertical-align: top;\n",
              "    }\n",
              "\n",
              "    .dataframe thead th {\n",
              "        text-align: right;\n",
              "    }\n",
              "</style>\n",
              "<table border=\"1\" class=\"dataframe\">\n",
              "  <thead>\n",
              "    <tr style=\"text-align: right;\">\n",
              "      <th></th>\n",
              "      <th>VARIABLE</th>\n",
              "      <th>NOMBRE_MOD</th>\n",
              "      <th>NOMBRE_MOD_SANS_NA</th>\n",
              "    </tr>\n",
              "  </thead>\n",
              "  <tbody>\n",
              "    <tr>\n",
              "      <th>0</th>\n",
              "      <td>IDENT</td>\n",
              "      <td>484522</td>\n",
              "      <td>484522</td>\n",
              "    </tr>\n",
              "    <tr>\n",
              "      <th>1</th>\n",
              "      <td>TypeHabi</td>\n",
              "      <td>4</td>\n",
              "      <td>4</td>\n",
              "    </tr>\n",
              "    <tr>\n",
              "      <th>2</th>\n",
              "      <td>GeoFaz_Scl</td>\n",
              "      <td>38</td>\n",
              "      <td>38</td>\n",
              "    </tr>\n",
              "    <tr>\n",
              "      <th>3</th>\n",
              "      <td>GeoFaz_cl</td>\n",
              "      <td>8</td>\n",
              "      <td>8</td>\n",
              "    </tr>\n",
              "    <tr>\n",
              "      <th>4</th>\n",
              "      <td>Anciennete</td>\n",
              "      <td>11</td>\n",
              "      <td>11</td>\n",
              "    </tr>\n",
              "    <tr>\n",
              "      <th>5</th>\n",
              "      <td>Doublon_ligne</td>\n",
              "      <td>3</td>\n",
              "      <td>3</td>\n",
              "    </tr>\n",
              "    <tr>\n",
              "      <th>6</th>\n",
              "      <td>Revenus_iris</td>\n",
              "      <td>8</td>\n",
              "      <td>8</td>\n",
              "    </tr>\n",
              "    <tr>\n",
              "      <th>7</th>\n",
              "      <td>Sexe</td>\n",
              "      <td>5</td>\n",
              "      <td>5</td>\n",
              "    </tr>\n",
              "    <tr>\n",
              "      <th>8</th>\n",
              "      <td>Prenom_Phase_scl_H</td>\n",
              "      <td>31</td>\n",
              "      <td>31</td>\n",
              "    </tr>\n",
              "    <tr>\n",
              "      <th>9</th>\n",
              "      <td>Prenom_Phase_scl_F</td>\n",
              "      <td>45</td>\n",
              "      <td>45</td>\n",
              "    </tr>\n",
              "    <tr>\n",
              "      <th>10</th>\n",
              "      <td>Prenom_Phase_cl_H</td>\n",
              "      <td>7</td>\n",
              "      <td>7</td>\n",
              "    </tr>\n",
              "    <tr>\n",
              "      <th>11</th>\n",
              "      <td>Prenom_Phase_cl_F</td>\n",
              "      <td>8</td>\n",
              "      <td>8</td>\n",
              "    </tr>\n",
              "    <tr>\n",
              "      <th>12</th>\n",
              "      <td>Age_H</td>\n",
              "      <td>12</td>\n",
              "      <td>12</td>\n",
              "    </tr>\n",
              "    <tr>\n",
              "      <th>13</th>\n",
              "      <td>Age_F</td>\n",
              "      <td>12</td>\n",
              "      <td>12</td>\n",
              "    </tr>\n",
              "    <tr>\n",
              "      <th>14</th>\n",
              "      <td>Pays_sud</td>\n",
              "      <td>2</td>\n",
              "      <td>2</td>\n",
              "    </tr>\n",
              "    <tr>\n",
              "      <th>15</th>\n",
              "      <td>Prenom_effectif</td>\n",
              "      <td>6</td>\n",
              "      <td>6</td>\n",
              "    </tr>\n",
              "    <tr>\n",
              "      <th>16</th>\n",
              "      <td>codif_RdB</td>\n",
              "      <td>5</td>\n",
              "      <td>5</td>\n",
              "    </tr>\n",
              "    <tr>\n",
              "      <th>17</th>\n",
              "      <td>Flag_PA</td>\n",
              "      <td>2</td>\n",
              "      <td>2</td>\n",
              "    </tr>\n",
              "    <tr>\n",
              "      <th>18</th>\n",
              "      <td>Annee_1er_don</td>\n",
              "      <td>9</td>\n",
              "      <td>9</td>\n",
              "    </tr>\n",
              "    <tr>\n",
              "      <th>19</th>\n",
              "      <td>Cumul_dons</td>\n",
              "      <td>8</td>\n",
              "      <td>8</td>\n",
              "    </tr>\n",
              "    <tr>\n",
              "      <th>20</th>\n",
              "      <td>Don_max</td>\n",
              "      <td>9</td>\n",
              "      <td>9</td>\n",
              "    </tr>\n",
              "    <tr>\n",
              "      <th>21</th>\n",
              "      <td>Don_moyen</td>\n",
              "      <td>7</td>\n",
              "      <td>7</td>\n",
              "    </tr>\n",
              "    <tr>\n",
              "      <th>22</th>\n",
              "      <td>Vingtiles_ISF</td>\n",
              "      <td>21</td>\n",
              "      <td>21</td>\n",
              "    </tr>\n",
              "    <tr>\n",
              "      <th>23</th>\n",
              "      <td>IFI+</td>\n",
              "      <td>3</td>\n",
              "      <td>2</td>\n",
              "    </tr>\n",
              "  </tbody>\n",
              "</table>\n",
              "</div>"
            ],
            "text/plain": [
              "              VARIABLE NOMBRE_MOD NOMBRE_MOD_SANS_NA\n",
              "0                IDENT     484522             484522\n",
              "1             TypeHabi          4                  4\n",
              "2           GeoFaz_Scl         38                 38\n",
              "3            GeoFaz_cl          8                  8\n",
              "4           Anciennete         11                 11\n",
              "5        Doublon_ligne          3                  3\n",
              "6         Revenus_iris          8                  8\n",
              "7                 Sexe          5                  5\n",
              "8   Prenom_Phase_scl_H         31                 31\n",
              "9   Prenom_Phase_scl_F         45                 45\n",
              "10   Prenom_Phase_cl_H          7                  7\n",
              "11   Prenom_Phase_cl_F          8                  8\n",
              "12               Age_H         12                 12\n",
              "13               Age_F         12                 12\n",
              "14            Pays_sud          2                  2\n",
              "15     Prenom_effectif          6                  6\n",
              "16           codif_RdB          5                  5\n",
              "17             Flag_PA          2                  2\n",
              "18       Annee_1er_don          9                  9\n",
              "19          Cumul_dons          8                  8\n",
              "20             Don_max          9                  9\n",
              "21           Don_moyen          7                  7\n",
              "22       Vingtiles_ISF         21                 21\n",
              "23                IFI+          3                  2"
            ]
          },
          "metadata": {
            "tags": []
          },
          "execution_count": 133
        }
      ]
    },
    {
      "cell_type": "code",
      "metadata": {
        "colab": {
          "base_uri": "https://localhost:8080/"
        },
        "id": "dNh8ZnOzMfDy",
        "outputId": "c373591f-5759-474a-d01c-b7c64d1b28b9"
      },
      "source": [
        "data[\"IFI+\"].value_counts(dropna=False)"
      ],
      "execution_count": 134,
      "outputs": [
        {
          "output_type": "execute_result",
          "data": {
            "text/plain": [
              "2.0    462833\n",
              "NaN     19069\n",
              "1.0      2620\n",
              "Name: IFI+, dtype: int64"
            ]
          },
          "metadata": {
            "tags": []
          },
          "execution_count": 134
        }
      ]
    },
    {
      "cell_type": "code",
      "metadata": {
        "colab": {
          "base_uri": "https://localhost:8080/"
        },
        "id": "_bJVv_4eBsmj",
        "outputId": "0e67f657-8ae0-42e8-de69-7963ece56caa"
      },
      "source": [
        "data.info()"
      ],
      "execution_count": 135,
      "outputs": [
        {
          "output_type": "stream",
          "text": [
            "<class 'pandas.core.frame.DataFrame'>\n",
            "RangeIndex: 484522 entries, 0 to 484521\n",
            "Data columns (total 24 columns):\n",
            " #   Column              Non-Null Count   Dtype  \n",
            "---  ------              --------------   -----  \n",
            " 0   IDENT               484522 non-null  int64  \n",
            " 1   TypeHabi            484522 non-null  int64  \n",
            " 2   GeoFaz_Scl          484522 non-null  int64  \n",
            " 3   GeoFaz_cl           484522 non-null  int64  \n",
            " 4   Anciennete          484522 non-null  int64  \n",
            " 5   Doublon_ligne       484522 non-null  int64  \n",
            " 6   Revenus_iris        484522 non-null  int64  \n",
            " 7   Sexe                484522 non-null  int64  \n",
            " 8   Prenom_Phase_scl_H  484522 non-null  int64  \n",
            " 9   Prenom_Phase_scl_F  484522 non-null  int64  \n",
            " 10  Prenom_Phase_cl_H   484522 non-null  int64  \n",
            " 11  Prenom_Phase_cl_F   484522 non-null  int64  \n",
            " 12  Age_H               484522 non-null  int64  \n",
            " 13  Age_F               484522 non-null  int64  \n",
            " 14  Pays_sud            484522 non-null  int64  \n",
            " 15  Prenom_effectif     484522 non-null  int64  \n",
            " 16  codif_RdB           484522 non-null  int64  \n",
            " 17  Flag_PA             484522 non-null  int64  \n",
            " 18  Annee_1er_don       484522 non-null  int64  \n",
            " 19  Cumul_dons          484522 non-null  int64  \n",
            " 20  Don_max             484522 non-null  int64  \n",
            " 21  Don_moyen           484522 non-null  int64  \n",
            " 22  Vingtiles_ISF       484522 non-null  int64  \n",
            " 23  IFI+                465453 non-null  float64\n",
            "dtypes: float64(1), int64(23)\n",
            "memory usage: 88.7 MB\n"
          ],
          "name": "stdout"
        }
      ]
    },
    {
      "cell_type": "code",
      "metadata": {
        "id": "R6qqf87_2XGq"
      },
      "source": [
        ""
      ],
      "execution_count": 135,
      "outputs": []
    },
    {
      "cell_type": "code",
      "metadata": {
        "id": "Y4nhL2yxcZZb",
        "colab": {
          "base_uri": "https://localhost:8080/"
        },
        "outputId": "88acbe17-5df7-4dc1-f90e-45c01cbcfe9a"
      },
      "source": [
        "\n",
        "!pip install fanalysis"
      ],
      "execution_count": 136,
      "outputs": [
        {
          "output_type": "stream",
          "text": [
            "Requirement already satisfied: fanalysis in /usr/local/lib/python3.7/dist-packages (0.0.1)\n",
            "Requirement already satisfied: matplotlib>=2.0.0 in /usr/local/lib/python3.7/dist-packages (from fanalysis) (3.2.2)\n",
            "Requirement already satisfied: pandas>=0.19.0 in /usr/local/lib/python3.7/dist-packages (from fanalysis) (1.1.5)\n",
            "Requirement already satisfied: numpy>=1.11.0 in /usr/local/lib/python3.7/dist-packages (from fanalysis) (1.19.5)\n",
            "Requirement already satisfied: scikit-learn>=0.18.0 in /usr/local/lib/python3.7/dist-packages (from fanalysis) (0.22.2.post1)\n",
            "Requirement already satisfied: kiwisolver>=1.0.1 in /usr/local/lib/python3.7/dist-packages (from matplotlib>=2.0.0->fanalysis) (1.3.1)\n",
            "Requirement already satisfied: cycler>=0.10 in /usr/local/lib/python3.7/dist-packages (from matplotlib>=2.0.0->fanalysis) (0.10.0)\n",
            "Requirement already satisfied: python-dateutil>=2.1 in /usr/local/lib/python3.7/dist-packages (from matplotlib>=2.0.0->fanalysis) (2.8.1)\n",
            "Requirement already satisfied: pyparsing!=2.0.4,!=2.1.2,!=2.1.6,>=2.0.1 in /usr/local/lib/python3.7/dist-packages (from matplotlib>=2.0.0->fanalysis) (2.4.7)\n",
            "Requirement already satisfied: pytz>=2017.2 in /usr/local/lib/python3.7/dist-packages (from pandas>=0.19.0->fanalysis) (2018.9)\n",
            "Requirement already satisfied: scipy>=0.17.0 in /usr/local/lib/python3.7/dist-packages (from scikit-learn>=0.18.0->fanalysis) (1.4.1)\n",
            "Requirement already satisfied: joblib>=0.11 in /usr/local/lib/python3.7/dist-packages (from scikit-learn>=0.18.0->fanalysis) (1.0.1)\n",
            "Requirement already satisfied: six in /usr/local/lib/python3.7/dist-packages (from cycler>=0.10->matplotlib>=2.0.0->fanalysis) (1.15.0)\n"
          ],
          "name": "stdout"
        }
      ]
    },
    {
      "cell_type": "code",
      "metadata": {
        "id": "IJOZku3IYEpI"
      },
      "source": [
        ""
      ],
      "execution_count": 136,
      "outputs": []
    },
    {
      "cell_type": "code",
      "metadata": {
        "id": "0lpwr2FMYiq2"
      },
      "source": [
        ""
      ],
      "execution_count": 136,
      "outputs": []
    },
    {
      "cell_type": "code",
      "metadata": {
        "id": "gGyqVG-fUKyo"
      },
      "source": [
        "############################################################### ajouter ou effacer\n",
        "# on élimine la variable qui contribue le plus au modèle précédent\n",
        "data=data.drop([\"Annee_1er_don\", \"Cumul_dons\",\"Don_max\", \"Don_moyen\"],axis=1)\n",
        "\n",
        "#data=data.drop([\"Annee_1er_don\", \"Cumul_dons\",\"Don_max\", \"Don_moyen\", \"GeoFaz_cl\", \"Prenom_Phase_cl_H\", \"Prenom_Phase_cl_F\"],axis=1)"
      ],
      "execution_count": 137,
      "outputs": []
    },
    {
      "cell_type": "code",
      "metadata": {
        "colab": {
          "base_uri": "https://localhost:8080/"
        },
        "id": "2-RPzJ4vZEhM",
        "outputId": "628553d4-543b-40ec-b592-d9e86de42091"
      },
      "source": [
        "num_var_max = data.shape[1] - 2\n",
        "num_var_max"
      ],
      "execution_count": 138,
      "outputs": [
        {
          "output_type": "execute_result",
          "data": {
            "text/plain": [
              "18"
            ]
          },
          "metadata": {
            "tags": []
          },
          "execution_count": 138
        }
      ]
    },
    {
      "cell_type": "code",
      "metadata": {
        "id": "C0T71nnOQ1rc",
        "colab": {
          "base_uri": "https://localhost:8080/",
          "height": 313
        },
        "outputId": "e44cd7c2-1ed5-4d48-878e-844eee133a0b"
      },
      "source": [
        "#importation de la librairie\n",
        "from fanalysis.mca import MCA\n",
        "\n",
        "#instanciation\n",
        "acm = MCA(var_labels=data.columns[1:num_var_max])\n",
        "\n",
        "# apprentissage\n",
        "acm.fit(data.iloc[:,1:num_var_max].values)\n",
        "#valeurs propres - graphique\n",
        "print(acm.plot_eigenvalues())"
      ],
      "execution_count": 139,
      "outputs": [
        {
          "output_type": "display_data",
          "data": {
            "image/png": "[encoded data removed]",
            "text/plain": [
              "<Figure size 432x288 with 1 Axes>"
            ]
          },
          "metadata": {
            "tags": [],
            "needs_background": "light"
          }
        },
        {
          "output_type": "stream",
          "text": [
            "None\n"
          ],
          "name": "stdout"
        }
      ]
    },
    {
      "cell_type": "code",
      "metadata": {
        "id": "uba6n_5g-7-U"
      },
      "source": [
        "# fonction qui va diviser et calculer les coordonnées des individus \n",
        "def transform_to_coord(data):\n",
        "    coord_part = 0\n",
        "    coord = acm.transform(data.iloc[0:30000,1:num_var_max].values)\n",
        "    k=30000\n",
        "    nb_part = round(data.shape[0]/k)\n",
        "    for i in range(1, nb_part):\n",
        "        coord_part=acm.transform(data.iloc[i*k:(i+1)*k,1:num_var_max].values)\n",
        "        coord=np.concatenate((coord, coord_part))\n",
        "\n",
        "    coord_part = acm.transform(data.iloc[nb_part*k: ,1:num_var_max].values )\n",
        "    coord=np.concatenate((coord, coord_part))\n",
        "    return coord"
      ],
      "execution_count": 140,
      "outputs": []
    },
    {
      "cell_type": "code",
      "metadata": {
        "id": "Owu0Cby0oOnj"
      },
      "source": [
        "#instanciation\n",
        "acm = MCA(var_labels = data.columns[1:num_var_max], n_components=10)  # paramètres index manquante (gérer après)\n",
        "#apprentissage \n",
        "\"ne pas utiliser fit_tranform car le datset est trop grand \"\n",
        "acm.fit(data.iloc[:,1:num_var_max].values)\n",
        "\n",
        "# tranformation du dataset\n",
        "coord = transform_to_coord(data)\n"
      ],
      "execution_count": 141,
      "outputs": []
    },
    {
      "cell_type": "code",
      "metadata": {
        "colab": {
          "base_uri": "https://localhost:8080/"
        },
        "id": "7Xqe0tJsysa3",
        "outputId": "5cb7e27c-870b-4306-d202-c1801d667bef"
      },
      "source": [
        "# dimension\n",
        "coord.shape"
      ],
      "execution_count": 142,
      "outputs": [
        {
          "output_type": "execute_result",
          "data": {
            "text/plain": [
              "(484522, 10)"
            ]
          },
          "metadata": {
            "tags": []
          },
          "execution_count": 142
        }
      ]
    },
    {
      "cell_type": "code",
      "metadata": {
        "colab": {
          "base_uri": "https://localhost:8080/",
          "height": 313
        },
        "id": "tpU2mQ-g8XJQ",
        "outputId": "f9c20d9e-9582-4177-9f0a-08fa9cce346c"
      },
      "source": [
        "#valeurs propres - graphique\n",
        "print(acm.plot_eigenvalues())\n"
      ],
      "execution_count": 143,
      "outputs": [
        {
          "output_type": "display_data",
          "data": {
            "image/png": "[encoded data removed]",
            "text/plain": [
              "<Figure size 432x288 with 1 Axes>"
            ]
          },
          "metadata": {
            "tags": [],
            "needs_background": "light"
          }
        },
        {
          "output_type": "stream",
          "text": [
            "None\n"
          ],
          "name": "stdout"
        }
      ]
    },
    {
      "cell_type": "code",
      "metadata": {
        "colab": {
          "base_uri": "https://localhost:8080/"
        },
        "id": "OJEJV8tO8eqw",
        "outputId": "979e5944-6ec6-4b86-d8ff-4c8c2202eea5"
      },
      "source": [
        "#coordonnées des colonnes\n",
        "print(acm.col_topandas())"
      ],
      "execution_count": 144,
      "outputs": [
        {
          "output_type": "stream",
          "text": [
            "               col_coord_dim1  col_coord_dim2  col_coord_dim3  col_coord_dim4  \\\n",
            "TypeHabi_1           0.325682        0.286892       -0.104723        0.244870   \n",
            "TypeHabi_2          -0.158135       -0.136888        0.033639       -0.082938   \n",
            "TypeHabi_3           0.107047        0.005324        0.002236        0.176567   \n",
            "TypeHabi_4           0.447657        3.321797        1.846347      -10.426635   \n",
            "GeoFaz_Scl_11       -0.193574        0.164972       -0.255474        0.174297   \n",
            "...                       ...             ...             ...             ...   \n",
            "codif_RdB_3          0.216514        0.059981        0.105830        0.031365   \n",
            "codif_RdB_4          0.218336        2.436145        0.943334        0.779906   \n",
            "codif_RdB_5          0.241334        0.401738       -1.048932       -0.808067   \n",
            "Flag_PA_1            0.011416       -0.112895       -0.067913        0.028012   \n",
            "Flag_PA_2           -0.000531        0.005255        0.003161       -0.001304   \n",
            "\n",
            "               col_coord_dim5  col_coord_dim6  col_coord_dim7  col_coord_dim8  \\\n",
            "TypeHabi_1          -0.275732        0.156112       -0.919326        0.114952   \n",
            "TypeHabi_2           0.136689       -0.074725        0.449649       -0.059661   \n",
            "TypeHabi_3          -0.113784        0.050954       -0.346567        0.053226   \n",
            "TypeHabi_4          -0.046726        0.016266       -0.209892        0.325427   \n",
            "GeoFaz_Scl_11        0.487320        0.149511        0.320544       -0.047967   \n",
            "...                       ...             ...             ...             ...   \n",
            "codif_RdB_3         -0.013076       -0.073543        0.124104       -0.169568   \n",
            "codif_RdB_4         -0.900412       -0.038899        0.681371       -0.037771   \n",
            "codif_RdB_5         -0.616558       -0.057564       -2.239487        0.011015   \n",
            "Flag_PA_1           -0.074724       -0.000939       -0.139530        0.103561   \n",
            "Flag_PA_2            0.003479        0.000044        0.006495       -0.004821   \n",
            "\n",
            "               col_coord_dim9  col_coord_dim10  col_contrib_dim1  \\\n",
            "TypeHabi_1          -0.389836         0.031002          0.441851   \n",
            "TypeHabi_2           0.242916        -0.016793          0.251133   \n",
            "TypeHabi_3          -0.373365         0.031116          0.022329   \n",
            "TypeHabi_4          -1.728124        -0.414819          0.010209   \n",
            "GeoFaz_Scl_11        0.371045        -0.043544          0.023028   \n",
            "...                       ...              ...               ...   \n",
            "codif_RdB_3         -0.079020        -0.110896          0.245579   \n",
            "codif_RdB_4         -0.050080        -0.089451          0.023969   \n",
            "codif_RdB_5          4.682572        -0.011849          0.022467   \n",
            "Flag_PA_1           -0.194494         0.012704          0.000094   \n",
            "Flag_PA_2            0.009054        -0.000591          0.000004   \n",
            "\n",
            "               col_contrib_dim2  col_contrib_dim3  col_contrib_dim4  \\\n",
            "TypeHabi_1             0.557710          0.087815          0.501370   \n",
            "TypeHabi_2             0.306099          0.021844          0.138659   \n",
            "TypeHabi_3             0.000090          0.000019          0.121936   \n",
            "TypeHabi_4             0.914406          0.333839         11.117296   \n",
            "GeoFaz_Scl_11          0.027206          0.077101          0.037476   \n",
            "...                         ...               ...               ...   \n",
            "codif_RdB_3            0.030657          0.112780          0.010344   \n",
            "codif_RdB_4            4.853856          0.860062          0.613880   \n",
            "codif_RdB_5            0.101271          0.815850          0.505604   \n",
            "Flag_PA_1              0.014946          0.006391          0.001136   \n",
            "Flag_PA_2              0.000696          0.000298          0.000053   \n",
            "\n",
            "               col_contrib_dim5  col_contrib_dim6  col_contrib_dim7  \\\n",
            "TypeHabi_1             0.664041      2.209518e-01          7.939874   \n",
            "TypeHabi_2             0.393411      1.220433e-01          4.579084   \n",
            "TypeHabi_3             0.052894      1.101065e-02          0.527806   \n",
            "TypeHabi_4             0.000233      2.933609e-05          0.005062   \n",
            "GeoFaz_Scl_11          0.306006      2.989868e-02          0.142406   \n",
            "...                         ...               ...               ...   \n",
            "codif_RdB_3            0.001878      6.166462e-02          0.181961   \n",
            "codif_RdB_4            0.854702      1.655807e-03          0.526444   \n",
            "codif_RdB_5            0.307466      2.781951e-03          4.363132   \n",
            "Flag_PA_1              0.008440      1.384352e-06          0.031654   \n",
            "Flag_PA_2              0.000393      6.444384e-08          0.001474   \n",
            "\n",
            "               col_contrib_dim8  col_contrib_dim9  col_contrib_dim10  \\\n",
            "TypeHabi_1             0.131333          1.659549           0.010673   \n",
            "TypeHabi_2             0.085286          1.553446           0.007549   \n",
            "TypeHabi_3             0.013171          0.712066           0.005029   \n",
            "TypeHabi_4             0.012873          0.398840           0.023369   \n",
            "GeoFaz_Scl_11          0.003374          0.221798           0.003106   \n",
            "...                         ...               ...                ...   \n",
            "codif_RdB_3            0.359385          0.085750           0.171737   \n",
            "codif_RdB_4            0.001711          0.003306           0.010725   \n",
            "codif_RdB_5            0.000112         22.172911           0.000144   \n",
            "Flag_PA_1              0.018448          0.071491           0.000310   \n",
            "Flag_PA_2              0.000859          0.003328           0.000014   \n",
            "\n",
            "               col_cos2_dim1  col_cos2_dim2  col_cos2_dim3  col_cos2_dim4  \\\n",
            "TypeHabi_1          0.036692       0.028472   3.793741e-03       0.020742   \n",
            "TypeHabi_2          0.040734       0.030523   1.843247e-03       0.011205   \n",
            "TypeHabi_3          0.001566       0.000004   6.832159e-07       0.004260   \n",
            "TypeHabi_4          0.000632       0.034794   1.074931e-02       0.342801   \n",
            "GeoFaz_Scl_11       0.001477       0.001073   2.572315e-03       0.001197   \n",
            "...                      ...            ...            ...            ...   \n",
            "codif_RdB_3         0.022388       0.001718   5.348850e-03       0.000470   \n",
            "codif_RdB_4         0.001526       0.190006   2.848995e-02       0.019474   \n",
            "codif_RdB_5         0.001420       0.003935   2.682547e-02       0.015920   \n",
            "Flag_PA_1           0.000006       0.000593   2.147027e-04       0.000037   \n",
            "Flag_PA_2           0.000006       0.000593   2.147027e-04       0.000037   \n",
            "\n",
            "               col_cos2_dim5  col_cos2_dim6  col_cos2_dim7  col_cos2_dim8  \\\n",
            "TypeHabi_1          0.026300   8.430548e-03       0.292365       0.004571   \n",
            "TypeHabi_2          0.030434   9.095502e-03       0.329340       0.005798   \n",
            "TypeHabi_3          0.001769   3.547945e-04       0.016413       0.000387   \n",
            "TypeHabi_4          0.000007   8.342684e-07       0.000139       0.000334   \n",
            "GeoFaz_Scl_11       0.009360   8.810006e-04       0.004050       0.000091   \n",
            "...                      ...            ...            ...            ...   \n",
            "codif_RdB_3         0.000082   2.582994e-03       0.007356       0.013732   \n",
            "codif_RdB_4         0.025956   4.844313e-05       0.014864       0.000046   \n",
            "codif_RdB_5         0.009268   8.078809e-05       0.122278       0.000003   \n",
            "Flag_PA_1           0.000260   4.107180e-08       0.000906       0.000499   \n",
            "Flag_PA_2           0.000260   4.107180e-08       0.000906       0.000499   \n",
            "\n",
            "               col_cos2_dim9  col_cos2_dim10  \n",
            "TypeHabi_1          0.052571        0.000332  \n",
            "TypeHabi_2          0.096119        0.000459  \n",
            "TypeHabi_3          0.019050        0.000132  \n",
            "TypeHabi_4          0.009417        0.000543  \n",
            "GeoFaz_Scl_11       0.005426        0.000075  \n",
            "...                      ...             ...  \n",
            "codif_RdB_3         0.002982        0.005873  \n",
            "codif_RdB_4         0.000080        0.000256  \n",
            "codif_RdB_5         0.534591        0.000003  \n",
            "Flag_PA_1           0.001761        0.000008  \n",
            "Flag_PA_2           0.001761        0.000008  \n",
            "\n",
            "[207 rows x 30 columns]\n"
          ],
          "name": "stdout"
        }
      ]
    },
    {
      "cell_type": "code",
      "metadata": {
        "colab": {
          "base_uri": "https://localhost:8080/"
        },
        "id": "irARzF0d8es8",
        "outputId": "d0b7b791-dfec-4a31-ab27-f361e2af7bae"
      },
      "source": [
        "#nombre var. actives\n",
        "p = data.shape[1]-1\n",
        "print(p)\n",
        "#calcul des fonctions de projection\n",
        "fproj = np.zeros(acm.col_coord_.shape)\n",
        "#pour chaque colonne\n",
        "for j in range(fproj.shape[1]):\n",
        " fproj[:,j] = acm.col_coord_[:,j]/(p*np.sqrt(acm.eig_[0,j]))\n",
        "#affichage fonction\n",
        "print(fproj)\n",
        "#affichage plus avenant des deux premiers facteurs\n",
        "print(pd.DataFrame(fproj,index=acm.col_labels_))\n"
      ],
      "execution_count": 145,
      "outputs": [
        {
          "output_type": "stream",
          "text": [
            "19\n",
            "[[ 2.84529065e-02  3.19663469e-02 -1.26845189e-02 ...  1.55123094e-02\n",
            "  -5.51421810e-02  4.42209751e-03]\n",
            " [-1.38153383e-02 -1.52524888e-02  4.07451327e-03 ... -8.05098106e-03\n",
            "   3.43603864e-02 -2.39530587e-03]\n",
            " [ 9.35206702e-03  5.93235329e-04  2.70834040e-04 ...  7.18262882e-03\n",
            "  -5.28123985e-02  4.43835177e-03]\n",
            " ...\n",
            " [ 2.10839467e-02  4.47628193e-02 -1.27051681e-01 ...  1.48649100e-03\n",
            "   6.62348637e-01 -1.69009262e-03]\n",
            " [ 9.97370709e-04 -1.25791184e-02 -8.22591984e-03 ...  1.39751846e-02\n",
            "  -2.75111545e-02  1.81202996e-03]\n",
            " [-4.64292147e-05  5.85578242e-04  3.82929832e-04 ... -6.50567377e-04\n",
            "   1.28068860e-03 -8.43529164e-05]]\n",
            "                      0         1         2         3         4         5  \\\n",
            "TypeHabi_1     0.028453  0.031966 -0.012685  0.030309 -0.034881  0.020120   \n",
            "TypeHabi_2    -0.013815 -0.015252  0.004075 -0.010266  0.017292 -0.009631   \n",
            "TypeHabi_3     0.009352  0.000593  0.000271  0.021855 -0.014394  0.006567   \n",
            "TypeHabi_4     0.039109  0.370124  0.223638 -1.290557 -0.005911  0.002096   \n",
            "GeoFaz_Scl_11 -0.016911  0.018382 -0.030944  0.021574  0.061647  0.019270   \n",
            "...                 ...       ...       ...       ...       ...       ...   \n",
            "codif_RdB_3    0.018916  0.006683  0.012819  0.003882 -0.001654 -0.009479   \n",
            "codif_RdB_4    0.019075  0.271442  0.114261  0.096533 -0.113905 -0.005013   \n",
            "codif_RdB_5    0.021084  0.044763 -0.127052 -0.100019 -0.077996 -0.007419   \n",
            "Flag_PA_1      0.000997 -0.012579 -0.008226  0.003467 -0.009453 -0.000121   \n",
            "Flag_PA_2     -0.000046  0.000586  0.000383 -0.000161  0.000440  0.000006   \n",
            "\n",
            "                      6         7         8         9  \n",
            "TypeHabi_1    -0.120613  0.015512 -0.055142  0.004422  \n",
            "TypeHabi_2     0.058993 -0.008051  0.034360 -0.002395  \n",
            "TypeHabi_3    -0.045469  0.007183 -0.052812  0.004438  \n",
            "TypeHabi_4    -0.027537  0.043915 -0.244443 -0.059169  \n",
            "GeoFaz_Scl_11  0.042055 -0.006473  0.052484 -0.006211  \n",
            "...                 ...       ...       ...       ...  \n",
            "codif_RdB_3    0.016282 -0.022883 -0.011177 -0.015818  \n",
            "codif_RdB_4    0.089394 -0.005097 -0.007084 -0.012759  \n",
            "codif_RdB_5   -0.293815  0.001486  0.662349 -0.001690  \n",
            "Flag_PA_1     -0.018306  0.013975 -0.027511  0.001812  \n",
            "Flag_PA_2      0.000852 -0.000651  0.001281 -0.000084  \n",
            "\n",
            "[207 rows x 10 columns]\n"
          ],
          "name": "stdout"
        }
      ]
    },
    {
      "cell_type": "code",
      "metadata": {
        "id": "TYbwi6XPom6o"
      },
      "source": [
        ""
      ],
      "execution_count": 145,
      "outputs": []
    },
    {
      "cell_type": "code",
      "metadata": {
        "id": "yk7314rJo8ss",
        "colab": {
          "base_uri": "https://localhost:8080/"
        },
        "outputId": "1a0f01c7-6f03-428d-da8c-3d38c0822499"
      },
      "source": [
        "# affichafe des 10 premières lignes\n",
        "print(coord[:10,:])\n"
      ],
      "execution_count": 146,
      "outputs": [
        {
          "output_type": "stream",
          "text": [
            "[[ 7.37782531e-02  3.92701505e-01  4.16130265e-01  2.74907230e-01\n",
            "   1.63211843e-01  3.03623509e-01 -1.53568793e-01 -9.64472893e-01\n",
            "  -3.32674156e-01  2.67226928e-01]\n",
            " [-3.19953497e-01 -1.05594355e-01  6.19261766e-01  1.64706208e-01\n",
            "  -4.54534078e-02 -2.64570196e-01 -7.34417782e-01 -3.18008215e-02\n",
            "  -2.62132998e-02 -9.27808584e-04]\n",
            " [ 6.60808367e-02 -5.90607867e-01  9.99495414e-01  7.21648709e-02\n",
            "   1.71492034e-01  1.88475049e-01  2.13387567e-01  3.18638779e-01\n",
            "   2.27701870e-03 -1.19366550e-01]\n",
            " [-7.29482025e-01 -3.22997187e-02 -3.11129589e-01  2.49245384e-02\n",
            "  -3.68923205e-01  4.91502943e-01 -2.25916811e-01 -3.17213992e-01\n",
            "  -3.41595672e-02  1.67120290e-02]\n",
            " [-7.69132043e-01 -1.08630106e-01 -2.62257526e-01 -9.77836525e-02\n",
            "  -3.34514273e-01  4.26367525e-01  1.08241129e-02 -3.43539281e-01\n",
            "   1.34088550e-01 -1.98464974e-03]\n",
            " [-5.78699024e-01  1.74987168e-01 -3.90188457e-01  8.55832758e-02\n",
            "   3.03456350e-01 -2.46304981e-01 -2.97850517e-01  4.67946604e-01\n",
            "  -2.86941815e-01  1.66895584e-01]\n",
            " [ 5.82152012e-01 -4.48434332e-01 -2.50976332e-02 -2.24113525e-01\n",
            "  -1.75955727e-01  3.90018559e-01  2.78959032e-01  3.65953849e-01\n",
            "   6.81437339e-02 -1.43141191e-01]\n",
            " [-6.77430540e-01 -3.81346032e-02 -3.44761257e-01 -5.10230968e-02\n",
            "  -1.78261488e-01  3.35565055e-01  4.34671921e-03 -2.01528496e-01\n",
            "   1.36340139e-01  1.86769521e-03]\n",
            " [ 4.83126963e-02 -6.08611782e-01  8.42805423e-01  7.28065224e-02\n",
            "   4.03647855e-02 -2.19243004e-01  8.66093118e-02  1.99064706e-01\n",
            "  -1.11579249e-02 -9.38419699e-02]\n",
            " [-5.69835899e-01 -1.12529295e-01  5.47155918e-01  8.52912642e-02\n",
            "   2.39100444e-01 -1.69858807e-01 -2.93595331e-01 -1.35655074e-01\n",
            "   4.35894470e-01 -3.31830180e-02]]\n"
          ],
          "name": "stdout"
        }
      ]
    },
    {
      "cell_type": "code",
      "metadata": {
        "id": "XZXRt7tZSM2r",
        "colab": {
          "base_uri": "https://localhost:8080/"
        },
        "outputId": "0ecb1d77-f472-4585-ee38-a736e425e5df"
      },
      "source": [
        "#print(data_sans_nan.shape)\n",
        "#print(coord_sans_nan.shape)\n",
        "#print(data_sans_nan.iloc[:,0])\n",
        "#dfff.isnull().sum(axis=0)\n",
        "data.info()"
      ],
      "execution_count": 147,
      "outputs": [
        {
          "output_type": "stream",
          "text": [
            "<class 'pandas.core.frame.DataFrame'>\n",
            "RangeIndex: 484522 entries, 0 to 484521\n",
            "Data columns (total 20 columns):\n",
            " #   Column              Non-Null Count   Dtype  \n",
            "---  ------              --------------   -----  \n",
            " 0   IDENT               484522 non-null  int64  \n",
            " 1   TypeHabi            484522 non-null  int64  \n",
            " 2   GeoFaz_Scl          484522 non-null  int64  \n",
            " 3   GeoFaz_cl           484522 non-null  int64  \n",
            " 4   Anciennete          484522 non-null  int64  \n",
            " 5   Doublon_ligne       484522 non-null  int64  \n",
            " 6   Revenus_iris        484522 non-null  int64  \n",
            " 7   Sexe                484522 non-null  int64  \n",
            " 8   Prenom_Phase_scl_H  484522 non-null  int64  \n",
            " 9   Prenom_Phase_scl_F  484522 non-null  int64  \n",
            " 10  Prenom_Phase_cl_H   484522 non-null  int64  \n",
            " 11  Prenom_Phase_cl_F   484522 non-null  int64  \n",
            " 12  Age_H               484522 non-null  int64  \n",
            " 13  Age_F               484522 non-null  int64  \n",
            " 14  Pays_sud            484522 non-null  int64  \n",
            " 15  Prenom_effectif     484522 non-null  int64  \n",
            " 16  codif_RdB           484522 non-null  int64  \n",
            " 17  Flag_PA             484522 non-null  int64  \n",
            " 18  Vingtiles_ISF       484522 non-null  int64  \n",
            " 19  IFI+                465453 non-null  float64\n",
            "dtypes: float64(1), int64(19)\n",
            "memory usage: 73.9 MB\n"
          ],
          "name": "stdout"
        }
      ]
    },
    {
      "cell_type": "code",
      "metadata": {
        "id": "NpZCCbB4VJmr",
        "colab": {
          "base_uri": "https://localhost:8080/"
        },
        "outputId": "c43a3f7b-04ab-46e6-f2da-2bd794f816d4"
      },
      "source": [
        "## ATTENTION\n",
        "# élimination des individus n'ayant pas de valeur pour la variable IFI+\n",
        "data_sans_nan = data[(data.isnull()).sum(axis=1) == 0]\n",
        "coord_sans_nan = coord[(data.isnull()).sum(axis=1) == 0] # coordonnées\n",
        "\n",
        "#conversion du type de variable\n",
        "for i in range(1,data_sans_nan.shape[1]):\n",
        "    data_sans_nan.iloc[:,i]=data_sans_nan.iloc[:,i].astype(int) # essayer avec int64\n",
        "\n",
        "# création\n",
        "def creation_df_temp(data_sans_nan, coord_sans_nan):\n",
        "    dfff = pd.DataFrame()\n",
        "    dfff[\"IDENT\"] = data_sans_nan.iloc[:,0]\n",
        "    for i in range(10):\n",
        "        dfff[str(i)]=coord_sans_nan[:,i]\n",
        "    dfff[\"IFI+\"] = data_sans_nan.iloc[:,data_sans_nan.shape[1]-1].astype(int)\n",
        "    return dfff\n",
        "# stockage\n",
        "data_coord_nan = creation_df_temp(data_sans_nan, coord_sans_nan)\n",
        "data_coord_nan.info()\n",
        "#data_coord_nan = dfff \n",
        "\n",
        "# maintien des individus  n'ayant pas de valeur pour la variable IFI+\n",
        "\n",
        "data_avec_nan = data\n",
        "coord_avec_nan = coord # coordonnées\n",
        "def creation_df_temp_2(data_sans_nan, coord_sans_nan):\n",
        "    dfff = pd.DataFrame()\n",
        "    dfff[\"IDENT\"] = data_sans_nan.iloc[:,0]\n",
        "    for i in range(10):\n",
        "        dfff[str(i)]=coord_sans_nan[:,i]\n",
        "\n",
        "    dfff[\"IFI+\"] = data_sans_nan.iloc[:,data_sans_nan.shape[1]-1] #.astype(int)\n",
        "\n",
        "    dfff[\"IFI+\"] = dfff[\"IFI+\"].replace(1.0, '1')\n",
        "    dfff[\"IFI+\"] = dfff[\"IFI+\"].replace(2.0,'2')\n",
        "    #for j in range(data_sans_nan.shape[1]):\n",
        "    #    if dfff.iloc[j,10+1] == 2.0:\n",
        "    #        dfff.iloc[j,10+1] = 2\n",
        "    #    if dfff.iloc[j, 10+1] ==1.0:\n",
        "    #        dfff.iloc[j,10+1] =1\n",
        "\n",
        "    return dfff\n",
        "data_coord_avec_nan = creation_df_temp_2(data_avec_nan, coord_avec_nan)\n",
        "data_coord_avec_nan.info()\n",
        "\n"
      ],
      "execution_count": 148,
      "outputs": [
        {
          "output_type": "stream",
          "text": [
            "/usr/local/lib/python3.7/dist-packages/pandas/core/indexing.py:1743: SettingWithCopyWarning: \n",
            "A value is trying to be set on a copy of a slice from a DataFrame.\n",
            "Try using .loc[row_indexer,col_indexer] = value instead\n",
            "\n",
            "See the caveats in the documentation: https://pandas.pydata.org/pandas-docs/stable/user_guide/indexing.html#returning-a-view-versus-a-copy\n",
            "  isetter(ilocs[0], value)\n"
          ],
          "name": "stderr"
        },
        {
          "output_type": "stream",
          "text": [
            "<class 'pandas.core.frame.DataFrame'>\n",
            "Int64Index: 465453 entries, 0 to 466516\n",
            "Data columns (total 12 columns):\n",
            " #   Column  Non-Null Count   Dtype  \n",
            "---  ------  --------------   -----  \n",
            " 0   IDENT   465453 non-null  int64  \n",
            " 1   0       465453 non-null  float64\n",
            " 2   1       465453 non-null  float64\n",
            " 3   2       465453 non-null  float64\n",
            " 4   3       465453 non-null  float64\n",
            " 5   4       465453 non-null  float64\n",
            " 6   5       465453 non-null  float64\n",
            " 7   6       465453 non-null  float64\n",
            " 8   7       465453 non-null  float64\n",
            " 9   8       465453 non-null  float64\n",
            " 10  9       465453 non-null  float64\n",
            " 11  IFI+    465453 non-null  int64  \n",
            "dtypes: float64(10), int64(2)\n",
            "memory usage: 46.2 MB\n",
            "<class 'pandas.core.frame.DataFrame'>\n",
            "RangeIndex: 484522 entries, 0 to 484521\n",
            "Data columns (total 12 columns):\n",
            " #   Column  Non-Null Count   Dtype  \n",
            "---  ------  --------------   -----  \n",
            " 0   IDENT   484522 non-null  int64  \n",
            " 1   0       484522 non-null  float64\n",
            " 2   1       484522 non-null  float64\n",
            " 3   2       484522 non-null  float64\n",
            " 4   3       484522 non-null  float64\n",
            " 5   4       484522 non-null  float64\n",
            " 6   5       484522 non-null  float64\n",
            " 7   6       484522 non-null  float64\n",
            " 8   7       484522 non-null  float64\n",
            " 9   8       484522 non-null  float64\n",
            " 10  9       484522 non-null  float64\n",
            " 11  IFI+    465453 non-null  object \n",
            "dtypes: float64(10), int64(1), object(1)\n",
            "memory usage: 44.4+ MB\n"
          ],
          "name": "stdout"
        }
      ]
    },
    {
      "cell_type": "code",
      "metadata": {
        "colab": {
          "base_uri": "https://localhost:8080/"
        },
        "id": "LJ4G93RJxEdo",
        "outputId": "d210b3e6-8584-429d-c425-08e54493ea5f"
      },
      "source": [
        "2.0==2"
      ],
      "execution_count": 149,
      "outputs": [
        {
          "output_type": "execute_result",
          "data": {
            "text/plain": [
              "True"
            ]
          },
          "metadata": {
            "tags": []
          },
          "execution_count": 149
        }
      ]
    },
    {
      "cell_type": "code",
      "metadata": {
        "id": "CuvxB6-qYNzJ"
      },
      "source": [
        "from sklearn.discriminant_analysis import LinearDiscriminantAnalysis, QuadraticDiscriminantAnalysis\n",
        "\n",
        "from sklearn.metrics import f1_score, confusion_matrix, classification_report\n",
        "from sklearn.model_selection import train_test_split, learning_curve, GridSearchCV\n",
        "\n",
        "import imblearn\n",
        "from imblearn.combine import SMOTETomek\n",
        "from imblearn.under_sampling import TomekLinks\n",
        "from imblearn.over_sampling import SMOTE\n"
      ],
      "execution_count": 150,
      "outputs": []
    },
    {
      "cell_type": "code",
      "metadata": {
        "id": "7ksFu0t_cirJ"
      },
      "source": [
        "#data_coord_nan.shape\n",
        "#train_X_s.shape"
      ],
      "execution_count": 151,
      "outputs": []
    },
    {
      "cell_type": "code",
      "metadata": {
        "id": "S0jwerFqbXh-",
        "colab": {
          "base_uri": "https://localhost:8080/"
        },
        "outputId": "3b90819b-99fa-479c-c0ce-6c8062dd5178"
      },
      "source": [
        "#data_non_corr = elimination_val_corr(data)\n",
        "#nb_var = data_non_corr.shape[1] - 1\n",
        "nb_var = data_coord_nan.shape[1] - 1\n",
        "\n",
        "train_set, test_set = train_test_split(data_coord_nan, test_size = 0.2, random_state=0) # , stratify =data_coord_nan[\"IFI+\"] )\n",
        "\n",
        "train_X_s = (train_set.iloc[:,1:nb_var]).to_numpy()\n",
        "train_Y_s = np.asanyarray(train_set.iloc[:,nb_var])\n",
        "\n",
        "test_X_s = (test_set.iloc[:,1:nb_var]).to_numpy()\n",
        "test_Y_s = np.asanyarray(test_set.iloc[:,nb_var])\n",
        "\n",
        "# comme les résulats sont en overfitting, on fait une augmentation de données\n",
        "tl = SMOTE()\n",
        "X_resampled, y_resampled = tl.fit_resample(train_X_s, train_Y_s ) \n"
      ],
      "execution_count": 152,
      "outputs": [
        {
          "output_type": "stream",
          "text": [
            "/usr/local/lib/python3.7/dist-packages/sklearn/utils/deprecation.py:87: FutureWarning: Function safe_indexing is deprecated; safe_indexing is deprecated in version 0.22 and will be removed in version 0.24.\n",
            "  warnings.warn(msg, category=FutureWarning)\n"
          ],
          "name": "stderr"
        }
      ]
    },
    {
      "cell_type": "code",
      "metadata": {
        "colab": {
          "base_uri": "https://localhost:8080/"
        },
        "id": "tLasso34-MXx",
        "outputId": "00d9f6d1-6f6c-4468-d926-7af07474d6c0"
      },
      "source": [
        "model_LinearDiscriminantAnalysis = LinearDiscriminantAnalysis()\n",
        "param = {\"solver\" : [\"svd\",\"lsqr\", \"eigen\"], \"tol\" : [0.00001,0.0001,0.0002,0.0003]}\n",
        "\n",
        "grid_LinearDiscriminantAnalysis = GridSearchCV(model_LinearDiscriminantAnalysis, param_grid= param, cv = 4, scoring = \"accuracy\")\n",
        "resultat_grid_LinearDiscriminantAnalysis = grid_LinearDiscriminantAnalysis.fit(X_resampled, y_resampled)\n",
        "resultat_grid_LinearDiscriminantAnalysis.best_params_ "
      ],
      "execution_count": 153,
      "outputs": [
        {
          "output_type": "execute_result",
          "data": {
            "text/plain": [
              "{'solver': 'svd', 'tol': 1e-05}"
            ]
          },
          "metadata": {
            "tags": []
          },
          "execution_count": 153
        }
      ]
    },
    {
      "cell_type": "code",
      "metadata": {
        "colab": {
          "base_uri": "https://localhost:8080/",
          "height": 799
        },
        "id": "mtwy_DkreMi8",
        "outputId": "bef71ab1-ea0f-4e9e-a251-5549eef2b0be"
      },
      "source": [
        "model_17 = LinearDiscriminantAnalysis()  # la valeur par defaut de la tolérence donne le même résultat que tol=1e-5\n",
        "evaluation(model_17, X_resampled, y_resampled, test_X_s, test_Y_s, scoring = \"f1\")"
      ],
      "execution_count": 154,
      "outputs": [
        {
          "output_type": "stream",
          "text": [
            "test set : \n",
            "[[  314   184]\n",
            " [31384 61209]]\n",
            "              precision    recall  f1-score   support\n",
            "\n",
            "           1       0.01      0.63      0.02       498\n",
            "           2       1.00      0.66      0.79     92593\n",
            "\n",
            "    accuracy                           0.66     93091\n",
            "   macro avg       0.50      0.65      0.41     93091\n",
            "weighted avg       0.99      0.66      0.79     93091\n",
            "\n",
            "train set : \n",
            "[[242249 127991]\n",
            " [125204 245036]]\n",
            "              precision    recall  f1-score   support\n",
            "\n",
            "           1       0.66      0.65      0.66    370240\n",
            "           2       0.66      0.66      0.66    370240\n",
            "\n",
            "    accuracy                           0.66    740480\n",
            "   macro avg       0.66      0.66      0.66    740480\n",
            "weighted avg       0.66      0.66      0.66    740480\n",
            "\n"
          ],
          "name": "stdout"
        },
        {
          "output_type": "display_data",
          "data": {
            "image/png": "[encoded data removed]",
            "text/plain": [
              "<Figure size 720x432 with 1 Axes>"
            ]
          },
          "metadata": {
            "tags": [],
            "needs_background": "light"
          }
        }
      ]
    },
    {
      "cell_type": "code",
      "metadata": {
        "id": "YOVl16Po611_"
      },
      "source": [
        ""
      ],
      "execution_count": 154,
      "outputs": []
    },
    {
      "cell_type": "code",
      "metadata": {
        "colab": {
          "base_uri": "https://localhost:8080/"
        },
        "id": "aiN9NNXgjtkO",
        "outputId": "42d1174a-98ca-4e44-e972-e77beb24ac99"
      },
      "source": [
        "#classe pour l'analyse discriminante\n",
        "\n",
        "#instanciation\n",
        "adl = LinearDiscriminantAnalysis()\n",
        "#apprentissage\n",
        "adl.fit(coord_sans_nan,data_sans_nan[\"IFI+\"])"
      ],
      "execution_count": 155,
      "outputs": [
        {
          "output_type": "execute_result",
          "data": {
            "text/plain": [
              "LinearDiscriminantAnalysis(n_components=None, priors=None, shrinkage=None,\n",
              "                           solver='svd', store_covariance=False, tol=0.0001)"
            ]
          },
          "metadata": {
            "tags": []
          },
          "execution_count": 155
        }
      ]
    },
    {
      "cell_type": "code",
      "metadata": {
        "id": "ixzqkiWMxz_6",
        "colab": {
          "base_uri": "https://localhost:8080/",
          "height": 419
        },
        "outputId": "13f3305f-9ea3-4640-bb81-9d4b8b035b9d"
      },
      "source": [
        "#reconstitution de la fonction sur indicatrices (multiplication)\n",
        "fpValues = np.dot(fproj,np.transpose(adl.coef_))\n",
        "#print(fpValues)\n",
        "#affichage plus joli\n",
        "pd.DataFrame(fpValues,index=acm.col_labels_)"
      ],
      "execution_count": 156,
      "outputs": [
        {
          "output_type": "execute_result",
          "data": {
            "text/html": [
              "<div>\n",
              "<style scoped>\n",
              "    .dataframe tbody tr th:only-of-type {\n",
              "        vertical-align: middle;\n",
              "    }\n",
              "\n",
              "    .dataframe tbody tr th {\n",
              "        vertical-align: top;\n",
              "    }\n",
              "\n",
              "    .dataframe thead th {\n",
              "        text-align: right;\n",
              "    }\n",
              "</style>\n",
              "<table border=\"1\" class=\"dataframe\">\n",
              "  <thead>\n",
              "    <tr style=\"text-align: right;\">\n",
              "      <th></th>\n",
              "      <th>0</th>\n",
              "    </tr>\n",
              "  </thead>\n",
              "  <tbody>\n",
              "    <tr>\n",
              "      <th>TypeHabi_1</th>\n",
              "      <td>-0.230971</td>\n",
              "    </tr>\n",
              "    <tr>\n",
              "      <th>TypeHabi_2</th>\n",
              "      <td>0.117958</td>\n",
              "    </tr>\n",
              "    <tr>\n",
              "      <th>TypeHabi_3</th>\n",
              "      <td>-0.116499</td>\n",
              "    </tr>\n",
              "    <tr>\n",
              "      <th>TypeHabi_4</th>\n",
              "      <td>0.089496</td>\n",
              "    </tr>\n",
              "    <tr>\n",
              "      <th>GeoFaz_Scl_11</th>\n",
              "      <td>0.063939</td>\n",
              "    </tr>\n",
              "    <tr>\n",
              "      <th>...</th>\n",
              "      <td>...</td>\n",
              "    </tr>\n",
              "    <tr>\n",
              "      <th>codif_RdB_3</th>\n",
              "      <td>0.036711</td>\n",
              "    </tr>\n",
              "    <tr>\n",
              "      <th>codif_RdB_4</th>\n",
              "      <td>0.047286</td>\n",
              "    </tr>\n",
              "    <tr>\n",
              "      <th>codif_RdB_5</th>\n",
              "      <td>0.248998</td>\n",
              "    </tr>\n",
              "    <tr>\n",
              "      <th>Flag_PA_1</th>\n",
              "      <td>-0.054112</td>\n",
              "    </tr>\n",
              "    <tr>\n",
              "      <th>Flag_PA_2</th>\n",
              "      <td>0.002519</td>\n",
              "    </tr>\n",
              "  </tbody>\n",
              "</table>\n",
              "<p>207 rows × 1 columns</p>\n",
              "</div>"
            ],
            "text/plain": [
              "                      0\n",
              "TypeHabi_1    -0.230971\n",
              "TypeHabi_2     0.117958\n",
              "TypeHabi_3    -0.116499\n",
              "TypeHabi_4     0.089496\n",
              "GeoFaz_Scl_11  0.063939\n",
              "...                 ...\n",
              "codif_RdB_3    0.036711\n",
              "codif_RdB_4    0.047286\n",
              "codif_RdB_5    0.248998\n",
              "Flag_PA_1     -0.054112\n",
              "Flag_PA_2      0.002519\n",
              "\n",
              "[207 rows x 1 columns]"
            ]
          },
          "metadata": {
            "tags": []
          },
          "execution_count": 156
        }
      ]
    },
    {
      "cell_type": "code",
      "metadata": {
        "id": "Hrn05BAzx0CO",
        "colab": {
          "base_uri": "https://localhost:8080/"
        },
        "outputId": "41360a2d-7b2f-4b29-fa0b-9e469a7e37b7"
      },
      "source": [
        "quarantiles(model=adl, data_orig=data_coord_avec_nan, affichage=True, save=True, path = \"/content/drive/MyDrive/spad_score_method_1/avec_tranche_DecisionTreeClassifier.xlsx\")"
      ],
      "execution_count": 157,
      "outputs": [
        {
          "output_type": "stream",
          "text": [
            "0.024922    180\n",
            "0.010068    157\n",
            "0.007079    106\n",
            "0.009686     94\n",
            "0.022451     91\n",
            "           ... \n",
            "0.000483      1\n",
            "0.007394      1\n",
            "0.001341      1\n",
            "0.006324      1\n",
            "0.003326      1\n",
            "Name: PROBA, Length: 317085, dtype: int64\n",
            "IFI+                                 1      2  TOTAL\n",
            "TRANCHES                                            \n",
            "(-0.0008990000000000001, 0.00102]   13  12102  12115\n",
            "(0.00102, 0.00123]                  22  12090  12112\n",
            "(0.00123, 0.00138]                  16  12097  12113\n",
            "(0.00138, 0.00152]                  14  12099  12113\n",
            "(0.00152, 0.00164]                  25  12088  12113\n",
            "(0.00164, 0.00176]                  28  12089  12117\n",
            "(0.00176, 0.00188]                  24  12086  12110\n",
            "(0.00188, 0.002]                    16  12098  12114\n",
            "(0.002, 0.00214]                    25  12086  12111\n",
            "(0.00214, 0.0023]                   30  12083  12113\n",
            "(0.0023, 0.00247]                   34  12081  12115\n",
            "(0.00247, 0.00264]                  38  12073  12111\n",
            "(0.00264, 0.0028]                   28  12085  12113\n",
            "(0.0028, 0.00298]                   23  12091  12114\n",
            "(0.00298, 0.00316]                  41  12071  12112\n",
            "(0.00316, 0.00336]                  34  12079  12113\n",
            "(0.00336, 0.00356]                  37  12076  12113\n",
            "(0.00356, 0.00376]                  35  12087  12122\n",
            "(0.00376, 0.00396]                  45  12059  12104\n",
            "(0.00396, 0.00417]                  49  12064  12113\n",
            "(0.00417, 0.00438]                  38  12080  12118\n",
            "(0.00438, 0.00459]                  47  12061  12108\n",
            "(0.00459, 0.00481]                  47  12086  12133\n",
            "(0.00481, 0.00503]                  63  12032  12095\n",
            "(0.00503, 0.00526]                  66  12048  12114\n",
            "(0.00526, 0.00552]                  57  12056  12113\n",
            "(0.00552, 0.00579]                  73  12037  12110\n",
            "(0.00579, 0.00609]                  66  12047  12113\n",
            "(0.00609, 0.00641]                  77  12036  12113\n",
            "(0.00641, 0.00679]                  70  12044  12114\n",
            "(0.00679, 0.00727]                  96  12016  12112\n",
            "(0.00727, 0.00787]                  91  12022  12113\n",
            "(0.00787, 0.00861]                  87  12026  12113\n",
            "(0.00861, 0.00948]                  95  12029  12124\n",
            "(0.00948, 0.0106]                  123  11980  12103\n",
            "(0.0106, 0.0122]                   106  12006  12112\n",
            "(0.0122, 0.0142]                   151  11962  12113\n",
            "(0.0142, 0.0167]                   133  11985  12118\n",
            "(0.0167, 0.0202]                   224  11887  12111\n",
            "(0.0202, 0.0593]                   333  11778  12111\n"
          ],
          "name": "stdout"
        }
      ]
    },
    {
      "cell_type": "code",
      "metadata": {
        "id": "bzRRySpGoafi"
      },
      "source": [
        ""
      ],
      "execution_count": 157,
      "outputs": []
    },
    {
      "cell_type": "code",
      "metadata": {
        "id": "Tgxw6vZHoah_"
      },
      "source": [
        ""
      ],
      "execution_count": 157,
      "outputs": []
    },
    {
      "cell_type": "code",
      "metadata": {
        "id": "jaVuYmyQoakO"
      },
      "source": [
        ""
      ],
      "execution_count": 157,
      "outputs": []
    },
    {
      "cell_type": "code",
      "metadata": {
        "colab": {
          "base_uri": "https://localhost:8080/",
          "height": 796
        },
        "id": "td8tREtarT8x",
        "outputId": "f54e231e-ff9c-47bc-ecfa-58a16f98ce74"
      },
      "source": [
        "model_17 = QuadraticDiscriminantAnalysis()\n",
        "evaluation(model_17, X_resampled, y_resampled, test_X_s, test_Y_s, scoring = \"f1\")\n"
      ],
      "execution_count": 158,
      "outputs": [
        {
          "output_type": "stream",
          "text": [
            "test set : \n",
            "[[  376   122]\n",
            " [50172 42421]]\n",
            "              precision    recall  f1-score   support\n",
            "\n",
            "           1       0.01      0.76      0.01       498\n",
            "           2       1.00      0.46      0.63     92593\n",
            "\n",
            "    accuracy                           0.46     93091\n",
            "   macro avg       0.50      0.61      0.32     93091\n",
            "weighted avg       0.99      0.46      0.62     93091\n",
            "\n",
            "train set : \n",
            "[[286703  83537]\n",
            " [201364 168876]]\n",
            "              precision    recall  f1-score   support\n",
            "\n",
            "           1       0.59      0.77      0.67    370240\n",
            "           2       0.67      0.46      0.54    370240\n",
            "\n",
            "    accuracy                           0.62    740480\n",
            "   macro avg       0.63      0.62      0.61    740480\n",
            "weighted avg       0.63      0.62      0.61    740480\n",
            "\n"
          ],
          "name": "stdout"
        },
        {
          "output_type": "display_data",
          "data": {
            "image/png": "[encoded data removed]",
            "text/plain": [
              "<Figure size 720x432 with 1 Axes>"
            ]
          },
          "metadata": {
            "tags": [],
            "needs_background": "light"
          }
        }
      ]
    },
    {
      "cell_type": "code",
      "metadata": {
        "colab": {
          "base_uri": "https://localhost:8080/"
        },
        "id": "ncpYOwNVqtX6",
        "outputId": "71990f4b-8c32-456e-dd1c-9b453131038f"
      },
      "source": [
        "quarantiles(model=model_17, data_orig=data_coord_avec_nan, affichage=True, save=False, path = \"/content/drive/MyDrive/spad_score_method_1/avec_tranche_DecisionTreeClassifier.xlsx\")"
      ],
      "execution_count": 159,
      "outputs": [
        {
          "output_type": "stream",
          "text": [
            "0.956354    180\n",
            "0.694724    157\n",
            "0.055435    106\n",
            "0.682912     94\n",
            "0.951026     91\n",
            "           ... \n",
            "0.854856      1\n",
            "0.346903      1\n",
            "0.572838      1\n",
            "0.403483      1\n",
            "0.471818      1\n",
            "Name: PROBA, Length: 317085, dtype: int64\n",
            "IFI+                   1      2  TOTAL\n",
            "TRANCHES                              \n",
            "(-0.001, 0.000715]    21  12093  12114\n",
            "(0.000715, 0.00221]   19  12096  12115\n",
            "(0.00221, 0.00504]    24  12087  12111\n",
            "(0.00504, 0.0147]     44  12070  12114\n",
            "(0.0147, 0.045]       47  12065  12112\n",
            "(0.045, 0.111]        55  12058  12113\n",
            "(0.111, 0.192]        31  12082  12113\n",
            "(0.192, 0.244]        25  12088  12113\n",
            "(0.244, 0.285]        34  12083  12117\n",
            "(0.285, 0.318]        34  12075  12109\n",
            "(0.318, 0.343]        23  12094  12117\n",
            "(0.343, 0.363]        29  12082  12111\n",
            "(0.363, 0.383]        30  12097  12127\n",
            "(0.383, 0.406]        40  12057  12097\n",
            "(0.406, 0.428]        39  12074  12113\n",
            "(0.428, 0.45]         43  12070  12113\n",
            "(0.45, 0.473]         30  12083  12113\n",
            "(0.473, 0.495]        43  12070  12113\n",
            "(0.495, 0.518]        40  12074  12114\n",
            "(0.518, 0.542]        63  12049  12112\n",
            "(0.542, 0.567]        57  12057  12114\n",
            "(0.567, 0.589]        47  12067  12114\n",
            "(0.589, 0.61]         65  12047  12112\n",
            "(0.61, 0.63]          62  12050  12112\n",
            "(0.63, 0.651]         53  12060  12113\n",
            "(0.651, 0.67]         67  12050  12117\n",
            "(0.67, 0.688]         77  12033  12110\n",
            "(0.688, 0.706]        53  12059  12112\n",
            "(0.706, 0.723]        75  12038  12113\n",
            "(0.723, 0.739]        56  12057  12113\n",
            "(0.739, 0.755]        68  12048  12116\n",
            "(0.755, 0.771]        71  12040  12111\n",
            "(0.771, 0.79]         65  12047  12112\n",
            "(0.79, 0.81]          85  12029  12114\n",
            "(0.81, 0.834]        102  12010  12112\n",
            "(0.834, 0.861]       124  11996  12120\n",
            "(0.861, 0.887]       111  11995  12106\n",
            "(0.887, 0.911]       135  11978  12113\n",
            "(0.911, 0.931]       201  11915  12116\n",
            "(0.931, 0.969]       332  11779  12111\n"
          ],
          "name": "stdout"
        }
      ]
    },
    {
      "cell_type": "code",
      "metadata": {
        "colab": {
          "base_uri": "https://localhost:8080/"
        },
        "id": "m_GYkyDqqtaA",
        "outputId": "ca86a44a-3c2d-4060-afb8-ecc35e95607f"
      },
      "source": [
        "data_coord_avec_nan.shape"
      ],
      "execution_count": 125,
      "outputs": [
        {
          "output_type": "execute_result",
          "data": {
            "text/plain": [
              "(484522, 12)"
            ]
          },
          "metadata": {
            "tags": []
          },
          "execution_count": 125
        }
      ]
    },
    {
      "cell_type": "code",
      "metadata": {
        "id": "Q6c68iUsrT_Z"
      },
      "source": [
        "####################################################################################\n",
        "####################################################################################\n",
        "#                    AVEC VARIABLES DONS\n",
        "####################################################################################\n",
        "####################################################################################"
      ],
      "execution_count": 224,
      "outputs": []
    },
    {
      "cell_type": "code",
      "metadata": {
        "id": "3ttP97M4rUCo"
      },
      "source": [
        "# test predict individus sans classe\n",
        "data = data_orig.copy()\n",
        "# élimination des individus n'ayant pas de valeur pour la varialbe IFI+\n",
        "\"\"\"IMPORTANT\"\"\"\n",
        "data_sans_nan = data[(data.isnull()).sum(axis=1) == 0]\n",
        "\n",
        "#conversion du type de variable\n",
        "for i in range(1,data_sans_nan.shape[1]):\n",
        "    data_sans_nan.iloc[:,i]=data_sans_nan.iloc[:,i].astype(int)\n",
        "\n",
        "# base de données avec des variables corrélées et sans encodage OneHot\n",
        "data =data_sans_nan\n",
        "\n",
        "nb_var = data.shape[1] - 1\n",
        "train_set, test_set = train_test_split(data, test_size = 0.2, random_state=0 )\n",
        "\n",
        "train_X_s = (train_set.iloc[:,1:nb_var]).to_numpy()\n",
        "train_Y_s = np.asanyarray(train_set.iloc[:,nb_var])\n",
        "\n",
        "test_X_s = (test_set.iloc[:,1:nb_var]).to_numpy()\n",
        "test_Y_s = np.asanyarray(test_set.iloc[:,nb_var])"
      ],
      "execution_count": null,
      "outputs": []
    },
    {
      "cell_type": "code",
      "metadata": {
        "id": "pRkRrSHEh8yE"
      },
      "source": [
        "final_model_DecisionTreeClassifier = DecisionTreeClassifier(random_state = 0, criterion=\"entropy\", class_weight = \"balanced\", max_depth = 30, max_features=5, min_samples_split=0.1 )\n",
        "evaluation(final_model_DecisionTreeClassifier, train_X_s, train_Y_s, test_X_s, test_Y_s, scoring=\"recall\" )"
      ],
      "execution_count": null,
      "outputs": []
    },
    {
      "cell_type": "code",
      "metadata": {
        "id": "xtNSseHqh80n"
      },
      "source": [
        "quarantiles(model=final_model_DecisionTreeClassifier, data_orig=data_orig, affichage=True, save=False, path = \"/content/drive/MyDrive/spad_score_method_1/avec_tranche_DecisionTreeClassifier.xlsx\")"
      ],
      "execution_count": null,
      "outputs": []
    },
    {
      "cell_type": "code",
      "metadata": {
        "id": "OgVGcJpOh83C"
      },
      "source": [
        ""
      ],
      "execution_count": null,
      "outputs": []
    },
    {
      "cell_type": "code",
      "metadata": {
        "id": "-uG3-b8GPx1r"
      },
      "source": [
        "#################################################################################\n",
        "#################################################################################"
      ],
      "execution_count": null,
      "outputs": []
    },
    {
      "cell_type": "code",
      "metadata": {
        "id": "CfLeYRkTPx4H"
      },
      "source": [
        "# on élimine la variable qui contribue le plus au modèle précédent\n",
        "data=data.drop([\"Annee_1er_don\", \"Cumul_dons\",\"Don_max\", \"Don_moyen\"],axis=1)\n"
      ],
      "execution_count": null,
      "outputs": []
    },
    {
      "cell_type": "code",
      "metadata": {
        "colab": {
          "base_uri": "https://localhost:8080/",
          "height": 167
        },
        "id": "e3EFAWmGPx62",
        "outputId": "eae080e6-a8b1-4da2-cc06-d8bb485e706f"
      },
      "source": [
        ""
      ],
      "execution_count": 1,
      "outputs": [
        {
          "output_type": "error",
          "ename": "NameError",
          "evalue": "ignored",
          "traceback": [
            "\u001b[0;31m---------------------------------------------------------------------------\u001b[0m",
            "\u001b[0;31mNameError\u001b[0m                                 Traceback (most recent call last)",
            "\u001b[0;32m<ipython-input-1-c5d84736ba45>\u001b[0m in \u001b[0;36m<module>\u001b[0;34m()\u001b[0m\n\u001b[0;32m----> 1\u001b[0;31m \u001b[0mdata\u001b[0m\u001b[0;34m\u001b[0m\u001b[0;34m\u001b[0m\u001b[0m\n\u001b[0m",
            "\u001b[0;31mNameError\u001b[0m: name 'data' is not defined"
          ]
        }
      ]
    },
    {
      "cell_type": "code",
      "metadata": {
        "id": "IZcwARe4QFf2"
      },
      "source": [
        ""
      ],
      "execution_count": null,
      "outputs": []
    },
    {
      "cell_type": "code",
      "metadata": {
        "colab": {
          "base_uri": "https://localhost:8080/",
          "height": 159
        },
        "id": "0csF8LqVx0Ee",
        "outputId": "9b105a3e-af5e-4542-d9d1-6b4db403bf7a"
      },
      "source": [
        "\n",
        "'''\n",
        "from sklearn.preprocessing import KBinsDiscretizer\n",
        "# discrétisation des variables continues (les valeurs manquantes doivent être gérées en amont)\n",
        " c'est qui est bien avec KBinsDiscretizer est qu'il s'adapte aux éventuelles partitions au\n",
        "sein d'une variable. En d'autres termes, si la méthode n'arrive pas à partitionner les individus\n",
        "en k partitions, alors elle esssayera de les partitionner en k-1 partitions, et ainsi de suite, \n",
        "jusqu'à atteindre 1 partition (il faut faire attention avec les variables ayant uniquement \n",
        "une modalité). Lorsque la méthode rencontre ce cas, elle affichera \"UserWaring\" pour informer \n",
        "l'utilisateur de celui-ci ainsi que les variables concernées. Ceci sera utile plus tard.\n",
        "\n",
        "\n",
        "method_discre = KBinsDiscretizer(n_bins=4, encode='ordinal', strategy='quantile') \n",
        "method_discre.fit(data.iloc[:,1:23])\n",
        "resultat_discre = method_discre.transform(data.iloc[:,1:23])\n",
        "resultat_discre\n",
        "\n",
        "# construction du data frame après discrétisation\n",
        "data2_index = data.iloc[:,0]\n",
        "df_resultat_discre = pd.DataFrame(resultat_discre,columns=colonnes[1:23], dtype=int )\n",
        "data_final = pd.concat([data2_index, df_resultat_discre,data[\"IFI+\"]], axis=1 ) #data2_index\n",
        "data_final\n",
        "\n",
        "#nombre_mod(data_final)\n",
        "#nombre_mod(data)\n",
        "\n",
        "# description des modalités d'une variable\n",
        "for k in range(1,data_final.shape[1]):\n",
        "    print(data_final.iloc[:,k].value_counts(dropna=True)); print(\"=\"*50)\n",
        "\n",
        "# description des modalités d'une variable\n",
        "for k in range(1,data.shape[1]):\n",
        "    print(data.iloc[:,k].value_counts(dropna=True)); print(\"=\"*50)\n",
        "\n",
        "'''\n"
      ],
      "execution_count": 30,
      "outputs": [
        {
          "output_type": "execute_result",
          "data": {
            "application/vnd.google.colaboratory.intrinsic+json": {
              "type": "string"
            },
            "text/plain": [
              "'\\nfrom sklearn.preprocessing import KBinsDiscretizer\\n# discrétisation des variables continues (les valeurs manquantes doivent être gérées en amont)\\n c\\'est qui est bien avec KBinsDiscretizer est qu\\'il s\\'adapte aux éventuelles partitions au\\nsein d\\'une variable. En d\\'autres termes, si la méthode n\\'arrive pas à partitionner les individus\\nen k partitions, alors elle esssayera de les partitionner en k-1 partitions, et ainsi de suite, \\njusqu\\'à atteindre 1 partition (il faut faire attention avec les variables ayant uniquement \\nune modalité). Lorsque la méthode rencontre ce cas, elle affichera \"UserWaring\" pour informer \\nl\\'utilisateur de celui-ci ainsi que les variables concernées. Ceci sera utile plus tard.\\n\\n\\nmethod_discre = KBinsDiscretizer(n_bins=4, encode=\\'ordinal\\', strategy=\\'quantile\\') \\nmethod_discre.fit(data.iloc[:,1:23])\\nresultat_discre = method_discre.transform(data.iloc[:,1:23])\\nresultat_discre\\n\\n# construction du data frame après discrétisation\\ndata2_index = data.iloc[:,0]\\ndf_resultat_discre = pd.DataFrame(resultat_discre,columns=colonnes[1:23], dtype=int )\\ndata_final = pd.concat([data2_index, df_resultat_discre,data[\"IFI+\"]], axis=1 ) #data2_index\\ndata_final\\n\\n#nombre_mod(data_final)\\n#nombre_mod(data)\\n\\n# description des modalités d\\'une variable\\nfor k in range(1,data_final.shape[1]):\\n    print(data_final.iloc[:,k].value_counts(dropna=True)); print(\"=\"*50)\\n\\n# description des modalités d\\'une variable\\nfor k in range(1,data.shape[1]):\\n    print(data.iloc[:,k].value_counts(dropna=True)); print(\"=\"*50)\\n\\n'"
            ]
          },
          "metadata": {
            "tags": []
          },
          "execution_count": 30
        }
      ]
    },
    {
      "cell_type": "code",
      "metadata": {
        "id": "SIKMz_STz4fn"
      },
      "source": [
        ""
      ],
      "execution_count": 30,
      "outputs": []
    },
    {
      "cell_type": "code",
      "metadata": {
        "id": "3oAVMbZqz9eK"
      },
      "source": [
        ""
      ],
      "execution_count": 30,
      "outputs": []
    },
    {
      "cell_type": "code",
      "metadata": {
        "id": "aKW0puAaIgmp",
        "colab": {
          "base_uri": "https://localhost:8080/"
        },
        "outputId": "f7138f35-02e5-48ff-bb09-6935d2b710a6"
      },
      "source": [
        ""
      ],
      "execution_count": 112,
      "outputs": [
        {
          "output_type": "execute_result",
          "data": {
            "text/plain": [
              "int"
            ]
          },
          "metadata": {
            "tags": []
          },
          "execution_count": 112
        }
      ]
    },
    {
      "cell_type": "code",
      "metadata": {
        "id": "jAZ0dEGzIgry"
      },
      "source": [
        ""
      ],
      "execution_count": 30,
      "outputs": []
    },
    {
      "cell_type": "code",
      "metadata": {
        "id": "_YNg4cZgIgu-"
      },
      "source": [
        ""
      ],
      "execution_count": 30,
      "outputs": []
    },
    {
      "cell_type": "code",
      "metadata": {
        "id": "XEvgv1RcU149"
      },
      "source": [
        ""
      ],
      "execution_count": 30,
      "outputs": []
    }
  ]
}