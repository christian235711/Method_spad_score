{
  "nbformat": 4,
  "nbformat_minor": 0,
  "metadata": {
    "colab": {
      "name": "model_boosting.ipynb",
      "provenance": [],
      "collapsed_sections": [],
      "authorship_tag": "ABX9TyMdehL4I/0j2pxywLvVlNH7"
    },
    "kernelspec": {
      "name": "python3",
      "display_name": "Python 3"
    },
    "language_info": {
      "name": "python"
    }
  },
  "cells": [
    {
      "cell_type": "code",
      "metadata": {
        "colab": {
          "base_uri": "https://localhost:8080/"
        },
        "id": "uXwzY9aHJ83i",
        "outputId": "95f90a80-e182-4670-a393-e49b81ffec3d"
      },
      "source": [
        "import numpy as np\n",
        "import pandas as pd\n",
        "import seaborn as sns\n",
        "import matplotlib.pyplot as plt\n",
        "\n",
        "#!pip install fanalysis\n",
        "\n",
        "from sklearn.metrics import confusion_matrix\n",
        "\n",
        "from google.colab import drive\n",
        "drive.mount('/content/drive')"
      ],
      "execution_count": 2,
      "outputs": [
        {
          "output_type": "stream",
          "text": [
            "Mounted at /content/drive\n"
          ],
          "name": "stdout"
        }
      ]
    },
    {
      "cell_type": "code",
      "metadata": {
        "id": "QVPy76oFJ-HY"
      },
      "source": [
        "# noms des variables de notre dataset y compris la variable identifiant IRIS\n",
        "colonnes =[\"IDENT\",\"TypeHabi\", \"GeoFaz_Scl\", \"GeoFaz_cl\",\"Anciennete\",\"Doublon_ligne\",\n",
        "            \"Revenus_iris\",\"Sexe\",\"Prenom_Phase_scl_H\", \"Prenom_Phase_scl_F\",\"Prenom_Phase_cl_H\",\n",
        "           \"Prenom_Phase_cl_F\",\"Age_H\",\"Age_F\",\"Pays_sud\",\"Prenom_effectif\",\"codif_RdB\",\"Flag_PA\",\n",
        "           \"Annee_1er_don\",\"Cumul_dons\",\"Don_max\",\"Don_moyen\",\"Vingtiles_ISF\",\"IFI+\"]"
      ],
      "execution_count": 3,
      "outputs": []
    },
    {
      "cell_type": "code",
      "metadata": {
        "id": "lmQPaeuMJ-J0"
      },
      "source": [
        "# importation du fichier (changer le chemin d'accès)\n",
        "''' Faites attention au type de fichier, au délimiteur des valeurs (ça doit être unique et non multiple),\n",
        "au header et à la lecture des types d'objets (low_memory) '''\n",
        "#/content/drive/MyDrive/Stage_methods_spad/data_excel_2.csv\n",
        "data_orig = pd.read_csv(\"/content/drive/MyDrive/spad_score_method_1/my_data_FDFIFI19.txt\",delim_whitespace=\"\\t\" , header = None, names=colonnes, low_memory=False, )#, dtype='Int64')"
      ],
      "execution_count": 4,
      "outputs": []
    },
    {
      "cell_type": "code",
      "metadata": {
        "colab": {
          "base_uri": "https://localhost:8080/"
        },
        "id": "AuFzAId4KKZ_",
        "outputId": "28861ded-81fd-4da5-8118-caa9add85057"
      },
      "source": [
        "''' copie superficielle (peu profonde) du dataset original pour ne pas modifier les valeurs\n",
        "d'origine par erreur plus tard \n",
        "'''\n",
        "data = data_orig.copy()\n",
        "data.shape"
      ],
      "execution_count": 5,
      "outputs": [
        {
          "output_type": "execute_result",
          "data": {
            "text/plain": [
              "(484522, 24)"
            ]
          },
          "metadata": {
            "tags": []
          },
          "execution_count": 5
        }
      ]
    },
    {
      "cell_type": "code",
      "metadata": {
        "colab": {
          "base_uri": "https://localhost:8080/",
          "height": 223
        },
        "id": "eCTsRwocJ-MF",
        "outputId": "d7aa3c7e-02f3-4149-f3cc-97480d615726"
      },
      "source": [
        "# visualisation des premiers lignes\n",
        "data.head()"
      ],
      "execution_count": 6,
      "outputs": [
        {
          "output_type": "execute_result",
          "data": {
            "text/html": [
              "<div>\n",
              "<style scoped>\n",
              "    .dataframe tbody tr th:only-of-type {\n",
              "        vertical-align: middle;\n",
              "    }\n",
              "\n",
              "    .dataframe tbody tr th {\n",
              "        vertical-align: top;\n",
              "    }\n",
              "\n",
              "    .dataframe thead th {\n",
              "        text-align: right;\n",
              "    }\n",
              "</style>\n",
              "<table border=\"1\" class=\"dataframe\">\n",
              "  <thead>\n",
              "    <tr style=\"text-align: right;\">\n",
              "      <th></th>\n",
              "      <th>IDENT</th>\n",
              "      <th>TypeHabi</th>\n",
              "      <th>GeoFaz_Scl</th>\n",
              "      <th>GeoFaz_cl</th>\n",
              "      <th>Anciennete</th>\n",
              "      <th>Doublon_ligne</th>\n",
              "      <th>Revenus_iris</th>\n",
              "      <th>Sexe</th>\n",
              "      <th>Prenom_Phase_scl_H</th>\n",
              "      <th>Prenom_Phase_scl_F</th>\n",
              "      <th>Prenom_Phase_cl_H</th>\n",
              "      <th>Prenom_Phase_cl_F</th>\n",
              "      <th>Age_H</th>\n",
              "      <th>Age_F</th>\n",
              "      <th>Pays_sud</th>\n",
              "      <th>Prenom_effectif</th>\n",
              "      <th>codif_RdB</th>\n",
              "      <th>Flag_PA</th>\n",
              "      <th>Annee_1er_don</th>\n",
              "      <th>Cumul_dons</th>\n",
              "      <th>Don_max</th>\n",
              "      <th>Don_moyen</th>\n",
              "      <th>Vingtiles_ISF</th>\n",
              "      <th>IFI+</th>\n",
              "    </tr>\n",
              "  </thead>\n",
              "  <tbody>\n",
              "    <tr>\n",
              "      <th>0</th>\n",
              "      <td>101001347</td>\n",
              "      <td>3</td>\n",
              "      <td>75</td>\n",
              "      <td>7</td>\n",
              "      <td>8</td>\n",
              "      <td>3</td>\n",
              "      <td>3</td>\n",
              "      <td>3</td>\n",
              "      <td>64</td>\n",
              "      <td>46</td>\n",
              "      <td>6</td>\n",
              "      <td>4</td>\n",
              "      <td>9</td>\n",
              "      <td>4</td>\n",
              "      <td>2</td>\n",
              "      <td>3</td>\n",
              "      <td>3</td>\n",
              "      <td>2</td>\n",
              "      <td>7</td>\n",
              "      <td>7</td>\n",
              "      <td>6</td>\n",
              "      <td>4</td>\n",
              "      <td>10</td>\n",
              "      <td>2.0</td>\n",
              "    </tr>\n",
              "    <tr>\n",
              "      <th>1</th>\n",
              "      <td>201001512</td>\n",
              "      <td>1</td>\n",
              "      <td>74</td>\n",
              "      <td>7</td>\n",
              "      <td>5</td>\n",
              "      <td>3</td>\n",
              "      <td>3</td>\n",
              "      <td>4</td>\n",
              "      <td>65</td>\n",
              "      <td>81</td>\n",
              "      <td>6</td>\n",
              "      <td>8</td>\n",
              "      <td>11</td>\n",
              "      <td>12</td>\n",
              "      <td>2</td>\n",
              "      <td>4</td>\n",
              "      <td>3</td>\n",
              "      <td>2</td>\n",
              "      <td>8</td>\n",
              "      <td>5</td>\n",
              "      <td>2</td>\n",
              "      <td>2</td>\n",
              "      <td>10</td>\n",
              "      <td>2.0</td>\n",
              "    </tr>\n",
              "    <tr>\n",
              "      <th>2</th>\n",
              "      <td>301002801</td>\n",
              "      <td>2</td>\n",
              "      <td>32</td>\n",
              "      <td>3</td>\n",
              "      <td>7</td>\n",
              "      <td>2</td>\n",
              "      <td>4</td>\n",
              "      <td>4</td>\n",
              "      <td>66</td>\n",
              "      <td>66</td>\n",
              "      <td>6</td>\n",
              "      <td>6</td>\n",
              "      <td>11</td>\n",
              "      <td>9</td>\n",
              "      <td>2</td>\n",
              "      <td>3</td>\n",
              "      <td>3</td>\n",
              "      <td>2</td>\n",
              "      <td>8</td>\n",
              "      <td>7</td>\n",
              "      <td>5</td>\n",
              "      <td>3</td>\n",
              "      <td>7</td>\n",
              "      <td>2.0</td>\n",
              "    </tr>\n",
              "    <tr>\n",
              "      <th>3</th>\n",
              "      <td>401003186</td>\n",
              "      <td>1</td>\n",
              "      <td>12</td>\n",
              "      <td>1</td>\n",
              "      <td>4</td>\n",
              "      <td>3</td>\n",
              "      <td>7</td>\n",
              "      <td>3</td>\n",
              "      <td>51</td>\n",
              "      <td>81</td>\n",
              "      <td>5</td>\n",
              "      <td>8</td>\n",
              "      <td>9</td>\n",
              "      <td>12</td>\n",
              "      <td>2</td>\n",
              "      <td>5</td>\n",
              "      <td>1</td>\n",
              "      <td>2</td>\n",
              "      <td>2</td>\n",
              "      <td>7</td>\n",
              "      <td>8</td>\n",
              "      <td>6</td>\n",
              "      <td>18</td>\n",
              "      <td>2.0</td>\n",
              "    </tr>\n",
              "    <tr>\n",
              "      <th>4</th>\n",
              "      <td>501003624</td>\n",
              "      <td>2</td>\n",
              "      <td>12</td>\n",
              "      <td>1</td>\n",
              "      <td>6</td>\n",
              "      <td>3</td>\n",
              "      <td>3</td>\n",
              "      <td>3</td>\n",
              "      <td>51</td>\n",
              "      <td>81</td>\n",
              "      <td>5</td>\n",
              "      <td>8</td>\n",
              "      <td>9</td>\n",
              "      <td>12</td>\n",
              "      <td>2</td>\n",
              "      <td>5</td>\n",
              "      <td>1</td>\n",
              "      <td>2</td>\n",
              "      <td>8</td>\n",
              "      <td>7</td>\n",
              "      <td>8</td>\n",
              "      <td>6</td>\n",
              "      <td>2</td>\n",
              "      <td>2.0</td>\n",
              "    </tr>\n",
              "  </tbody>\n",
              "</table>\n",
              "</div>"
            ],
            "text/plain": [
              "       IDENT  TypeHabi  GeoFaz_Scl  ...  Don_moyen  Vingtiles_ISF  IFI+\n",
              "0  101001347         3          75  ...          4             10   2.0\n",
              "1  201001512         1          74  ...          2             10   2.0\n",
              "2  301002801         2          32  ...          3              7   2.0\n",
              "3  401003186         1          12  ...          6             18   2.0\n",
              "4  501003624         2          12  ...          6              2   2.0\n",
              "\n",
              "[5 rows x 24 columns]"
            ]
          },
          "metadata": {
            "tags": []
          },
          "execution_count": 6
        }
      ]
    },
    {
      "cell_type": "code",
      "metadata": {
        "id": "HMG7Zbw4Ku9R"
      },
      "source": [
        "#nombre de modalités de chaque variables (dans un dataframe)\n",
        "def nombre_mod(data2):\n",
        "    #création d'un dataframe vide\n",
        "    dff= pd.DataFrame(columns=[\"VARIABLE\",\"NOMBRE_MOD\", \"NOMBRE_MOD_SANS_NA\"])\n",
        "    for i in range(data2.shape[1]): # sans compter les valeurs manquantes\n",
        "        taille =len(data2.iloc[:,i].value_counts(dropna=False))\n",
        "        taille_1 = len(data2.iloc[:,i].value_counts(dropna=True) )\n",
        "        dff=dff.append({\"VARIABLE\": colonnes[i],\"NOMBRE_MOD\":taille, \"NOMBRE_MOD_SANS_NA\":taille_1 }, ignore_index=True)\n",
        "    return dff\n",
        "\n",
        "# sélection des corrélations les plus importantes\n",
        "def variables_corr(tableau_corr, seuil):\n",
        "    variables_corr_pos=[] ; variables_corr_pos_val=[]\n",
        "    variables_corr_neg=[] ; variables_corr_neg_val=[]\n",
        "    for i in range(tableau_corr.shape[0]):  \n",
        "        for j in range(tableau_corr.shape[0]):\n",
        "            if i<j: #i!=j:\n",
        "                if (tableau_corr.iloc[i,j] > seuil):\n",
        "                    variables_corr_pos.append(colonnes[j+1])\n",
        "                    variables_corr_pos_val.append(round( tableau_corr.iloc[i,j], 2))\n",
        "                if (tableau_corr.iloc[i,j] <-seuil):\n",
        "                    variables_corr_neg.append(colonnes[j+1])\n",
        "                    variables_corr_neg_val.append(round( tableau_corr.iloc[i,j], 2))\n",
        "\n",
        "        if (len(variables_corr_pos) > 0) | (len(variables_corr_neg) >0) :\n",
        "            print(\"variable : \", colonnes[i+1])\n",
        "            if len(variables_corr_pos) > 0:    \n",
        "                print(\"corr pos\", variables_corr_pos)\n",
        "                print(\"corr pos\", variables_corr_pos_val)\n",
        "            if len(variables_corr_neg) >0:  \n",
        "                print(\"corr neg\", variables_corr_neg)\n",
        "                print(\"corr neg\", variables_corr_neg_val)\n",
        "            print(\"\")\n",
        "        variables_corr_pos = variables_corr_pos*0\n",
        "        variables_corr_neg = variables_corr_pos*0\n",
        "\n",
        "        variables_corr_pos_val = variables_corr_pos_val*0\n",
        "        variables_corr_neg_val = variables_corr_pos_val*0\n",
        "\n",
        "\n",
        "def evaluation(model, X_train, y_train, X_test, y_test, scoring):\n",
        "\n",
        "    model.fit(X_train, y_train)\n",
        "    y_pred = model.predict(X_test)\n",
        "    \n",
        "    print(\"test set : \")\n",
        "    print(confusion_matrix(y_test, y_pred))\n",
        "    print(classification_report(y_test, y_pred)) \n",
        "    print(\"train set : \")\n",
        "    print(confusion_matrix(y_train, model.predict(X_train))) # ajouter \n",
        "    print(classification_report(y_train, model.predict(X_train) ))\n",
        "\n",
        "    N, train_score, val_score = learning_curve(model, X_train, y_train,shuffle=True, cv = 4, scoring = scoring, train_sizes = np.linspace(0.1, 1, 6) )\n",
        "\n",
        "    plt.figure(figsize = (10,6))\n",
        "    plt.plot(N, train_score.mean(axis=1), label =\"train_score\")\n",
        "    plt.plot(N, val_score.mean(axis=1), label =\"cross_validation_score\")\n",
        "\n",
        "    plt.legend()\n",
        "\n",
        "# Comme il n'y a pas de valeurs manquantes (à la place il y a un nombre), le seul traitement qu'on fait c'est tranformer\n",
        "# le type de variable (les variables continues deviennent qualitatives)\n",
        "def data_processing(df):\n",
        "    \"\"\" \n",
        "    for i in range(0,len(df.columns)):    \n",
        "        df[df.columns[i]].fillna(100.0, inplace=True) #On remplace les données manquantes par 100\n",
        "    for i in range(0,len(df.columns)):\n",
        "        print(df[df.columns[i]].value_counts(dropna=False))    \n",
        "    \"\"\"\n",
        "    \n",
        "   #Transformation de toutes les variables en facteurs         \n",
        "    for i in range(0,len(df.columns)):\n",
        "        df[df.columns[i]] = df[df.columns[i]].astype('category')\n",
        "    return df.to_numpy() #.as_matrix()\n",
        "\n"
      ],
      "execution_count": 7,
      "outputs": []
    },
    {
      "cell_type": "code",
      "metadata": {
        "id": "EDZBRwtXKu_r"
      },
      "source": [
        "# élimination des individus n'ayant pas de valeurs pour la variable IFI+\n",
        "\"\"\"IMPORTANT\"\"\"\n",
        "data_sans_nan = data[(data.isnull()).sum(axis=1) == 0]\n"
      ],
      "execution_count": 8,
      "outputs": []
    },
    {
      "cell_type": "code",
      "metadata": {
        "colab": {
          "base_uri": "https://localhost:8080/"
        },
        "id": "iVb5iSY8J-OH",
        "outputId": "3e0393eb-7b2f-46f5-a1ef-ac9758db79c6"
      },
      "source": [
        "#conversion du type de variable\n",
        "for i in range(1,data_sans_nan.shape[1]):\n",
        "    data_sans_nan.iloc[:,i]=data_sans_nan.iloc[:,i].astype(int)"
      ],
      "execution_count": 9,
      "outputs": [
        {
          "output_type": "stream",
          "text": [
            "/usr/local/lib/python3.7/dist-packages/pandas/core/indexing.py:1743: SettingWithCopyWarning: \n",
            "A value is trying to be set on a copy of a slice from a DataFrame.\n",
            "Try using .loc[row_indexer,col_indexer] = value instead\n",
            "\n",
            "See the caveats in the documentation: https://pandas.pydata.org/pandas-docs/stable/user_guide/indexing.html#returning-a-view-versus-a-copy\n",
            "  isetter(ilocs[0], value)\n"
          ],
          "name": "stderr"
        }
      ]
    },
    {
      "cell_type": "code",
      "metadata": {
        "id": "ebwHHQW-J-Rd"
      },
      "source": [
        "data = data_sans_nan"
      ],
      "execution_count": 10,
      "outputs": []
    },
    {
      "cell_type": "code",
      "metadata": {
        "colab": {
          "base_uri": "https://localhost:8080/"
        },
        "id": "7sI2PXvzZJkb",
        "outputId": "e40a1e71-3dfe-4002-e9fe-59950237e624"
      },
      "source": [
        "data[\"IFI+\"].value_counts()"
      ],
      "execution_count": 11,
      "outputs": [
        {
          "output_type": "execute_result",
          "data": {
            "text/plain": [
              "2    462833\n",
              "1      2620\n",
              "Name: IFI+, dtype: int64"
            ]
          },
          "metadata": {
            "tags": []
          },
          "execution_count": 11
        }
      ]
    },
    {
      "cell_type": "code",
      "metadata": {
        "id": "VrNwSeGoLu4z"
      },
      "source": [
        ""
      ],
      "execution_count": 11,
      "outputs": []
    },
    {
      "cell_type": "code",
      "metadata": {
        "id": "I-YPAloELNpw"
      },
      "source": [
        "from sklearn.model_selection import train_test_split\n",
        "from sklearn.preprocessing import OneHotEncoder\n",
        "\n",
        "from sklearn.tree import DecisionTreeClassifier, plot_tree\n",
        "from sklearn.ensemble import RandomForestClassifier, BaggingClassifier, AdaBoostClassifier, GradientBoostingClassifier\n",
        "\n",
        "from sklearn.metrics import f1_score, confusion_matrix, classification_report\n",
        "from sklearn.model_selection import learning_curve, GridSearchCV"
      ],
      "execution_count": 15,
      "outputs": []
    },
    {
      "cell_type": "code",
      "metadata": {
        "id": "nzA3GnjILNsT"
      },
      "source": [
        "####################################################################################\n",
        "#                            MODELE 1 : BOOSTING\n",
        "####################################################################################"
      ],
      "execution_count": null,
      "outputs": []
    },
    {
      "cell_type": "code",
      "metadata": {
        "id": "tSxyhSWLLNvP"
      },
      "source": [
        "# base de données avec des variables corrélées et sans encodage OneHot\n",
        "\n",
        "train_set, test_set = train_test_split(data, test_size = 0.2, random_state=0 )\n",
        "# numéro correspondant à la dernière colonne\n",
        "nb_var = data.shape[1] - 1\n",
        "\n",
        "train_X_s = (train_set.iloc[:,1:nb_var]).to_numpy()\n",
        "train_Y_s = np.asanyarray(train_set.iloc[:,nb_var])\n",
        "\n",
        "test_X_s = (test_set.iloc[:,1:nb_var]).to_numpy()\n",
        "test_Y_s = np.asanyarray(test_set.iloc[:,nb_var])"
      ],
      "execution_count": null,
      "outputs": []
    },
    {
      "cell_type": "code",
      "metadata": {
        "id": "QGeGX9dGI5i6"
      },
      "source": [
        ""
      ],
      "execution_count": null,
      "outputs": []
    },
    {
      "cell_type": "code",
      "metadata": {
        "colab": {
          "base_uri": "https://localhost:8080/"
        },
        "id": "jZYzyEMPzrxO",
        "outputId": "67c99fa2-24da-4708-95e1-934465086b48"
      },
      "source": [
        "model_AdaBoost = AdaBoostClassifier(base_estimator=DecisionTreeClassifier(class_weight = \"balanced\"), random_state =0 )\n",
        "param = {'base_estimator__criterion': ['gini','entropy'], 'base_estimator__max_depth' : list(range(2,20, 2)), 'n_estimators' : [10,20,30,40,50] }\n",
        "\n",
        "grid_AdaBoost = GridSearchCV(model_AdaBoost, param, cv = 4, scoring = \"recall\")\n",
        "resultat_grid_AdaBoost = grid_AdaBoost.fit(train_X_s, train_Y_s)\n",
        "resultat_grid_AdaBoost.best_params_\n",
        "#model_AdaBoost.get_params\n",
        "\n"
      ],
      "execution_count": null,
      "outputs": [
        {
          "output_type": "execute_result",
          "data": {
            "text/plain": [
              "{'base_estimator__criterion': 'gini',\n",
              " 'base_estimator__max_depth': 2,\n",
              " 'n_estimators': 10}"
            ]
          },
          "metadata": {
            "tags": []
          },
          "execution_count": 67
        }
      ]
    },
    {
      "cell_type": "code",
      "metadata": {
        "colab": {
          "base_uri": "https://localhost:8080/",
          "height": 796
        },
        "id": "uKyH3fsWzr9E",
        "outputId": "8a39c838-ce4a-4c30-f9c8-86e8c8b83e6c"
      },
      "source": [
        "final_model_AdaBoost = AdaBoostClassifier(base_estimator = DecisionTreeClassifier(class_weight=\"balanced\", criterion=\"gini\",max_depth=2),n_estimators = 10 , random_state=0 ) \n",
        "evaluation(final_model_AdaBoost, train_X_s, train_Y_s, test_X_s, test_Y_s, scoring=\"recall\" )"
      ],
      "execution_count": null,
      "outputs": [
        {
          "output_type": "stream",
          "text": [
            "test set : \n",
            "[[  410    88]\n",
            " [ 9891 82702]]\n",
            "              precision    recall  f1-score   support\n",
            "\n",
            "           1       0.04      0.82      0.08       498\n",
            "           2       1.00      0.89      0.94     92593\n",
            "\n",
            "    accuracy                           0.89     93091\n",
            "   macro avg       0.52      0.86      0.51     93091\n",
            "weighted avg       0.99      0.89      0.94     93091\n",
            "\n",
            "train set : \n",
            "[[  1797    325]\n",
            " [ 39111 331129]]\n",
            "              precision    recall  f1-score   support\n",
            "\n",
            "           1       0.04      0.85      0.08      2122\n",
            "           2       1.00      0.89      0.94    370240\n",
            "\n",
            "    accuracy                           0.89    372362\n",
            "   macro avg       0.52      0.87      0.51    372362\n",
            "weighted avg       0.99      0.89      0.94    372362\n",
            "\n"
          ],
          "name": "stdout"
        },
        {
          "output_type": "display_data",
          "data": {
            "image/png": "[encoded data removed]",
            "text/plain": [
              "<Figure size 720x432 with 1 Axes>"
            ]
          },
          "metadata": {
            "tags": [],
            "needs_background": "light"
          }
        }
      ]
    },
    {
      "cell_type": "code",
      "metadata": {
        "id": "EjxAnec-FPza"
      },
      "source": [
        "#############################################################\n",
        "#                   MODELE 2 : BOOSTING\n",
        "#############################################################"
      ],
      "execution_count": null,
      "outputs": []
    },
    {
      "cell_type": "code",
      "metadata": {
        "colab": {
          "base_uri": "https://localhost:8080/"
        },
        "id": "GU74z6hsFP2Z",
        "outputId": "0b827009-8a8d-40df-eae4-0473fd1145d6"
      },
      "source": [
        "\n",
        "model_GradientBoostingClassifier = GradientBoostingClassifier(max_depth=4, min_samples_split=2, min_samples_leaf=1,\n",
        "                                                              subsample=1,max_features='sqrt', random_state=10)\n",
        "param = { 'n_estimators':[100,250,500],\n",
        "         'learning_rate':[0.15,0.1,0.05,0.01,0.005,0.001] }\n",
        "\n",
        "grid_GradientBoostingClassifier = GridSearchCV(model_GradientBoostingClassifier, param_grid= param, cv = 4, scoring = \"recall\")\n",
        "resultat_grid_GradientBoostingClassifier = grid_GradientBoostingClassifier.fit(train_X_s, train_Y_s)\n",
        "resultat_grid_GradientBoostingClassifier.best_params_\n"
      ],
      "execution_count": null,
      "outputs": [
        {
          "output_type": "execute_result",
          "data": {
            "text/plain": [
              "{'learning_rate': 0.15, 'n_estimators': 500}"
            ]
          },
          "metadata": {
            "tags": []
          },
          "execution_count": 16
        }
      ]
    },
    {
      "cell_type": "code",
      "metadata": {
        "colab": {
          "base_uri": "https://localhost:8080/",
          "height": 796
        },
        "id": "dM-iCwfQFP41",
        "outputId": "8d7876e4-ade1-48f9-9a25-47ce7ae79ef2"
      },
      "source": [
        "final_model_GradientBoostingClassifier = GradientBoostingClassifier(max_depth=4, min_samples_split=2, min_samples_leaf=1,\n",
        "                                                              subsample=1,max_features='sqrt', random_state=10,\n",
        "                                                              learning_rate= 0.15, n_estimators= 500)\n",
        "evaluation(final_model_GradientBoostingClassifier, train_X_s, train_Y_s, test_X_s, test_Y_s, scoring=\"recall\" )"
      ],
      "execution_count": null,
      "outputs": [
        {
          "output_type": "stream",
          "text": [
            "test set : \n",
            "[[    2   496]\n",
            " [   11 92582]]\n",
            "              precision    recall  f1-score   support\n",
            "\n",
            "           1       0.15      0.00      0.01       498\n",
            "           2       0.99      1.00      1.00     92593\n",
            "\n",
            "    accuracy                           0.99     93091\n",
            "   macro avg       0.57      0.50      0.50     93091\n",
            "weighted avg       0.99      0.99      0.99     93091\n",
            "\n",
            "train set : \n",
            "[[    96   2026]\n",
            " [    16 370224]]\n",
            "              precision    recall  f1-score   support\n",
            "\n",
            "           1       0.86      0.05      0.09      2122\n",
            "           2       0.99      1.00      1.00    370240\n",
            "\n",
            "    accuracy                           0.99    372362\n",
            "   macro avg       0.93      0.52      0.54    372362\n",
            "weighted avg       0.99      0.99      0.99    372362\n",
            "\n"
          ],
          "name": "stdout"
        },
        {
          "output_type": "display_data",
          "data": {
            "image/png": "[encoded data removed]",
            "text/plain": [
              "<Figure size 720x432 with 1 Axes>"
            ]
          },
          "metadata": {
            "tags": [],
            "needs_background": "light"
          }
        }
      ]
    },
    {
      "cell_type": "code",
      "metadata": {
        "id": "M_AjyHWqHVxP"
      },
      "source": [
        ""
      ],
      "execution_count": null,
      "outputs": []
    },
    {
      "cell_type": "code",
      "metadata": {
        "id": "IYv04bUqEz7o"
      },
      "source": [
        "#######################################################################################################################\n",
        "#                                                ARBRES DE DECISION\n",
        "#######################################################################################################################"
      ],
      "execution_count": null,
      "outputs": []
    },
    {
      "cell_type": "code",
      "metadata": {
        "id": "KfIh3IwuFOro"
      },
      "source": [
        "# base de données avec des variables corrélées et sans encodage OneHot\n",
        "\n",
        "train_set, test_set = train_test_split(data, test_size = 0.2, random_state=0 )\n",
        "# numéro correspondant à la dernière colonne\n",
        "nb_var = data.shape[1] - 1\n",
        "\n",
        "train_X_s = (train_set.iloc[:,1:nb_var]).to_numpy()\n",
        "train_Y_s = np.asanyarray(train_set.iloc[:,nb_var])\n",
        "\n",
        "test_X_s = (test_set.iloc[:,1:nb_var]).to_numpy()\n",
        "test_Y_s = np.asanyarray(test_set.iloc[:,nb_var])"
      ],
      "execution_count": null,
      "outputs": []
    },
    {
      "cell_type": "code",
      "metadata": {
        "colab": {
          "base_uri": "https://localhost:8080/"
        },
        "id": "Tz-GfAZW-xiF",
        "outputId": "cbaf044a-aca0-43ff-aa1b-52640d93a34d"
      },
      "source": [
        "\n",
        "model_DecisionTreeClassifier = DecisionTreeClassifier(random_state = 0, class_weight = \"balanced\" )\n",
        "param = { 'max_depth' :list(range(2,30)), 'criterion': [\"gini\", \"entropy\"], 'max_features' : list(range(5,19)),\n",
        "         'min_samples_split' : np.linspace(0.1, 1.0, 5) }\n",
        "\n",
        "grid_DecisionTreeClassifier = GridSearchCV(model_DecisionTreeClassifier, param_grid= param, cv = 4, scoring = \"recall\")\n",
        "resultat_grid_DecisionTreeClassifier = grid_DecisionTreeClassifier.fit(train_X_s, train_Y_s)\n",
        "resultat_grid_DecisionTreeClassifier.best_params_\n"
      ],
      "execution_count": null,
      "outputs": [
        {
          "output_type": "execute_result",
          "data": {
            "text/plain": [
              "{'criterion': 'entropy',\n",
              " 'max_depth': 2,\n",
              " 'max_features': 5,\n",
              " 'min_samples_split': 0.1}"
            ]
          },
          "metadata": {
            "tags": []
          },
          "execution_count": 83
        }
      ]
    },
    {
      "cell_type": "code",
      "metadata": {
        "colab": {
          "base_uri": "https://localhost:8080/",
          "height": 796
        },
        "id": "wwUWO34taS5q",
        "outputId": "940606f3-70eb-4c6e-c596-7ca33da017de"
      },
      "source": [
        "final_model_DecisionTreeClassifier = DecisionTreeClassifier(random_state = 0, criterion=\"entropy\", class_weight = \"balanced\", max_depth = 2, max_features=5, min_samples_split=0.1 )\n",
        "evaluation(final_model_DecisionTreeClassifier, train_X_s, train_Y_s, test_X_s, test_Y_s, scoring=\"recall\" )"
      ],
      "execution_count": null,
      "outputs": [
        {
          "output_type": "stream",
          "text": [
            "test set : \n",
            "[[  471    27]\n",
            " [45168 47425]]\n",
            "              precision    recall  f1-score   support\n",
            "\n",
            "           1       0.01      0.95      0.02       498\n",
            "           2       1.00      0.51      0.68     92593\n",
            "\n",
            "    accuracy                           0.51     93091\n",
            "   macro avg       0.50      0.73      0.35     93091\n",
            "weighted avg       0.99      0.51      0.67     93091\n",
            "\n",
            "train set : \n",
            "[[  2015    107]\n",
            " [180302 189938]]\n",
            "              precision    recall  f1-score   support\n",
            "\n",
            "           1       0.01      0.95      0.02      2122\n",
            "           2       1.00      0.51      0.68    370240\n",
            "\n",
            "    accuracy                           0.52    372362\n",
            "   macro avg       0.51      0.73      0.35    372362\n",
            "weighted avg       0.99      0.52      0.67    372362\n",
            "\n"
          ],
          "name": "stdout"
        },
        {
          "output_type": "display_data",
          "data": {
            "image/png": "[encoded data removed]",
            "text/plain": [
              "<Figure size 720x432 with 1 Axes>"
            ]
          },
          "metadata": {
            "tags": [],
            "needs_background": "light"
          }
        }
      ]
    },
    {
      "cell_type": "code",
      "metadata": {
        "id": "KMzih-YvAn45",
        "colab": {
          "base_uri": "https://localhost:8080/",
          "height": 730
        },
        "outputId": "f832d935-fbe2-491f-c05f-3cd858b223e5"
      },
      "source": [
        "\n",
        "# importance des variables\n",
        "impVarFirst={\"Variable\":data.columns[1:-1],\"Importance\":final_model_DecisionTreeClassifier.feature_importances_}\n",
        "pd.DataFrame(impVarFirst).sort_values(by=\"Importance\",ascending=False)"
      ],
      "execution_count": null,
      "outputs": [
        {
          "output_type": "execute_result",
          "data": {
            "text/html": [
              "<div>\n",
              "<style scoped>\n",
              "    .dataframe tbody tr th:only-of-type {\n",
              "        vertical-align: middle;\n",
              "    }\n",
              "\n",
              "    .dataframe tbody tr th {\n",
              "        vertical-align: top;\n",
              "    }\n",
              "\n",
              "    .dataframe thead th {\n",
              "        text-align: right;\n",
              "    }\n",
              "</style>\n",
              "<table border=\"1\" class=\"dataframe\">\n",
              "  <thead>\n",
              "    <tr style=\"text-align: right;\">\n",
              "      <th></th>\n",
              "      <th>Variable</th>\n",
              "      <th>Importance</th>\n",
              "    </tr>\n",
              "  </thead>\n",
              "  <tbody>\n",
              "    <tr>\n",
              "      <th>20</th>\n",
              "      <td>Don_moyen</td>\n",
              "      <td>0.732512</td>\n",
              "    </tr>\n",
              "    <tr>\n",
              "      <th>1</th>\n",
              "      <td>GeoFaz_Scl</td>\n",
              "      <td>0.218157</td>\n",
              "    </tr>\n",
              "    <tr>\n",
              "      <th>8</th>\n",
              "      <td>Prenom_Phase_scl_F</td>\n",
              "      <td>0.049330</td>\n",
              "    </tr>\n",
              "    <tr>\n",
              "      <th>0</th>\n",
              "      <td>TypeHabi</td>\n",
              "      <td>0.000000</td>\n",
              "    </tr>\n",
              "    <tr>\n",
              "      <th>12</th>\n",
              "      <td>Age_F</td>\n",
              "      <td>0.000000</td>\n",
              "    </tr>\n",
              "    <tr>\n",
              "      <th>19</th>\n",
              "      <td>Don_max</td>\n",
              "      <td>0.000000</td>\n",
              "    </tr>\n",
              "    <tr>\n",
              "      <th>18</th>\n",
              "      <td>Cumul_dons</td>\n",
              "      <td>0.000000</td>\n",
              "    </tr>\n",
              "    <tr>\n",
              "      <th>17</th>\n",
              "      <td>Annee_1er_don</td>\n",
              "      <td>0.000000</td>\n",
              "    </tr>\n",
              "    <tr>\n",
              "      <th>16</th>\n",
              "      <td>Flag_PA</td>\n",
              "      <td>0.000000</td>\n",
              "    </tr>\n",
              "    <tr>\n",
              "      <th>15</th>\n",
              "      <td>codif_RdB</td>\n",
              "      <td>0.000000</td>\n",
              "    </tr>\n",
              "    <tr>\n",
              "      <th>14</th>\n",
              "      <td>Prenom_effectif</td>\n",
              "      <td>0.000000</td>\n",
              "    </tr>\n",
              "    <tr>\n",
              "      <th>13</th>\n",
              "      <td>Pays_sud</td>\n",
              "      <td>0.000000</td>\n",
              "    </tr>\n",
              "    <tr>\n",
              "      <th>11</th>\n",
              "      <td>Age_H</td>\n",
              "      <td>0.000000</td>\n",
              "    </tr>\n",
              "    <tr>\n",
              "      <th>10</th>\n",
              "      <td>Prenom_Phase_cl_F</td>\n",
              "      <td>0.000000</td>\n",
              "    </tr>\n",
              "    <tr>\n",
              "      <th>9</th>\n",
              "      <td>Prenom_Phase_cl_H</td>\n",
              "      <td>0.000000</td>\n",
              "    </tr>\n",
              "    <tr>\n",
              "      <th>7</th>\n",
              "      <td>Prenom_Phase_scl_H</td>\n",
              "      <td>0.000000</td>\n",
              "    </tr>\n",
              "    <tr>\n",
              "      <th>6</th>\n",
              "      <td>Sexe</td>\n",
              "      <td>0.000000</td>\n",
              "    </tr>\n",
              "    <tr>\n",
              "      <th>5</th>\n",
              "      <td>Revenus_iris</td>\n",
              "      <td>0.000000</td>\n",
              "    </tr>\n",
              "    <tr>\n",
              "      <th>4</th>\n",
              "      <td>Doublon_ligne</td>\n",
              "      <td>0.000000</td>\n",
              "    </tr>\n",
              "    <tr>\n",
              "      <th>3</th>\n",
              "      <td>Anciennete</td>\n",
              "      <td>0.000000</td>\n",
              "    </tr>\n",
              "    <tr>\n",
              "      <th>2</th>\n",
              "      <td>GeoFaz_cl</td>\n",
              "      <td>0.000000</td>\n",
              "    </tr>\n",
              "    <tr>\n",
              "      <th>21</th>\n",
              "      <td>Vingtiles_ISF</td>\n",
              "      <td>0.000000</td>\n",
              "    </tr>\n",
              "  </tbody>\n",
              "</table>\n",
              "</div>"
            ],
            "text/plain": [
              "              Variable  Importance\n",
              "20           Don_moyen    0.732512\n",
              "1           GeoFaz_Scl    0.218157\n",
              "8   Prenom_Phase_scl_F    0.049330\n",
              "0             TypeHabi    0.000000\n",
              "12               Age_F    0.000000\n",
              "19             Don_max    0.000000\n",
              "18          Cumul_dons    0.000000\n",
              "17       Annee_1er_don    0.000000\n",
              "16             Flag_PA    0.000000\n",
              "15           codif_RdB    0.000000\n",
              "14     Prenom_effectif    0.000000\n",
              "13            Pays_sud    0.000000\n",
              "11               Age_H    0.000000\n",
              "10   Prenom_Phase_cl_F    0.000000\n",
              "9    Prenom_Phase_cl_H    0.000000\n",
              "7   Prenom_Phase_scl_H    0.000000\n",
              "6                 Sexe    0.000000\n",
              "5         Revenus_iris    0.000000\n",
              "4        Doublon_ligne    0.000000\n",
              "3           Anciennete    0.000000\n",
              "2            GeoFaz_cl    0.000000\n",
              "21       Vingtiles_ISF    0.000000"
            ]
          },
          "metadata": {
            "tags": []
          },
          "execution_count": 15
        }
      ]
    },
    {
      "cell_type": "code",
      "metadata": {
        "id": "KG8kMkS-Ao8q",
        "colab": {
          "base_uri": "https://localhost:8080/",
          "height": 698
        },
        "outputId": "2d309006-cd4a-4e7e-9c00-12f7834a5880"
      },
      "source": [
        "# affichage graphique de l'arbre (il faut vérifier les noms des colonnes pour qu'on affiche correctement l'arbre)\n",
        "\n",
        "plt.figure(figsize = (15, 10))\n",
        "plot_tree(final_model_DecisionTreeClassifier,feature_names = list(data.columns[1:-1]),filled=True)\n",
        "\n"
      ],
      "execution_count": null,
      "outputs": [
        {
          "output_type": "execute_result",
          "data": {
            "text/plain": [
              "[Text(418.5, 453.0, 'GeoFaz_Scl <= 67.5\\nentropy = 1.0\\nsamples = 372362\\nvalue = [186181.0, 186181.0]'),\n",
              " Text(209.25, 271.8, 'Don_moyen <= 4.5\\nentropy = 0.952\\nsamples = 237293\\nvalue = [70190.763, 118924.22]'),\n",
              " Text(104.625, 90.59999999999997, 'entropy = 0.435\\nsamples = 190045\\nvalue = [9388.015, 95513.307]'),\n",
              " Text(313.875, 90.59999999999997, 'entropy = 0.853\\nsamples = 47248\\nvalue = [60802.749, 23410.913]'),\n",
              " Text(627.75, 271.8, 'Prenom_Phase_scl_F <= 78.5\\nentropy = 0.948\\nsamples = 135069\\nvalue = [115990.237, 67256.78]'),\n",
              " Text(523.125, 90.59999999999997, 'entropy = 0.996\\nsamples = 76439\\nvalue = [44483.396, 38183.599]'),\n",
              " Text(732.375, 90.59999999999997, 'entropy = 0.867\\nsamples = 58630\\nvalue = [71506.84, 29073.181]')]"
            ]
          },
          "metadata": {
            "tags": []
          },
          "execution_count": 16
        },
        {
          "output_type": "display_data",
          "data": {
            "image/png": "[encoded data removed]",
            "text/plain": [
              "<Figure size 1080x720 with 1 Axes>"
            ]
          },
          "metadata": {
            "tags": [],
            "needs_background": "light"
          }
        }
      ]
    },
    {
      "cell_type": "code",
      "metadata": {
        "id": "Ifb6FXPrSqTx"
      },
      "source": [
        ""
      ],
      "execution_count": null,
      "outputs": []
    },
    {
      "cell_type": "code",
      "metadata": {
        "id": "_yAqZ8NDSqWJ"
      },
      "source": [
        "##################################################################\n",
        "# ELIMINATION DES VARIABLES QUI CONTRIBUENT LE PLUS AU MODELE\n",
        "##################################################################"
      ],
      "execution_count": null,
      "outputs": []
    },
    {
      "cell_type": "code",
      "metadata": {
        "id": "Ip4UtfZP0aYF"
      },
      "source": [
        "# PARTIE 1 : on élimine la variable qui contribue le plus au modèle précédent\n",
        "data=data.drop([\"Don_moyen\"],axis=1)\n"
      ],
      "execution_count": null,
      "outputs": []
    },
    {
      "cell_type": "code",
      "metadata": {
        "id": "Y9Z00EXb0D4e"
      },
      "source": [
        "# base de données avec des variables corrélées et sans encodage OneHot\n",
        "\n",
        "train_set, test_set = train_test_split(data, test_size = 0.2, random_state=0 )\n",
        "nb_var = data.shape[1] - 1\n",
        "\n",
        "train_X_s = (train_set.iloc[:,1:nb_var]).to_numpy()\n",
        "train_Y_s = np.asanyarray(train_set.iloc[:,nb_var])\n",
        "\n",
        "test_X_s = (test_set.iloc[:,1:nb_var]).to_numpy()\n",
        "test_Y_s = np.asanyarray(test_set.iloc[:,nb_var])"
      ],
      "execution_count": null,
      "outputs": []
    },
    {
      "cell_type": "code",
      "metadata": {
        "colab": {
          "base_uri": "https://localhost:8080/"
        },
        "id": "vsEGXS873KZ9",
        "outputId": "d24ac33c-9036-4162-b2bf-f7af0d0c9fee"
      },
      "source": [
        "\n",
        "model_DecisionTreeClassifier = DecisionTreeClassifier(random_state = 0, class_weight = \"balanced\" )\n",
        "param = { 'max_depth' :list(range(2,30)), 'criterion': [\"gini\", \"entropy\"], 'max_features' : list(range(5,15)),\n",
        "         'min_samples_split' : np.linspace(0.1, 1.0, 5) }\n",
        "\n",
        "grid_DecisionTreeClassifier = GridSearchCV(model_DecisionTreeClassifier, param_grid= param, cv = 4, scoring = \"recall\")\n",
        "resultat_grid_DecisionTreeClassifier = grid_DecisionTreeClassifier.fit(train_X_s, train_Y_s)\n",
        "resultat_grid_DecisionTreeClassifier.best_params_\n"
      ],
      "execution_count": null,
      "outputs": [
        {
          "output_type": "execute_result",
          "data": {
            "text/plain": [
              "{'criterion': 'gini',\n",
              " 'max_depth': 8,\n",
              " 'max_features': 9,\n",
              " 'min_samples_split': 0.1}"
            ]
          },
          "metadata": {
            "tags": []
          },
          "execution_count": 90
        }
      ]
    },
    {
      "cell_type": "code",
      "metadata": {
        "colab": {
          "base_uri": "https://localhost:8080/",
          "height": 796
        },
        "id": "u-IW8kytzJwX",
        "outputId": "e1978af5-5ae4-45f1-e371-88dc72cb4e7f"
      },
      "source": [
        "final_model_DecisionTreeClassifier = DecisionTreeClassifier(random_state = 0, criterion=\"gini\", class_weight = \"balanced\", max_depth = 8, max_features=9, min_samples_split=0.1 )\n",
        "evaluation(final_model_DecisionTreeClassifier, train_X_s, train_Y_s, test_X_s, test_Y_s, scoring=\"recall\" )"
      ],
      "execution_count": null,
      "outputs": [
        {
          "output_type": "stream",
          "text": [
            "test set : \n",
            "[[  417    81]\n",
            " [12540 80053]]\n",
            "              precision    recall  f1-score   support\n",
            "\n",
            "           1       0.03      0.84      0.06       498\n",
            "           2       1.00      0.86      0.93     92593\n",
            "\n",
            "    accuracy                           0.86     93091\n",
            "   macro avg       0.52      0.85      0.49     93091\n",
            "weighted avg       0.99      0.86      0.92     93091\n",
            "\n",
            "train set : \n",
            "[[  1828    294]\n",
            " [ 50227 320013]]\n",
            "              precision    recall  f1-score   support\n",
            "\n",
            "           1       0.04      0.86      0.07      2122\n",
            "           2       1.00      0.86      0.93    370240\n",
            "\n",
            "    accuracy                           0.86    372362\n",
            "   macro avg       0.52      0.86      0.50    372362\n",
            "weighted avg       0.99      0.86      0.92    372362\n",
            "\n"
          ],
          "name": "stdout"
        },
        {
          "output_type": "display_data",
          "data": {
            "image/png": "[encoded data removed]",
            "text/plain": [
              "<Figure size 720x432 with 1 Axes>"
            ]
          },
          "metadata": {
            "tags": [],
            "needs_background": "light"
          }
        }
      ]
    },
    {
      "cell_type": "code",
      "metadata": {
        "colab": {
          "base_uri": "https://localhost:8080/",
          "height": 699
        },
        "id": "IScg6Cd3zJyk",
        "outputId": "0f5d36a8-21be-4bb7-8f8f-0ca4af05916f"
      },
      "source": [
        "\n",
        "#importance des variables\n",
        "impVarFirst={\"Variable\":data.columns[1:-1],\"Importance\":final_model_DecisionTreeClassifier.feature_importances_}\n",
        "pd.DataFrame(impVarFirst).sort_values(by=\"Importance\",ascending=False)"
      ],
      "execution_count": null,
      "outputs": [
        {
          "output_type": "execute_result",
          "data": {
            "text/html": [
              "<div>\n",
              "<style scoped>\n",
              "    .dataframe tbody tr th:only-of-type {\n",
              "        vertical-align: middle;\n",
              "    }\n",
              "\n",
              "    .dataframe tbody tr th {\n",
              "        vertical-align: top;\n",
              "    }\n",
              "\n",
              "    .dataframe thead th {\n",
              "        text-align: right;\n",
              "    }\n",
              "</style>\n",
              "<table border=\"1\" class=\"dataframe\">\n",
              "  <thead>\n",
              "    <tr style=\"text-align: right;\">\n",
              "      <th></th>\n",
              "      <th>Variable</th>\n",
              "      <th>Importance</th>\n",
              "    </tr>\n",
              "  </thead>\n",
              "  <tbody>\n",
              "    <tr>\n",
              "      <th>18</th>\n",
              "      <td>Cumul_dons</td>\n",
              "      <td>0.669001</td>\n",
              "    </tr>\n",
              "    <tr>\n",
              "      <th>19</th>\n",
              "      <td>Don_max</td>\n",
              "      <td>0.298596</td>\n",
              "    </tr>\n",
              "    <tr>\n",
              "      <th>5</th>\n",
              "      <td>Revenus_iris</td>\n",
              "      <td>0.013495</td>\n",
              "    </tr>\n",
              "    <tr>\n",
              "      <th>20</th>\n",
              "      <td>Vingtiles_ISF</td>\n",
              "      <td>0.010643</td>\n",
              "    </tr>\n",
              "    <tr>\n",
              "      <th>1</th>\n",
              "      <td>GeoFaz_Scl</td>\n",
              "      <td>0.002385</td>\n",
              "    </tr>\n",
              "    <tr>\n",
              "      <th>4</th>\n",
              "      <td>Doublon_ligne</td>\n",
              "      <td>0.002374</td>\n",
              "    </tr>\n",
              "    <tr>\n",
              "      <th>2</th>\n",
              "      <td>GeoFaz_cl</td>\n",
              "      <td>0.001567</td>\n",
              "    </tr>\n",
              "    <tr>\n",
              "      <th>6</th>\n",
              "      <td>Sexe</td>\n",
              "      <td>0.000941</td>\n",
              "    </tr>\n",
              "    <tr>\n",
              "      <th>7</th>\n",
              "      <td>Prenom_Phase_scl_H</td>\n",
              "      <td>0.000686</td>\n",
              "    </tr>\n",
              "    <tr>\n",
              "      <th>12</th>\n",
              "      <td>Age_F</td>\n",
              "      <td>0.000313</td>\n",
              "    </tr>\n",
              "    <tr>\n",
              "      <th>14</th>\n",
              "      <td>Prenom_effectif</td>\n",
              "      <td>0.000000</td>\n",
              "    </tr>\n",
              "    <tr>\n",
              "      <th>17</th>\n",
              "      <td>Annee_1er_don</td>\n",
              "      <td>0.000000</td>\n",
              "    </tr>\n",
              "    <tr>\n",
              "      <th>16</th>\n",
              "      <td>Flag_PA</td>\n",
              "      <td>0.000000</td>\n",
              "    </tr>\n",
              "    <tr>\n",
              "      <th>15</th>\n",
              "      <td>codif_RdB</td>\n",
              "      <td>0.000000</td>\n",
              "    </tr>\n",
              "    <tr>\n",
              "      <th>0</th>\n",
              "      <td>TypeHabi</td>\n",
              "      <td>0.000000</td>\n",
              "    </tr>\n",
              "    <tr>\n",
              "      <th>13</th>\n",
              "      <td>Pays_sud</td>\n",
              "      <td>0.000000</td>\n",
              "    </tr>\n",
              "    <tr>\n",
              "      <th>11</th>\n",
              "      <td>Age_H</td>\n",
              "      <td>0.000000</td>\n",
              "    </tr>\n",
              "    <tr>\n",
              "      <th>9</th>\n",
              "      <td>Prenom_Phase_cl_H</td>\n",
              "      <td>0.000000</td>\n",
              "    </tr>\n",
              "    <tr>\n",
              "      <th>8</th>\n",
              "      <td>Prenom_Phase_scl_F</td>\n",
              "      <td>0.000000</td>\n",
              "    </tr>\n",
              "    <tr>\n",
              "      <th>3</th>\n",
              "      <td>Anciennete</td>\n",
              "      <td>0.000000</td>\n",
              "    </tr>\n",
              "    <tr>\n",
              "      <th>10</th>\n",
              "      <td>Prenom_Phase_cl_F</td>\n",
              "      <td>0.000000</td>\n",
              "    </tr>\n",
              "  </tbody>\n",
              "</table>\n",
              "</div>"
            ],
            "text/plain": [
              "              Variable  Importance\n",
              "18          Cumul_dons    0.669001\n",
              "19             Don_max    0.298596\n",
              "5         Revenus_iris    0.013495\n",
              "20       Vingtiles_ISF    0.010643\n",
              "1           GeoFaz_Scl    0.002385\n",
              "4        Doublon_ligne    0.002374\n",
              "2            GeoFaz_cl    0.001567\n",
              "6                 Sexe    0.000941\n",
              "7   Prenom_Phase_scl_H    0.000686\n",
              "12               Age_F    0.000313\n",
              "14     Prenom_effectif    0.000000\n",
              "17       Annee_1er_don    0.000000\n",
              "16             Flag_PA    0.000000\n",
              "15           codif_RdB    0.000000\n",
              "0             TypeHabi    0.000000\n",
              "13            Pays_sud    0.000000\n",
              "11               Age_H    0.000000\n",
              "9    Prenom_Phase_cl_H    0.000000\n",
              "8   Prenom_Phase_scl_F    0.000000\n",
              "3           Anciennete    0.000000\n",
              "10   Prenom_Phase_cl_F    0.000000"
            ]
          },
          "metadata": {
            "tags": []
          },
          "execution_count": 49
        }
      ]
    },
    {
      "cell_type": "code",
      "metadata": {
        "colab": {
          "base_uri": "https://localhost:8080/",
          "height": 1000
        },
        "id": "XMykWDxozJ1H",
        "outputId": "9ff31cb3-a8ec-45c4-d595-282e6564c434"
      },
      "source": [
        "# affichage graphique de l'arbre (il faut vérifier les noms des colonnes pour qu'on affiche correctement l'arbre)\n",
        "\n",
        "plt.figure(figsize = (15, 10))\n",
        "plot_tree(final_model_DecisionTreeClassifier,feature_names = list(data.columns[1:-1]),filled=True)\n",
        "\n"
      ],
      "execution_count": null,
      "outputs": [
        {
          "output_type": "execute_result",
          "data": {
            "text/plain": [
              "[Text(642.9130434782609, 513.4, 'Cumul_dons <= 5.5\\ngini = 0.5\\nsamples = 372362\\nvalue = [186181.0, 186181.0]'),\n",
              " Text(545.8695652173913, 453.0, 'Don_max <= 6.5\\ngini = 0.36\\nsamples = 329300\\nvalue = [50976.042, 165301.513]'),\n",
              " Text(497.3478260869565, 392.6, 'Don_max <= 5.5\\ngini = 0.249\\nsamples = 308676\\nvalue = [26409.275, 155071.213]'),\n",
              " Text(363.9130434782609, 332.2, 'Vingtiles_ISF <= 19.5\\ngini = 0.173\\nsamples = 251748\\nvalue = [13336.245, 126519.001]'),\n",
              " Text(315.39130434782606, 271.8, 'Doublon_ligne <= 2.5\\ngini = 0.152\\nsamples = 245526\\nvalue = [11142.784, 123402.742]'),\n",
              " Text(194.08695652173913, 211.39999999999998, 'GeoFaz_Scl <= 71.5\\ngini = 0.214\\nsamples = 90712\\nvalue = [6317.169, 45579.748]'),\n",
              " Text(145.56521739130434, 151.0, 'Revenus_iris <= 7.5\\ngini = 0.17\\nsamples = 69176\\nvalue = [3597.277, 34765.621]'),\n",
              " Text(97.04347826086956, 90.59999999999997, 'Sexe <= 2.5\\ngini = 0.167\\nsamples = 69147\\nvalue = [3509.538, 34751.541]'),\n",
              " Text(48.52173913043478, 30.199999999999932, 'gini = 0.054\\nsamples = 18191\\nvalue = [263.215, 9146.122]'),\n",
              " Text(145.56521739130434, 30.199999999999932, 'gini = 0.2\\nsamples = 50956\\nvalue = [3246.323, 25605.419]'),\n",
              " Text(194.08695652173913, 90.59999999999997, 'gini = 0.238\\nsamples = 29\\nvalue = [87.738, 14.08]'),\n",
              " Text(242.6086956521739, 151.0, 'gini = 0.321\\nsamples = 21536\\nvalue = [2719.892, 10814.127]'),\n",
              " Text(436.695652173913, 211.39999999999998, 'Prenom_Phase_scl_H <= 54.5\\ngini = 0.11\\nsamples = 154814\\nvalue = [4825.615, 77822.994]'),\n",
              " Text(339.6521739130435, 151.0, 'Revenus_iris <= 6.5\\ngini = 0.157\\nsamples = 55704\\nvalue = [2632.154, 27996.545]'),\n",
              " Text(291.1304347826087, 90.59999999999997, 'Age_F <= 11.5\\ngini = 0.123\\nsamples = 49468\\nvalue = [1754.769, 24865.704]'),\n",
              " Text(242.6086956521739, 30.199999999999932, 'gini = 0.0\\nsamples = 6731\\nvalue = [0.0, 3384.789]'),\n",
              " Text(339.6521739130435, 30.199999999999932, 'gini = 0.14\\nsamples = 42737\\nvalue = [1754.769, 21480.914]'),\n",
              " Text(388.17391304347825, 90.59999999999997, 'gini = 0.342\\nsamples = 6236\\nvalue = [877.385, 3130.842]'),\n",
              " Text(533.7391304347826, 151.0, 'GeoFaz_Scl <= 35.5\\ngini = 0.081\\nsamples = 99110\\nvalue = [2193.461, 49826.449]'),\n",
              " Text(485.2173913043478, 90.59999999999997, 'gini = 0.118\\nsamples = 36366\\nvalue = [1228.338, 18280.174]'),\n",
              " Text(582.2608695652174, 90.59999999999997, 'Vingtiles_ISF <= 15.5\\ngini = 0.058\\nsamples = 62744\\nvalue = [965.123, 31546.275]'),\n",
              " Text(533.7391304347826, 30.199999999999932, 'gini = 0.034\\nsamples = 48947\\nvalue = [438.692, 24611.254]'),\n",
              " Text(630.7826086956521, 30.199999999999932, 'gini = 0.131\\nsamples = 13797\\nvalue = [526.431, 6935.021]'),\n",
              " Text(412.4347826086956, 271.8, 'gini = 0.485\\nsamples = 6222\\nvalue = [2193.461, 3116.259]'),\n",
              " Text(630.7826086956521, 332.2, 'Revenus_iris <= 6.5\\ngini = 0.431\\nsamples = 56928\\nvalue = [13073.03, 28552.212]'),\n",
              " Text(582.2608695652174, 271.8, 'GeoFaz_cl <= 6.5\\ngini = 0.371\\nsamples = 47094\\nvalue = [7720.984, 23637.706]'),\n",
              " Text(533.7391304347826, 211.39999999999998, 'gini = 0.327\\nsamples = 30980\\nvalue = [4035.969, 15555.648]'),\n",
              " Text(630.7826086956521, 211.39999999999998, 'gini = 0.43\\nsamples = 16114\\nvalue = [3685.015, 8082.058]'),\n",
              " Text(679.304347826087, 271.8, 'gini = 0.499\\nsamples = 9834\\nvalue = [5352.046, 4914.507]'),\n",
              " Text(594.3913043478261, 392.6, 'gini = 0.415\\nsamples = 20624\\nvalue = [24566.767, 10230.3]'),\n",
              " Text(739.9565217391304, 453.0, 'Don_max <= 6.5\\ngini = 0.232\\nsamples = 43062\\nvalue = [135204.958, 20879.487]'),\n",
              " Text(691.4347826086956, 392.6, 'gini = 0.427\\nsamples = 21494\\nvalue = [4825.615, 10780.938]'),\n",
              " Text(788.4782608695652, 392.6, 'gini = 0.133\\nsamples = 21568\\nvalue = [130379.343, 10098.549]')]"
            ]
          },
          "metadata": {
            "tags": []
          },
          "execution_count": 50
        },
        {
          "output_type": "display_data",
          "data": {
            "image/png": "[encoded data removed]",
            "text/plain": [
              "<Figure size 1080x720 with 1 Axes>"
            ]
          },
          "metadata": {
            "tags": [],
            "needs_background": "light"
          }
        }
      ]
    },
    {
      "cell_type": "code",
      "metadata": {
        "id": "4eiZ2xEUzJ3O"
      },
      "source": [
        "##################################################################\n",
        "##################################################################"
      ],
      "execution_count": null,
      "outputs": []
    },
    {
      "cell_type": "code",
      "metadata": {
        "id": "TgHjAoQXZEwU"
      },
      "source": [
        "# PARTIE 2 (LA SUITE) : on élimine la variable qui contribue le plus au modèle précédent\n",
        "data=data.drop([\"Annee_1er_don\", \"Cumul_dons\",\"Don_max\"],axis=1)\n"
      ],
      "execution_count": null,
      "outputs": []
    },
    {
      "cell_type": "code",
      "metadata": {
        "id": "ThCfUu_IZEy4"
      },
      "source": [
        "# base de données avec des variables corrélées et sans encodage OneHot\n",
        "\n",
        "train_set, test_set = train_test_split(data, test_size = 0.2, random_state=0 )\n",
        "nb_var = data.shape[1] - 1\n",
        "\n",
        "train_X_s = (train_set.iloc[:,1:nb_var]).to_numpy()\n",
        "train_Y_s = np.asanyarray(train_set.iloc[:,nb_var])\n",
        "\n",
        "test_X_s = (test_set.iloc[:,1:nb_var]).to_numpy()\n",
        "test_Y_s = np.asanyarray(test_set.iloc[:,nb_var])"
      ],
      "execution_count": null,
      "outputs": []
    },
    {
      "cell_type": "code",
      "metadata": {
        "colab": {
          "base_uri": "https://localhost:8080/"
        },
        "id": "rkHrFyMWZE1M",
        "outputId": "a92dd149-dd32-41d3-8405-06776d9adc8f"
      },
      "source": [
        "\n",
        "model_DecisionTreeClassifier = DecisionTreeClassifier(random_state = 0, class_weight = \"balanced\" )\n",
        "param = { 'max_depth' :list(range(2,30)), 'criterion': [\"gini\", \"entropy\"], 'max_features' : list(range(5,15)),\n",
        "         'min_samples_split' : np.linspace(0.1, 1.0, 5) }\n",
        "\n",
        "grid_DecisionTreeClassifier = GridSearchCV(model_DecisionTreeClassifier, param_grid= param, cv = 4, scoring = \"recall\")\n",
        "resultat_grid_DecisionTreeClassifier = grid_DecisionTreeClassifier.fit(train_X_s, train_Y_s)\n",
        "resultat_grid_DecisionTreeClassifier.best_params_"
      ],
      "execution_count": null,
      "outputs": [
        {
          "output_type": "execute_result",
          "data": {
            "text/plain": [
              "{'criterion': 'gini',\n",
              " 'max_depth': 2,\n",
              " 'max_features': 7,\n",
              " 'min_samples_split': 0.1}"
            ]
          },
          "metadata": {
            "tags": []
          },
          "execution_count": 95
        }
      ]
    },
    {
      "cell_type": "code",
      "metadata": {
        "colab": {
          "base_uri": "https://localhost:8080/",
          "height": 800
        },
        "id": "3pd4YW5hkdFS",
        "outputId": "2a545600-5c29-4a98-f177-12fe2435f726"
      },
      "source": [
        "final_model_DecisionTreeClassifier = DecisionTreeClassifier(random_state = 0, criterion=\"gini\", class_weight = \"balanced\", max_depth = 2, max_features=7, min_samples_split=0.1 )\n",
        "evaluation(final_model_DecisionTreeClassifier, train_X_s, train_Y_s, test_X_s, test_Y_s, scoring=\"recall\" )"
      ],
      "execution_count": null,
      "outputs": [
        {
          "output_type": "stream",
          "text": [
            "test set : \n",
            "[[  385   113]\n",
            " [43574 49019]]\n",
            "              precision    recall  f1-score   support\n",
            "\n",
            "           1       0.01      0.77      0.02       498\n",
            "           2       1.00      0.53      0.69     92593\n",
            "\n",
            "    accuracy                           0.53     93091\n",
            "   macro avg       0.50      0.65      0.35     93091\n",
            "weighted avg       0.99      0.53      0.69     93091\n",
            "\n",
            "train set : \n",
            "[[  1609    513]\n",
            " [174487 195753]]\n",
            "              precision    recall  f1-score   support\n",
            "\n",
            "           1       0.01      0.76      0.02      2122\n",
            "           2       1.00      0.53      0.69    370240\n",
            "\n",
            "    accuracy                           0.53    372362\n",
            "   macro avg       0.50      0.64      0.35    372362\n",
            "weighted avg       0.99      0.53      0.69    372362\n",
            "\n"
          ],
          "name": "stdout"
        },
        {
          "output_type": "display_data",
          "data": {
            "image/png": "[encoded data removed]",
            "text/plain": [
              "<Figure size 720x432 with 1 Axes>"
            ]
          },
          "metadata": {
            "tags": [],
            "needs_background": "light"
          }
        }
      ]
    },
    {
      "cell_type": "code",
      "metadata": {
        "colab": {
          "base_uri": "https://localhost:8080/",
          "height": 606
        },
        "id": "T0IGKVVmZE4F",
        "outputId": "66237945-52a1-4dc8-9d37-1f42f5a277a4"
      },
      "source": [
        "\n",
        "#importance des variables\n",
        "impVarFirst={\"Variable\":data.columns[1:-1],\"Importance\":final_model_DecisionTreeClassifier.feature_importances_}\n",
        "pd.DataFrame(impVarFirst).sort_values(by=\"Importance\",ascending=False)"
      ],
      "execution_count": null,
      "outputs": [
        {
          "output_type": "execute_result",
          "data": {
            "text/html": [
              "<div>\n",
              "<style scoped>\n",
              "    .dataframe tbody tr th:only-of-type {\n",
              "        vertical-align: middle;\n",
              "    }\n",
              "\n",
              "    .dataframe tbody tr th {\n",
              "        vertical-align: top;\n",
              "    }\n",
              "\n",
              "    .dataframe thead th {\n",
              "        text-align: right;\n",
              "    }\n",
              "</style>\n",
              "<table border=\"1\" class=\"dataframe\">\n",
              "  <thead>\n",
              "    <tr style=\"text-align: right;\">\n",
              "      <th></th>\n",
              "      <th>Variable</th>\n",
              "      <th>Importance</th>\n",
              "    </tr>\n",
              "  </thead>\n",
              "  <tbody>\n",
              "    <tr>\n",
              "      <th>1</th>\n",
              "      <td>GeoFaz_Scl</td>\n",
              "      <td>0.651813</td>\n",
              "    </tr>\n",
              "    <tr>\n",
              "      <th>17</th>\n",
              "      <td>Vingtiles_ISF</td>\n",
              "      <td>0.199837</td>\n",
              "    </tr>\n",
              "    <tr>\n",
              "      <th>7</th>\n",
              "      <td>Prenom_Phase_scl_H</td>\n",
              "      <td>0.148350</td>\n",
              "    </tr>\n",
              "    <tr>\n",
              "      <th>10</th>\n",
              "      <td>Prenom_Phase_cl_F</td>\n",
              "      <td>0.000000</td>\n",
              "    </tr>\n",
              "    <tr>\n",
              "      <th>16</th>\n",
              "      <td>Flag_PA</td>\n",
              "      <td>0.000000</td>\n",
              "    </tr>\n",
              "    <tr>\n",
              "      <th>15</th>\n",
              "      <td>codif_RdB</td>\n",
              "      <td>0.000000</td>\n",
              "    </tr>\n",
              "    <tr>\n",
              "      <th>14</th>\n",
              "      <td>Prenom_effectif</td>\n",
              "      <td>0.000000</td>\n",
              "    </tr>\n",
              "    <tr>\n",
              "      <th>13</th>\n",
              "      <td>Pays_sud</td>\n",
              "      <td>0.000000</td>\n",
              "    </tr>\n",
              "    <tr>\n",
              "      <th>12</th>\n",
              "      <td>Age_F</td>\n",
              "      <td>0.000000</td>\n",
              "    </tr>\n",
              "    <tr>\n",
              "      <th>11</th>\n",
              "      <td>Age_H</td>\n",
              "      <td>0.000000</td>\n",
              "    </tr>\n",
              "    <tr>\n",
              "      <th>0</th>\n",
              "      <td>TypeHabi</td>\n",
              "      <td>0.000000</td>\n",
              "    </tr>\n",
              "    <tr>\n",
              "      <th>8</th>\n",
              "      <td>Prenom_Phase_scl_F</td>\n",
              "      <td>0.000000</td>\n",
              "    </tr>\n",
              "    <tr>\n",
              "      <th>6</th>\n",
              "      <td>Sexe</td>\n",
              "      <td>0.000000</td>\n",
              "    </tr>\n",
              "    <tr>\n",
              "      <th>5</th>\n",
              "      <td>Revenus_iris</td>\n",
              "      <td>0.000000</td>\n",
              "    </tr>\n",
              "    <tr>\n",
              "      <th>4</th>\n",
              "      <td>Doublon_ligne</td>\n",
              "      <td>0.000000</td>\n",
              "    </tr>\n",
              "    <tr>\n",
              "      <th>3</th>\n",
              "      <td>Anciennete</td>\n",
              "      <td>0.000000</td>\n",
              "    </tr>\n",
              "    <tr>\n",
              "      <th>2</th>\n",
              "      <td>GeoFaz_cl</td>\n",
              "      <td>0.000000</td>\n",
              "    </tr>\n",
              "    <tr>\n",
              "      <th>9</th>\n",
              "      <td>Prenom_Phase_cl_H</td>\n",
              "      <td>0.000000</td>\n",
              "    </tr>\n",
              "  </tbody>\n",
              "</table>\n",
              "</div>"
            ],
            "text/plain": [
              "              Variable  Importance\n",
              "1           GeoFaz_Scl    0.651813\n",
              "17       Vingtiles_ISF    0.199837\n",
              "7   Prenom_Phase_scl_H    0.148350\n",
              "10   Prenom_Phase_cl_F    0.000000\n",
              "16             Flag_PA    0.000000\n",
              "15           codif_RdB    0.000000\n",
              "14     Prenom_effectif    0.000000\n",
              "13            Pays_sud    0.000000\n",
              "12               Age_F    0.000000\n",
              "11               Age_H    0.000000\n",
              "0             TypeHabi    0.000000\n",
              "8   Prenom_Phase_scl_F    0.000000\n",
              "6                 Sexe    0.000000\n",
              "5         Revenus_iris    0.000000\n",
              "4        Doublon_ligne    0.000000\n",
              "3           Anciennete    0.000000\n",
              "2            GeoFaz_cl    0.000000\n",
              "9    Prenom_Phase_cl_H    0.000000"
            ]
          },
          "metadata": {
            "tags": []
          },
          "execution_count": 97
        }
      ]
    },
    {
      "cell_type": "code",
      "metadata": {
        "colab": {
          "base_uri": "https://localhost:8080/",
          "height": 698
        },
        "id": "2GMGsRyLZE6C",
        "outputId": "80257cad-f695-4f5d-9cbb-aebdc8309601"
      },
      "source": [
        "# affichage graphique de l'arbre (il faut vérifier les noms des colonnes pour qu'on affiche correctement l'arbre)\n",
        "\n",
        "plt.figure(figsize = (15, 10))\n",
        "plot_tree(final_model_DecisionTreeClassifier,feature_names = list(data.columns[1:-1]),filled=True)\n",
        "\n"
      ],
      "execution_count": null,
      "outputs": [
        {
          "output_type": "execute_result",
          "data": {
            "text/plain": [
              "[Text(418.5, 453.0, 'GeoFaz_Scl <= 67.5\\ngini = 0.5\\nsamples = 372362\\nvalue = [186181.0, 186181.0]'),\n",
              " Text(209.25, 271.8, 'Vingtiles_ISF <= 15.5\\ngini = 0.467\\nsamples = 237293\\nvalue = [70190.763, 118924.22]'),\n",
              " Text(104.625, 90.59999999999997, 'gini = 0.431\\nsamples = 196266\\nvalue = [45009.827, 98437.471]'),\n",
              " Text(313.875, 90.59999999999997, 'gini = 0.495\\nsamples = 41027\\nvalue = [25180.936, 20486.749]'),\n",
              " Text(627.75, 271.8, 'Prenom_Phase_scl_H <= 55.5\\ngini = 0.465\\nsamples = 135069\\nvalue = [115990.237, 67256.78]'),\n",
              " Text(523.125, 90.59999999999997, 'gini = 0.406\\nsamples = 55652\\nvalue = [69752.071, 27585.704]'),\n",
              " Text(732.375, 90.59999999999997, 'gini = 0.497\\nsamples = 79417\\nvalue = [46238.165, 39671.076]')]"
            ]
          },
          "metadata": {
            "tags": []
          },
          "execution_count": 56
        },
        {
          "output_type": "display_data",
          "data": {
            "image/png": "[encoded data removed]",
            "text/plain": [
              "<Figure size 1080x720 with 1 Axes>"
            ]
          },
          "metadata": {
            "tags": [],
            "needs_background": "light"
          }
        }
      ]
    },
    {
      "cell_type": "code",
      "metadata": {
        "id": "jD0TqoFcZE8E"
      },
      "source": [
        ""
      ],
      "execution_count": null,
      "outputs": []
    },
    {
      "cell_type": "code",
      "metadata": {
        "id": "liyO-0uoZE91"
      },
      "source": [
        ""
      ],
      "execution_count": null,
      "outputs": []
    },
    {
      "cell_type": "code",
      "metadata": {
        "id": "8KYxzcaN-xkg"
      },
      "source": [
        "##################################################################\n",
        "##################################################################\n",
        "##################################################################"
      ],
      "execution_count": null,
      "outputs": []
    },
    {
      "cell_type": "code",
      "metadata": {
        "colab": {
          "base_uri": "https://localhost:8080/"
        },
        "id": "2R6Cq1iPxIhA",
        "outputId": "50fcf872-6166-489b-ccca-bfdb8bcc3fe3"
      },
      "source": [
        "# PARTIE 3 : éliminer les variables corrélées\n",
        "# tableau de corrélation \n",
        "tableau_corr =data_sans_nan.iloc[:,1:23].corr()\n",
        "variables_corr(tableau_corr, 0.95)\n"
      ],
      "execution_count": null,
      "outputs": [
        {
          "output_type": "stream",
          "text": [
            "variable :  GeoFaz_Scl\n",
            "corr pos ['GeoFaz_cl']\n",
            "corr pos [1.0]\n",
            "\n",
            "variable :  Prenom_Phase_scl_H\n",
            "corr pos ['Prenom_Phase_cl_H']\n",
            "corr pos [0.99]\n",
            "\n",
            "variable :  Prenom_Phase_scl_F\n",
            "corr pos ['Prenom_Phase_cl_F']\n",
            "corr pos [0.99]\n",
            "\n"
          ],
          "name": "stdout"
        }
      ]
    },
    {
      "cell_type": "code",
      "metadata": {
        "id": "ani078gZjYmR"
      },
      "source": [
        " # éliminer les variables corrélées\n",
        "data =  data.drop([\"GeoFaz_cl\", \"Prenom_Phase_cl_H\", \"Prenom_Phase_cl_F\"], axis = 1)\n"
      ],
      "execution_count": null,
      "outputs": []
    },
    {
      "cell_type": "code",
      "metadata": {
        "id": "IljFLuE-xIj2"
      },
      "source": [
        "# base de données avec des variables corrélées et sans encodage OneHot\n",
        "\n",
        "train_set, test_set = train_test_split(data, test_size = 0.2, random_state=0 )\n",
        "nb_var = data.shape[1] - 1\n",
        "\n",
        "train_X_s = (train_set.iloc[:,1:nb_var]).to_numpy()\n",
        "train_Y_s = np.asanyarray(train_set.iloc[:,nb_var])\n",
        "\n",
        "test_X_s = (test_set.iloc[:,1:nb_var]).to_numpy()\n",
        "test_Y_s = np.asanyarray(test_set.iloc[:,nb_var])"
      ],
      "execution_count": null,
      "outputs": []
    },
    {
      "cell_type": "code",
      "metadata": {
        "colab": {
          "base_uri": "https://localhost:8080/"
        },
        "id": "ZxTi93awxInJ",
        "outputId": "ba52eac3-bc56-4035-a08f-591ed1d0b2f6"
      },
      "source": [
        "\n",
        "model_DecisionTreeClassifier = DecisionTreeClassifier(random_state = 0, class_weight = \"balanced\" )\n",
        "param = { 'max_depth' :list(range(2,30)), 'criterion': [\"gini\", \"entropy\"], 'max_features' : list(range(4,10)),\n",
        "         'min_samples_split' : np.linspace(0.1, 1.0, 5) }\n",
        "\n",
        "grid_DecisionTreeClassifier = GridSearchCV(model_DecisionTreeClassifier, param_grid= param, cv = 4, scoring = \"recall\")\n",
        "resultat_grid_DecisionTreeClassifier = grid_DecisionTreeClassifier.fit(train_X_s, train_Y_s)\n",
        "resultat_grid_DecisionTreeClassifier.best_params_"
      ],
      "execution_count": null,
      "outputs": [
        {
          "output_type": "execute_result",
          "data": {
            "text/plain": [
              "{'criterion': 'entropy',\n",
              " 'max_depth': 3,\n",
              " 'max_features': 8,\n",
              " 'min_samples_split': 0.325}"
            ]
          },
          "metadata": {
            "tags": []
          },
          "execution_count": 102
        }
      ]
    },
    {
      "cell_type": "code",
      "metadata": {
        "colab": {
          "base_uri": "https://localhost:8080/",
          "height": 796
        },
        "id": "2vRbt7huxIp-",
        "outputId": "7a99ea42-5a44-4b2b-8f06-ac3ae510d864"
      },
      "source": [
        "final_model_DecisionTreeClassifier = DecisionTreeClassifier(random_state = 0, criterion=\"entropy\", class_weight = \"balanced\", max_depth = 3, max_features=8, min_samples_split=0.325 )\n",
        "evaluation(final_model_DecisionTreeClassifier, train_X_s, train_Y_s, test_X_s, test_Y_s, scoring=\"recall\" )"
      ],
      "execution_count": null,
      "outputs": [
        {
          "output_type": "stream",
          "text": [
            "test set : \n",
            "[[  367   131]\n",
            " [39021 53572]]\n",
            "              precision    recall  f1-score   support\n",
            "\n",
            "           1       0.01      0.74      0.02       498\n",
            "           2       1.00      0.58      0.73     92593\n",
            "\n",
            "    accuracy                           0.58     93091\n",
            "   macro avg       0.50      0.66      0.38     93091\n",
            "weighted avg       0.99      0.58      0.73     93091\n",
            "\n",
            "train set : \n",
            "[[  1518    604]\n",
            " [155796 214444]]\n",
            "              precision    recall  f1-score   support\n",
            "\n",
            "           1       0.01      0.72      0.02      2122\n",
            "           2       1.00      0.58      0.73    370240\n",
            "\n",
            "    accuracy                           0.58    372362\n",
            "   macro avg       0.50      0.65      0.38    372362\n",
            "weighted avg       0.99      0.58      0.73    372362\n",
            "\n"
          ],
          "name": "stdout"
        },
        {
          "output_type": "display_data",
          "data": {
            "image/png": "[encoded data removed]",
            "text/plain": [
              "<Figure size 720x432 with 1 Axes>"
            ]
          },
          "metadata": {
            "tags": [],
            "needs_background": "light"
          }
        }
      ]
    },
    {
      "cell_type": "code",
      "metadata": {
        "colab": {
          "base_uri": "https://localhost:8080/",
          "height": 513
        },
        "id": "vYiFzCqLxItA",
        "outputId": "3d650e21-8073-418a-d9a1-848d65458ea7"
      },
      "source": [
        "\n",
        "#importance des variables\n",
        "impVarFirst={\"Variable\":data.columns[1:-1],\"Importance\":final_model_DecisionTreeClassifier.feature_importances_}\n",
        "pd.DataFrame(impVarFirst).sort_values(by=\"Importance\",ascending=False)"
      ],
      "execution_count": null,
      "outputs": [
        {
          "output_type": "execute_result",
          "data": {
            "text/html": [
              "<div>\n",
              "<style scoped>\n",
              "    .dataframe tbody tr th:only-of-type {\n",
              "        vertical-align: middle;\n",
              "    }\n",
              "\n",
              "    .dataframe tbody tr th {\n",
              "        vertical-align: top;\n",
              "    }\n",
              "\n",
              "    .dataframe thead th {\n",
              "        text-align: right;\n",
              "    }\n",
              "</style>\n",
              "<table border=\"1\" class=\"dataframe\">\n",
              "  <thead>\n",
              "    <tr style=\"text-align: right;\">\n",
              "      <th></th>\n",
              "      <th>Variable</th>\n",
              "      <th>Importance</th>\n",
              "    </tr>\n",
              "  </thead>\n",
              "  <tbody>\n",
              "    <tr>\n",
              "      <th>4</th>\n",
              "      <td>Revenus_iris</td>\n",
              "      <td>0.765341</td>\n",
              "    </tr>\n",
              "    <tr>\n",
              "      <th>1</th>\n",
              "      <td>GeoFaz_Scl</td>\n",
              "      <td>0.151920</td>\n",
              "    </tr>\n",
              "    <tr>\n",
              "      <th>6</th>\n",
              "      <td>Prenom_Phase_scl_H</td>\n",
              "      <td>0.082739</td>\n",
              "    </tr>\n",
              "    <tr>\n",
              "      <th>0</th>\n",
              "      <td>TypeHabi</td>\n",
              "      <td>0.000000</td>\n",
              "    </tr>\n",
              "    <tr>\n",
              "      <th>2</th>\n",
              "      <td>Anciennete</td>\n",
              "      <td>0.000000</td>\n",
              "    </tr>\n",
              "    <tr>\n",
              "      <th>3</th>\n",
              "      <td>Doublon_ligne</td>\n",
              "      <td>0.000000</td>\n",
              "    </tr>\n",
              "    <tr>\n",
              "      <th>5</th>\n",
              "      <td>Sexe</td>\n",
              "      <td>0.000000</td>\n",
              "    </tr>\n",
              "    <tr>\n",
              "      <th>7</th>\n",
              "      <td>Prenom_Phase_scl_F</td>\n",
              "      <td>0.000000</td>\n",
              "    </tr>\n",
              "    <tr>\n",
              "      <th>8</th>\n",
              "      <td>Age_H</td>\n",
              "      <td>0.000000</td>\n",
              "    </tr>\n",
              "    <tr>\n",
              "      <th>9</th>\n",
              "      <td>Age_F</td>\n",
              "      <td>0.000000</td>\n",
              "    </tr>\n",
              "    <tr>\n",
              "      <th>10</th>\n",
              "      <td>Pays_sud</td>\n",
              "      <td>0.000000</td>\n",
              "    </tr>\n",
              "    <tr>\n",
              "      <th>11</th>\n",
              "      <td>Prenom_effectif</td>\n",
              "      <td>0.000000</td>\n",
              "    </tr>\n",
              "    <tr>\n",
              "      <th>12</th>\n",
              "      <td>codif_RdB</td>\n",
              "      <td>0.000000</td>\n",
              "    </tr>\n",
              "    <tr>\n",
              "      <th>13</th>\n",
              "      <td>Flag_PA</td>\n",
              "      <td>0.000000</td>\n",
              "    </tr>\n",
              "    <tr>\n",
              "      <th>14</th>\n",
              "      <td>Vingtiles_ISF</td>\n",
              "      <td>0.000000</td>\n",
              "    </tr>\n",
              "  </tbody>\n",
              "</table>\n",
              "</div>"
            ],
            "text/plain": [
              "              Variable  Importance\n",
              "4         Revenus_iris    0.765341\n",
              "1           GeoFaz_Scl    0.151920\n",
              "6   Prenom_Phase_scl_H    0.082739\n",
              "0             TypeHabi    0.000000\n",
              "2           Anciennete    0.000000\n",
              "3        Doublon_ligne    0.000000\n",
              "5                 Sexe    0.000000\n",
              "7   Prenom_Phase_scl_F    0.000000\n",
              "8                Age_H    0.000000\n",
              "9                Age_F    0.000000\n",
              "10            Pays_sud    0.000000\n",
              "11     Prenom_effectif    0.000000\n",
              "12           codif_RdB    0.000000\n",
              "13             Flag_PA    0.000000\n",
              "14       Vingtiles_ISF    0.000000"
            ]
          },
          "metadata": {
            "tags": []
          },
          "execution_count": 104
        }
      ]
    },
    {
      "cell_type": "code",
      "metadata": {
        "colab": {
          "base_uri": "https://localhost:8080/",
          "height": 698
        },
        "id": "wJj-jrt4xIvy",
        "outputId": "4b541431-7201-4cea-d856-403e83454740"
      },
      "source": [
        "# affichage graphique de l'arbre (il faut vérifier les noms des colonnes pour qu'on affiche correctement l'arbre)\n",
        "\n",
        "plt.figure(figsize = (15, 10))\n",
        "plot_tree(final_model_DecisionTreeClassifier,feature_names = list(data.columns[1:-1]),filled=True)\n",
        "\n"
      ],
      "execution_count": null,
      "outputs": [
        {
          "output_type": "execute_result",
          "data": {
            "text/plain": [
              "[Text(558.0, 475.65000000000003, 'Revenus_iris <= 6.5\\nentropy = 1.0\\nsamples = 372362\\nvalue = [186181.0, 186181.0]'),\n",
              " Text(418.5, 339.75, 'GeoFaz_Scl <= 67.5\\nentropy = 0.97\\nsamples = 318574\\nvalue = [105373.884, 159595.999]'),\n",
              " Text(279.0, 203.85000000000002, 'Prenom_Phase_scl_H <= 65.5\\nentropy = 0.914\\nsamples = 215048\\nvalue = [52994.026, 107836.534]'),\n",
              " Text(139.5, 67.94999999999999, 'entropy = 0.962\\nsamples = 127219\\nvalue = [40008.735, 63744.766]'),\n",
              " Text(418.5, 67.94999999999999, 'entropy = 0.774\\nsamples = 87829\\nvalue = [12985.291, 44091.768]'),\n",
              " Text(558.0, 203.85000000000002, 'entropy = 1.0\\nsamples = 103526\\nvalue = [52379.857, 51759.465]'),\n",
              " Text(697.5, 339.75, 'entropy = 0.807\\nsamples = 53788\\nvalue = [80807.116, 26585.001]')]"
            ]
          },
          "metadata": {
            "tags": []
          },
          "execution_count": 105
        },
        {
          "output_type": "display_data",
          "data": {
            "image/png": "[encoded data removed]",
            "text/plain": [
              "<Figure size 1080x720 with 1 Axes>"
            ]
          },
          "metadata": {
            "tags": [],
            "needs_background": "light"
          }
        }
      ]
    },
    {
      "cell_type": "code",
      "metadata": {
        "id": "KRTAa0q9JV8B"
      },
      "source": [
        ""
      ],
      "execution_count": null,
      "outputs": []
    },
    {
      "cell_type": "code",
      "metadata": {
        "id": "G3RY03v-y8f3"
      },
      "source": [
        "#################################################################################################################\n",
        "#                                                 QUARANTILES               \n",
        "#################################################################################################################"
      ],
      "execution_count": null,
      "outputs": []
    },
    {
      "cell_type": "code",
      "metadata": {
        "id": "g0FIlEFRy8il"
      },
      "source": [
        "def quarantiles(model, data_orig, affichage, save, path):\n",
        "    # position de la dernière variable explicative dans le dataset\n",
        "    nb_var = data_orig.shape[1]-1\n",
        "\n",
        "    # predict sur tous les individus (avec et sans classe IFI+)\n",
        "    tous_probas = model.predict_proba(data_orig.iloc[:,1:nb_var])\n",
        "    df_tous = pd.DataFrame({'IDENT': data_orig.iloc[:,0] , 'PROBA': tous_probas[:,0] })\n",
        "    #df_tous\n",
        "    \n",
        "    # valeurs ordonnées pour diviser après\n",
        "    df_tous=df_tous.sort_values(by='PROBA', ascending=True)\n",
        "    #df_tous\n",
        "    print(df_tous)\n",
        "    \n",
        "    #vérification\n",
        "    print(df_tous['PROBA'].value_counts())\n",
        "\n",
        "    # quarantiles\n",
        "    df_temp =pd.DataFrame( pd.qcut(df_tous['PROBA'],q= 40)  )\n",
        "    print(df_temp)\n",
        "\n",
        "    # ajout par index (IMPORTANTE)\n",
        "    df_tous[\"TRANCHES\"]=pd.DataFrame(df_temp.iloc[:,0].to_numpy(),index= df_temp.index)\n",
        "    #df_tous\n",
        "    \n",
        "    # pour la colonne IFI+ :\n",
        "    # remplissage de la dernière colonne par 2 (VALABLE QUE POUR CE DATA, MODIFIER POUR D'AUTRES)\n",
        "    data_temp_t = data_orig.copy()\n",
        "    data_all_complet_class = data_temp_t.fillna('2')\n",
        "    #data_all_complet_class\n",
        "\n",
        "    # jointure\n",
        "    ident_class_tous = data_all_complet_class[[\"IDENT\",\"IFI+\"]]\n",
        "    tableau_resultats = pd.merge(df_tous,ident_class_tous)\n",
        "    #tableau_resultats\n",
        "\n",
        "    # tranches finales\n",
        "    tab_cross_temp = pd.crosstab(tableau_resultats[\"TRANCHES\"],tableau_resultats[\"IFI+\"])\n",
        "    \n",
        "    # création d'une colonne total\n",
        "    tab_cross_temp[\"TOTAL\"]=tab_cross_temp[\"1\"]+tab_cross_temp[\"2\"]\n",
        "    \n",
        "    # affichage\n",
        "    if affichage ==True:        \n",
        "        print(tab_cross_temp)\n",
        "    \n",
        "    # création du tableau final en éliminant la colonne 2\n",
        "    tab_pour_excel = tab_cross_temp.drop([\"2\"], axis=1)\n",
        "    \n",
        "    # enregistrement sous Excel\n",
        "    if save == True:\n",
        "        tab_pour_excel.to_excel(path)\n",
        "\n",
        "    "
      ],
      "execution_count": 34,
      "outputs": []
    },
    {
      "cell_type": "code",
      "metadata": {
        "id": "y1A6SZEfy8lZ"
      },
      "source": [
        "####################################################################################\n",
        "####################################################################################\n",
        "#                    AVEC VARIABLES DONS\n",
        "####################################################################################\n",
        "####################################################################################"
      ],
      "execution_count": null,
      "outputs": []
    },
    {
      "cell_type": "code",
      "metadata": {
        "colab": {
          "base_uri": "https://localhost:8080/"
        },
        "id": "kjn-5SgU6RD_",
        "outputId": "b5f7c3a7-ce55-4152-c79d-44b9340644d4"
      },
      "source": [
        "# test predict individus sans classe\n",
        "data = data_orig.copy()\n",
        "# élimination des individus n'ayant pas de valeur pour la varialbe IFI+\n",
        "\"\"\"IMPORTANT\"\"\"\n",
        "data_sans_nan = data[(data.isnull()).sum(axis=1) == 0]\n",
        "\n",
        "#conversion du type de variable\n",
        "for i in range(1,data_sans_nan.shape[1]):\n",
        "    data_sans_nan.iloc[:,i]=data_sans_nan.iloc[:,i].astype(int)\n",
        "\n",
        "# base de données avec des variables corrélées et sans encodage OneHot\n",
        "data =data_sans_nan\n",
        "\n",
        "nb_var = data.shape[1] - 1\n",
        "train_set, test_set = train_test_split(data, test_size = 0.2, random_state=0 )\n",
        "\n",
        "train_X_s = (train_set.iloc[:,1:nb_var]).to_numpy()\n",
        "train_Y_s = np.asanyarray(train_set.iloc[:,nb_var])\n",
        "\n",
        "test_X_s = (test_set.iloc[:,1:nb_var]).to_numpy()\n",
        "test_Y_s = np.asanyarray(test_set.iloc[:,nb_var])\n"
      ],
      "execution_count": null,
      "outputs": [
        {
          "output_type": "stream",
          "text": [
            "/usr/local/lib/python3.7/dist-packages/pandas/core/indexing.py:1743: SettingWithCopyWarning: \n",
            "A value is trying to be set on a copy of a slice from a DataFrame.\n",
            "Try using .loc[row_indexer,col_indexer] = value instead\n",
            "\n",
            "See the caveats in the documentation: https://pandas.pydata.org/pandas-docs/stable/user_guide/indexing.html#returning-a-view-versus-a-copy\n",
            "  isetter(ilocs[0], value)\n"
          ],
          "name": "stderr"
        }
      ]
    },
    {
      "cell_type": "code",
      "metadata": {
        "colab": {
          "base_uri": "https://localhost:8080/",
          "height": 796
        },
        "id": "LeOUl5So6RHB",
        "outputId": "626714f7-8eab-4a84-c61e-e84eadf4273d"
      },
      "source": [
        "final_model_DecisionTreeClassifier = DecisionTreeClassifier(random_state = 0, criterion=\"entropy\", class_weight = \"balanced\", max_depth = 30, max_features=5, min_samples_split=0.1 )\n",
        "evaluation(final_model_DecisionTreeClassifier, train_X_s, train_Y_s, test_X_s, test_Y_s, scoring=\"recall\" )"
      ],
      "execution_count": null,
      "outputs": [
        {
          "output_type": "stream",
          "text": [
            "test set : \n",
            "[[  413    85]\n",
            " [14136 78457]]\n",
            "              precision    recall  f1-score   support\n",
            "\n",
            "           1       0.03      0.83      0.05       498\n",
            "           2       1.00      0.85      0.92     92593\n",
            "\n",
            "    accuracy                           0.85     93091\n",
            "   macro avg       0.51      0.84      0.49     93091\n",
            "weighted avg       0.99      0.85      0.91     93091\n",
            "\n",
            "train set : \n",
            "[[  1805    317]\n",
            " [ 56179 314061]]\n",
            "              precision    recall  f1-score   support\n",
            "\n",
            "           1       0.03      0.85      0.06      2122\n",
            "           2       1.00      0.85      0.92    370240\n",
            "\n",
            "    accuracy                           0.85    372362\n",
            "   macro avg       0.52      0.85      0.49    372362\n",
            "weighted avg       0.99      0.85      0.91    372362\n",
            "\n"
          ],
          "name": "stdout"
        },
        {
          "output_type": "display_data",
          "data": {
            "image/png": "[encoded data removed]",
            "text/plain": [
              "<Figure size 720x432 with 1 Axes>"
            ]
          },
          "metadata": {
            "tags": [],
            "needs_background": "light"
          }
        }
      ]
    },
    {
      "cell_type": "code",
      "metadata": {
        "colab": {
          "base_uri": "https://localhost:8080/",
          "height": 1000
        },
        "id": "QOOKzxqH6RJY",
        "outputId": "84e4d2f4-2100-4aa1-889a-7777357080d2"
      },
      "source": [
        "quarantiles(model=final_model_DecisionTreeClassifier, data_orig=data_orig, affichage=True, save=True, path = \"/content/drive/MyDrive/spad_score_method_1/avec_tranche_DecisionTreeClassifier.xlsx\")"
      ],
      "execution_count": null,
      "outputs": [
        {
          "output_type": "stream",
          "text": [
            "                 IDENT     PROBA\n",
            "75758    7575902665301  0.000000\n",
            "26772    2677301344932  0.000000\n",
            "243649  24365003952578  0.000000\n",
            "431303  43130404172552  0.000000\n",
            "431296  43129704172545  0.000000\n",
            "...                ...       ...\n",
            "278015  27801603996262  0.892176\n",
            "278014  27801503996261  0.892176\n",
            "55779    5578002089984  0.892176\n",
            "55710    5571102088840  0.892176\n",
            "484521  48452204239268  0.892176\n",
            "\n",
            "[484522 rows x 2 columns]\n",
            "0.033456    44187\n",
            "0.368623    42987\n",
            "0.801501    42106\n",
            "0.061700    39743\n",
            "0.151976    37858\n",
            "0.222079    35240\n",
            "0.085135    35114\n",
            "0.027059    31231\n",
            "0.892176    28502\n",
            "0.082680    21708\n",
            "0.117073    21437\n",
            "0.022146    19287\n",
            "0.258667    13220\n",
            "0.052689    11756\n",
            "0.265246    11481\n",
            "0.858309    10615\n",
            "0.000000    10397\n",
            "0.886319    10379\n",
            "0.155960     9543\n",
            "0.172668     3174\n",
            "0.271908     2934\n",
            "0.315999     1410\n",
            "0.490825      213\n",
            "Name: PROBA, dtype: int64\n"
          ],
          "name": "stdout"
        },
        {
          "output_type": "error",
          "ename": "ValueError",
          "evalue": "ignored",
          "traceback": [
            "\u001b[0;31m---------------------------------------------------------------------------\u001b[0m",
            "\u001b[0;31mValueError\u001b[0m                                Traceback (most recent call last)",
            "\u001b[0;32m<ipython-input-80-58deb9cf2873>\u001b[0m in \u001b[0;36m<module>\u001b[0;34m()\u001b[0m\n\u001b[0;32m----> 1\u001b[0;31m \u001b[0mquarantiles\u001b[0m\u001b[0;34m(\u001b[0m\u001b[0mmodel\u001b[0m\u001b[0;34m=\u001b[0m\u001b[0mfinal_model_DecisionTreeClassifier\u001b[0m\u001b[0;34m,\u001b[0m \u001b[0mdata_orig\u001b[0m\u001b[0;34m=\u001b[0m\u001b[0mdata_orig\u001b[0m\u001b[0;34m,\u001b[0m \u001b[0maffichage\u001b[0m\u001b[0;34m=\u001b[0m\u001b[0;32mTrue\u001b[0m\u001b[0;34m,\u001b[0m \u001b[0msave\u001b[0m\u001b[0;34m=\u001b[0m\u001b[0;32mTrue\u001b[0m\u001b[0;34m,\u001b[0m \u001b[0mpath\u001b[0m \u001b[0;34m=\u001b[0m \u001b[0;34m\"/content/drive/MyDrive/spad_score_method_1/avec_tranche_DecisionTreeClassifier.xlsx\"\u001b[0m\u001b[0;34m)\u001b[0m\u001b[0;34m\u001b[0m\u001b[0;34m\u001b[0m\u001b[0m\n\u001b[0m",
            "\u001b[0;32m<ipython-input-67-84e373858939>\u001b[0m in \u001b[0;36mquarantiles\u001b[0;34m(model, data_orig, affichage, save, path)\u001b[0m\n\u001b[1;32m     14\u001b[0m \u001b[0;34m\u001b[0m\u001b[0m\n\u001b[1;32m     15\u001b[0m     \u001b[0;31m# quarantiles\u001b[0m\u001b[0;34m\u001b[0m\u001b[0;34m\u001b[0m\u001b[0;34m\u001b[0m\u001b[0m\n\u001b[0;32m---> 16\u001b[0;31m     \u001b[0mdf_temp\u001b[0m \u001b[0;34m=\u001b[0m\u001b[0mpd\u001b[0m\u001b[0;34m.\u001b[0m\u001b[0mDataFrame\u001b[0m\u001b[0;34m(\u001b[0m \u001b[0mpd\u001b[0m\u001b[0;34m.\u001b[0m\u001b[0mqcut\u001b[0m\u001b[0;34m(\u001b[0m\u001b[0mdf_tous\u001b[0m\u001b[0;34m[\u001b[0m\u001b[0;34m'PROBA'\u001b[0m\u001b[0;34m]\u001b[0m\u001b[0;34m,\u001b[0m\u001b[0mq\u001b[0m\u001b[0;34m=\u001b[0m \u001b[0;36m40\u001b[0m\u001b[0;34m)\u001b[0m  \u001b[0;34m)\u001b[0m\u001b[0;34m\u001b[0m\u001b[0;34m\u001b[0m\u001b[0m\n\u001b[0m\u001b[1;32m     17\u001b[0m     \u001b[0mprint\u001b[0m\u001b[0;34m(\u001b[0m\u001b[0mdf_temp\u001b[0m\u001b[0;34m)\u001b[0m\u001b[0;34m\u001b[0m\u001b[0;34m\u001b[0m\u001b[0m\n\u001b[1;32m     18\u001b[0m \u001b[0;34m\u001b[0m\u001b[0m\n",
            "\u001b[0;32m/usr/local/lib/python3.7/dist-packages/pandas/core/reshape/tile.py\u001b[0m in \u001b[0;36mqcut\u001b[0;34m(x, q, labels, retbins, precision, duplicates)\u001b[0m\n\u001b[1;32m    365\u001b[0m         \u001b[0minclude_lowest\u001b[0m\u001b[0;34m=\u001b[0m\u001b[0;32mTrue\u001b[0m\u001b[0;34m,\u001b[0m\u001b[0;34m\u001b[0m\u001b[0;34m\u001b[0m\u001b[0m\n\u001b[1;32m    366\u001b[0m         \u001b[0mdtype\u001b[0m\u001b[0;34m=\u001b[0m\u001b[0mdtype\u001b[0m\u001b[0;34m,\u001b[0m\u001b[0;34m\u001b[0m\u001b[0;34m\u001b[0m\u001b[0m\n\u001b[0;32m--> 367\u001b[0;31m         \u001b[0mduplicates\u001b[0m\u001b[0;34m=\u001b[0m\u001b[0mduplicates\u001b[0m\u001b[0;34m,\u001b[0m\u001b[0;34m\u001b[0m\u001b[0;34m\u001b[0m\u001b[0m\n\u001b[0m\u001b[1;32m    368\u001b[0m     )\n\u001b[1;32m    369\u001b[0m \u001b[0;34m\u001b[0m\u001b[0m\n",
            "\u001b[0;32m/usr/local/lib/python3.7/dist-packages/pandas/core/reshape/tile.py\u001b[0m in \u001b[0;36m_bins_to_cuts\u001b[0;34m(x, bins, right, labels, precision, include_lowest, dtype, duplicates, ordered)\u001b[0m\n\u001b[1;32m    400\u001b[0m         \u001b[0;32mif\u001b[0m \u001b[0mduplicates\u001b[0m \u001b[0;34m==\u001b[0m \u001b[0;34m\"raise\"\u001b[0m\u001b[0;34m:\u001b[0m\u001b[0;34m\u001b[0m\u001b[0;34m\u001b[0m\u001b[0m\n\u001b[1;32m    401\u001b[0m             raise ValueError(\n\u001b[0;32m--> 402\u001b[0;31m                 \u001b[0;34mf\"Bin edges must be unique: {repr(bins)}.\\n\"\u001b[0m\u001b[0;34m\u001b[0m\u001b[0;34m\u001b[0m\u001b[0m\n\u001b[0m\u001b[1;32m    403\u001b[0m                 \u001b[0;34mf\"You can drop duplicate edges by setting the 'duplicates' kwarg\"\u001b[0m\u001b[0;34m\u001b[0m\u001b[0;34m\u001b[0m\u001b[0m\n\u001b[1;32m    404\u001b[0m             )\n",
            "\u001b[0;31mValueError\u001b[0m: Bin edges must be unique: array([0.        , 0.02214602, 0.02214602, 0.02705917, 0.02705917,\n       0.02705917, 0.03345643, 0.03345643, 0.03345643, 0.05268855,\n       0.06170036, 0.06170036, 0.06170036, 0.0826805 , 0.0826805 ,\n       0.08513518, 0.08513518, 0.08513518, 0.11707321, 0.11707321,\n       0.15197575, 0.15197575, 0.15197575, 0.15596023, 0.22207946,\n       0.22207946, 0.22207946, 0.25866651, 0.26524604, 0.36862327,\n       0.36862327, 0.36862327, 0.36862327, 0.80150144, 0.80150144,\n       0.80150144, 0.85830886, 0.88631859, 0.89217561, 0.89217561,\n       0.89217561]).\nYou can drop duplicate edges by setting the 'duplicates' kwarg"
          ]
        }
      ]
    },
    {
      "cell_type": "code",
      "metadata": {
        "id": "F4Awvrbn6RPn"
      },
      "source": [
        ""
      ],
      "execution_count": null,
      "outputs": []
    },
    {
      "cell_type": "code",
      "metadata": {
        "colab": {
          "base_uri": "https://localhost:8080/"
        },
        "id": "OMusiI2x6RSp",
        "outputId": "1d1c97de-6b13-4d74-e6e7-55a1dbbe6b5a"
      },
      "source": [
        ""
      ],
      "execution_count": null,
      "outputs": [
        {
          "output_type": "execute_result",
          "data": {
            "text/plain": [
              "(484522, 24)"
            ]
          },
          "metadata": {
            "tags": []
          },
          "execution_count": 27
        }
      ]
    },
    {
      "cell_type": "code",
      "metadata": {
        "id": "ErBkRIlq6RV3"
      },
      "source": [
        ""
      ],
      "execution_count": null,
      "outputs": []
    },
    {
      "cell_type": "code",
      "metadata": {
        "id": "7dj0BziE6RYP"
      },
      "source": [
        ""
      ],
      "execution_count": null,
      "outputs": []
    },
    {
      "cell_type": "code",
      "metadata": {
        "id": "lDREMR03y8nn"
      },
      "source": [
        "####################################################################################\n",
        "####################################################################################\n",
        "#                    SANS VARIABLES DONS\n",
        "####################################################################################\n",
        "####################################################################################"
      ],
      "execution_count": null,
      "outputs": []
    },
    {
      "cell_type": "code",
      "metadata": {
        "colab": {
          "base_uri": "https://localhost:8080/"
        },
        "id": "og3lDIRNy8qA",
        "outputId": "afb82962-bdbe-477d-bd75-ac0f231cc8ba"
      },
      "source": [
        "\n",
        "# test predict individus sans classe\n",
        "data = data_orig.copy()\n",
        "\n",
        "# il nous faut toutes les variables (*,24)\n",
        "print(\"dim data_orig: \",data.shape)\n",
        "\n",
        "# on élimine les variables dons\n",
        "data=data.drop([\"Annee_1er_don\", \"Cumul_dons\",\"Don_max\", \"Don_moyen\"],axis=1)\n",
        "\n",
        "# élimination des individus n'ayant pas de valeur pour la varialbe IFI+\n",
        "\"\"\"IMPORTANT\"\"\"\n",
        "data_sans_nan = data[(data.isnull()).sum(axis=1) == 0]\n",
        "\n",
        "#conversion du type de variable\n",
        "for i in range(1,data_sans_nan.shape[1]):\n",
        "    data_sans_nan.iloc[:,i]=data_sans_nan.iloc[:,i].astype(int)\n",
        "\n",
        "# base de données avec des variables corrélées et sans encodage OneHot\n",
        "data =data_sans_nan\n",
        "\n",
        "nb_var = data.shape[1] - 1\n",
        "train_set, test_set = train_test_split(data, test_size = 0.2, random_state=0 )\n",
        "\n",
        "train_X_s = (train_set.iloc[:,1:nb_var]).to_numpy()\n",
        "train_Y_s = np.asanyarray(train_set.iloc[:,nb_var])\n",
        "\n",
        "test_X_s = (test_set.iloc[:,1:nb_var]).to_numpy()\n",
        "test_Y_s = np.asanyarray(test_set.iloc[:,nb_var])"
      ],
      "execution_count": null,
      "outputs": [
        {
          "output_type": "stream",
          "text": [
            "dim data_orig:  (484522, 24)\n"
          ],
          "name": "stdout"
        },
        {
          "output_type": "stream",
          "text": [
            "/usr/local/lib/python3.7/dist-packages/pandas/core/indexing.py:1743: SettingWithCopyWarning: \n",
            "A value is trying to be set on a copy of a slice from a DataFrame.\n",
            "Try using .loc[row_indexer,col_indexer] = value instead\n",
            "\n",
            "See the caveats in the documentation: https://pandas.pydata.org/pandas-docs/stable/user_guide/indexing.html#returning-a-view-versus-a-copy\n",
            "  isetter(ilocs[0], value)\n"
          ],
          "name": "stderr"
        }
      ]
    },
    {
      "cell_type": "code",
      "metadata": {
        "colab": {
          "base_uri": "https://localhost:8080/",
          "height": 790
        },
        "id": "SC_UAP3c3PA2",
        "outputId": "8b948080-2073-467a-e082-9a57877715f7"
      },
      "source": [
        "final_model_DecisionTreeClassifier = DecisionTreeClassifier(random_state = 0, criterion=\"gini\", class_weight = \"balanced\", max_depth = 2, max_features=7, min_samples_split=0.1 )\n",
        "evaluation(final_model_DecisionTreeClassifier, train_X_s, train_Y_s, test_X_s, test_Y_s, scoring=\"recall\" )"
      ],
      "execution_count": null,
      "outputs": [
        {
          "output_type": "stream",
          "text": [
            "test set : \n",
            "[[  385   113]\n",
            " [43574 49019]]\n",
            "              precision    recall  f1-score   support\n",
            "\n",
            "           1       0.01      0.77      0.02       498\n",
            "           2       1.00      0.53      0.69     92593\n",
            "\n",
            "    accuracy                           0.53     93091\n",
            "   macro avg       0.50      0.65      0.35     93091\n",
            "weighted avg       0.99      0.53      0.69     93091\n",
            "\n",
            "train set : \n",
            "[[  1609    513]\n",
            " [174487 195753]]\n",
            "              precision    recall  f1-score   support\n",
            "\n",
            "           1       0.01      0.76      0.02      2122\n",
            "           2       1.00      0.53      0.69    370240\n",
            "\n",
            "    accuracy                           0.53    372362\n",
            "   macro avg       0.50      0.64      0.35    372362\n",
            "weighted avg       0.99      0.53      0.69    372362\n",
            "\n"
          ],
          "name": "stdout"
        },
        {
          "output_type": "display_data",
          "data": {
            "image/png": "[encoded data removed]",
            "text/plain": [
              "<Figure size 720x432 with 1 Axes>"
            ]
          },
          "metadata": {
            "tags": [],
            "needs_background": "light"
          }
        }
      ]
    },
    {
      "cell_type": "code",
      "metadata": {
        "colab": {
          "base_uri": "https://localhost:8080/",
          "height": 814
        },
        "id": "DNoxWj9a3PDM",
        "outputId": "7667108e-a55b-4d31-ce97-6e1556845588"
      },
      "source": [
        "quarantiles(model=final_model_DecisionTreeClassifier, data_orig=data_orig, affichage=True, save=True, path = \"/content/drive/MyDrive/spad_score_method_1/sans_tranche_DecisionTreeClassifier.xlsx\")"
      ],
      "execution_count": null,
      "outputs": [
        {
          "output_type": "stream",
          "text": [
            "                 IDENT     PROBA\n",
            "484521  48452204239268  0.313773\n",
            "220803  22080403910938  0.313773\n",
            "220802  22080303910937  0.313773\n",
            "220801  22080203910931  0.313773\n",
            "385988  38598904126038  0.313773\n",
            "...                ...       ...\n",
            "403417  40341804143891  0.716598\n",
            "177812  17781303634458  0.716598\n",
            "403412  40341304143886  0.716598\n",
            "177744  17774503633679  0.716598\n",
            "411434  41143504152097  0.716598\n",
            "\n",
            "[484522 rows x 2 columns]\n",
            "0.313773    308986\n",
            "0.538221    103246\n",
            "0.716598     72290\n",
            "Name: PROBA, dtype: int64\n"
          ],
          "name": "stdout"
        },
        {
          "output_type": "error",
          "ename": "ValueError",
          "evalue": "ignored",
          "traceback": [
            "\u001b[0;31m---------------------------------------------------------------------------\u001b[0m",
            "\u001b[0;31mValueError\u001b[0m                                Traceback (most recent call last)",
            "\u001b[0;32m<ipython-input-68-af9a73822986>\u001b[0m in \u001b[0;36m<module>\u001b[0;34m()\u001b[0m\n\u001b[0;32m----> 1\u001b[0;31m \u001b[0mquarantiles\u001b[0m\u001b[0;34m(\u001b[0m\u001b[0mmodel\u001b[0m\u001b[0;34m=\u001b[0m\u001b[0mfinal_model_DecisionTreeClassifier\u001b[0m\u001b[0;34m,\u001b[0m \u001b[0mdata_orig\u001b[0m\u001b[0;34m=\u001b[0m\u001b[0mdata_orig\u001b[0m\u001b[0;34m,\u001b[0m \u001b[0maffichage\u001b[0m\u001b[0;34m=\u001b[0m\u001b[0;32mTrue\u001b[0m\u001b[0;34m,\u001b[0m \u001b[0msave\u001b[0m\u001b[0;34m=\u001b[0m\u001b[0;32mTrue\u001b[0m\u001b[0;34m,\u001b[0m \u001b[0mpath\u001b[0m \u001b[0;34m=\u001b[0m \u001b[0;34m\"/content/drive/MyDrive/spad_score_method_1/sans_tranche_DecisionTreeClassifier.xlsx\"\u001b[0m\u001b[0;34m)\u001b[0m\u001b[0;34m\u001b[0m\u001b[0;34m\u001b[0m\u001b[0m\n\u001b[0m",
            "\u001b[0;32m<ipython-input-67-84e373858939>\u001b[0m in \u001b[0;36mquarantiles\u001b[0;34m(model, data_orig, affichage, save, path)\u001b[0m\n\u001b[1;32m     14\u001b[0m \u001b[0;34m\u001b[0m\u001b[0m\n\u001b[1;32m     15\u001b[0m     \u001b[0;31m# quarantiles\u001b[0m\u001b[0;34m\u001b[0m\u001b[0;34m\u001b[0m\u001b[0;34m\u001b[0m\u001b[0m\n\u001b[0;32m---> 16\u001b[0;31m     \u001b[0mdf_temp\u001b[0m \u001b[0;34m=\u001b[0m\u001b[0mpd\u001b[0m\u001b[0;34m.\u001b[0m\u001b[0mDataFrame\u001b[0m\u001b[0;34m(\u001b[0m \u001b[0mpd\u001b[0m\u001b[0;34m.\u001b[0m\u001b[0mqcut\u001b[0m\u001b[0;34m(\u001b[0m\u001b[0mdf_tous\u001b[0m\u001b[0;34m[\u001b[0m\u001b[0;34m'PROBA'\u001b[0m\u001b[0;34m]\u001b[0m\u001b[0;34m,\u001b[0m\u001b[0mq\u001b[0m\u001b[0;34m=\u001b[0m \u001b[0;36m40\u001b[0m\u001b[0;34m)\u001b[0m  \u001b[0;34m)\u001b[0m\u001b[0;34m\u001b[0m\u001b[0;34m\u001b[0m\u001b[0m\n\u001b[0m\u001b[1;32m     17\u001b[0m     \u001b[0mprint\u001b[0m\u001b[0;34m(\u001b[0m\u001b[0mdf_temp\u001b[0m\u001b[0;34m)\u001b[0m\u001b[0;34m\u001b[0m\u001b[0;34m\u001b[0m\u001b[0m\n\u001b[1;32m     18\u001b[0m \u001b[0;34m\u001b[0m\u001b[0m\n",
            "\u001b[0;32m/usr/local/lib/python3.7/dist-packages/pandas/core/reshape/tile.py\u001b[0m in \u001b[0;36mqcut\u001b[0;34m(x, q, labels, retbins, precision, duplicates)\u001b[0m\n\u001b[1;32m    365\u001b[0m         \u001b[0minclude_lowest\u001b[0m\u001b[0;34m=\u001b[0m\u001b[0;32mTrue\u001b[0m\u001b[0;34m,\u001b[0m\u001b[0;34m\u001b[0m\u001b[0;34m\u001b[0m\u001b[0m\n\u001b[1;32m    366\u001b[0m         \u001b[0mdtype\u001b[0m\u001b[0;34m=\u001b[0m\u001b[0mdtype\u001b[0m\u001b[0;34m,\u001b[0m\u001b[0;34m\u001b[0m\u001b[0;34m\u001b[0m\u001b[0m\n\u001b[0;32m--> 367\u001b[0;31m         \u001b[0mduplicates\u001b[0m\u001b[0;34m=\u001b[0m\u001b[0mduplicates\u001b[0m\u001b[0;34m,\u001b[0m\u001b[0;34m\u001b[0m\u001b[0;34m\u001b[0m\u001b[0m\n\u001b[0m\u001b[1;32m    368\u001b[0m     )\n\u001b[1;32m    369\u001b[0m \u001b[0;34m\u001b[0m\u001b[0m\n",
            "\u001b[0;32m/usr/local/lib/python3.7/dist-packages/pandas/core/reshape/tile.py\u001b[0m in \u001b[0;36m_bins_to_cuts\u001b[0;34m(x, bins, right, labels, precision, include_lowest, dtype, duplicates, ordered)\u001b[0m\n\u001b[1;32m    400\u001b[0m         \u001b[0;32mif\u001b[0m \u001b[0mduplicates\u001b[0m \u001b[0;34m==\u001b[0m \u001b[0;34m\"raise\"\u001b[0m\u001b[0;34m:\u001b[0m\u001b[0;34m\u001b[0m\u001b[0;34m\u001b[0m\u001b[0m\n\u001b[1;32m    401\u001b[0m             raise ValueError(\n\u001b[0;32m--> 402\u001b[0;31m                 \u001b[0;34mf\"Bin edges must be unique: {repr(bins)}.\\n\"\u001b[0m\u001b[0;34m\u001b[0m\u001b[0;34m\u001b[0m\u001b[0m\n\u001b[0m\u001b[1;32m    403\u001b[0m                 \u001b[0;34mf\"You can drop duplicate edges by setting the 'duplicates' kwarg\"\u001b[0m\u001b[0;34m\u001b[0m\u001b[0;34m\u001b[0m\u001b[0m\n\u001b[1;32m    404\u001b[0m             )\n",
            "\u001b[0;31mValueError\u001b[0m: Bin edges must be unique: array([0.31377257, 0.31377257, 0.31377257, 0.31377257, 0.31377257,\n       0.31377257, 0.31377257, 0.31377257, 0.31377257, 0.31377257,\n       0.31377257, 0.31377257, 0.31377257, 0.31377257, 0.31377257,\n       0.31377257, 0.31377257, 0.31377257, 0.31377257, 0.31377257,\n       0.31377257, 0.31377257, 0.31377257, 0.31377257, 0.31377257,\n       0.31377257, 0.53822109, 0.53822109, 0.53822109, 0.53822109,\n       0.53822109, 0.53822109, 0.53822109, 0.53822109, 0.53822109,\n       0.71659816, 0.71659816, 0.71659816, 0.71659816, 0.71659816,\n       0.71659816]).\nYou can drop duplicate edges by setting the 'duplicates' kwarg"
          ]
        }
      ]
    },
    {
      "cell_type": "code",
      "metadata": {
        "id": "aqhZEqvp3PFj"
      },
      "source": [
        ""
      ],
      "execution_count": null,
      "outputs": []
    },
    {
      "cell_type": "code",
      "metadata": {
        "id": "1y7a7EMEy8sK"
      },
      "source": [
        "###################################################################################################################@\n",
        "###################################################################################################################@\n",
        "#                                                AVEC VARIABLES QUALITATIVES\n",
        "###################################################################################################################@\n",
        "###################################################################################################################@"
      ],
      "execution_count": null,
      "outputs": []
    },
    {
      "cell_type": "code",
      "metadata": {
        "id": "mUd1R_rjy8ut",
        "colab": {
          "base_uri": "https://localhost:8080/"
        },
        "outputId": "d1a0a377-0042-46b7-c52c-c02412d128f6"
      },
      "source": [
        "# test predict individus sans classe\n",
        "data = data_orig.copy()\n",
        "\n",
        "# encodage Onehot sur toutes les données (on évite ainsi les erreurs futures)\n",
        "nb_var = data.shape[1] - 1\n",
        "encodage = OneHotEncoder()\n",
        "encodage.fit(data_processing(data.iloc[:,1:nb_var]))\n",
        "\n",
        "#data_quali = pd.DataFrame()\n",
        "#data_quali[\"IDENT\"]=\n",
        "\n",
        "# élimination des individus n'ayant pas de valeur pour la varialbe IFI+\n",
        "\"\"\"IMPORTANT\"\"\"\n",
        "data_sans_nan = data[(data.isnull()).sum(axis=1) == 0]\n",
        "\n",
        "#conversion du type de variable\n",
        "for i in range(1,data_sans_nan.shape[1]):\n",
        "    data_sans_nan.iloc[:,i]=data_sans_nan.iloc[:,i].astype(int)\n",
        "\n",
        "# base de données avec des variables corrélées et avec encodage OneHot\n",
        "data =data_sans_nan\n",
        "\n",
        "nb_var = data.shape[1] - 1\n",
        "train_set, test_set = train_test_split(data, test_size = 0.2, random_state=0 )\n",
        "\n",
        "train_X_s = encodage.transform(data_processing(train_set.iloc[:,1:nb_var])).toarray()\n",
        "train_Y_s = np.asanyarray(train_set.iloc[:,nb_var])\n",
        "\n",
        "test_X_s = encodage.transform(data_processing(test_set.iloc[:,1:nb_var])).toarray()\n",
        "test_Y_s = np.asanyarray(test_set.iloc[:,nb_var])\n",
        "\n"
      ],
      "execution_count": 44,
      "outputs": [
        {
          "output_type": "stream",
          "text": [
            "/usr/local/lib/python3.7/dist-packages/pandas/core/indexing.py:1743: SettingWithCopyWarning: \n",
            "A value is trying to be set on a copy of a slice from a DataFrame.\n",
            "Try using .loc[row_indexer,col_indexer] = value instead\n",
            "\n",
            "See the caveats in the documentation: https://pandas.pydata.org/pandas-docs/stable/user_guide/indexing.html#returning-a-view-versus-a-copy\n",
            "  isetter(ilocs[0], value)\n",
            "/usr/local/lib/python3.7/dist-packages/ipykernel_launcher.py:73: SettingWithCopyWarning: \n",
            "A value is trying to be set on a copy of a slice from a DataFrame.\n",
            "Try using .loc[row_indexer,col_indexer] = value instead\n",
            "\n",
            "See the caveats in the documentation: https://pandas.pydata.org/pandas-docs/stable/user_guide/indexing.html#returning-a-view-versus-a-copy\n",
            "/usr/local/lib/python3.7/dist-packages/ipykernel_launcher.py:73: SettingWithCopyWarning: \n",
            "A value is trying to be set on a copy of a slice from a DataFrame.\n",
            "Try using .loc[row_indexer,col_indexer] = value instead\n",
            "\n",
            "See the caveats in the documentation: https://pandas.pydata.org/pandas-docs/stable/user_guide/indexing.html#returning-a-view-versus-a-copy\n"
          ],
          "name": "stderr"
        }
      ]
    },
    {
      "cell_type": "code",
      "metadata": {
        "id": "ABAezkZly8x4",
        "colab": {
          "base_uri": "https://localhost:8080/"
        },
        "outputId": "8fde96c5-da51-4366-baa1-2fcaca3b6298"
      },
      "source": [
        "\n",
        "model_DecisionTreeClassifier = DecisionTreeClassifier(random_state = 0, class_weight = \"balanced\" )\n",
        "param = { 'max_depth' :list(range(2,30)), 'criterion': [\"gini\", \"entropy\"], 'max_features' : [10,16,20],\n",
        "         'min_samples_split' : np.linspace(0.1, 1.0, 5) }\n",
        "\n",
        "grid_DecisionTreeClassifier = GridSearchCV(model_DecisionTreeClassifier, param_grid= param, cv = 4, scoring = \"recall\")\n",
        "resultat_grid_DecisionTreeClassifier = grid_DecisionTreeClassifier.fit(train_X_s, train_Y_s)\n",
        "resultat_grid_DecisionTreeClassifier.best_params_"
      ],
      "execution_count": 31,
      "outputs": [
        {
          "output_type": "execute_result",
          "data": {
            "text/plain": [
              "{'criterion': 'gini',\n",
              " 'max_depth': 2,\n",
              " 'max_features': 10,\n",
              " 'min_samples_split': 1.0}"
            ]
          },
          "metadata": {
            "tags": []
          },
          "execution_count": 31
        }
      ]
    },
    {
      "cell_type": "code",
      "metadata": {
        "id": "-l2c0Xcsy80R",
        "colab": {
          "base_uri": "https://localhost:8080/",
          "height": 796
        },
        "outputId": "bea42e29-36b3-463f-fcf2-0ad8705cc248"
      },
      "source": [
        "final_model_DecisionTreeClassifier = DecisionTreeClassifier(random_state = 0, criterion=\"gini\", class_weight = \"balanced\", max_depth = 2, max_features=10, min_samples_split=0.1 )\n",
        "evaluation(final_model_DecisionTreeClassifier, train_X_s, train_Y_s, test_X_s, test_Y_s, scoring=\"recall\" )"
      ],
      "execution_count": 32,
      "outputs": [
        {
          "output_type": "stream",
          "text": [
            "test set : \n",
            "[[  400    98]\n",
            " [54774 37819]]\n",
            "              precision    recall  f1-score   support\n",
            "\n",
            "           1       0.01      0.80      0.01       498\n",
            "           2       1.00      0.41      0.58     92593\n",
            "\n",
            "    accuracy                           0.41     93091\n",
            "   macro avg       0.50      0.61      0.30     93091\n",
            "weighted avg       0.99      0.41      0.58     93091\n",
            "\n",
            "train set : \n",
            "[[  1700    422]\n",
            " [219023 151217]]\n",
            "              precision    recall  f1-score   support\n",
            "\n",
            "           1       0.01      0.80      0.02      2122\n",
            "           2       1.00      0.41      0.58    370240\n",
            "\n",
            "    accuracy                           0.41    372362\n",
            "   macro avg       0.50      0.60      0.30    372362\n",
            "weighted avg       0.99      0.41      0.58    372362\n",
            "\n"
          ],
          "name": "stdout"
        },
        {
          "output_type": "display_data",
          "data": {
            "image/png": "[encoded data removed]",
            "text/plain": [
              "<Figure size 720x432 with 1 Axes>"
            ]
          },
          "metadata": {
            "tags": [],
            "needs_background": "light"
          }
        }
      ]
    },
    {
      "cell_type": "code",
      "metadata": {
        "colab": {
          "base_uri": "https://localhost:8080/",
          "height": 419
        },
        "id": "LW3j2o6c0DgA",
        "outputId": "4f70ef8c-56a7-469e-a12c-67f11a9d086d"
      },
      "source": [
        "#importance des variables\n",
        "#impVarFirst={\"Variable\":data.columns[1:-1],\"Importance\":final_model_DecisionTreeClassifier.feature_importances_}\n",
        "impVarFirst={\"Importance\":final_model_DecisionTreeClassifier.feature_importances_}\n",
        "pd.DataFrame(impVarFirst).sort_values(by=\"Importance\",ascending=False)"
      ],
      "execution_count": 47,
      "outputs": [
        {
          "output_type": "execute_result",
          "data": {
            "text/html": [
              "<div>\n",
              "<style scoped>\n",
              "    .dataframe tbody tr th:only-of-type {\n",
              "        vertical-align: middle;\n",
              "    }\n",
              "\n",
              "    .dataframe tbody tr th {\n",
              "        vertical-align: top;\n",
              "    }\n",
              "\n",
              "    .dataframe thead th {\n",
              "        text-align: right;\n",
              "    }\n",
              "</style>\n",
              "<table border=\"1\" class=\"dataframe\">\n",
              "  <thead>\n",
              "    <tr style=\"text-align: right;\">\n",
              "      <th></th>\n",
              "      <th>Importance</th>\n",
              "    </tr>\n",
              "  </thead>\n",
              "  <tbody>\n",
              "    <tr>\n",
              "      <th>217</th>\n",
              "      <td>0.908653</td>\n",
              "    </tr>\n",
              "    <tr>\n",
              "      <th>165</th>\n",
              "      <td>0.089904</td>\n",
              "    </tr>\n",
              "    <tr>\n",
              "      <th>53</th>\n",
              "      <td>0.001443</td>\n",
              "    </tr>\n",
              "    <tr>\n",
              "      <th>173</th>\n",
              "      <td>0.000000</td>\n",
              "    </tr>\n",
              "    <tr>\n",
              "      <th>177</th>\n",
              "      <td>0.000000</td>\n",
              "    </tr>\n",
              "    <tr>\n",
              "      <th>...</th>\n",
              "      <td>...</td>\n",
              "    </tr>\n",
              "    <tr>\n",
              "      <th>92</th>\n",
              "      <td>0.000000</td>\n",
              "    </tr>\n",
              "    <tr>\n",
              "      <th>93</th>\n",
              "      <td>0.000000</td>\n",
              "    </tr>\n",
              "    <tr>\n",
              "      <th>94</th>\n",
              "      <td>0.000000</td>\n",
              "    </tr>\n",
              "    <tr>\n",
              "      <th>95</th>\n",
              "      <td>0.000000</td>\n",
              "    </tr>\n",
              "    <tr>\n",
              "      <th>260</th>\n",
              "      <td>0.000000</td>\n",
              "    </tr>\n",
              "  </tbody>\n",
              "</table>\n",
              "<p>261 rows × 1 columns</p>\n",
              "</div>"
            ],
            "text/plain": [
              "     Importance\n",
              "217    0.908653\n",
              "165    0.089904\n",
              "53     0.001443\n",
              "173    0.000000\n",
              "177    0.000000\n",
              "..          ...\n",
              "92     0.000000\n",
              "93     0.000000\n",
              "94     0.000000\n",
              "95     0.000000\n",
              "260    0.000000\n",
              "\n",
              "[261 rows x 1 columns]"
            ]
          },
          "metadata": {
            "tags": []
          },
          "execution_count": 47
        }
      ]
    },
    {
      "cell_type": "code",
      "metadata": {
        "id": "z0WdTAxS0Diu"
      },
      "source": [
        ""
      ],
      "execution_count": null,
      "outputs": []
    },
    {
      "cell_type": "code",
      "metadata": {
        "colab": {
          "base_uri": "https://localhost:8080/",
          "height": 331
        },
        "id": "J52cmPadw-cB",
        "outputId": "eb7c825d-e8b3-4f77-bd2a-5dab99eaf97a"
      },
      "source": [
        "quarantiles(model=final_model_DecisionTreeClassifier, data_orig=data_orig, affichage=True, save=False, path = \"/content/drive/MyDrive/spad_score_method_1/avec_tranche_DecisionTreeClassifier.xlsx\")"
      ],
      "execution_count": 35,
      "outputs": [
        {
          "output_type": "error",
          "ename": "ValueError",
          "evalue": "ignored",
          "traceback": [
            "\u001b[0;31m---------------------------------------------------------------------------\u001b[0m",
            "\u001b[0;31mValueError\u001b[0m                                Traceback (most recent call last)",
            "\u001b[0;32m<ipython-input-35-af326ff9e831>\u001b[0m in \u001b[0;36m<module>\u001b[0;34m()\u001b[0m\n\u001b[0;32m----> 1\u001b[0;31m \u001b[0mquarantiles\u001b[0m\u001b[0;34m(\u001b[0m\u001b[0mmodel\u001b[0m\u001b[0;34m=\u001b[0m\u001b[0mfinal_model_DecisionTreeClassifier\u001b[0m\u001b[0;34m,\u001b[0m \u001b[0mdata_orig\u001b[0m\u001b[0;34m=\u001b[0m\u001b[0mdata_orig\u001b[0m\u001b[0;34m,\u001b[0m \u001b[0maffichage\u001b[0m\u001b[0;34m=\u001b[0m\u001b[0;32mTrue\u001b[0m\u001b[0;34m,\u001b[0m \u001b[0msave\u001b[0m\u001b[0;34m=\u001b[0m\u001b[0;32mFalse\u001b[0m\u001b[0;34m,\u001b[0m \u001b[0mpath\u001b[0m \u001b[0;34m=\u001b[0m \u001b[0;34m\"/content/drive/MyDrive/spad_score_method_1/avec_tranche_DecisionTreeClassifier.xlsx\"\u001b[0m\u001b[0;34m)\u001b[0m\u001b[0;34m\u001b[0m\u001b[0;34m\u001b[0m\u001b[0m\n\u001b[0m",
            "\u001b[0;32m<ipython-input-34-26014f774a3c>\u001b[0m in \u001b[0;36mquarantiles\u001b[0;34m(model, data_orig, affichage, save, path)\u001b[0m\n\u001b[1;32m      4\u001b[0m \u001b[0;34m\u001b[0m\u001b[0m\n\u001b[1;32m      5\u001b[0m     \u001b[0;31m# predict sur tous les individus (avec et sans classe IFI+)\u001b[0m\u001b[0;34m\u001b[0m\u001b[0;34m\u001b[0m\u001b[0;34m\u001b[0m\u001b[0m\n\u001b[0;32m----> 6\u001b[0;31m     \u001b[0mtous_probas\u001b[0m \u001b[0;34m=\u001b[0m \u001b[0mmodel\u001b[0m\u001b[0;34m.\u001b[0m\u001b[0mpredict_proba\u001b[0m\u001b[0;34m(\u001b[0m\u001b[0mdata_orig\u001b[0m\u001b[0;34m.\u001b[0m\u001b[0miloc\u001b[0m\u001b[0;34m[\u001b[0m\u001b[0;34m:\u001b[0m\u001b[0;34m,\u001b[0m\u001b[0;36m1\u001b[0m\u001b[0;34m:\u001b[0m\u001b[0mnb_var\u001b[0m\u001b[0;34m]\u001b[0m\u001b[0;34m)\u001b[0m\u001b[0;34m\u001b[0m\u001b[0;34m\u001b[0m\u001b[0m\n\u001b[0m\u001b[1;32m      7\u001b[0m     \u001b[0mdf_tous\u001b[0m \u001b[0;34m=\u001b[0m \u001b[0mpd\u001b[0m\u001b[0;34m.\u001b[0m\u001b[0mDataFrame\u001b[0m\u001b[0;34m(\u001b[0m\u001b[0;34m{\u001b[0m\u001b[0;34m'IDENT'\u001b[0m\u001b[0;34m:\u001b[0m \u001b[0mdata_orig\u001b[0m\u001b[0;34m.\u001b[0m\u001b[0miloc\u001b[0m\u001b[0;34m[\u001b[0m\u001b[0;34m:\u001b[0m\u001b[0;34m,\u001b[0m\u001b[0;36m0\u001b[0m\u001b[0;34m]\u001b[0m \u001b[0;34m,\u001b[0m \u001b[0;34m'PROBA'\u001b[0m\u001b[0;34m:\u001b[0m \u001b[0mtous_probas\u001b[0m\u001b[0;34m[\u001b[0m\u001b[0;34m:\u001b[0m\u001b[0;34m,\u001b[0m\u001b[0;36m0\u001b[0m\u001b[0;34m]\u001b[0m \u001b[0;34m}\u001b[0m\u001b[0;34m)\u001b[0m\u001b[0;34m\u001b[0m\u001b[0;34m\u001b[0m\u001b[0m\n\u001b[1;32m      8\u001b[0m     \u001b[0;31m#df_tous\u001b[0m\u001b[0;34m\u001b[0m\u001b[0;34m\u001b[0m\u001b[0;34m\u001b[0m\u001b[0m\n",
            "\u001b[0;32m/usr/local/lib/python3.7/dist-packages/sklearn/tree/_classes.py\u001b[0m in \u001b[0;36mpredict_proba\u001b[0;34m(self, X, check_input)\u001b[0m\n\u001b[1;32m    903\u001b[0m         \"\"\"\n\u001b[1;32m    904\u001b[0m         \u001b[0mcheck_is_fitted\u001b[0m\u001b[0;34m(\u001b[0m\u001b[0mself\u001b[0m\u001b[0;34m)\u001b[0m\u001b[0;34m\u001b[0m\u001b[0;34m\u001b[0m\u001b[0m\n\u001b[0;32m--> 905\u001b[0;31m         \u001b[0mX\u001b[0m \u001b[0;34m=\u001b[0m \u001b[0mself\u001b[0m\u001b[0;34m.\u001b[0m\u001b[0m_validate_X_predict\u001b[0m\u001b[0;34m(\u001b[0m\u001b[0mX\u001b[0m\u001b[0;34m,\u001b[0m \u001b[0mcheck_input\u001b[0m\u001b[0;34m)\u001b[0m\u001b[0;34m\u001b[0m\u001b[0;34m\u001b[0m\u001b[0m\n\u001b[0m\u001b[1;32m    906\u001b[0m         \u001b[0mproba\u001b[0m \u001b[0;34m=\u001b[0m \u001b[0mself\u001b[0m\u001b[0;34m.\u001b[0m\u001b[0mtree_\u001b[0m\u001b[0;34m.\u001b[0m\u001b[0mpredict\u001b[0m\u001b[0;34m(\u001b[0m\u001b[0mX\u001b[0m\u001b[0;34m)\u001b[0m\u001b[0;34m\u001b[0m\u001b[0;34m\u001b[0m\u001b[0m\n\u001b[1;32m    907\u001b[0m \u001b[0;34m\u001b[0m\u001b[0m\n",
            "\u001b[0;32m/usr/local/lib/python3.7/dist-packages/sklearn/tree/_classes.py\u001b[0m in \u001b[0;36m_validate_X_predict\u001b[0;34m(self, X, check_input)\u001b[0m\n\u001b[1;32m    389\u001b[0m                              \u001b[0;34m\"match the input. Model n_features is %s and \"\u001b[0m\u001b[0;34m\u001b[0m\u001b[0;34m\u001b[0m\u001b[0m\n\u001b[1;32m    390\u001b[0m                              \u001b[0;34m\"input n_features is %s \"\u001b[0m\u001b[0;34m\u001b[0m\u001b[0;34m\u001b[0m\u001b[0m\n\u001b[0;32m--> 391\u001b[0;31m                              % (self.n_features_, n_features))\n\u001b[0m\u001b[1;32m    392\u001b[0m \u001b[0;34m\u001b[0m\u001b[0m\n\u001b[1;32m    393\u001b[0m         \u001b[0;32mreturn\u001b[0m \u001b[0mX\u001b[0m\u001b[0;34m\u001b[0m\u001b[0;34m\u001b[0m\u001b[0m\n",
            "\u001b[0;31mValueError\u001b[0m: Number of features of the model must match the input. Model n_features is 261 and input n_features is 22 "
          ]
        }
      ]
    },
    {
      "cell_type": "code",
      "metadata": {
        "id": "gqyJs2dBw-ev"
      },
      "source": [
        ""
      ],
      "execution_count": 37,
      "outputs": []
    },
    {
      "cell_type": "code",
      "metadata": {
        "colab": {
          "base_uri": "https://localhost:8080/"
        },
        "id": "Gw57PtFzw-hN",
        "outputId": "5af310cf-c6eb-45ee-f529-bffee57df3c6"
      },
      "source": [
        "encodage.transform(data_processing(data_orig.iloc[:,1:nb_var])).toarray().shape"
      ],
      "execution_count": 45,
      "outputs": [
        {
          "output_type": "execute_result",
          "data": {
            "text/plain": [
              "(484522, 261)"
            ]
          },
          "metadata": {
            "tags": []
          },
          "execution_count": 45
        }
      ]
    },
    {
      "cell_type": "code",
      "metadata": {
        "id": "tmIEYJL6w-jV"
      },
      "source": [
        ""
      ],
      "execution_count": null,
      "outputs": []
    },
    {
      "cell_type": "code",
      "metadata": {
        "id": "UFHNZJ_JJV-D"
      },
      "source": [
        "####################################################################################################################\n",
        "# EN-DESSOUS A EFFACER"
      ],
      "execution_count": null,
      "outputs": []
    },
    {
      "cell_type": "code",
      "metadata": {
        "colab": {
          "base_uri": "https://localhost:8080/"
        },
        "id": "l7xs_UL_L9ys",
        "outputId": "9165404a-0160-45f6-cbdf-47de66083c05"
      },
      "source": [
        "from sklearn.utils import class_weight\n",
        "class_weights = class_weight.compute_class_weight('balanced',\n",
        "                                                 np.unique(train_Y_s),\n",
        "                                                 train_Y_s)\n",
        "class_weights"
      ],
      "execution_count": null,
      "outputs": [
        {
          "output_type": "execute_result",
          "data": {
            "text/plain": [
              "array([87.73845429,  0.50286571])"
            ]
          },
          "metadata": {
            "tags": []
          },
          "execution_count": 32
        }
      ]
    },
    {
      "cell_type": "code",
      "metadata": {
        "colab": {
          "base_uri": "https://localhost:8080/"
        },
        "id": "wkXpQq9NL91E",
        "outputId": "729f741a-9b14-4734-f2b5-f26985eecbe0"
      },
      "source": [
        " 462833/2620"
      ],
      "execution_count": null,
      "outputs": [
        {
          "output_type": "execute_result",
          "data": {
            "text/plain": [
              "176.65381679389313"
            ]
          },
          "metadata": {
            "tags": []
          },
          "execution_count": 20
        }
      ]
    },
    {
      "cell_type": "code",
      "metadata": {
        "colab": {
          "base_uri": "https://localhost:8080/"
        },
        "id": "ayZ8KPqtZYTH",
        "outputId": "92f61886-bc81-4795-b97a-6672f9cf1963"
      },
      "source": [
        "1/0.50286571"
      ],
      "execution_count": null,
      "outputs": [
        {
          "output_type": "execute_result",
          "data": {
            "text/plain": [
              "1.988602483951431"
            ]
          },
          "metadata": {
            "tags": []
          },
          "execution_count": 33
        }
      ]
    },
    {
      "cell_type": "code",
      "metadata": {
        "colab": {
          "base_uri": "https://localhost:8080/"
        },
        "id": "cBewGEUcdPCf",
        "outputId": "c89ef9dc-e359-495f-b80c-c5db83286a65"
      },
      "source": [
        "87.73845429*1.988602483951431"
      ],
      "execution_count": null,
      "outputs": [
        {
          "output_type": "execute_result",
          "data": {
            "text/plain": [
              "174.4769081391531"
            ]
          },
          "metadata": {
            "tags": []
          },
          "execution_count": 34
        }
      ]
    },
    {
      "cell_type": "code",
      "metadata": {
        "colab": {
          "base_uri": "https://localhost:8080/"
        },
        "id": "tPpwP15RdQwe",
        "outputId": "88bc42f1-a4fc-41c0-e393-bcc6878fb74e"
      },
      "source": [
        "np.linspace(0.1, 1.0, 5)#, endpoint=True) "
      ],
      "execution_count": null,
      "outputs": [
        {
          "output_type": "execute_result",
          "data": {
            "text/plain": [
              "array([0.1  , 0.325, 0.55 , 0.775, 1.   ])"
            ]
          },
          "metadata": {
            "tags": []
          },
          "execution_count": 54
        }
      ]
    },
    {
      "cell_type": "code",
      "metadata": {
        "id": "A_kccR0hVIEN"
      },
      "source": [
        ""
      ],
      "execution_count": null,
      "outputs": []
    },
    {
      "cell_type": "code",
      "metadata": {
        "id": "4aWPzW18JPOA"
      },
      "source": [
        "2122/372362 "
      ],
      "execution_count": null,
      "outputs": []
    },
    {
      "cell_type": "code",
      "metadata": {
        "id": "YB3f-ixfMDL1"
      },
      "source": [
        "2620/484522"
      ],
      "execution_count": null,
      "outputs": []
    },
    {
      "cell_type": "code",
      "metadata": {
        "id": "CikBMmfC6gCC"
      },
      "source": [
        "import numpy as np"
      ],
      "execution_count": null,
      "outputs": []
    },
    {
      "cell_type": "code",
      "metadata": {
        "colab": {
          "base_uri": "https://localhost:8080/"
        },
        "id": "MId6Z8V06ikZ",
        "outputId": "be5717d1-2101-49ea-c73f-0924ebd45b2a"
      },
      "source": [
        "np.linspace(0.1, 1, 6)"
      ],
      "execution_count": null,
      "outputs": [
        {
          "output_type": "execute_result",
          "data": {
            "text/plain": [
              "array([0.1 , 0.28, 0.46, 0.64, 0.82, 1.  ])"
            ]
          },
          "metadata": {
            "tags": []
          },
          "execution_count": 3
        }
      ]
    },
    {
      "cell_type": "code",
      "metadata": {
        "colab": {
          "base_uri": "https://localhost:8080/"
        },
        "id": "ojoc4PQHoLYq",
        "outputId": "4496d4fb-25b8-49c5-b0f4-ed64dd1c5635"
      },
      "source": [
        "np.linspace(0.1, 1, 10)"
      ],
      "execution_count": null,
      "outputs": [
        {
          "output_type": "execute_result",
          "data": {
            "text/plain": [
              "array([0.1, 0.2, 0.3, 0.4, 0.5, 0.6, 0.7, 0.8, 0.9, 1. ])"
            ]
          },
          "metadata": {
            "tags": []
          },
          "execution_count": 4
        }
      ]
    },
    {
      "cell_type": "code",
      "metadata": {
        "colab": {
          "base_uri": "https://localhost:8080/"
        },
        "id": "UkSRNSnnoQD-",
        "outputId": "9957a9b3-f0c1-4169-d5a2-f2a66f4a26c9"
      },
      "source": [
        "372362*0.82"
      ],
      "execution_count": null,
      "outputs": [
        {
          "output_type": "execute_result",
          "data": {
            "text/plain": [
              "305336.83999999997"
            ]
          },
          "metadata": {
            "tags": []
          },
          "execution_count": 24
        }
      ]
    },
    {
      "cell_type": "code",
      "metadata": {
        "colab": {
          "base_uri": "https://localhost:8080/"
        },
        "id": "eS3xAU4Uobih",
        "outputId": "962ad8ac-ca10-4cf5-d912-36516c810fdc"
      },
      "source": [
        "465453*0.64"
      ],
      "execution_count": null,
      "outputs": [
        {
          "output_type": "execute_result",
          "data": {
            "text/plain": [
              "310094.08"
            ]
          },
          "metadata": {
            "tags": []
          },
          "execution_count": 7
        }
      ]
    },
    {
      "cell_type": "code",
      "metadata": {
        "colab": {
          "base_uri": "https://localhost:8080/"
        },
        "id": "2_pQUvS1okFd",
        "outputId": "0a6825c2-cb31-47b8-df30-076288a65a82"
      },
      "source": [
        "279271/465453 "
      ],
      "execution_count": null,
      "outputs": [
        {
          "output_type": "execute_result",
          "data": {
            "text/plain": [
              "0.5999982812442932"
            ]
          },
          "metadata": {
            "tags": []
          },
          "execution_count": 20
        }
      ]
    },
    {
      "cell_type": "code",
      "metadata": {
        "colab": {
          "base_uri": "https://localhost:8080/"
        },
        "id": "Lw04OxadopsH",
        "outputId": "a7d54b34-2910-4e63-d7cf-09234a143308"
      },
      "source": [
        "372362*3/4"
      ],
      "execution_count": null,
      "outputs": [
        {
          "output_type": "execute_result",
          "data": {
            "text/plain": [
              "279271.5"
            ]
          },
          "metadata": {
            "tags": []
          },
          "execution_count": 25
        }
      ]
    },
    {
      "cell_type": "code",
      "metadata": {
        "id": "MR0w0oNasfXp"
      },
      "source": [
        "df = pd.DataFrame({'A': ['a', 'b', 'a'], 'B': ['b', 'a', 'c'],\n",
        "                   'C': ['3', '1', '4']})"
      ],
      "execution_count": 97,
      "outputs": []
    },
    {
      "cell_type": "code",
      "metadata": {
        "colab": {
          "base_uri": "https://localhost:8080/",
          "height": 142
        },
        "id": "hErT2pK5E5c6",
        "outputId": "7ffdcd13-706a-4587-e112-a72fe95a1ff6"
      },
      "source": [
        "df"
      ],
      "execution_count": 98,
      "outputs": [
        {
          "output_type": "execute_result",
          "data": {
            "text/html": [
              "<div>\n",
              "<style scoped>\n",
              "    .dataframe tbody tr th:only-of-type {\n",
              "        vertical-align: middle;\n",
              "    }\n",
              "\n",
              "    .dataframe tbody tr th {\n",
              "        vertical-align: top;\n",
              "    }\n",
              "\n",
              "    .dataframe thead th {\n",
              "        text-align: right;\n",
              "    }\n",
              "</style>\n",
              "<table border=\"1\" class=\"dataframe\">\n",
              "  <thead>\n",
              "    <tr style=\"text-align: right;\">\n",
              "      <th></th>\n",
              "      <th>A</th>\n",
              "      <th>B</th>\n",
              "      <th>C</th>\n",
              "    </tr>\n",
              "  </thead>\n",
              "  <tbody>\n",
              "    <tr>\n",
              "      <th>0</th>\n",
              "      <td>a</td>\n",
              "      <td>b</td>\n",
              "      <td>3</td>\n",
              "    </tr>\n",
              "    <tr>\n",
              "      <th>1</th>\n",
              "      <td>b</td>\n",
              "      <td>a</td>\n",
              "      <td>1</td>\n",
              "    </tr>\n",
              "    <tr>\n",
              "      <th>2</th>\n",
              "      <td>a</td>\n",
              "      <td>c</td>\n",
              "      <td>4</td>\n",
              "    </tr>\n",
              "  </tbody>\n",
              "</table>\n",
              "</div>"
            ],
            "text/plain": [
              "   A  B  C\n",
              "0  a  b  3\n",
              "1  b  a  1\n",
              "2  a  c  4"
            ]
          },
          "metadata": {
            "tags": []
          },
          "execution_count": 98
        }
      ]
    },
    {
      "cell_type": "code",
      "metadata": {
        "colab": {
          "base_uri": "https://localhost:8080/",
          "height": 142
        },
        "id": "4TyCOY0dD_PF",
        "outputId": "eff653a8-cd3f-427c-a6d0-d436e145e9e1"
      },
      "source": [
        "pd.get_dummies(df)"
      ],
      "execution_count": 99,
      "outputs": [
        {
          "output_type": "execute_result",
          "data": {
            "text/html": [
              "<div>\n",
              "<style scoped>\n",
              "    .dataframe tbody tr th:only-of-type {\n",
              "        vertical-align: middle;\n",
              "    }\n",
              "\n",
              "    .dataframe tbody tr th {\n",
              "        vertical-align: top;\n",
              "    }\n",
              "\n",
              "    .dataframe thead th {\n",
              "        text-align: right;\n",
              "    }\n",
              "</style>\n",
              "<table border=\"1\" class=\"dataframe\">\n",
              "  <thead>\n",
              "    <tr style=\"text-align: right;\">\n",
              "      <th></th>\n",
              "      <th>A_a</th>\n",
              "      <th>A_b</th>\n",
              "      <th>B_a</th>\n",
              "      <th>B_b</th>\n",
              "      <th>B_c</th>\n",
              "      <th>C_1</th>\n",
              "      <th>C_3</th>\n",
              "      <th>C_4</th>\n",
              "    </tr>\n",
              "  </thead>\n",
              "  <tbody>\n",
              "    <tr>\n",
              "      <th>0</th>\n",
              "      <td>1</td>\n",
              "      <td>0</td>\n",
              "      <td>0</td>\n",
              "      <td>1</td>\n",
              "      <td>0</td>\n",
              "      <td>0</td>\n",
              "      <td>1</td>\n",
              "      <td>0</td>\n",
              "    </tr>\n",
              "    <tr>\n",
              "      <th>1</th>\n",
              "      <td>0</td>\n",
              "      <td>1</td>\n",
              "      <td>1</td>\n",
              "      <td>0</td>\n",
              "      <td>0</td>\n",
              "      <td>1</td>\n",
              "      <td>0</td>\n",
              "      <td>0</td>\n",
              "    </tr>\n",
              "    <tr>\n",
              "      <th>2</th>\n",
              "      <td>1</td>\n",
              "      <td>0</td>\n",
              "      <td>0</td>\n",
              "      <td>0</td>\n",
              "      <td>1</td>\n",
              "      <td>0</td>\n",
              "      <td>0</td>\n",
              "      <td>1</td>\n",
              "    </tr>\n",
              "  </tbody>\n",
              "</table>\n",
              "</div>"
            ],
            "text/plain": [
              "   A_a  A_b  B_a  B_b  B_c  C_1  C_3  C_4\n",
              "0    1    0    0    1    0    0    1    0\n",
              "1    0    1    1    0    0    1    0    0\n",
              "2    1    0    0    0    1    0    0    1"
            ]
          },
          "metadata": {
            "tags": []
          },
          "execution_count": 99
        }
      ]
    },
    {
      "cell_type": "code",
      "metadata": {
        "colab": {
          "base_uri": "https://localhost:8080/",
          "height": 439
        },
        "id": "8PObkmcd6FPD",
        "outputId": "0a1d140e-a1f6-42cf-f990-9ebbe6d3ac67"
      },
      "source": [
        "pd.get_dummies(data.iloc[:,1:(data.shape[1]-1)], columns=data.columns[1:(data.shape[1]-1)] )"
      ],
      "execution_count": 76,
      "outputs": [
        {
          "output_type": "execute_result",
          "data": {
            "text/html": [
              "<div>\n",
              "<style scoped>\n",
              "    .dataframe tbody tr th:only-of-type {\n",
              "        vertical-align: middle;\n",
              "    }\n",
              "\n",
              "    .dataframe tbody tr th {\n",
              "        vertical-align: top;\n",
              "    }\n",
              "\n",
              "    .dataframe thead th {\n",
              "        text-align: right;\n",
              "    }\n",
              "</style>\n",
              "<table border=\"1\" class=\"dataframe\">\n",
              "  <thead>\n",
              "    <tr style=\"text-align: right;\">\n",
              "      <th></th>\n",
              "      <th>TypeHabi_1</th>\n",
              "      <th>TypeHabi_2</th>\n",
              "      <th>TypeHabi_3</th>\n",
              "      <th>TypeHabi_4</th>\n",
              "      <th>GeoFaz_Scl_11</th>\n",
              "      <th>GeoFaz_Scl_12</th>\n",
              "      <th>GeoFaz_Scl_13</th>\n",
              "      <th>GeoFaz_Scl_14</th>\n",
              "      <th>GeoFaz_Scl_15</th>\n",
              "      <th>GeoFaz_Scl_21</th>\n",
              "      <th>GeoFaz_Scl_22</th>\n",
              "      <th>GeoFaz_Scl_23</th>\n",
              "      <th>GeoFaz_Scl_24</th>\n",
              "      <th>GeoFaz_Scl_25</th>\n",
              "      <th>GeoFaz_Scl_31</th>\n",
              "      <th>GeoFaz_Scl_32</th>\n",
              "      <th>GeoFaz_Scl_33</th>\n",
              "      <th>GeoFaz_Scl_34</th>\n",
              "      <th>GeoFaz_Scl_35</th>\n",
              "      <th>GeoFaz_Scl_36</th>\n",
              "      <th>GeoFaz_Scl_37</th>\n",
              "      <th>GeoFaz_Scl_41</th>\n",
              "      <th>GeoFaz_Scl_42</th>\n",
              "      <th>GeoFaz_Scl_43</th>\n",
              "      <th>GeoFaz_Scl_44</th>\n",
              "      <th>GeoFaz_Scl_45</th>\n",
              "      <th>GeoFaz_Scl_46</th>\n",
              "      <th>GeoFaz_Scl_51</th>\n",
              "      <th>GeoFaz_Scl_52</th>\n",
              "      <th>GeoFaz_Scl_53</th>\n",
              "      <th>GeoFaz_Scl_54</th>\n",
              "      <th>GeoFaz_Scl_61</th>\n",
              "      <th>GeoFaz_Scl_62</th>\n",
              "      <th>GeoFaz_Scl_63</th>\n",
              "      <th>GeoFaz_Scl_64</th>\n",
              "      <th>GeoFaz_Scl_71</th>\n",
              "      <th>GeoFaz_Scl_72</th>\n",
              "      <th>GeoFaz_Scl_73</th>\n",
              "      <th>GeoFaz_Scl_74</th>\n",
              "      <th>GeoFaz_Scl_75</th>\n",
              "      <th>...</th>\n",
              "      <th>Cumul_dons_6</th>\n",
              "      <th>Cumul_dons_7</th>\n",
              "      <th>Cumul_dons_8</th>\n",
              "      <th>Don_max_1</th>\n",
              "      <th>Don_max_2</th>\n",
              "      <th>Don_max_3</th>\n",
              "      <th>Don_max_4</th>\n",
              "      <th>Don_max_5</th>\n",
              "      <th>Don_max_6</th>\n",
              "      <th>Don_max_7</th>\n",
              "      <th>Don_max_8</th>\n",
              "      <th>Don_max_9</th>\n",
              "      <th>Don_moyen_1</th>\n",
              "      <th>Don_moyen_2</th>\n",
              "      <th>Don_moyen_3</th>\n",
              "      <th>Don_moyen_4</th>\n",
              "      <th>Don_moyen_5</th>\n",
              "      <th>Don_moyen_6</th>\n",
              "      <th>Don_moyen_7</th>\n",
              "      <th>Vingtiles_ISF_1</th>\n",
              "      <th>Vingtiles_ISF_2</th>\n",
              "      <th>Vingtiles_ISF_3</th>\n",
              "      <th>Vingtiles_ISF_4</th>\n",
              "      <th>Vingtiles_ISF_5</th>\n",
              "      <th>Vingtiles_ISF_6</th>\n",
              "      <th>Vingtiles_ISF_7</th>\n",
              "      <th>Vingtiles_ISF_8</th>\n",
              "      <th>Vingtiles_ISF_9</th>\n",
              "      <th>Vingtiles_ISF_10</th>\n",
              "      <th>Vingtiles_ISF_11</th>\n",
              "      <th>Vingtiles_ISF_12</th>\n",
              "      <th>Vingtiles_ISF_13</th>\n",
              "      <th>Vingtiles_ISF_14</th>\n",
              "      <th>Vingtiles_ISF_15</th>\n",
              "      <th>Vingtiles_ISF_16</th>\n",
              "      <th>Vingtiles_ISF_17</th>\n",
              "      <th>Vingtiles_ISF_18</th>\n",
              "      <th>Vingtiles_ISF_19</th>\n",
              "      <th>Vingtiles_ISF_20</th>\n",
              "      <th>Vingtiles_ISF_21</th>\n",
              "    </tr>\n",
              "  </thead>\n",
              "  <tbody>\n",
              "    <tr>\n",
              "      <th>0</th>\n",
              "      <td>0</td>\n",
              "      <td>0</td>\n",
              "      <td>1</td>\n",
              "      <td>0</td>\n",
              "      <td>0</td>\n",
              "      <td>0</td>\n",
              "      <td>0</td>\n",
              "      <td>0</td>\n",
              "      <td>0</td>\n",
              "      <td>0</td>\n",
              "      <td>0</td>\n",
              "      <td>0</td>\n",
              "      <td>0</td>\n",
              "      <td>0</td>\n",
              "      <td>0</td>\n",
              "      <td>0</td>\n",
              "      <td>0</td>\n",
              "      <td>0</td>\n",
              "      <td>0</td>\n",
              "      <td>0</td>\n",
              "      <td>0</td>\n",
              "      <td>0</td>\n",
              "      <td>0</td>\n",
              "      <td>0</td>\n",
              "      <td>0</td>\n",
              "      <td>0</td>\n",
              "      <td>0</td>\n",
              "      <td>0</td>\n",
              "      <td>0</td>\n",
              "      <td>0</td>\n",
              "      <td>0</td>\n",
              "      <td>0</td>\n",
              "      <td>0</td>\n",
              "      <td>0</td>\n",
              "      <td>0</td>\n",
              "      <td>0</td>\n",
              "      <td>0</td>\n",
              "      <td>0</td>\n",
              "      <td>0</td>\n",
              "      <td>1</td>\n",
              "      <td>...</td>\n",
              "      <td>0</td>\n",
              "      <td>1</td>\n",
              "      <td>0</td>\n",
              "      <td>0</td>\n",
              "      <td>0</td>\n",
              "      <td>0</td>\n",
              "      <td>0</td>\n",
              "      <td>0</td>\n",
              "      <td>1</td>\n",
              "      <td>0</td>\n",
              "      <td>0</td>\n",
              "      <td>0</td>\n",
              "      <td>0</td>\n",
              "      <td>0</td>\n",
              "      <td>0</td>\n",
              "      <td>1</td>\n",
              "      <td>0</td>\n",
              "      <td>0</td>\n",
              "      <td>0</td>\n",
              "      <td>0</td>\n",
              "      <td>0</td>\n",
              "      <td>0</td>\n",
              "      <td>0</td>\n",
              "      <td>0</td>\n",
              "      <td>0</td>\n",
              "      <td>0</td>\n",
              "      <td>0</td>\n",
              "      <td>0</td>\n",
              "      <td>1</td>\n",
              "      <td>0</td>\n",
              "      <td>0</td>\n",
              "      <td>0</td>\n",
              "      <td>0</td>\n",
              "      <td>0</td>\n",
              "      <td>0</td>\n",
              "      <td>0</td>\n",
              "      <td>0</td>\n",
              "      <td>0</td>\n",
              "      <td>0</td>\n",
              "      <td>0</td>\n",
              "    </tr>\n",
              "    <tr>\n",
              "      <th>1</th>\n",
              "      <td>1</td>\n",
              "      <td>0</td>\n",
              "      <td>0</td>\n",
              "      <td>0</td>\n",
              "      <td>0</td>\n",
              "      <td>0</td>\n",
              "      <td>0</td>\n",
              "      <td>0</td>\n",
              "      <td>0</td>\n",
              "      <td>0</td>\n",
              "      <td>0</td>\n",
              "      <td>0</td>\n",
              "      <td>0</td>\n",
              "      <td>0</td>\n",
              "      <td>0</td>\n",
              "      <td>0</td>\n",
              "      <td>0</td>\n",
              "      <td>0</td>\n",
              "      <td>0</td>\n",
              "      <td>0</td>\n",
              "      <td>0</td>\n",
              "      <td>0</td>\n",
              "      <td>0</td>\n",
              "      <td>0</td>\n",
              "      <td>0</td>\n",
              "      <td>0</td>\n",
              "      <td>0</td>\n",
              "      <td>0</td>\n",
              "      <td>0</td>\n",
              "      <td>0</td>\n",
              "      <td>0</td>\n",
              "      <td>0</td>\n",
              "      <td>0</td>\n",
              "      <td>0</td>\n",
              "      <td>0</td>\n",
              "      <td>0</td>\n",
              "      <td>0</td>\n",
              "      <td>0</td>\n",
              "      <td>1</td>\n",
              "      <td>0</td>\n",
              "      <td>...</td>\n",
              "      <td>0</td>\n",
              "      <td>0</td>\n",
              "      <td>0</td>\n",
              "      <td>0</td>\n",
              "      <td>1</td>\n",
              "      <td>0</td>\n",
              "      <td>0</td>\n",
              "      <td>0</td>\n",
              "      <td>0</td>\n",
              "      <td>0</td>\n",
              "      <td>0</td>\n",
              "      <td>0</td>\n",
              "      <td>0</td>\n",
              "      <td>1</td>\n",
              "      <td>0</td>\n",
              "      <td>0</td>\n",
              "      <td>0</td>\n",
              "      <td>0</td>\n",
              "      <td>0</td>\n",
              "      <td>0</td>\n",
              "      <td>0</td>\n",
              "      <td>0</td>\n",
              "      <td>0</td>\n",
              "      <td>0</td>\n",
              "      <td>0</td>\n",
              "      <td>0</td>\n",
              "      <td>0</td>\n",
              "      <td>0</td>\n",
              "      <td>1</td>\n",
              "      <td>0</td>\n",
              "      <td>0</td>\n",
              "      <td>0</td>\n",
              "      <td>0</td>\n",
              "      <td>0</td>\n",
              "      <td>0</td>\n",
              "      <td>0</td>\n",
              "      <td>0</td>\n",
              "      <td>0</td>\n",
              "      <td>0</td>\n",
              "      <td>0</td>\n",
              "    </tr>\n",
              "    <tr>\n",
              "      <th>2</th>\n",
              "      <td>0</td>\n",
              "      <td>1</td>\n",
              "      <td>0</td>\n",
              "      <td>0</td>\n",
              "      <td>0</td>\n",
              "      <td>0</td>\n",
              "      <td>0</td>\n",
              "      <td>0</td>\n",
              "      <td>0</td>\n",
              "      <td>0</td>\n",
              "      <td>0</td>\n",
              "      <td>0</td>\n",
              "      <td>0</td>\n",
              "      <td>0</td>\n",
              "      <td>0</td>\n",
              "      <td>1</td>\n",
              "      <td>0</td>\n",
              "      <td>0</td>\n",
              "      <td>0</td>\n",
              "      <td>0</td>\n",
              "      <td>0</td>\n",
              "      <td>0</td>\n",
              "      <td>0</td>\n",
              "      <td>0</td>\n",
              "      <td>0</td>\n",
              "      <td>0</td>\n",
              "      <td>0</td>\n",
              "      <td>0</td>\n",
              "      <td>0</td>\n",
              "      <td>0</td>\n",
              "      <td>0</td>\n",
              "      <td>0</td>\n",
              "      <td>0</td>\n",
              "      <td>0</td>\n",
              "      <td>0</td>\n",
              "      <td>0</td>\n",
              "      <td>0</td>\n",
              "      <td>0</td>\n",
              "      <td>0</td>\n",
              "      <td>0</td>\n",
              "      <td>...</td>\n",
              "      <td>0</td>\n",
              "      <td>1</td>\n",
              "      <td>0</td>\n",
              "      <td>0</td>\n",
              "      <td>0</td>\n",
              "      <td>0</td>\n",
              "      <td>0</td>\n",
              "      <td>1</td>\n",
              "      <td>0</td>\n",
              "      <td>0</td>\n",
              "      <td>0</td>\n",
              "      <td>0</td>\n",
              "      <td>0</td>\n",
              "      <td>0</td>\n",
              "      <td>1</td>\n",
              "      <td>0</td>\n",
              "      <td>0</td>\n",
              "      <td>0</td>\n",
              "      <td>0</td>\n",
              "      <td>0</td>\n",
              "      <td>0</td>\n",
              "      <td>0</td>\n",
              "      <td>0</td>\n",
              "      <td>0</td>\n",
              "      <td>0</td>\n",
              "      <td>1</td>\n",
              "      <td>0</td>\n",
              "      <td>0</td>\n",
              "      <td>0</td>\n",
              "      <td>0</td>\n",
              "      <td>0</td>\n",
              "      <td>0</td>\n",
              "      <td>0</td>\n",
              "      <td>0</td>\n",
              "      <td>0</td>\n",
              "      <td>0</td>\n",
              "      <td>0</td>\n",
              "      <td>0</td>\n",
              "      <td>0</td>\n",
              "      <td>0</td>\n",
              "    </tr>\n",
              "    <tr>\n",
              "      <th>3</th>\n",
              "      <td>1</td>\n",
              "      <td>0</td>\n",
              "      <td>0</td>\n",
              "      <td>0</td>\n",
              "      <td>0</td>\n",
              "      <td>1</td>\n",
              "      <td>0</td>\n",
              "      <td>0</td>\n",
              "      <td>0</td>\n",
              "      <td>0</td>\n",
              "      <td>0</td>\n",
              "      <td>0</td>\n",
              "      <td>0</td>\n",
              "      <td>0</td>\n",
              "      <td>0</td>\n",
              "      <td>0</td>\n",
              "      <td>0</td>\n",
              "      <td>0</td>\n",
              "      <td>0</td>\n",
              "      <td>0</td>\n",
              "      <td>0</td>\n",
              "      <td>0</td>\n",
              "      <td>0</td>\n",
              "      <td>0</td>\n",
              "      <td>0</td>\n",
              "      <td>0</td>\n",
              "      <td>0</td>\n",
              "      <td>0</td>\n",
              "      <td>0</td>\n",
              "      <td>0</td>\n",
              "      <td>0</td>\n",
              "      <td>0</td>\n",
              "      <td>0</td>\n",
              "      <td>0</td>\n",
              "      <td>0</td>\n",
              "      <td>0</td>\n",
              "      <td>0</td>\n",
              "      <td>0</td>\n",
              "      <td>0</td>\n",
              "      <td>0</td>\n",
              "      <td>...</td>\n",
              "      <td>0</td>\n",
              "      <td>1</td>\n",
              "      <td>0</td>\n",
              "      <td>0</td>\n",
              "      <td>0</td>\n",
              "      <td>0</td>\n",
              "      <td>0</td>\n",
              "      <td>0</td>\n",
              "      <td>0</td>\n",
              "      <td>0</td>\n",
              "      <td>1</td>\n",
              "      <td>0</td>\n",
              "      <td>0</td>\n",
              "      <td>0</td>\n",
              "      <td>0</td>\n",
              "      <td>0</td>\n",
              "      <td>0</td>\n",
              "      <td>1</td>\n",
              "      <td>0</td>\n",
              "      <td>0</td>\n",
              "      <td>0</td>\n",
              "      <td>0</td>\n",
              "      <td>0</td>\n",
              "      <td>0</td>\n",
              "      <td>0</td>\n",
              "      <td>0</td>\n",
              "      <td>0</td>\n",
              "      <td>0</td>\n",
              "      <td>0</td>\n",
              "      <td>0</td>\n",
              "      <td>0</td>\n",
              "      <td>0</td>\n",
              "      <td>0</td>\n",
              "      <td>0</td>\n",
              "      <td>0</td>\n",
              "      <td>0</td>\n",
              "      <td>1</td>\n",
              "      <td>0</td>\n",
              "      <td>0</td>\n",
              "      <td>0</td>\n",
              "    </tr>\n",
              "    <tr>\n",
              "      <th>4</th>\n",
              "      <td>0</td>\n",
              "      <td>1</td>\n",
              "      <td>0</td>\n",
              "      <td>0</td>\n",
              "      <td>0</td>\n",
              "      <td>1</td>\n",
              "      <td>0</td>\n",
              "      <td>0</td>\n",
              "      <td>0</td>\n",
              "      <td>0</td>\n",
              "      <td>0</td>\n",
              "      <td>0</td>\n",
              "      <td>0</td>\n",
              "      <td>0</td>\n",
              "      <td>0</td>\n",
              "      <td>0</td>\n",
              "      <td>0</td>\n",
              "      <td>0</td>\n",
              "      <td>0</td>\n",
              "      <td>0</td>\n",
              "      <td>0</td>\n",
              "      <td>0</td>\n",
              "      <td>0</td>\n",
              "      <td>0</td>\n",
              "      <td>0</td>\n",
              "      <td>0</td>\n",
              "      <td>0</td>\n",
              "      <td>0</td>\n",
              "      <td>0</td>\n",
              "      <td>0</td>\n",
              "      <td>0</td>\n",
              "      <td>0</td>\n",
              "      <td>0</td>\n",
              "      <td>0</td>\n",
              "      <td>0</td>\n",
              "      <td>0</td>\n",
              "      <td>0</td>\n",
              "      <td>0</td>\n",
              "      <td>0</td>\n",
              "      <td>0</td>\n",
              "      <td>...</td>\n",
              "      <td>0</td>\n",
              "      <td>1</td>\n",
              "      <td>0</td>\n",
              "      <td>0</td>\n",
              "      <td>0</td>\n",
              "      <td>0</td>\n",
              "      <td>0</td>\n",
              "      <td>0</td>\n",
              "      <td>0</td>\n",
              "      <td>0</td>\n",
              "      <td>1</td>\n",
              "      <td>0</td>\n",
              "      <td>0</td>\n",
              "      <td>0</td>\n",
              "      <td>0</td>\n",
              "      <td>0</td>\n",
              "      <td>0</td>\n",
              "      <td>1</td>\n",
              "      <td>0</td>\n",
              "      <td>0</td>\n",
              "      <td>1</td>\n",
              "      <td>0</td>\n",
              "      <td>0</td>\n",
              "      <td>0</td>\n",
              "      <td>0</td>\n",
              "      <td>0</td>\n",
              "      <td>0</td>\n",
              "      <td>0</td>\n",
              "      <td>0</td>\n",
              "      <td>0</td>\n",
              "      <td>0</td>\n",
              "      <td>0</td>\n",
              "      <td>0</td>\n",
              "      <td>0</td>\n",
              "      <td>0</td>\n",
              "      <td>0</td>\n",
              "      <td>0</td>\n",
              "      <td>0</td>\n",
              "      <td>0</td>\n",
              "      <td>0</td>\n",
              "    </tr>\n",
              "    <tr>\n",
              "      <th>...</th>\n",
              "      <td>...</td>\n",
              "      <td>...</td>\n",
              "      <td>...</td>\n",
              "      <td>...</td>\n",
              "      <td>...</td>\n",
              "      <td>...</td>\n",
              "      <td>...</td>\n",
              "      <td>...</td>\n",
              "      <td>...</td>\n",
              "      <td>...</td>\n",
              "      <td>...</td>\n",
              "      <td>...</td>\n",
              "      <td>...</td>\n",
              "      <td>...</td>\n",
              "      <td>...</td>\n",
              "      <td>...</td>\n",
              "      <td>...</td>\n",
              "      <td>...</td>\n",
              "      <td>...</td>\n",
              "      <td>...</td>\n",
              "      <td>...</td>\n",
              "      <td>...</td>\n",
              "      <td>...</td>\n",
              "      <td>...</td>\n",
              "      <td>...</td>\n",
              "      <td>...</td>\n",
              "      <td>...</td>\n",
              "      <td>...</td>\n",
              "      <td>...</td>\n",
              "      <td>...</td>\n",
              "      <td>...</td>\n",
              "      <td>...</td>\n",
              "      <td>...</td>\n",
              "      <td>...</td>\n",
              "      <td>...</td>\n",
              "      <td>...</td>\n",
              "      <td>...</td>\n",
              "      <td>...</td>\n",
              "      <td>...</td>\n",
              "      <td>...</td>\n",
              "      <td>...</td>\n",
              "      <td>...</td>\n",
              "      <td>...</td>\n",
              "      <td>...</td>\n",
              "      <td>...</td>\n",
              "      <td>...</td>\n",
              "      <td>...</td>\n",
              "      <td>...</td>\n",
              "      <td>...</td>\n",
              "      <td>...</td>\n",
              "      <td>...</td>\n",
              "      <td>...</td>\n",
              "      <td>...</td>\n",
              "      <td>...</td>\n",
              "      <td>...</td>\n",
              "      <td>...</td>\n",
              "      <td>...</td>\n",
              "      <td>...</td>\n",
              "      <td>...</td>\n",
              "      <td>...</td>\n",
              "      <td>...</td>\n",
              "      <td>...</td>\n",
              "      <td>...</td>\n",
              "      <td>...</td>\n",
              "      <td>...</td>\n",
              "      <td>...</td>\n",
              "      <td>...</td>\n",
              "      <td>...</td>\n",
              "      <td>...</td>\n",
              "      <td>...</td>\n",
              "      <td>...</td>\n",
              "      <td>...</td>\n",
              "      <td>...</td>\n",
              "      <td>...</td>\n",
              "      <td>...</td>\n",
              "      <td>...</td>\n",
              "      <td>...</td>\n",
              "      <td>...</td>\n",
              "      <td>...</td>\n",
              "      <td>...</td>\n",
              "      <td>...</td>\n",
              "    </tr>\n",
              "    <tr>\n",
              "      <th>466512</th>\n",
              "      <td>0</td>\n",
              "      <td>1</td>\n",
              "      <td>0</td>\n",
              "      <td>0</td>\n",
              "      <td>0</td>\n",
              "      <td>0</td>\n",
              "      <td>0</td>\n",
              "      <td>0</td>\n",
              "      <td>0</td>\n",
              "      <td>0</td>\n",
              "      <td>0</td>\n",
              "      <td>0</td>\n",
              "      <td>0</td>\n",
              "      <td>0</td>\n",
              "      <td>0</td>\n",
              "      <td>0</td>\n",
              "      <td>0</td>\n",
              "      <td>0</td>\n",
              "      <td>1</td>\n",
              "      <td>0</td>\n",
              "      <td>0</td>\n",
              "      <td>0</td>\n",
              "      <td>0</td>\n",
              "      <td>0</td>\n",
              "      <td>0</td>\n",
              "      <td>0</td>\n",
              "      <td>0</td>\n",
              "      <td>0</td>\n",
              "      <td>0</td>\n",
              "      <td>0</td>\n",
              "      <td>0</td>\n",
              "      <td>0</td>\n",
              "      <td>0</td>\n",
              "      <td>0</td>\n",
              "      <td>0</td>\n",
              "      <td>0</td>\n",
              "      <td>0</td>\n",
              "      <td>0</td>\n",
              "      <td>0</td>\n",
              "      <td>0</td>\n",
              "      <td>...</td>\n",
              "      <td>0</td>\n",
              "      <td>0</td>\n",
              "      <td>0</td>\n",
              "      <td>0</td>\n",
              "      <td>1</td>\n",
              "      <td>0</td>\n",
              "      <td>0</td>\n",
              "      <td>0</td>\n",
              "      <td>0</td>\n",
              "      <td>0</td>\n",
              "      <td>0</td>\n",
              "      <td>0</td>\n",
              "      <td>0</td>\n",
              "      <td>1</td>\n",
              "      <td>0</td>\n",
              "      <td>0</td>\n",
              "      <td>0</td>\n",
              "      <td>0</td>\n",
              "      <td>0</td>\n",
              "      <td>0</td>\n",
              "      <td>0</td>\n",
              "      <td>0</td>\n",
              "      <td>0</td>\n",
              "      <td>0</td>\n",
              "      <td>0</td>\n",
              "      <td>1</td>\n",
              "      <td>0</td>\n",
              "      <td>0</td>\n",
              "      <td>0</td>\n",
              "      <td>0</td>\n",
              "      <td>0</td>\n",
              "      <td>0</td>\n",
              "      <td>0</td>\n",
              "      <td>0</td>\n",
              "      <td>0</td>\n",
              "      <td>0</td>\n",
              "      <td>0</td>\n",
              "      <td>0</td>\n",
              "      <td>0</td>\n",
              "      <td>0</td>\n",
              "    </tr>\n",
              "    <tr>\n",
              "      <th>466513</th>\n",
              "      <td>0</td>\n",
              "      <td>0</td>\n",
              "      <td>1</td>\n",
              "      <td>0</td>\n",
              "      <td>0</td>\n",
              "      <td>0</td>\n",
              "      <td>0</td>\n",
              "      <td>0</td>\n",
              "      <td>0</td>\n",
              "      <td>0</td>\n",
              "      <td>0</td>\n",
              "      <td>0</td>\n",
              "      <td>0</td>\n",
              "      <td>0</td>\n",
              "      <td>0</td>\n",
              "      <td>0</td>\n",
              "      <td>0</td>\n",
              "      <td>0</td>\n",
              "      <td>0</td>\n",
              "      <td>0</td>\n",
              "      <td>0</td>\n",
              "      <td>0</td>\n",
              "      <td>0</td>\n",
              "      <td>0</td>\n",
              "      <td>0</td>\n",
              "      <td>0</td>\n",
              "      <td>0</td>\n",
              "      <td>0</td>\n",
              "      <td>0</td>\n",
              "      <td>0</td>\n",
              "      <td>0</td>\n",
              "      <td>0</td>\n",
              "      <td>0</td>\n",
              "      <td>0</td>\n",
              "      <td>0</td>\n",
              "      <td>0</td>\n",
              "      <td>0</td>\n",
              "      <td>0</td>\n",
              "      <td>0</td>\n",
              "      <td>1</td>\n",
              "      <td>...</td>\n",
              "      <td>0</td>\n",
              "      <td>0</td>\n",
              "      <td>0</td>\n",
              "      <td>0</td>\n",
              "      <td>0</td>\n",
              "      <td>0</td>\n",
              "      <td>0</td>\n",
              "      <td>0</td>\n",
              "      <td>1</td>\n",
              "      <td>0</td>\n",
              "      <td>0</td>\n",
              "      <td>0</td>\n",
              "      <td>0</td>\n",
              "      <td>0</td>\n",
              "      <td>0</td>\n",
              "      <td>0</td>\n",
              "      <td>1</td>\n",
              "      <td>0</td>\n",
              "      <td>0</td>\n",
              "      <td>0</td>\n",
              "      <td>0</td>\n",
              "      <td>0</td>\n",
              "      <td>0</td>\n",
              "      <td>0</td>\n",
              "      <td>0</td>\n",
              "      <td>0</td>\n",
              "      <td>0</td>\n",
              "      <td>0</td>\n",
              "      <td>0</td>\n",
              "      <td>0</td>\n",
              "      <td>0</td>\n",
              "      <td>0</td>\n",
              "      <td>0</td>\n",
              "      <td>0</td>\n",
              "      <td>0</td>\n",
              "      <td>1</td>\n",
              "      <td>0</td>\n",
              "      <td>0</td>\n",
              "      <td>0</td>\n",
              "      <td>0</td>\n",
              "    </tr>\n",
              "    <tr>\n",
              "      <th>466514</th>\n",
              "      <td>1</td>\n",
              "      <td>0</td>\n",
              "      <td>0</td>\n",
              "      <td>0</td>\n",
              "      <td>0</td>\n",
              "      <td>0</td>\n",
              "      <td>0</td>\n",
              "      <td>0</td>\n",
              "      <td>0</td>\n",
              "      <td>0</td>\n",
              "      <td>0</td>\n",
              "      <td>0</td>\n",
              "      <td>0</td>\n",
              "      <td>0</td>\n",
              "      <td>0</td>\n",
              "      <td>0</td>\n",
              "      <td>0</td>\n",
              "      <td>0</td>\n",
              "      <td>0</td>\n",
              "      <td>0</td>\n",
              "      <td>0</td>\n",
              "      <td>0</td>\n",
              "      <td>0</td>\n",
              "      <td>0</td>\n",
              "      <td>0</td>\n",
              "      <td>0</td>\n",
              "      <td>0</td>\n",
              "      <td>0</td>\n",
              "      <td>0</td>\n",
              "      <td>0</td>\n",
              "      <td>0</td>\n",
              "      <td>0</td>\n",
              "      <td>0</td>\n",
              "      <td>0</td>\n",
              "      <td>0</td>\n",
              "      <td>0</td>\n",
              "      <td>0</td>\n",
              "      <td>1</td>\n",
              "      <td>0</td>\n",
              "      <td>0</td>\n",
              "      <td>...</td>\n",
              "      <td>0</td>\n",
              "      <td>0</td>\n",
              "      <td>0</td>\n",
              "      <td>0</td>\n",
              "      <td>0</td>\n",
              "      <td>0</td>\n",
              "      <td>1</td>\n",
              "      <td>0</td>\n",
              "      <td>0</td>\n",
              "      <td>0</td>\n",
              "      <td>0</td>\n",
              "      <td>0</td>\n",
              "      <td>0</td>\n",
              "      <td>0</td>\n",
              "      <td>0</td>\n",
              "      <td>1</td>\n",
              "      <td>0</td>\n",
              "      <td>0</td>\n",
              "      <td>0</td>\n",
              "      <td>0</td>\n",
              "      <td>0</td>\n",
              "      <td>0</td>\n",
              "      <td>0</td>\n",
              "      <td>0</td>\n",
              "      <td>0</td>\n",
              "      <td>0</td>\n",
              "      <td>0</td>\n",
              "      <td>0</td>\n",
              "      <td>0</td>\n",
              "      <td>0</td>\n",
              "      <td>0</td>\n",
              "      <td>0</td>\n",
              "      <td>0</td>\n",
              "      <td>0</td>\n",
              "      <td>0</td>\n",
              "      <td>0</td>\n",
              "      <td>0</td>\n",
              "      <td>1</td>\n",
              "      <td>0</td>\n",
              "      <td>0</td>\n",
              "    </tr>\n",
              "    <tr>\n",
              "      <th>466515</th>\n",
              "      <td>0</td>\n",
              "      <td>1</td>\n",
              "      <td>0</td>\n",
              "      <td>0</td>\n",
              "      <td>0</td>\n",
              "      <td>0</td>\n",
              "      <td>0</td>\n",
              "      <td>0</td>\n",
              "      <td>0</td>\n",
              "      <td>0</td>\n",
              "      <td>0</td>\n",
              "      <td>0</td>\n",
              "      <td>0</td>\n",
              "      <td>0</td>\n",
              "      <td>1</td>\n",
              "      <td>0</td>\n",
              "      <td>0</td>\n",
              "      <td>0</td>\n",
              "      <td>0</td>\n",
              "      <td>0</td>\n",
              "      <td>0</td>\n",
              "      <td>0</td>\n",
              "      <td>0</td>\n",
              "      <td>0</td>\n",
              "      <td>0</td>\n",
              "      <td>0</td>\n",
              "      <td>0</td>\n",
              "      <td>0</td>\n",
              "      <td>0</td>\n",
              "      <td>0</td>\n",
              "      <td>0</td>\n",
              "      <td>0</td>\n",
              "      <td>0</td>\n",
              "      <td>0</td>\n",
              "      <td>0</td>\n",
              "      <td>0</td>\n",
              "      <td>0</td>\n",
              "      <td>0</td>\n",
              "      <td>0</td>\n",
              "      <td>0</td>\n",
              "      <td>...</td>\n",
              "      <td>0</td>\n",
              "      <td>0</td>\n",
              "      <td>0</td>\n",
              "      <td>0</td>\n",
              "      <td>0</td>\n",
              "      <td>1</td>\n",
              "      <td>0</td>\n",
              "      <td>0</td>\n",
              "      <td>0</td>\n",
              "      <td>0</td>\n",
              "      <td>0</td>\n",
              "      <td>0</td>\n",
              "      <td>0</td>\n",
              "      <td>0</td>\n",
              "      <td>1</td>\n",
              "      <td>0</td>\n",
              "      <td>0</td>\n",
              "      <td>0</td>\n",
              "      <td>0</td>\n",
              "      <td>0</td>\n",
              "      <td>0</td>\n",
              "      <td>0</td>\n",
              "      <td>0</td>\n",
              "      <td>0</td>\n",
              "      <td>0</td>\n",
              "      <td>0</td>\n",
              "      <td>0</td>\n",
              "      <td>0</td>\n",
              "      <td>0</td>\n",
              "      <td>0</td>\n",
              "      <td>0</td>\n",
              "      <td>0</td>\n",
              "      <td>0</td>\n",
              "      <td>1</td>\n",
              "      <td>0</td>\n",
              "      <td>0</td>\n",
              "      <td>0</td>\n",
              "      <td>0</td>\n",
              "      <td>0</td>\n",
              "      <td>0</td>\n",
              "    </tr>\n",
              "    <tr>\n",
              "      <th>466516</th>\n",
              "      <td>0</td>\n",
              "      <td>1</td>\n",
              "      <td>0</td>\n",
              "      <td>0</td>\n",
              "      <td>1</td>\n",
              "      <td>0</td>\n",
              "      <td>0</td>\n",
              "      <td>0</td>\n",
              "      <td>0</td>\n",
              "      <td>0</td>\n",
              "      <td>0</td>\n",
              "      <td>0</td>\n",
              "      <td>0</td>\n",
              "      <td>0</td>\n",
              "      <td>0</td>\n",
              "      <td>0</td>\n",
              "      <td>0</td>\n",
              "      <td>0</td>\n",
              "      <td>0</td>\n",
              "      <td>0</td>\n",
              "      <td>0</td>\n",
              "      <td>0</td>\n",
              "      <td>0</td>\n",
              "      <td>0</td>\n",
              "      <td>0</td>\n",
              "      <td>0</td>\n",
              "      <td>0</td>\n",
              "      <td>0</td>\n",
              "      <td>0</td>\n",
              "      <td>0</td>\n",
              "      <td>0</td>\n",
              "      <td>0</td>\n",
              "      <td>0</td>\n",
              "      <td>0</td>\n",
              "      <td>0</td>\n",
              "      <td>0</td>\n",
              "      <td>0</td>\n",
              "      <td>0</td>\n",
              "      <td>0</td>\n",
              "      <td>0</td>\n",
              "      <td>...</td>\n",
              "      <td>0</td>\n",
              "      <td>0</td>\n",
              "      <td>0</td>\n",
              "      <td>0</td>\n",
              "      <td>0</td>\n",
              "      <td>0</td>\n",
              "      <td>0</td>\n",
              "      <td>1</td>\n",
              "      <td>0</td>\n",
              "      <td>0</td>\n",
              "      <td>0</td>\n",
              "      <td>0</td>\n",
              "      <td>0</td>\n",
              "      <td>0</td>\n",
              "      <td>0</td>\n",
              "      <td>1</td>\n",
              "      <td>0</td>\n",
              "      <td>0</td>\n",
              "      <td>0</td>\n",
              "      <td>0</td>\n",
              "      <td>0</td>\n",
              "      <td>0</td>\n",
              "      <td>0</td>\n",
              "      <td>0</td>\n",
              "      <td>0</td>\n",
              "      <td>0</td>\n",
              "      <td>0</td>\n",
              "      <td>0</td>\n",
              "      <td>0</td>\n",
              "      <td>0</td>\n",
              "      <td>0</td>\n",
              "      <td>0</td>\n",
              "      <td>0</td>\n",
              "      <td>1</td>\n",
              "      <td>0</td>\n",
              "      <td>0</td>\n",
              "      <td>0</td>\n",
              "      <td>0</td>\n",
              "      <td>0</td>\n",
              "      <td>0</td>\n",
              "    </tr>\n",
              "  </tbody>\n",
              "</table>\n",
              "<p>465453 rows × 260 columns</p>\n",
              "</div>"
            ],
            "text/plain": [
              "        TypeHabi_1  TypeHabi_2  ...  Vingtiles_ISF_20  Vingtiles_ISF_21\n",
              "0                0           0  ...                 0                 0\n",
              "1                1           0  ...                 0                 0\n",
              "2                0           1  ...                 0                 0\n",
              "3                1           0  ...                 0                 0\n",
              "4                0           1  ...                 0                 0\n",
              "...            ...         ...  ...               ...               ...\n",
              "466512           0           1  ...                 0                 0\n",
              "466513           0           0  ...                 0                 0\n",
              "466514           1           0  ...                 0                 0\n",
              "466515           0           1  ...                 0                 0\n",
              "466516           0           1  ...                 0                 0\n",
              "\n",
              "[465453 rows x 260 columns]"
            ]
          },
          "metadata": {
            "tags": []
          },
          "execution_count": 76
        }
      ]
    },
    {
      "cell_type": "code",
      "metadata": {
        "id": "xNC2H7E-6HVZ"
      },
      "source": [
        "hhhh=pd.DataFrame()"
      ],
      "execution_count": 80,
      "outputs": []
    },
    {
      "cell_type": "code",
      "metadata": {
        "id": "_PMGKaqN6Rp2"
      },
      "source": [
        "hhhh[\"de\"]=data.iloc[:,0]"
      ],
      "execution_count": 82,
      "outputs": []
    },
    {
      "cell_type": "code",
      "metadata": {
        "id": "ng-jXjUt6Rlm"
      },
      "source": [
        "hhhh =  pd.get_dummies(data.iloc[:,1:(data.shape[1]-1)], columns=data.columns[1:(data.shape[1]-1)] )"
      ],
      "execution_count": 84,
      "outputs": []
    },
    {
      "cell_type": "code",
      "metadata": {
        "colab": {
          "base_uri": "https://localhost:8080/",
          "height": 439
        },
        "id": "68sE5hxM6QRy",
        "outputId": "35d46be4-a566-474b-cf41-afc61e0ae471"
      },
      "source": [
        "pd.concat([data.iloc[:,0],hhhh], axis=1 )"
      ],
      "execution_count": 89,
      "outputs": [
        {
          "output_type": "execute_result",
          "data": {
            "text/html": [
              "<div>\n",
              "<style scoped>\n",
              "    .dataframe tbody tr th:only-of-type {\n",
              "        vertical-align: middle;\n",
              "    }\n",
              "\n",
              "    .dataframe tbody tr th {\n",
              "        vertical-align: top;\n",
              "    }\n",
              "\n",
              "    .dataframe thead th {\n",
              "        text-align: right;\n",
              "    }\n",
              "</style>\n",
              "<table border=\"1\" class=\"dataframe\">\n",
              "  <thead>\n",
              "    <tr style=\"text-align: right;\">\n",
              "      <th></th>\n",
              "      <th>IDENT</th>\n",
              "      <th>TypeHabi_1</th>\n",
              "      <th>TypeHabi_2</th>\n",
              "      <th>TypeHabi_3</th>\n",
              "      <th>TypeHabi_4</th>\n",
              "      <th>GeoFaz_Scl_11</th>\n",
              "      <th>GeoFaz_Scl_12</th>\n",
              "      <th>GeoFaz_Scl_13</th>\n",
              "      <th>GeoFaz_Scl_14</th>\n",
              "      <th>GeoFaz_Scl_15</th>\n",
              "      <th>GeoFaz_Scl_21</th>\n",
              "      <th>GeoFaz_Scl_22</th>\n",
              "      <th>GeoFaz_Scl_23</th>\n",
              "      <th>GeoFaz_Scl_24</th>\n",
              "      <th>GeoFaz_Scl_25</th>\n",
              "      <th>GeoFaz_Scl_31</th>\n",
              "      <th>GeoFaz_Scl_32</th>\n",
              "      <th>GeoFaz_Scl_33</th>\n",
              "      <th>GeoFaz_Scl_34</th>\n",
              "      <th>GeoFaz_Scl_35</th>\n",
              "      <th>GeoFaz_Scl_36</th>\n",
              "      <th>GeoFaz_Scl_37</th>\n",
              "      <th>GeoFaz_Scl_41</th>\n",
              "      <th>GeoFaz_Scl_42</th>\n",
              "      <th>GeoFaz_Scl_43</th>\n",
              "      <th>GeoFaz_Scl_44</th>\n",
              "      <th>GeoFaz_Scl_45</th>\n",
              "      <th>GeoFaz_Scl_46</th>\n",
              "      <th>GeoFaz_Scl_51</th>\n",
              "      <th>GeoFaz_Scl_52</th>\n",
              "      <th>GeoFaz_Scl_53</th>\n",
              "      <th>GeoFaz_Scl_54</th>\n",
              "      <th>GeoFaz_Scl_61</th>\n",
              "      <th>GeoFaz_Scl_62</th>\n",
              "      <th>GeoFaz_Scl_63</th>\n",
              "      <th>GeoFaz_Scl_64</th>\n",
              "      <th>GeoFaz_Scl_71</th>\n",
              "      <th>GeoFaz_Scl_72</th>\n",
              "      <th>GeoFaz_Scl_73</th>\n",
              "      <th>GeoFaz_Scl_74</th>\n",
              "      <th>...</th>\n",
              "      <th>Cumul_dons_6</th>\n",
              "      <th>Cumul_dons_7</th>\n",
              "      <th>Cumul_dons_8</th>\n",
              "      <th>Don_max_1</th>\n",
              "      <th>Don_max_2</th>\n",
              "      <th>Don_max_3</th>\n",
              "      <th>Don_max_4</th>\n",
              "      <th>Don_max_5</th>\n",
              "      <th>Don_max_6</th>\n",
              "      <th>Don_max_7</th>\n",
              "      <th>Don_max_8</th>\n",
              "      <th>Don_max_9</th>\n",
              "      <th>Don_moyen_1</th>\n",
              "      <th>Don_moyen_2</th>\n",
              "      <th>Don_moyen_3</th>\n",
              "      <th>Don_moyen_4</th>\n",
              "      <th>Don_moyen_5</th>\n",
              "      <th>Don_moyen_6</th>\n",
              "      <th>Don_moyen_7</th>\n",
              "      <th>Vingtiles_ISF_1</th>\n",
              "      <th>Vingtiles_ISF_2</th>\n",
              "      <th>Vingtiles_ISF_3</th>\n",
              "      <th>Vingtiles_ISF_4</th>\n",
              "      <th>Vingtiles_ISF_5</th>\n",
              "      <th>Vingtiles_ISF_6</th>\n",
              "      <th>Vingtiles_ISF_7</th>\n",
              "      <th>Vingtiles_ISF_8</th>\n",
              "      <th>Vingtiles_ISF_9</th>\n",
              "      <th>Vingtiles_ISF_10</th>\n",
              "      <th>Vingtiles_ISF_11</th>\n",
              "      <th>Vingtiles_ISF_12</th>\n",
              "      <th>Vingtiles_ISF_13</th>\n",
              "      <th>Vingtiles_ISF_14</th>\n",
              "      <th>Vingtiles_ISF_15</th>\n",
              "      <th>Vingtiles_ISF_16</th>\n",
              "      <th>Vingtiles_ISF_17</th>\n",
              "      <th>Vingtiles_ISF_18</th>\n",
              "      <th>Vingtiles_ISF_19</th>\n",
              "      <th>Vingtiles_ISF_20</th>\n",
              "      <th>Vingtiles_ISF_21</th>\n",
              "    </tr>\n",
              "  </thead>\n",
              "  <tbody>\n",
              "    <tr>\n",
              "      <th>0</th>\n",
              "      <td>101001347</td>\n",
              "      <td>0</td>\n",
              "      <td>0</td>\n",
              "      <td>1</td>\n",
              "      <td>0</td>\n",
              "      <td>0</td>\n",
              "      <td>0</td>\n",
              "      <td>0</td>\n",
              "      <td>0</td>\n",
              "      <td>0</td>\n",
              "      <td>0</td>\n",
              "      <td>0</td>\n",
              "      <td>0</td>\n",
              "      <td>0</td>\n",
              "      <td>0</td>\n",
              "      <td>0</td>\n",
              "      <td>0</td>\n",
              "      <td>0</td>\n",
              "      <td>0</td>\n",
              "      <td>0</td>\n",
              "      <td>0</td>\n",
              "      <td>0</td>\n",
              "      <td>0</td>\n",
              "      <td>0</td>\n",
              "      <td>0</td>\n",
              "      <td>0</td>\n",
              "      <td>0</td>\n",
              "      <td>0</td>\n",
              "      <td>0</td>\n",
              "      <td>0</td>\n",
              "      <td>0</td>\n",
              "      <td>0</td>\n",
              "      <td>0</td>\n",
              "      <td>0</td>\n",
              "      <td>0</td>\n",
              "      <td>0</td>\n",
              "      <td>0</td>\n",
              "      <td>0</td>\n",
              "      <td>0</td>\n",
              "      <td>0</td>\n",
              "      <td>...</td>\n",
              "      <td>0</td>\n",
              "      <td>1</td>\n",
              "      <td>0</td>\n",
              "      <td>0</td>\n",
              "      <td>0</td>\n",
              "      <td>0</td>\n",
              "      <td>0</td>\n",
              "      <td>0</td>\n",
              "      <td>1</td>\n",
              "      <td>0</td>\n",
              "      <td>0</td>\n",
              "      <td>0</td>\n",
              "      <td>0</td>\n",
              "      <td>0</td>\n",
              "      <td>0</td>\n",
              "      <td>1</td>\n",
              "      <td>0</td>\n",
              "      <td>0</td>\n",
              "      <td>0</td>\n",
              "      <td>0</td>\n",
              "      <td>0</td>\n",
              "      <td>0</td>\n",
              "      <td>0</td>\n",
              "      <td>0</td>\n",
              "      <td>0</td>\n",
              "      <td>0</td>\n",
              "      <td>0</td>\n",
              "      <td>0</td>\n",
              "      <td>1</td>\n",
              "      <td>0</td>\n",
              "      <td>0</td>\n",
              "      <td>0</td>\n",
              "      <td>0</td>\n",
              "      <td>0</td>\n",
              "      <td>0</td>\n",
              "      <td>0</td>\n",
              "      <td>0</td>\n",
              "      <td>0</td>\n",
              "      <td>0</td>\n",
              "      <td>0</td>\n",
              "    </tr>\n",
              "    <tr>\n",
              "      <th>1</th>\n",
              "      <td>201001512</td>\n",
              "      <td>1</td>\n",
              "      <td>0</td>\n",
              "      <td>0</td>\n",
              "      <td>0</td>\n",
              "      <td>0</td>\n",
              "      <td>0</td>\n",
              "      <td>0</td>\n",
              "      <td>0</td>\n",
              "      <td>0</td>\n",
              "      <td>0</td>\n",
              "      <td>0</td>\n",
              "      <td>0</td>\n",
              "      <td>0</td>\n",
              "      <td>0</td>\n",
              "      <td>0</td>\n",
              "      <td>0</td>\n",
              "      <td>0</td>\n",
              "      <td>0</td>\n",
              "      <td>0</td>\n",
              "      <td>0</td>\n",
              "      <td>0</td>\n",
              "      <td>0</td>\n",
              "      <td>0</td>\n",
              "      <td>0</td>\n",
              "      <td>0</td>\n",
              "      <td>0</td>\n",
              "      <td>0</td>\n",
              "      <td>0</td>\n",
              "      <td>0</td>\n",
              "      <td>0</td>\n",
              "      <td>0</td>\n",
              "      <td>0</td>\n",
              "      <td>0</td>\n",
              "      <td>0</td>\n",
              "      <td>0</td>\n",
              "      <td>0</td>\n",
              "      <td>0</td>\n",
              "      <td>0</td>\n",
              "      <td>1</td>\n",
              "      <td>...</td>\n",
              "      <td>0</td>\n",
              "      <td>0</td>\n",
              "      <td>0</td>\n",
              "      <td>0</td>\n",
              "      <td>1</td>\n",
              "      <td>0</td>\n",
              "      <td>0</td>\n",
              "      <td>0</td>\n",
              "      <td>0</td>\n",
              "      <td>0</td>\n",
              "      <td>0</td>\n",
              "      <td>0</td>\n",
              "      <td>0</td>\n",
              "      <td>1</td>\n",
              "      <td>0</td>\n",
              "      <td>0</td>\n",
              "      <td>0</td>\n",
              "      <td>0</td>\n",
              "      <td>0</td>\n",
              "      <td>0</td>\n",
              "      <td>0</td>\n",
              "      <td>0</td>\n",
              "      <td>0</td>\n",
              "      <td>0</td>\n",
              "      <td>0</td>\n",
              "      <td>0</td>\n",
              "      <td>0</td>\n",
              "      <td>0</td>\n",
              "      <td>1</td>\n",
              "      <td>0</td>\n",
              "      <td>0</td>\n",
              "      <td>0</td>\n",
              "      <td>0</td>\n",
              "      <td>0</td>\n",
              "      <td>0</td>\n",
              "      <td>0</td>\n",
              "      <td>0</td>\n",
              "      <td>0</td>\n",
              "      <td>0</td>\n",
              "      <td>0</td>\n",
              "    </tr>\n",
              "    <tr>\n",
              "      <th>2</th>\n",
              "      <td>301002801</td>\n",
              "      <td>0</td>\n",
              "      <td>1</td>\n",
              "      <td>0</td>\n",
              "      <td>0</td>\n",
              "      <td>0</td>\n",
              "      <td>0</td>\n",
              "      <td>0</td>\n",
              "      <td>0</td>\n",
              "      <td>0</td>\n",
              "      <td>0</td>\n",
              "      <td>0</td>\n",
              "      <td>0</td>\n",
              "      <td>0</td>\n",
              "      <td>0</td>\n",
              "      <td>0</td>\n",
              "      <td>1</td>\n",
              "      <td>0</td>\n",
              "      <td>0</td>\n",
              "      <td>0</td>\n",
              "      <td>0</td>\n",
              "      <td>0</td>\n",
              "      <td>0</td>\n",
              "      <td>0</td>\n",
              "      <td>0</td>\n",
              "      <td>0</td>\n",
              "      <td>0</td>\n",
              "      <td>0</td>\n",
              "      <td>0</td>\n",
              "      <td>0</td>\n",
              "      <td>0</td>\n",
              "      <td>0</td>\n",
              "      <td>0</td>\n",
              "      <td>0</td>\n",
              "      <td>0</td>\n",
              "      <td>0</td>\n",
              "      <td>0</td>\n",
              "      <td>0</td>\n",
              "      <td>0</td>\n",
              "      <td>0</td>\n",
              "      <td>...</td>\n",
              "      <td>0</td>\n",
              "      <td>1</td>\n",
              "      <td>0</td>\n",
              "      <td>0</td>\n",
              "      <td>0</td>\n",
              "      <td>0</td>\n",
              "      <td>0</td>\n",
              "      <td>1</td>\n",
              "      <td>0</td>\n",
              "      <td>0</td>\n",
              "      <td>0</td>\n",
              "      <td>0</td>\n",
              "      <td>0</td>\n",
              "      <td>0</td>\n",
              "      <td>1</td>\n",
              "      <td>0</td>\n",
              "      <td>0</td>\n",
              "      <td>0</td>\n",
              "      <td>0</td>\n",
              "      <td>0</td>\n",
              "      <td>0</td>\n",
              "      <td>0</td>\n",
              "      <td>0</td>\n",
              "      <td>0</td>\n",
              "      <td>0</td>\n",
              "      <td>1</td>\n",
              "      <td>0</td>\n",
              "      <td>0</td>\n",
              "      <td>0</td>\n",
              "      <td>0</td>\n",
              "      <td>0</td>\n",
              "      <td>0</td>\n",
              "      <td>0</td>\n",
              "      <td>0</td>\n",
              "      <td>0</td>\n",
              "      <td>0</td>\n",
              "      <td>0</td>\n",
              "      <td>0</td>\n",
              "      <td>0</td>\n",
              "      <td>0</td>\n",
              "    </tr>\n",
              "    <tr>\n",
              "      <th>3</th>\n",
              "      <td>401003186</td>\n",
              "      <td>1</td>\n",
              "      <td>0</td>\n",
              "      <td>0</td>\n",
              "      <td>0</td>\n",
              "      <td>0</td>\n",
              "      <td>1</td>\n",
              "      <td>0</td>\n",
              "      <td>0</td>\n",
              "      <td>0</td>\n",
              "      <td>0</td>\n",
              "      <td>0</td>\n",
              "      <td>0</td>\n",
              "      <td>0</td>\n",
              "      <td>0</td>\n",
              "      <td>0</td>\n",
              "      <td>0</td>\n",
              "      <td>0</td>\n",
              "      <td>0</td>\n",
              "      <td>0</td>\n",
              "      <td>0</td>\n",
              "      <td>0</td>\n",
              "      <td>0</td>\n",
              "      <td>0</td>\n",
              "      <td>0</td>\n",
              "      <td>0</td>\n",
              "      <td>0</td>\n",
              "      <td>0</td>\n",
              "      <td>0</td>\n",
              "      <td>0</td>\n",
              "      <td>0</td>\n",
              "      <td>0</td>\n",
              "      <td>0</td>\n",
              "      <td>0</td>\n",
              "      <td>0</td>\n",
              "      <td>0</td>\n",
              "      <td>0</td>\n",
              "      <td>0</td>\n",
              "      <td>0</td>\n",
              "      <td>0</td>\n",
              "      <td>...</td>\n",
              "      <td>0</td>\n",
              "      <td>1</td>\n",
              "      <td>0</td>\n",
              "      <td>0</td>\n",
              "      <td>0</td>\n",
              "      <td>0</td>\n",
              "      <td>0</td>\n",
              "      <td>0</td>\n",
              "      <td>0</td>\n",
              "      <td>0</td>\n",
              "      <td>1</td>\n",
              "      <td>0</td>\n",
              "      <td>0</td>\n",
              "      <td>0</td>\n",
              "      <td>0</td>\n",
              "      <td>0</td>\n",
              "      <td>0</td>\n",
              "      <td>1</td>\n",
              "      <td>0</td>\n",
              "      <td>0</td>\n",
              "      <td>0</td>\n",
              "      <td>0</td>\n",
              "      <td>0</td>\n",
              "      <td>0</td>\n",
              "      <td>0</td>\n",
              "      <td>0</td>\n",
              "      <td>0</td>\n",
              "      <td>0</td>\n",
              "      <td>0</td>\n",
              "      <td>0</td>\n",
              "      <td>0</td>\n",
              "      <td>0</td>\n",
              "      <td>0</td>\n",
              "      <td>0</td>\n",
              "      <td>0</td>\n",
              "      <td>0</td>\n",
              "      <td>1</td>\n",
              "      <td>0</td>\n",
              "      <td>0</td>\n",
              "      <td>0</td>\n",
              "    </tr>\n",
              "    <tr>\n",
              "      <th>4</th>\n",
              "      <td>501003624</td>\n",
              "      <td>0</td>\n",
              "      <td>1</td>\n",
              "      <td>0</td>\n",
              "      <td>0</td>\n",
              "      <td>0</td>\n",
              "      <td>1</td>\n",
              "      <td>0</td>\n",
              "      <td>0</td>\n",
              "      <td>0</td>\n",
              "      <td>0</td>\n",
              "      <td>0</td>\n",
              "      <td>0</td>\n",
              "      <td>0</td>\n",
              "      <td>0</td>\n",
              "      <td>0</td>\n",
              "      <td>0</td>\n",
              "      <td>0</td>\n",
              "      <td>0</td>\n",
              "      <td>0</td>\n",
              "      <td>0</td>\n",
              "      <td>0</td>\n",
              "      <td>0</td>\n",
              "      <td>0</td>\n",
              "      <td>0</td>\n",
              "      <td>0</td>\n",
              "      <td>0</td>\n",
              "      <td>0</td>\n",
              "      <td>0</td>\n",
              "      <td>0</td>\n",
              "      <td>0</td>\n",
              "      <td>0</td>\n",
              "      <td>0</td>\n",
              "      <td>0</td>\n",
              "      <td>0</td>\n",
              "      <td>0</td>\n",
              "      <td>0</td>\n",
              "      <td>0</td>\n",
              "      <td>0</td>\n",
              "      <td>0</td>\n",
              "      <td>...</td>\n",
              "      <td>0</td>\n",
              "      <td>1</td>\n",
              "      <td>0</td>\n",
              "      <td>0</td>\n",
              "      <td>0</td>\n",
              "      <td>0</td>\n",
              "      <td>0</td>\n",
              "      <td>0</td>\n",
              "      <td>0</td>\n",
              "      <td>0</td>\n",
              "      <td>1</td>\n",
              "      <td>0</td>\n",
              "      <td>0</td>\n",
              "      <td>0</td>\n",
              "      <td>0</td>\n",
              "      <td>0</td>\n",
              "      <td>0</td>\n",
              "      <td>1</td>\n",
              "      <td>0</td>\n",
              "      <td>0</td>\n",
              "      <td>1</td>\n",
              "      <td>0</td>\n",
              "      <td>0</td>\n",
              "      <td>0</td>\n",
              "      <td>0</td>\n",
              "      <td>0</td>\n",
              "      <td>0</td>\n",
              "      <td>0</td>\n",
              "      <td>0</td>\n",
              "      <td>0</td>\n",
              "      <td>0</td>\n",
              "      <td>0</td>\n",
              "      <td>0</td>\n",
              "      <td>0</td>\n",
              "      <td>0</td>\n",
              "      <td>0</td>\n",
              "      <td>0</td>\n",
              "      <td>0</td>\n",
              "      <td>0</td>\n",
              "      <td>0</td>\n",
              "    </tr>\n",
              "    <tr>\n",
              "      <th>...</th>\n",
              "      <td>...</td>\n",
              "      <td>...</td>\n",
              "      <td>...</td>\n",
              "      <td>...</td>\n",
              "      <td>...</td>\n",
              "      <td>...</td>\n",
              "      <td>...</td>\n",
              "      <td>...</td>\n",
              "      <td>...</td>\n",
              "      <td>...</td>\n",
              "      <td>...</td>\n",
              "      <td>...</td>\n",
              "      <td>...</td>\n",
              "      <td>...</td>\n",
              "      <td>...</td>\n",
              "      <td>...</td>\n",
              "      <td>...</td>\n",
              "      <td>...</td>\n",
              "      <td>...</td>\n",
              "      <td>...</td>\n",
              "      <td>...</td>\n",
              "      <td>...</td>\n",
              "      <td>...</td>\n",
              "      <td>...</td>\n",
              "      <td>...</td>\n",
              "      <td>...</td>\n",
              "      <td>...</td>\n",
              "      <td>...</td>\n",
              "      <td>...</td>\n",
              "      <td>...</td>\n",
              "      <td>...</td>\n",
              "      <td>...</td>\n",
              "      <td>...</td>\n",
              "      <td>...</td>\n",
              "      <td>...</td>\n",
              "      <td>...</td>\n",
              "      <td>...</td>\n",
              "      <td>...</td>\n",
              "      <td>...</td>\n",
              "      <td>...</td>\n",
              "      <td>...</td>\n",
              "      <td>...</td>\n",
              "      <td>...</td>\n",
              "      <td>...</td>\n",
              "      <td>...</td>\n",
              "      <td>...</td>\n",
              "      <td>...</td>\n",
              "      <td>...</td>\n",
              "      <td>...</td>\n",
              "      <td>...</td>\n",
              "      <td>...</td>\n",
              "      <td>...</td>\n",
              "      <td>...</td>\n",
              "      <td>...</td>\n",
              "      <td>...</td>\n",
              "      <td>...</td>\n",
              "      <td>...</td>\n",
              "      <td>...</td>\n",
              "      <td>...</td>\n",
              "      <td>...</td>\n",
              "      <td>...</td>\n",
              "      <td>...</td>\n",
              "      <td>...</td>\n",
              "      <td>...</td>\n",
              "      <td>...</td>\n",
              "      <td>...</td>\n",
              "      <td>...</td>\n",
              "      <td>...</td>\n",
              "      <td>...</td>\n",
              "      <td>...</td>\n",
              "      <td>...</td>\n",
              "      <td>...</td>\n",
              "      <td>...</td>\n",
              "      <td>...</td>\n",
              "      <td>...</td>\n",
              "      <td>...</td>\n",
              "      <td>...</td>\n",
              "      <td>...</td>\n",
              "      <td>...</td>\n",
              "      <td>...</td>\n",
              "      <td>...</td>\n",
              "    </tr>\n",
              "    <tr>\n",
              "      <th>466512</th>\n",
              "      <td>46651304217222</td>\n",
              "      <td>0</td>\n",
              "      <td>1</td>\n",
              "      <td>0</td>\n",
              "      <td>0</td>\n",
              "      <td>0</td>\n",
              "      <td>0</td>\n",
              "      <td>0</td>\n",
              "      <td>0</td>\n",
              "      <td>0</td>\n",
              "      <td>0</td>\n",
              "      <td>0</td>\n",
              "      <td>0</td>\n",
              "      <td>0</td>\n",
              "      <td>0</td>\n",
              "      <td>0</td>\n",
              "      <td>0</td>\n",
              "      <td>0</td>\n",
              "      <td>0</td>\n",
              "      <td>1</td>\n",
              "      <td>0</td>\n",
              "      <td>0</td>\n",
              "      <td>0</td>\n",
              "      <td>0</td>\n",
              "      <td>0</td>\n",
              "      <td>0</td>\n",
              "      <td>0</td>\n",
              "      <td>0</td>\n",
              "      <td>0</td>\n",
              "      <td>0</td>\n",
              "      <td>0</td>\n",
              "      <td>0</td>\n",
              "      <td>0</td>\n",
              "      <td>0</td>\n",
              "      <td>0</td>\n",
              "      <td>0</td>\n",
              "      <td>0</td>\n",
              "      <td>0</td>\n",
              "      <td>0</td>\n",
              "      <td>0</td>\n",
              "      <td>...</td>\n",
              "      <td>0</td>\n",
              "      <td>0</td>\n",
              "      <td>0</td>\n",
              "      <td>0</td>\n",
              "      <td>1</td>\n",
              "      <td>0</td>\n",
              "      <td>0</td>\n",
              "      <td>0</td>\n",
              "      <td>0</td>\n",
              "      <td>0</td>\n",
              "      <td>0</td>\n",
              "      <td>0</td>\n",
              "      <td>0</td>\n",
              "      <td>1</td>\n",
              "      <td>0</td>\n",
              "      <td>0</td>\n",
              "      <td>0</td>\n",
              "      <td>0</td>\n",
              "      <td>0</td>\n",
              "      <td>0</td>\n",
              "      <td>0</td>\n",
              "      <td>0</td>\n",
              "      <td>0</td>\n",
              "      <td>0</td>\n",
              "      <td>0</td>\n",
              "      <td>1</td>\n",
              "      <td>0</td>\n",
              "      <td>0</td>\n",
              "      <td>0</td>\n",
              "      <td>0</td>\n",
              "      <td>0</td>\n",
              "      <td>0</td>\n",
              "      <td>0</td>\n",
              "      <td>0</td>\n",
              "      <td>0</td>\n",
              "      <td>0</td>\n",
              "      <td>0</td>\n",
              "      <td>0</td>\n",
              "      <td>0</td>\n",
              "      <td>0</td>\n",
              "    </tr>\n",
              "    <tr>\n",
              "      <th>466513</th>\n",
              "      <td>46651404217223</td>\n",
              "      <td>0</td>\n",
              "      <td>0</td>\n",
              "      <td>1</td>\n",
              "      <td>0</td>\n",
              "      <td>0</td>\n",
              "      <td>0</td>\n",
              "      <td>0</td>\n",
              "      <td>0</td>\n",
              "      <td>0</td>\n",
              "      <td>0</td>\n",
              "      <td>0</td>\n",
              "      <td>0</td>\n",
              "      <td>0</td>\n",
              "      <td>0</td>\n",
              "      <td>0</td>\n",
              "      <td>0</td>\n",
              "      <td>0</td>\n",
              "      <td>0</td>\n",
              "      <td>0</td>\n",
              "      <td>0</td>\n",
              "      <td>0</td>\n",
              "      <td>0</td>\n",
              "      <td>0</td>\n",
              "      <td>0</td>\n",
              "      <td>0</td>\n",
              "      <td>0</td>\n",
              "      <td>0</td>\n",
              "      <td>0</td>\n",
              "      <td>0</td>\n",
              "      <td>0</td>\n",
              "      <td>0</td>\n",
              "      <td>0</td>\n",
              "      <td>0</td>\n",
              "      <td>0</td>\n",
              "      <td>0</td>\n",
              "      <td>0</td>\n",
              "      <td>0</td>\n",
              "      <td>0</td>\n",
              "      <td>0</td>\n",
              "      <td>...</td>\n",
              "      <td>0</td>\n",
              "      <td>0</td>\n",
              "      <td>0</td>\n",
              "      <td>0</td>\n",
              "      <td>0</td>\n",
              "      <td>0</td>\n",
              "      <td>0</td>\n",
              "      <td>0</td>\n",
              "      <td>1</td>\n",
              "      <td>0</td>\n",
              "      <td>0</td>\n",
              "      <td>0</td>\n",
              "      <td>0</td>\n",
              "      <td>0</td>\n",
              "      <td>0</td>\n",
              "      <td>0</td>\n",
              "      <td>1</td>\n",
              "      <td>0</td>\n",
              "      <td>0</td>\n",
              "      <td>0</td>\n",
              "      <td>0</td>\n",
              "      <td>0</td>\n",
              "      <td>0</td>\n",
              "      <td>0</td>\n",
              "      <td>0</td>\n",
              "      <td>0</td>\n",
              "      <td>0</td>\n",
              "      <td>0</td>\n",
              "      <td>0</td>\n",
              "      <td>0</td>\n",
              "      <td>0</td>\n",
              "      <td>0</td>\n",
              "      <td>0</td>\n",
              "      <td>0</td>\n",
              "      <td>0</td>\n",
              "      <td>1</td>\n",
              "      <td>0</td>\n",
              "      <td>0</td>\n",
              "      <td>0</td>\n",
              "      <td>0</td>\n",
              "    </tr>\n",
              "    <tr>\n",
              "      <th>466514</th>\n",
              "      <td>46651504217224</td>\n",
              "      <td>1</td>\n",
              "      <td>0</td>\n",
              "      <td>0</td>\n",
              "      <td>0</td>\n",
              "      <td>0</td>\n",
              "      <td>0</td>\n",
              "      <td>0</td>\n",
              "      <td>0</td>\n",
              "      <td>0</td>\n",
              "      <td>0</td>\n",
              "      <td>0</td>\n",
              "      <td>0</td>\n",
              "      <td>0</td>\n",
              "      <td>0</td>\n",
              "      <td>0</td>\n",
              "      <td>0</td>\n",
              "      <td>0</td>\n",
              "      <td>0</td>\n",
              "      <td>0</td>\n",
              "      <td>0</td>\n",
              "      <td>0</td>\n",
              "      <td>0</td>\n",
              "      <td>0</td>\n",
              "      <td>0</td>\n",
              "      <td>0</td>\n",
              "      <td>0</td>\n",
              "      <td>0</td>\n",
              "      <td>0</td>\n",
              "      <td>0</td>\n",
              "      <td>0</td>\n",
              "      <td>0</td>\n",
              "      <td>0</td>\n",
              "      <td>0</td>\n",
              "      <td>0</td>\n",
              "      <td>0</td>\n",
              "      <td>0</td>\n",
              "      <td>0</td>\n",
              "      <td>1</td>\n",
              "      <td>0</td>\n",
              "      <td>...</td>\n",
              "      <td>0</td>\n",
              "      <td>0</td>\n",
              "      <td>0</td>\n",
              "      <td>0</td>\n",
              "      <td>0</td>\n",
              "      <td>0</td>\n",
              "      <td>1</td>\n",
              "      <td>0</td>\n",
              "      <td>0</td>\n",
              "      <td>0</td>\n",
              "      <td>0</td>\n",
              "      <td>0</td>\n",
              "      <td>0</td>\n",
              "      <td>0</td>\n",
              "      <td>0</td>\n",
              "      <td>1</td>\n",
              "      <td>0</td>\n",
              "      <td>0</td>\n",
              "      <td>0</td>\n",
              "      <td>0</td>\n",
              "      <td>0</td>\n",
              "      <td>0</td>\n",
              "      <td>0</td>\n",
              "      <td>0</td>\n",
              "      <td>0</td>\n",
              "      <td>0</td>\n",
              "      <td>0</td>\n",
              "      <td>0</td>\n",
              "      <td>0</td>\n",
              "      <td>0</td>\n",
              "      <td>0</td>\n",
              "      <td>0</td>\n",
              "      <td>0</td>\n",
              "      <td>0</td>\n",
              "      <td>0</td>\n",
              "      <td>0</td>\n",
              "      <td>0</td>\n",
              "      <td>1</td>\n",
              "      <td>0</td>\n",
              "      <td>0</td>\n",
              "    </tr>\n",
              "    <tr>\n",
              "      <th>466515</th>\n",
              "      <td>46651604217225</td>\n",
              "      <td>0</td>\n",
              "      <td>1</td>\n",
              "      <td>0</td>\n",
              "      <td>0</td>\n",
              "      <td>0</td>\n",
              "      <td>0</td>\n",
              "      <td>0</td>\n",
              "      <td>0</td>\n",
              "      <td>0</td>\n",
              "      <td>0</td>\n",
              "      <td>0</td>\n",
              "      <td>0</td>\n",
              "      <td>0</td>\n",
              "      <td>0</td>\n",
              "      <td>1</td>\n",
              "      <td>0</td>\n",
              "      <td>0</td>\n",
              "      <td>0</td>\n",
              "      <td>0</td>\n",
              "      <td>0</td>\n",
              "      <td>0</td>\n",
              "      <td>0</td>\n",
              "      <td>0</td>\n",
              "      <td>0</td>\n",
              "      <td>0</td>\n",
              "      <td>0</td>\n",
              "      <td>0</td>\n",
              "      <td>0</td>\n",
              "      <td>0</td>\n",
              "      <td>0</td>\n",
              "      <td>0</td>\n",
              "      <td>0</td>\n",
              "      <td>0</td>\n",
              "      <td>0</td>\n",
              "      <td>0</td>\n",
              "      <td>0</td>\n",
              "      <td>0</td>\n",
              "      <td>0</td>\n",
              "      <td>0</td>\n",
              "      <td>...</td>\n",
              "      <td>0</td>\n",
              "      <td>0</td>\n",
              "      <td>0</td>\n",
              "      <td>0</td>\n",
              "      <td>0</td>\n",
              "      <td>1</td>\n",
              "      <td>0</td>\n",
              "      <td>0</td>\n",
              "      <td>0</td>\n",
              "      <td>0</td>\n",
              "      <td>0</td>\n",
              "      <td>0</td>\n",
              "      <td>0</td>\n",
              "      <td>0</td>\n",
              "      <td>1</td>\n",
              "      <td>0</td>\n",
              "      <td>0</td>\n",
              "      <td>0</td>\n",
              "      <td>0</td>\n",
              "      <td>0</td>\n",
              "      <td>0</td>\n",
              "      <td>0</td>\n",
              "      <td>0</td>\n",
              "      <td>0</td>\n",
              "      <td>0</td>\n",
              "      <td>0</td>\n",
              "      <td>0</td>\n",
              "      <td>0</td>\n",
              "      <td>0</td>\n",
              "      <td>0</td>\n",
              "      <td>0</td>\n",
              "      <td>0</td>\n",
              "      <td>0</td>\n",
              "      <td>1</td>\n",
              "      <td>0</td>\n",
              "      <td>0</td>\n",
              "      <td>0</td>\n",
              "      <td>0</td>\n",
              "      <td>0</td>\n",
              "      <td>0</td>\n",
              "    </tr>\n",
              "    <tr>\n",
              "      <th>466516</th>\n",
              "      <td>46651704217227</td>\n",
              "      <td>0</td>\n",
              "      <td>1</td>\n",
              "      <td>0</td>\n",
              "      <td>0</td>\n",
              "      <td>1</td>\n",
              "      <td>0</td>\n",
              "      <td>0</td>\n",
              "      <td>0</td>\n",
              "      <td>0</td>\n",
              "      <td>0</td>\n",
              "      <td>0</td>\n",
              "      <td>0</td>\n",
              "      <td>0</td>\n",
              "      <td>0</td>\n",
              "      <td>0</td>\n",
              "      <td>0</td>\n",
              "      <td>0</td>\n",
              "      <td>0</td>\n",
              "      <td>0</td>\n",
              "      <td>0</td>\n",
              "      <td>0</td>\n",
              "      <td>0</td>\n",
              "      <td>0</td>\n",
              "      <td>0</td>\n",
              "      <td>0</td>\n",
              "      <td>0</td>\n",
              "      <td>0</td>\n",
              "      <td>0</td>\n",
              "      <td>0</td>\n",
              "      <td>0</td>\n",
              "      <td>0</td>\n",
              "      <td>0</td>\n",
              "      <td>0</td>\n",
              "      <td>0</td>\n",
              "      <td>0</td>\n",
              "      <td>0</td>\n",
              "      <td>0</td>\n",
              "      <td>0</td>\n",
              "      <td>0</td>\n",
              "      <td>...</td>\n",
              "      <td>0</td>\n",
              "      <td>0</td>\n",
              "      <td>0</td>\n",
              "      <td>0</td>\n",
              "      <td>0</td>\n",
              "      <td>0</td>\n",
              "      <td>0</td>\n",
              "      <td>1</td>\n",
              "      <td>0</td>\n",
              "      <td>0</td>\n",
              "      <td>0</td>\n",
              "      <td>0</td>\n",
              "      <td>0</td>\n",
              "      <td>0</td>\n",
              "      <td>0</td>\n",
              "      <td>1</td>\n",
              "      <td>0</td>\n",
              "      <td>0</td>\n",
              "      <td>0</td>\n",
              "      <td>0</td>\n",
              "      <td>0</td>\n",
              "      <td>0</td>\n",
              "      <td>0</td>\n",
              "      <td>0</td>\n",
              "      <td>0</td>\n",
              "      <td>0</td>\n",
              "      <td>0</td>\n",
              "      <td>0</td>\n",
              "      <td>0</td>\n",
              "      <td>0</td>\n",
              "      <td>0</td>\n",
              "      <td>0</td>\n",
              "      <td>0</td>\n",
              "      <td>1</td>\n",
              "      <td>0</td>\n",
              "      <td>0</td>\n",
              "      <td>0</td>\n",
              "      <td>0</td>\n",
              "      <td>0</td>\n",
              "      <td>0</td>\n",
              "    </tr>\n",
              "  </tbody>\n",
              "</table>\n",
              "<p>465453 rows × 261 columns</p>\n",
              "</div>"
            ],
            "text/plain": [
              "                 IDENT  TypeHabi_1  ...  Vingtiles_ISF_20  Vingtiles_ISF_21\n",
              "0            101001347           0  ...                 0                 0\n",
              "1            201001512           1  ...                 0                 0\n",
              "2            301002801           0  ...                 0                 0\n",
              "3            401003186           1  ...                 0                 0\n",
              "4            501003624           0  ...                 0                 0\n",
              "...                ...         ...  ...               ...               ...\n",
              "466512  46651304217222           0  ...                 0                 0\n",
              "466513  46651404217223           0  ...                 0                 0\n",
              "466514  46651504217224           1  ...                 0                 0\n",
              "466515  46651604217225           0  ...                 0                 0\n",
              "466516  46651704217227           0  ...                 0                 0\n",
              "\n",
              "[465453 rows x 261 columns]"
            ]
          },
          "metadata": {
            "tags": []
          },
          "execution_count": 89
        }
      ]
    },
    {
      "cell_type": "code",
      "metadata": {
        "colab": {
          "base_uri": "https://localhost:8080/",
          "height": 439
        },
        "id": "cHuVxqhBfRvX",
        "outputId": "d5c369d1-0f91-496d-fb86-8a88763f8b37"
      },
      "source": [
        "hhhh.iloc[:,210:220]"
      ],
      "execution_count": 93,
      "outputs": [
        {
          "output_type": "execute_result",
          "data": {
            "text/html": [
              "<div>\n",
              "<style scoped>\n",
              "    .dataframe tbody tr th:only-of-type {\n",
              "        vertical-align: middle;\n",
              "    }\n",
              "\n",
              "    .dataframe tbody tr th {\n",
              "        vertical-align: top;\n",
              "    }\n",
              "\n",
              "    .dataframe thead th {\n",
              "        text-align: right;\n",
              "    }\n",
              "</style>\n",
              "<table border=\"1\" class=\"dataframe\">\n",
              "  <thead>\n",
              "    <tr style=\"text-align: right;\">\n",
              "      <th></th>\n",
              "      <th>Annee_1er_don_4</th>\n",
              "      <th>Annee_1er_don_5</th>\n",
              "      <th>Annee_1er_don_6</th>\n",
              "      <th>Annee_1er_don_7</th>\n",
              "      <th>Annee_1er_don_8</th>\n",
              "      <th>Cumul_dons_1</th>\n",
              "      <th>Cumul_dons_2</th>\n",
              "      <th>Cumul_dons_3</th>\n",
              "      <th>Cumul_dons_4</th>\n",
              "      <th>Cumul_dons_5</th>\n",
              "    </tr>\n",
              "  </thead>\n",
              "  <tbody>\n",
              "    <tr>\n",
              "      <th>0</th>\n",
              "      <td>0</td>\n",
              "      <td>0</td>\n",
              "      <td>0</td>\n",
              "      <td>1</td>\n",
              "      <td>0</td>\n",
              "      <td>0</td>\n",
              "      <td>0</td>\n",
              "      <td>0</td>\n",
              "      <td>0</td>\n",
              "      <td>0</td>\n",
              "    </tr>\n",
              "    <tr>\n",
              "      <th>1</th>\n",
              "      <td>0</td>\n",
              "      <td>0</td>\n",
              "      <td>0</td>\n",
              "      <td>0</td>\n",
              "      <td>1</td>\n",
              "      <td>0</td>\n",
              "      <td>0</td>\n",
              "      <td>0</td>\n",
              "      <td>0</td>\n",
              "      <td>1</td>\n",
              "    </tr>\n",
              "    <tr>\n",
              "      <th>2</th>\n",
              "      <td>0</td>\n",
              "      <td>0</td>\n",
              "      <td>0</td>\n",
              "      <td>0</td>\n",
              "      <td>1</td>\n",
              "      <td>0</td>\n",
              "      <td>0</td>\n",
              "      <td>0</td>\n",
              "      <td>0</td>\n",
              "      <td>0</td>\n",
              "    </tr>\n",
              "    <tr>\n",
              "      <th>3</th>\n",
              "      <td>0</td>\n",
              "      <td>0</td>\n",
              "      <td>0</td>\n",
              "      <td>0</td>\n",
              "      <td>0</td>\n",
              "      <td>0</td>\n",
              "      <td>0</td>\n",
              "      <td>0</td>\n",
              "      <td>0</td>\n",
              "      <td>0</td>\n",
              "    </tr>\n",
              "    <tr>\n",
              "      <th>4</th>\n",
              "      <td>0</td>\n",
              "      <td>0</td>\n",
              "      <td>0</td>\n",
              "      <td>0</td>\n",
              "      <td>1</td>\n",
              "      <td>0</td>\n",
              "      <td>0</td>\n",
              "      <td>0</td>\n",
              "      <td>0</td>\n",
              "      <td>0</td>\n",
              "    </tr>\n",
              "    <tr>\n",
              "      <th>...</th>\n",
              "      <td>...</td>\n",
              "      <td>...</td>\n",
              "      <td>...</td>\n",
              "      <td>...</td>\n",
              "      <td>...</td>\n",
              "      <td>...</td>\n",
              "      <td>...</td>\n",
              "      <td>...</td>\n",
              "      <td>...</td>\n",
              "      <td>...</td>\n",
              "    </tr>\n",
              "    <tr>\n",
              "      <th>466512</th>\n",
              "      <td>0</td>\n",
              "      <td>0</td>\n",
              "      <td>0</td>\n",
              "      <td>0</td>\n",
              "      <td>0</td>\n",
              "      <td>0</td>\n",
              "      <td>1</td>\n",
              "      <td>0</td>\n",
              "      <td>0</td>\n",
              "      <td>0</td>\n",
              "    </tr>\n",
              "    <tr>\n",
              "      <th>466513</th>\n",
              "      <td>0</td>\n",
              "      <td>0</td>\n",
              "      <td>0</td>\n",
              "      <td>0</td>\n",
              "      <td>0</td>\n",
              "      <td>0</td>\n",
              "      <td>0</td>\n",
              "      <td>1</td>\n",
              "      <td>0</td>\n",
              "      <td>0</td>\n",
              "    </tr>\n",
              "    <tr>\n",
              "      <th>466514</th>\n",
              "      <td>0</td>\n",
              "      <td>0</td>\n",
              "      <td>0</td>\n",
              "      <td>0</td>\n",
              "      <td>0</td>\n",
              "      <td>0</td>\n",
              "      <td>0</td>\n",
              "      <td>1</td>\n",
              "      <td>0</td>\n",
              "      <td>0</td>\n",
              "    </tr>\n",
              "    <tr>\n",
              "      <th>466515</th>\n",
              "      <td>0</td>\n",
              "      <td>0</td>\n",
              "      <td>0</td>\n",
              "      <td>0</td>\n",
              "      <td>0</td>\n",
              "      <td>0</td>\n",
              "      <td>1</td>\n",
              "      <td>0</td>\n",
              "      <td>0</td>\n",
              "      <td>0</td>\n",
              "    </tr>\n",
              "    <tr>\n",
              "      <th>466516</th>\n",
              "      <td>0</td>\n",
              "      <td>0</td>\n",
              "      <td>0</td>\n",
              "      <td>0</td>\n",
              "      <td>0</td>\n",
              "      <td>0</td>\n",
              "      <td>0</td>\n",
              "      <td>1</td>\n",
              "      <td>0</td>\n",
              "      <td>0</td>\n",
              "    </tr>\n",
              "  </tbody>\n",
              "</table>\n",
              "<p>465453 rows × 10 columns</p>\n",
              "</div>"
            ],
            "text/plain": [
              "        Annee_1er_don_4  Annee_1er_don_5  ...  Cumul_dons_4  Cumul_dons_5\n",
              "0                     0                0  ...             0             0\n",
              "1                     0                0  ...             0             1\n",
              "2                     0                0  ...             0             0\n",
              "3                     0                0  ...             0             0\n",
              "4                     0                0  ...             0             0\n",
              "...                 ...              ...  ...           ...           ...\n",
              "466512                0                0  ...             0             0\n",
              "466513                0                0  ...             0             0\n",
              "466514                0                0  ...             0             0\n",
              "466515                0                0  ...             0             0\n",
              "466516                0                0  ...             0             0\n",
              "\n",
              "[465453 rows x 10 columns]"
            ]
          },
          "metadata": {
            "tags": []
          },
          "execution_count": 93
        }
      ]
    },
    {
      "cell_type": "code",
      "metadata": {
        "id": "x-yHvNFwfRxk"
      },
      "source": [
        ""
      ],
      "execution_count": null,
      "outputs": []
    }
  ]
}